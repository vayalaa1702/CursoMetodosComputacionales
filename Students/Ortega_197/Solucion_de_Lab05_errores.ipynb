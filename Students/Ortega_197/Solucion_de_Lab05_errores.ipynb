{
  "cells": [
    {
      "cell_type": "markdown",
      "metadata": {
        "id": "oyfUmZkVceCX"
      },
      "source": [
        "<a href=\"https://colab.research.google.com/github/hernansalinas/autogrades/blob/main/Laboratorios_Taller/Lab05_errores.ipynb\" target=\"_parent\"><img src=\"https://colab.research.google.com/assets/colab-badge.svg\" alt=\"Open In Colab\"/></a>"
      ]
    },
    {
      "cell_type": "markdown",
      "metadata": {
        "id": "z_gkZBk6K8TH"
      },
      "source": [
        "# Tipos de errores.\n",
        "\n",
        "Errores en la computación, ver libro [Computational Physics. ](https://www.dropbox.com/s/n06ul2r4l65khl6/Computational%20Physics%20-%20Problem%20Solving%20with%20Computers%2C%203527406263.pdf?dl=0)\n",
        ":\n",
        "\n",
        "\n",
        ">- ### Blunder or bad theory\n",
        "Errores tipográficos de entrada, errores en los datos, razonamientos teoricos malos, entre otros.\n",
        ">- ### Errores aleatorios.\n",
        "Impresiones causadas por eventos tales como fluctuaciones electronicas, rayos cósmicos. Se presentan rara vez, y y tiene una mayor probabilidad de ocurrir cuando los calculos se demoran del orden de semanas.\n",
        ">- ### Errores de aproximación:\n",
        "Se presentan por truncamiento de los modelos numéricos, por ejemplol si consideramos la serie asociada a la función\n",
        "$\\sin x$:\n",
        "\n",
        "\\begin{equation}\n",
        "\\sin x = \\sum_{n=1}^{\\infty} \\frac{(-1)^{n-1}x^{2n-1}}{(2n-1)!}\n",
        "\\end{equation}\n",
        "\n",
        "\n",
        "\\begin{equation}\n",
        "\\sin x = \\sum_{n=1}^{N} \\frac{(-1)^{n-1}x^{2n-1}}{(2n-1)!} + \\varepsilon(x, N)\n",
        "\\end{equation}\n",
        "\n",
        "\n",
        "> El error numérico  en el calculo computacional es del orden de  $\\varepsilon(x, N)$, dado que el computador debe truncar la serie en un N determinado.\n",
        "\n",
        "\n",
        ">- ### Errores de redondeo:\n",
        "Análogos a los errores  de  cantidad experimentales.\n"
      ]
    },
    {
      "cell_type": "markdown",
      "metadata": {
        "id": "OFqJhhVmLhdX"
      },
      "source": []
    },
    {
      "cell_type": "markdown",
      "metadata": {
        "id": "VVDQ_eH5Jjxw"
      },
      "source": [
        "# Errores de redondeo:\n",
        "## Cancelacion substractiva\n",
        "\n",
        "Sea $b_c = b (1+ \\epsilon)$ y Sea $c_c = c (1+ \\epsilon)$ La representacion de dos números en el computador.  Calculemos la diferencia entre estos dos números:\n",
        "\n",
        "\n",
        "$a_c = (b-c) + b\\epsilon_b -c\\epsilon_c = a+ b\\epsilon_b -c\\epsilon_c$\n",
        "\n",
        "$\\frac{a_c}{a} = 1 + \\frac{b}{a}\\epsilon_b -\\frac{c}{a}\\epsilon_c $\n",
        "\n",
        "$\\frac{a_c}{a} = 1 + \\frac{b}{a} \\max(\\epsilon_b,\\epsilon_c) $\n",
        "\n",
        "Si $b\\approx c$, el valor de a es un valor muy grande.\n",
        "\n",
        "\n",
        "\n"
      ]
    },
    {
      "cell_type": "code",
      "execution_count": null,
      "metadata": {
        "id": "O-SP8rPyDQ34"
      },
      "outputs": [],
      "source": [
        "import numpy as np"
      ]
    },
    {
      "cell_type": "code",
      "execution_count": null,
      "metadata": {
        "colab": {
          "base_uri": "https://localhost:8080/"
        },
        "id": "wqrGTlWw1OUR",
        "outputId": "6779af39-db30-496b-caf0-8418a29a194c"
      },
      "outputs": [
        {
          "output_type": "stream",
          "name": "stdout",
          "text": [
            "1.9073486e-06\n",
            "0.002822711132466793 4.632568359374996\n"
          ]
        }
      ],
      "source": [
        "print(np.float32(12.123452) - np.float32(12.123450))\n",
        "valor_real = 0.000002\n",
        "\n",
        "diferencia = np.float32(12.123452) - np.float32(12.123450)\n",
        "\n",
        "error = abs(diferencia - valor_real)/valor_real*100\n",
        "\n",
        "print ((12.123452/valor_real)*1/(2**31), error)"
      ]
    },
    {
      "cell_type": "code",
      "execution_count": null,
      "metadata": {
        "colab": {
          "base_uri": "https://localhost:8080/"
        },
        "id": "AeDXTAN7OTcn",
        "outputId": "35347247-3a9f-4cae-f43e-2ce8816a141f"
      },
      "outputs": [
        {
          "output_type": "stream",
          "name": "stdout",
          "text": [
            "0.0\n",
            "5.0\n",
            "¿Cual es la diferencia entre estas dos restas?\n"
          ]
        }
      ],
      "source": [
        "print(np.float32(1234567895) - np.float32(1234567890))\n",
        "print(np.float64(1234567895) - np.float64(1234567890))\n",
        "print(\"¿Cual es la diferencia entre estas dos restas?\")"
      ]
    },
    {
      "cell_type": "code",
      "execution_count": null,
      "metadata": {
        "colab": {
          "base_uri": "https://localhost:8080/"
        },
        "id": "O5uQVd-TZmPQ",
        "outputId": "ceb73c13-57ef-44c2-d91d-d3d3bfb25386"
      },
      "outputs": [
        {
          "output_type": "stream",
          "name": "stdout",
          "text": [
            "4.0\n",
            "5.0\n",
            "¿Cual es la diferencia entre estas dos restas?\n"
          ]
        }
      ],
      "source": [
        "print(np.float32(12345675) - np.float32(12345671))\n",
        "print(np.float64(1234567895) - np.float64(1234567890))\n",
        "print(\"¿Cual es la diferencia entre estas dos restas?\")"
      ]
    },
    {
      "cell_type": "code",
      "execution_count": null,
      "metadata": {
        "colab": {
          "base_uri": "https://localhost:8080/"
        },
        "id": "gSutoSLxR7A1",
        "outputId": "44860a44-4bc0-42a2-bd40-fb93abba14f4"
      },
      "outputs": [
        {
          "output_type": "execute_result",
          "data": {
            "text/plain": [
              "1.9073486328125e-06"
            ]
          },
          "metadata": {},
          "execution_count": 266
        }
      ],
      "source": [
        "xt = 12345678912.345678\n",
        "yt = 12345678912.345677\n",
        "xt-yt"
      ]
    },
    {
      "cell_type": "code",
      "execution_count": null,
      "metadata": {
        "colab": {
          "base_uri": "https://localhost:8080/"
        },
        "id": "7I__xYI7Sq98",
        "outputId": "97c24d15-d3ac-4d1a-d86d-656d83e5ffb2"
      },
      "outputs": [
        {
          "output_type": "execute_result",
          "data": {
            "text/plain": [
              "-9.999999999999995e-17"
            ]
          },
          "metadata": {},
          "execution_count": 267
        }
      ],
      "source": [
        "xt = 0.0000000000000005\n",
        "yt = 0.0000000000000006\n",
        "xt-yt"
      ]
    },
    {
      "cell_type": "code",
      "execution_count": null,
      "metadata": {
        "colab": {
          "base_uri": "https://localhost:8080/"
        },
        "id": "vqwW1XbkYiOS",
        "outputId": "159b4fdd-a044-4d87-f1aa-b4fecef92cc7"
      },
      "outputs": [
        {
          "output_type": "stream",
          "name": "stdout",
          "text": [
            "1.2345678912e-09\n"
          ]
        }
      ],
      "source": [
        "a = np.float16(1.2345678912345678912)-np.float16(1.2345678900000000000)\n",
        "r = 0.0000000012345678912\n",
        "print(r)"
      ]
    },
    {
      "cell_type": "markdown",
      "metadata": {
        "id": "D7wS4CRCMdcJ"
      },
      "source": [
        "## Errores de acumulación\n",
        "$\\epsilon_{ro}=\\sqrt{N}\\epsilon_m$\n"
      ]
    },
    {
      "cell_type": "code",
      "execution_count": null,
      "metadata": {
        "colab": {
          "base_uri": "https://localhost:8080/"
        },
        "id": "KJA7qyMPOkRH",
        "outputId": "fbab3c97-10fa-4316-dab0-e5c9f7cfbf1c"
      },
      "outputs": [
        {
          "output_type": "stream",
          "name": "stdout",
          "text": [
            "Valor a través de la suma:  100000.00149011612\n",
            "Valor exacto:  100000.0\n",
            "Error  1.4901161193847656e-06\n"
          ]
        }
      ],
      "source": [
        "#Con numeros de 32 bit.\n",
        "eps = np. float64(0)\n",
        "N = 1000000\n",
        "for i in range(0, N):\n",
        " eps = np.float32(0.1) + eps\n",
        "\n",
        "exac = N*0.1\n",
        "error = np.abs(exac-eps) / exac\n",
        "print(\"Valor a través de la suma: \", eps)\n",
        "print(\"Valor exacto: \",  exac)\n",
        "print(\"Error \", error*100 )\n"
      ]
    },
    {
      "cell_type": "markdown",
      "metadata": {
        "id": "rjPq2MFFObTp"
      },
      "source": [
        "\n",
        "## Errores de aproximación.\n",
        " $\\epsilon_{aprox}=\\frac{\\alpha}{N^{\\beta}}$\n"
      ]
    },
    {
      "cell_type": "markdown",
      "metadata": {
        "id": "uisq8TnEOftp"
      },
      "source": [
        "## Error total:\n",
        " $\\epsilon_{aprox} = \\epsilon_{ro}+\\epsilon_{aprox}$\n",
        "\n"
      ]
    },
    {
      "cell_type": "markdown",
      "metadata": {
        "id": "4XGEWL7NN1H-"
      },
      "source": [
        "# Errores de una serie\n",
        "\n",
        "- ¿Converge la serie?\n",
        "- ¿Qué tan preciso es la convergencia?\n",
        "- Costo computacional\n",
        "\n",
        "\n",
        "## Error de una serie\n",
        "Sea $x$ el valor verdadero y $x^*$ el valor aproximado\n",
        "\n",
        "- Error absoluto : se define como\n",
        "\\begin{equation*}\n",
        "\\epsilon_{abs}= |x-x^*|\n",
        "\\end{equation*}\n",
        "- Error relativo : es dado por\n",
        "\\begin{equation*}\n",
        "\\epsilon_{rel}= \\frac{|x-x^*|}{|x|}\n",
        "\\end{equation*}\n",
        "- Error en series : El error para truncar una serie se toma como\n",
        "\\begin{equation*}\n",
        "\\epsilon_{aprox}= \\left|\\frac{nth\\hbox{-term}}{\\hbox{suma}}\\right|< \\hbox{eps}\n",
        "\\end{equation*}\n",
        "La tolerancia normalmente se toma como un número pequeño, por ejemplo `eps` $=10^{-10}$. Note que no se trunca la serie usando $|{nth}\\hbox{-term}|<$ eps,   usar esta forma puede conducir a errores debido a que no se compara con el valor de la suma (un millon compardo a uno es grande, pero comparado a diez mil millones es pequeño).\n",
        "\n",
        "Tomemos como ejemplo otra vez el cálculo de la serie del seno,\n"
      ]
    },
    {
      "cell_type": "markdown",
      "metadata": {
        "id": "reiKGKshRPay"
      },
      "source": [
        "# Laboratorio\n",
        "\n",
        "## 1. Exponencial, serie alternante (serieEn)\n",
        "Objetivo: Analizar el uso de la cancelación substractiva\n",
        "\n",
        "\n",
        "Copia textual del libro  [Computational Physics. ](https://www.dropbox.com/s/n06ul2r4l65khl6/Computational%20Physics%20-%20Problem%20Solving%20with%20Computers%2C%203527406263.pdf?dl=0)\n",
        "\n",
        "- Write a program that calculates $e^{-x}$\n",
        "\n",
        "\\begin{equation}\n",
        "e^{-x}=\\sum_{n=0}^{N}  (-1)^n \\frac{x^{n}}{n!}\n",
        "\\end{equation}\n",
        "\n",
        "\n",
        "- Calculate your series for $x \\le 1$ and compare it to the built-in function\n",
        "exp(x) (you may assume that the built-in exponential function is exact).\n",
        "You should pick an N for which the next term in the series is no more\n",
        "than $10^{-7}$ of the sum up to that point\n",
        "\n",
        "\\begin{equation}\n",
        "\\left| \\frac{(-x)^{N+1}}{(N+1)!} \\right | \\le \\left| 10^{-7} \\sum_{N=0}^{N} \\frac{(-x)^{n}}{n!} \\right|\n",
        "\\end{equation}\n",
        "\n",
        "- Examine the terms in the series for $x\\approx 10$ and observe the significant subtractive cancellations that occur when large terms add together to give small answers. In particular, print out the near-perfect cancellation\n",
        "at $n \\approx x − 1$.\n",
        "\n",
        "- See if better precision is obtained by being clever and using exp(−x) = 1/ exp(x) for large x values. This eliminates subtractive cancellation, but does not eliminate all roundoff errors\n",
        "\n",
        "- By progressively increasing x from 1 to 10, and then from 10 to 100, use your program to determine experimentally when the series starts to lose accuracy, and when the series no longer converges\n",
        "\n",
        "- Make a series of graphs of the error versus N for different values of x."
      ]
    },
    {
      "cell_type": "code",
      "source": [
        "import numpy as np\n",
        "import matplotlib.pyplot as plt\n",
        "from math import factorial"
      ],
      "metadata": {
        "id": "MXunRT9Ye7g_"
      },
      "execution_count": null,
      "outputs": []
    },
    {
      "cell_type": "code",
      "source": [
        "def exponencial(x,N):\n",
        "  exp = 0\n",
        "  for i in range(N):\n",
        "    exp += (-1)**i *(x**i/factorial(i))\n",
        "\n",
        "  return exp"
      ],
      "metadata": {
        "id": "P84wKcp5fKsC"
      },
      "execution_count": null,
      "outputs": []
    },
    {
      "cell_type": "code",
      "source": [
        "x_0 = 0.1\n",
        "N_0 = 100\n",
        "\n",
        "e_0 = exponencial(x_0,N_0)\n",
        "e_exacto = np.exp(-x_0)\n",
        "print(f'{e_0}')\n",
        "print(f'{e_exacto}')"
      ],
      "metadata": {
        "colab": {
          "base_uri": "https://localhost:8080/"
        },
        "id": "US_098Fyfd8Q",
        "outputId": "2d77a54c-a532-4925-fcb2-c04e31aba7b9"
      },
      "execution_count": null,
      "outputs": [
        {
          "output_type": "stream",
          "name": "stdout",
          "text": [
            "0.9048374180359596\n",
            "0.9048374180359595\n"
          ]
        }
      ]
    },
    {
      "cell_type": "code",
      "source": [
        "def exponencial_truncado(x,N):\n",
        "  ex = exponencial(x,N)\n",
        "  tresh = abs(1e-7*ex)\n",
        "  exp_ = 0\n",
        "  for i in range(N):\n",
        "    exp_ = abs((-x)**(i+1)/factorial(i+1))\n",
        "    if exp_ <= tresh:\n",
        "      break\n",
        "  exp = exponencial(x,i)\n",
        "  return exp, i"
      ],
      "metadata": {
        "id": "Lkodx1m5hOPg"
      },
      "execution_count": null,
      "outputs": []
    },
    {
      "cell_type": "code",
      "source": [
        "x = 50\n",
        "N = 1000\n",
        "ex_exacto = np.exp(-x)\n",
        "\n",
        "print(f'valor de la serie: {exponencial(x,N)}')\n",
        "print(f'valor de la serie truncada: {exponencial_truncado(x,N)}')\n",
        "print(f'valor exacto: {ex_exacto}')"
      ],
      "metadata": {
        "colab": {
          "base_uri": "https://localhost:8080/"
        },
        "id": "SKx1_brEiI5F",
        "outputId": "334e7eaf-705b-472f-b5d4-34518f5d28c7"
      },
      "execution_count": null,
      "outputs": [
        {
          "output_type": "stream",
          "name": "stdout",
          "text": [
            "valor de la serie: -7015.776232597128\n",
            "valor de la serie truncada: (-7015.775133569917, 139)\n",
            "valor exacto: 1.9287498479639178e-22\n"
          ]
        }
      ]
    },
    {
      "cell_type": "code",
      "source": [
        "def serie_invertida(x,N):\n",
        "  exp = 0\n",
        "  for i in range(N):\n",
        "    exp += x**i/factorial(i)\n",
        "\n",
        "  return 1/exp"
      ],
      "metadata": {
        "id": "vFoDT6wgnLhR"
      },
      "execution_count": null,
      "outputs": []
    },
    {
      "cell_type": "code",
      "source": [
        "x_1 = 0.01\n",
        "N_1 = 100\n",
        "ex_1_exacto = np.exp(-x_1)\n",
        "\n",
        "\n",
        "print(f'valor de la serie: {exponencial(x_1,N_1)}')\n",
        "print(f'valor de la serie invertida: {serie_invertida(x_1,N_1)}')\n",
        "print(f'valor de la serie truncada: {exponencial_truncado(x_1,N_1)}')\n",
        "print(f'valor exacto: {ex_1_exacto}')"
      ],
      "metadata": {
        "colab": {
          "base_uri": "https://localhost:8080/"
        },
        "id": "leU5RrL1ndJe",
        "outputId": "3f524980-7000-4900-c9b8-146802f4b683"
      },
      "execution_count": null,
      "outputs": [
        {
          "output_type": "stream",
          "name": "stdout",
          "text": [
            "valor de la serie: 0.9900498337491681\n",
            "valor de la serie invertida: 0.990049833749168\n",
            "valor de la serie truncada: (0.99005, 3)\n",
            "valor exacto: 0.9900498337491681\n"
          ]
        }
      ]
    },
    {
      "cell_type": "code",
      "source": [
        "N = np.arange(1,50,1)\n",
        "exp1_ = np.zeros(len(N))\n",
        "exp2_ = np.zeros(len(N))\n",
        "\n",
        "for i,n in enumerate(N):\n",
        "  exp1_[i] = exponencial(x,n)\n",
        "  exp2_[i] = serie_invertida(x,n)\n",
        "\n"
      ],
      "metadata": {
        "id": "tdi63l3QoTtA"
      },
      "execution_count": null,
      "outputs": []
    },
    {
      "cell_type": "code",
      "source": [
        "N = np.arange(1,50,1)\n",
        "exp1_ = np.zeros(len(N))\n",
        "exp2_ = np.zeros(len(N))\n",
        "\n",
        "for i,n in enumerate(N):\n",
        "  exp1_[i] = exponencial(x,n)\n",
        "  exp2_[i] = serie_invertida(x,n)\n",
        "\n",
        "\n",
        "plt.plot(N,exp1_,'.-', label='Serie alternante')\n",
        "plt.plot(N,exp2_,'.-', label='Serie invertida')\n",
        "plt.legend()\n",
        "plt.xlabel('Iteraciones')\n",
        "plt.ylabel('Valor')\n",
        "plt.grid()\n",
        "plt.show()\n"
      ],
      "metadata": {
        "colab": {
          "base_uri": "https://localhost:8080/",
          "height": 465
        },
        "id": "N7YlcSLYpRRV",
        "outputId": "9f1623b2-557f-4608-b5c5-3f2e6d4dca21"
      },
      "execution_count": null,
      "outputs": [
        {
          "output_type": "display_data",
          "data": {
            "text/plain": [
              "<Figure size 640x480 with 1 Axes>"
            ],
            "image/png": "[encoded data removed]"
          },
          "metadata": {}
        }
      ]
    },
    {
      "cell_type": "code",
      "source": [
        "x = 10\n",
        "exacto = np.exp(-1)\n",
        "error = abs(exp1_ - exacto)/exacto*100\n",
        "print(error)\n",
        "plt.plot(N, error)\n",
        "plt.grid()"
      ],
      "metadata": {
        "colab": {
          "base_uri": "https://localhost:8080/",
          "height": 671
        },
        "id": "8eGhY-uDrX8N",
        "outputId": "22eca57b-75fa-4c27-b715-5b2e0092cec0"
      },
      "execution_count": null,
      "outputs": [
        {
          "output_type": "stream",
          "name": "stdout",
          "text": [
            "[1.71828183e+02 1.34195810e+04 3.26365648e+05 5.33672150e+06\n",
            " 6.54518678e+07 6.42434025e+08 5.25661508e+09 3.68794500e+10\n",
            " 2.26470957e+11 1.23658686e+12 6.07870221e+12 2.71726117e+13\n",
            " 1.11374530e+14 4.21499091e+14 1.48162098e+15 4.86211260e+15\n",
            " 1.49620549e+16 4.33443200e+16 1.18617832e+17 3.07598358e+17\n",
            " 7.57942118e+17 1.77905902e+18 3.98685265e+18 8.54773793e+18\n",
            " 1.75659925e+19 3.46614683e+19 6.57759562e+19 1.20219274e+20\n",
            " 2.11915066e+20 3.60730349e+20 5.93678676e+20 9.45690718e+20\n",
            " 1.45957396e+21 2.18476646e+21 3.17455769e+21 4.48161967e+21\n",
            " 6.15195999e+21 8.21774225e+21 1.06897607e+22 1.35506277e+22\n",
            " 1.67498578e+22 2.02019538e+22 2.37882981e+22 2.73631576e+22\n",
            " 3.07634966e+22 3.38216747e+22 3.63795985e+22 3.83026070e+22\n",
            " 3.94913570e+22]\n"
          ]
        },
        {
          "output_type": "display_data",
          "data": {
            "text/plain": [
              "<Figure size 640x480 with 1 Axes>"
            ],
            "image/png": "[encoded data removed]"
          },
          "metadata": {}
        }
      ]
    },
    {
      "cell_type": "markdown",
      "metadata": {
        "id": "9e81i85IceCk"
      },
      "source": [
        "## 2. Cancelación sustractiva\n",
        "\n",
        "\n",
        "\n",
        "**serieSn**. Un ejemplo de la cancelacion substractiva es en la suma de series alternantes. Considere la serie $\\mathrm{S}_N$,  escrita  matematicamente de tres formas diferentes:\n",
        "\n",
        "-\n",
        "\\begin{equation}\n",
        "\\mathrm{S}_N^{(1)} = \\sum_{n = 1}^{2N} (-1)^n \\frac{n}{n+1}\n",
        "\\end{equation}\n",
        "\n",
        "- Sumando números pares e impares.\n",
        "\n",
        "\\begin{equation}\n",
        "\\mathrm{S}_N^{(2)} = -\\sum_{n = 1}^{N}\\frac{2n-1}{2n} + \\sum_{n=1}^{N} \\frac{2n}{2n+1}\n",
        "\\end{equation}\n",
        "\n",
        "- Combinando las series de una forma analítica\n",
        "\n",
        "\\begin{equation}\n",
        "\\mathrm{S}_N^{(3)} = \\sum_{n = 1}^{N}\\frac{1}{2n(2n+1)}\n",
        "\\end{equation}\n",
        "\n",
        "\n",
        "\n",
        "Las tres sumas $\\mathrm{S}_N^{(1)}$, $\\mathrm{S}_N^{(2)}$ y $\\mathrm{S}_N^{(3)}$ son matemáticamente iguales, pero los resultados  pueden tener resultados numéricos diferentes.\n",
        "\n",
        "\n",
        "- Escribir un programa que realice el cálculo de $\\mathrm{S}_N^{(1)}$, $\\mathrm{S}_N^{(2)}$ y $\\mathrm{S}_N^{(3)}$\n",
        "- Estudiar la convergencia de la serie para los tres casos.\n",
        "- Considere  que $S_N^{(3)}$ es la solución exacta, realizar dos graficos log-log, del error relativo en función\n",
        "del número de términos ($\\mathrm{Log_{10}} E$ VS $\\mathrm{Log_{10}} N$), para $S_N^{(1)}$ y $S_N^{(2)}$. Donde,  $E = |(S_N^{(i)} - S_N^{(3)})/S_N^{(3)}|$, i = 1, 2. Considere valores de $N = 1\\times 10^{6}$.\n",
        "- Analizar y discutir los resultados. Tenga en cuenta la discusión realizada sobre teoría de errores en la página\n",
        "39 del libro del libro [Computational Physics. ](https://www.dropbox.com/s/n06ul2r4l65khl6/Computational%20Physics%20-%20Problem%20Solving%20with%20Computers%2C%203527406263.pdf?dl=0)\n",
        "\n",
        "\n"
      ]
    },
    {
      "cell_type": "code",
      "source": [
        "import numpy as np\n",
        "import matplotlib.pylab as plt"
      ],
      "metadata": {
        "id": "ldhjuY_wBCfr"
      },
      "execution_count": null,
      "outputs": []
    },
    {
      "cell_type": "code",
      "execution_count": null,
      "metadata": {
        "id": "csTfSRUWceCl"
      },
      "outputs": [],
      "source": [
        "# Calcula la primera sumatoria S_(1)\n",
        "N = 1E6\n",
        "def cancel_sust_1(N):\n",
        "  sum = 0\n",
        "  for i in range(1,2*(N)+1):\n",
        "    sum += ((-1)**i)*(i/(i+1))\n",
        "\n",
        "  return sum"
      ]
    },
    {
      "cell_type": "code",
      "source": [
        "datos_S_1 = []\n",
        "\n",
        "for i in range(0,200):\n",
        "  d_1 = cancel_sust_1(i)\n",
        "  datos_S_1.append(d_1)\n",
        "\n",
        "x = np.linspace(0,100,len(datos_S_1))\n",
        "\n",
        "plt.plot(x,datos_S_1, label=\"S_(1)\")\n",
        "plt.grid()\n",
        "plt.legend()\n",
        "# Se observa una convergencia hacia 0.3"
      ],
      "metadata": {
        "colab": {
          "base_uri": "https://localhost:8080/",
          "height": 447
        },
        "id": "wlVXubVWuz2_",
        "outputId": "c37c41ea-f791-45c7-a0bc-a72ce5723be4"
      },
      "execution_count": null,
      "outputs": [
        {
          "output_type": "execute_result",
          "data": {
            "text/plain": [
              "<matplotlib.legend.Legend at 0x7b73c7fc4430>"
            ]
          },
          "metadata": {},
          "execution_count": 6
        },
        {
          "output_type": "display_data",
          "data": {
            "text/plain": [
              "<Figure size 640x480 with 1 Axes>"
            ],
            "image/png": "[encoded data removed]"
          },
          "metadata": {}
        }
      ]
    },
    {
      "cell_type": "code",
      "source": [
        "# Calcula la 2da sumatoria S_(2)\n",
        "\n",
        "def cancel_sust_2(N):\n",
        "  sum_1 = 0\n",
        "  sum_2 = 0\n",
        "\n",
        "  for n in range(1,N+1):\n",
        "    sum_1 += ((2*n)-1)/(2*n)\n",
        "    sum_2 += (2*n)/(2*n+1)\n",
        "\n",
        "  sum_T = -sum_1 + sum_2\n",
        "  return sum_T"
      ],
      "metadata": {
        "id": "7dZv2C-Xu3a_"
      },
      "execution_count": null,
      "outputs": []
    },
    {
      "cell_type": "code",
      "source": [
        "cancel_sust_2(3)"
      ],
      "metadata": {
        "colab": {
          "base_uri": "https://localhost:8080/"
        },
        "id": "hzCFY1EFcxr1",
        "outputId": "12f69e80-229d-4710-c37b-f3d215eb06ef"
      },
      "execution_count": null,
      "outputs": [
        {
          "output_type": "execute_result",
          "data": {
            "text/plain": [
              "0.2404761904761905"
            ]
          },
          "metadata": {},
          "execution_count": 8
        }
      ]
    },
    {
      "cell_type": "code",
      "source": [
        "datos_S_2 = []\n",
        "for i in range(0,200):\n",
        "  d = cancel_sust_2(i)\n",
        "  datos_S_2.append(d)\n",
        "\n",
        "x = np.linspace(0,100,len(datos_S_2))\n",
        "\n",
        "plt.plot(x,datos_S_2, label=\"S_(2)\")\n",
        "plt.grid()\n",
        "plt.legend()\n",
        "print(datos_S_2)\n",
        "\n",
        "# Comportamiento similar a S_1, converge hacía 0.30"
      ],
      "metadata": {
        "colab": {
          "base_uri": "https://localhost:8080/",
          "height": 467
        },
        "id": "4gH-8wqJRtYQ",
        "outputId": "bd9aa4c7-90e6-4f9c-8582-5005cb3631d3"
      },
      "execution_count": null,
      "outputs": [
        {
          "output_type": "stream",
          "name": "stdout",
          "text": [
            "[0, 0.16666666666666663, 0.21666666666666679, 0.2404761904761905, 0.25436507936507935, 0.2634559884559886, 0.269866244866245, 0.27462814962814974, 0.27830462021638525, 0.28122859682457246, 0.2836095492055257, 0.28558583379050617, 0.2872525004571731, 0.2886770018816751, 0.2899085289752712, 0.2909837977924745, 0.29193076748944335, 0.29277110362389713, 0.29352185437464584, 0.29419661820730525, 0.29480637430486567, 0.29536008416090453, 0.29586513466595576, 0.2963276693560566, 0.2967528394240837, 0.29714499628682844, 0.2975078409892973, 0.2978445413259969, 0.29815782453401596, 0.29845005130198743, 0.29872327534570076, 0.298979291730749, 0.29921967634613367, 0.2994458183633206, 0.29965894709307506, 0.29986015433653535, 0.30005041308843516, 0.30023059326861556, 0.3004014750184467, 0.30056375999085816, 0.3007180809785126, 0.3008650101586525, 0.30100506618105527, 0.3011387202842357, 0.3012664015916897, 0.30138850171379516, 0.3015053787591455, 0.30161736084200896, 0.3017247491581614, 0.30182782068980174, 0.3019268305907872, 0.30202201429533204, 0.3021135893869129, 0.30220175725854403, 0.30228670459119655, 0.3023686046730987, 0.30244761857954217, 0.30252389623019127, 0.3025975773383536, 0.30266879226500265, 0.30273766278841663, 0.3028043027990819, 0.30286881892811124, 0.30293131111658766, 0.3029918731320933, 0.30305059303814375, 0.30310755362142316, 0.30316283278118306, 0.3032165038846557, 0.30326863609192856, 0.30331929465322105, 0.30336854118132806, 0.3034164339016314, 0.30346302788169055, 0.30350837524247254, 0.30355252535284194, 0.3035955250088449, 0.30363741859913773, 0.3036782482578104, 0.30371805400575624, 0.3037568738815253, 0.30379474406254303, 0.3038316989775467, 0.3038677714109923, 0.30390299260005804, 0.3039373923248547, 0.303970998992412, 0.30400383971490896, 0.3040359403826045, 0.3040673257319213, 0.30409801940902526, 0.3041280440292127, 0.3041574212325031, 0.3041861717356369, 0.3042143153808041, 0.30424187118129, 0.30426885736436304, 0.304295291411421, 0.304321190095763, 0.3043465695181311, 0.30437144514002057, 0.3043958318151425, 0.3044197438189684, 0.30444319487661176, 0.3044661981890897, 0.30448876645810685, 0.304510911909432, 0.3045326463149962, 0.3045539810137541, 0.30457492693139443, 0.30459549459901325, 0.30461569417079204, 0.3046355354406387, 0.3046550278580895, 0.3046741805432873, 0.3046930023012351, 0.3047115016352535, 0.3047296867598135, 0.30474756561271477, 0.30476514586656833, 0.3047824349398667, 0.3047994400073719, 0.3048161680100492, 0.30483262566450264, 0.30484881947198517, 0.3048647557269675, 0.30488044052526675, 0.3048958797718342, 0.30491107918817306, 0.3049260443194157, 0.30494078054104534, 0.30495529306534763, 0.30496958694754994, 0.30498366709173297, 0.304997538256373, 0.3050112050597136, 0.3050246719849383, 0.30503794338508783, 0.305051023487664, 0.3050639163991491, 0.3050766261093827, 0.3050891564955691, 0.30510151132631336, 0.30511369426531587, 0.3051257088750958, 0.30513755862031644, 0.30514924687128087, 0.30516077690703014, 0.30517215191841274, 0.3051833750110404, 0.30519444920815886, 0.3052053774533192, 0.30521616261293616, 0.30522680747890263, 0.30523731477094884, 0.30524768713894446, 0.3052579271651723, 0.30526803736634633, 0.30527802019588535, 0.30528787804570356, 0.30529761324820015, 0.30530722807813504, 0.3053167247543058, 0.3053261054413383, 0.305335372251335, 0.3053445272453814, 0.3053535724351377, 0.30536250978431667, 0.30537134121007625, 0.3053800685843555, 0.30538869373529565, 0.3053972184484337, 0.3054056444679816, 0.30541397349799126, 0.3054222072034918, 0.3054303472116544, 0.30543839511275905, 0.30544635246138796, 0.30545422077727835, 0.3054620015463172, 0.3054696962215928, 0.30547730622416225, 0.3054848329440176, 0.3054922777408535, 0.30549964194491963, 0.305506926857845, 0.3055141337534053, 0.3055212638781768, 0.3055283184523603, 0.3055352986704065, 0.30554220570175517, 0.30554904069143163, 0.30555580476067234, 0.3055624990076353, 0.3055691245078549, 0.3055756823149238, 0.3055821734610049, 0.305588598957371, 0.3055949597949734, 0.3056012569448967]\n"
          ]
        },
        {
          "output_type": "display_data",
          "data": {
            "text/plain": [
              "<Figure size 640x480 with 1 Axes>"
            ],
            "image/png": "[encoded data removed]"
          },
          "metadata": {}
        }
      ]
    },
    {
      "cell_type": "code",
      "source": [
        "# Calcula la 3ra sumatoria S_(3)\n",
        "\n",
        "def cancel_sust_3(N):\n",
        "  suma = 0\n",
        "  for n in range(1,N+1):\n",
        "    suma += 1/((2*n)*((2*n) +1))\n",
        "\n",
        "  return suma"
      ],
      "metadata": {
        "id": "SSSZtFCBRwhW"
      },
      "execution_count": null,
      "outputs": []
    },
    {
      "cell_type": "code",
      "source": [
        "datos_S_3 = []\n",
        "for i in range(0,200):\n",
        "  d = cancel_sust_3(i)\n",
        "  datos_S_3.append(d)\n",
        "\n",
        "x = np.linspace(0,100,len(datos_S_3))\n",
        "\n",
        "plt.plot(x,datos_S_3, label=\"S_(3)\")\n",
        "plt.grid()\n",
        "plt.legend()\n",
        "print(datos_S_3)\n",
        "\n",
        "# Comportamiento similar a S_2 y S_1, convergen hacía 0.30"
      ],
      "metadata": {
        "colab": {
          "base_uri": "https://localhost:8080/",
          "height": 467
        },
        "id": "QyBNHqYCSTzP",
        "outputId": "1f30d304-765f-40d6-8ae3-52e01eb29806"
      },
      "execution_count": null,
      "outputs": [
        {
          "output_type": "stream",
          "name": "stdout",
          "text": [
            "[0, 0.16666666666666666, 0.21666666666666667, 0.24047619047619048, 0.25436507936507935, 0.26345598845598844, 0.26986624486624483, 0.2746281496281496, 0.27830462021638486, 0.281228596824572, 0.2836095492055244, 0.2855858337905046, 0.28725250045717127, 0.28867700188167267, 0.28990852897526875, 0.2909837977924731, 0.2919307674894428, 0.2927711036238966, 0.29352185437464734, 0.2941966182073059, 0.2948063743048669, 0.2953600841609023, 0.2958651346659528, 0.2963276693560546, 0.2967528394240818, 0.2971449962868269, 0.2975078409892942, 0.2978445413259946, 0.2981578245340146, 0.2984500513019866, 0.2987232753457024, 0.29897929173075105, 0.29921967634613567, 0.29944581836332246, 0.2996589470930752, 0.299860154336536, 0.3000504130884386, 0.3002305932686188, 0.3004014750184479, 0.30056375999085944, 0.30071808097851377, 0.30086501015864897, 0.30100506618105793, 0.3011387202842389, 0.3012664015916955, 0.3013885017137956, 0.3015053787591439, 0.30161736084201063, 0.30172474915816183, 0.3018278206898048, 0.3019268305907949, 0.3020220142953447, 0.3021135893869198, 0.30220175725854737, 0.3022867045912011, 0.30236860467310117, 0.3024476185795487, 0.3025238962301971, 0.30259757733836096, 0.3026687922650096, 0.30273766278842557, 0.302804302799088, 0.30286881892812023, 0.30293131111659666, 0.3029918731321005, 0.3030505930381487, 0.30310755362142505, 0.30316283278118183, 0.3032165038846597, 0.3032686360919374, 0.30331929465323426, 0.30336854118135403, 0.30341643390166056, 0.30346302788171836, 0.30350837524250196, 0.30355252535287724, 0.30359552500888, 0.30363741859916066, 0.3036782482578247, 0.3037180540057747, 0.3037568738815511, 0.30379474406257057, 0.3038316989775743, 0.30386777141102067, 0.303902992600088, 0.3039373923248902, 0.30397099899245306, 0.30400383971494893, 0.3040359403826428, 0.30406732573196177, 0.3040980194090643, 0.3041280440292528, 0.3041574212325431, 0.30418617173567686, 0.30421431538084176, 0.3042418711813378, 0.30426885736441206, 0.30429529141146466, 0.3043211900958115, 0.30434656951817585, 0.3043714451400664, 0.30439583181518715, 0.30441974381901304, 0.3044431948766557, 0.30446619818913273, 0.3044887664581465, 0.30451091190947077, 0.3045326463150348, 0.30455398101378883, 0.30457492693142946, 0.30459549459905594, 0.304615694170825, 0.3046355354406663, 0.3046550278581159, 0.30467418054332235, 0.30469300230127455, 0.30471150163529853, 0.3047296867598666, 0.3047475656127594, 0.30476514586661824, 0.3047824349399239, 0.30479944000743403, 0.3048161680101105, 0.3048326256645656, 0.3048488194720536, 0.3048647557270337, 0.3048804405253272, 0.304895879771892, 0.3049110791882344, 0.3049260443194786, 0.3049407805411114, 0.30495529306541985, 0.30496958694763826, 0.30498366709181896, 0.30499753825644194, 0.30501120505977664, 0.30502467198500827, 0.305037943385141, 0.30505102348768903, 0.3050639163991663, 0.3050766261093849, 0.3050891564955714, 0.3051015113263102, 0.3051136942653224, 0.3051257088750879, 0.3051375586203184, 0.3051492468712885, 0.30516077690703164, 0.30517215191840663, 0.30518337501104204, 0.30519444920816274, 0.3052053774533051, 0.3052161626129255, 0.3052268074789066, 0.3052373147709673, 0.30524768713897893, 0.3052579271651934, 0.3052680373663864, 0.3052780201959196, 0.3052878780457254, 0.3052976132482176, 0.30530722807813127, 0.3053167247542946, 0.30532610544133615, 0.30533537225132945, 0.3053445272453787, 0.30535357243514677, 0.305362509784329, 0.30537134121007437, 0.3053800685843565, 0.30538869373529665, 0.30539721844844003, 0.3054056444679884, 0.30541397349798954, 0.30542220720348634, 0.3054303472116264, 0.30543839511273374, 0.30544635246134516, 0.30545422077721085, 0.3054620015462621, 0.3054696962215468, 0.3054773062241342, 0.3054848329439897, 0.3054922777408212, 0.30549964194489804, 0.3055069268578433, 0.305514133753401, 0.3055212638781782, 0.3055283184523641, 0.3055352986704261, 0.30554220570178403, 0.3055490406914632, 0.3055558047607273, 0.30556249900769145, 0.30556912450791673, 0.30557568231498605, 0.3055821734610628, 0.3055885989574324, 0.3055949597950275, 0.30560125694493745]\n"
          ]
        },
        {
          "output_type": "display_data",
          "data": {
            "text/plain": [
              "<Figure size 640x480 with 1 Axes>"
            ],
            "image/png": "[encoded data removed]"
          },
          "metadata": {}
        }
      ]
    },
    {
      "cell_type": "markdown",
      "source": [
        "Se puede evidenciar en cada una de las gráficas y de los valores de las series $S_N^{(1)}$, $S_N^{(2)}$ y $S_N^{(3)}$, que cada serie converge a valores muy cercanos a 0.30 después de casi 20 iteraciones."
      ],
      "metadata": {
        "id": "c07EMo-mi3aU"
      }
    },
    {
      "cell_type": "markdown",
      "source": [
        "- Considere  que $S_N^{(3)}$ es la solución exacta, realizar dos graficos log-log, del error relativo en función\n",
        "del número de términos ($\\mathrm{Log_{10}} E$ VS $\\mathrm{Log_{10}} N$), para $S_N^{(1)}$ y $S_N^{(2)}$. Donde,  $E = |(S_N^{(i)} - S_N^{(3)})/S_N^{(3)}|$, i = 1, 2. Considere valores de $N = 1\\times 10^{6}$."
      ],
      "metadata": {
        "id": "Srzz6OOLkzTl"
      }
    },
    {
      "cell_type": "code",
      "source": [
        "N = int(1e6)\n",
        "\n",
        "exacto = cancel_sust_3(N)\n",
        "S_1 = cancel_sust_1(N)\n",
        "Error_1 = abs((S_1-exacto)/exacto)\n",
        "print(Error_1)\n",
        "\n",
        "x = np.arange(1,50,0.1)\n",
        "S_01 = np.zeros(len(x))\n",
        "\n",
        "for i in range(0,len(x)):\n",
        "  S_01[i] = cancel_sust_1(i)\n",
        "\n",
        "error = np.zeros(len(x))\n",
        "for i in range(0,len(error)):\n",
        "  error[i] = abs(S_01[i]- Error_1/(Error_1))\n",
        "\n",
        "\n",
        "plt.figure()\n",
        "plt.loglog()\n",
        "plt.plot(x,error)\n",
        "plt.xlabel(\"$S_{1}$\")\n",
        "plt.ylabel(\"Error\")\n",
        "plt.title('$Log_{10}$E vs $Log_{10}$$S_{1}$N')\n",
        "plt.grid()\n",
        "plt.show()"
      ],
      "metadata": {
        "id": "kPidFaI8SVzH",
        "colab": {
          "base_uri": "https://localhost:8080/",
          "height": 497
        },
        "outputId": "a964c2ce-b72f-4c5e-d603-4eb80f4e43fe"
      },
      "execution_count": null,
      "outputs": [
        {
          "output_type": "stream",
          "name": "stdout",
          "text": [
            "3.0826204867899853e-13\n"
          ]
        },
        {
          "output_type": "display_data",
          "data": {
            "text/plain": [
              "<Figure size 640x480 with 1 Axes>"
            ],
            "image/png": "[encoded data removed]"
          },
          "metadata": {}
        }
      ]
    },
    {
      "cell_type": "code",
      "source": [
        "N = int(1e6)\n",
        "\n",
        "exacto = cancel_sust_3(N)\n",
        "S_2 = cancel_sust_2(N)\n",
        "Error_2 = abs((S_2-exacto)/exacto)\n",
        "\n",
        "\n",
        "x = np.arange(1,50,0.1)\n",
        "S_02 = np.zeros(len(x))\n",
        "\n",
        "for i in range(0,len(x)):\n",
        "  S_02[i] = cancel_sust_2(i)\n",
        "\n",
        "error_2 = np.zeros(len(x))\n",
        "for i in range(0,len(error_2)):\n",
        "  error_2[i] = abs(S_02[i]- Error_2/(Error_2))\n",
        "\n",
        "\n",
        "plt.figure()\n",
        "plt.loglog()\n",
        "plt.plot(x,error_2)\n",
        "plt.xlabel(\"$S_{2}$\")\n",
        "plt.ylabel(\"Error\")\n",
        "plt.title('$Log_{10}$E vs $Log_{10}$$S_{2}$N')\n",
        "plt.grid()\n",
        "plt.show()"
      ],
      "metadata": {
        "colab": {
          "base_uri": "https://localhost:8080/",
          "height": 480
        },
        "id": "6KqtboJMJEmi",
        "outputId": "f72d62e4-0af5-41e9-a924-8b9ad2833e57"
      },
      "execution_count": null,
      "outputs": [
        {
          "output_type": "display_data",
          "data": {
            "text/plain": [
              "<Figure size 640x480 with 1 Axes>"
            ],
            "image/png": "[encoded data removed]"
          },
          "metadata": {}
        }
      ]
    },
    {
      "cell_type": "markdown",
      "source": [
        "- Analizar y discutir los resultados. Tenga en cuenta la discusión realizada sobre teoría de errores en la página\n",
        "39 del libro del libro [Computational Physics. ](https://www.dropbox.com/s/n06ul2r4l65khl6/Computational%20Physics%20-%20Problem%20Solving%20with%20Computers%2C%203527406263.pdf?dl=0)"
      ],
      "metadata": {
        "id": "qt71XSxYer9_"
      }
    },
    {
      "cell_type": "markdown",
      "source": [
        "Según las preguntas de la página 39 del libro  [Computational Physics. ](https://www.dropbox.com/s/n06ul2r4l65khl6/Computational%20Physics%20-%20Problem%20Solving%20with%20Computers%2C%203527406263.pdf?dl=0), este analísis está bien ejecutado ya que los valores de cada una de las series converge a un valor cercaco (0.3), el algoritmo de busqueda tiene una velocidad bastante acelerada y como se puede ver en las gráficas Log-Log el error a medida que tomamos valores más grandes para las sumatorias va convergiendo hacía un mismo valor de un modo asintotico.\n"
      ],
      "metadata": {
        "id": "eON2S0JffYPp"
      }
    },
    {
      "cell_type": "code",
      "source": [],
      "metadata": {
        "id": "TppJzvjkfhto"
      },
      "execution_count": null,
      "outputs": []
    }
  ],
  "metadata": {
    "colab": {
      "provenance": []
    },
    "kernelspec": {
      "display_name": "Python 3 (ipykernel)",
      "language": "python",
      "name": "python3"
    },
    "language_info": {
      "codemirror_mode": {
        "name": "ipython",
        "version": 3
      },
      "file_extension": ".py",
      "mimetype": "text/x-python",
      "name": "python",
      "nbconvert_exporter": "python",
      "pygments_lexer": "ipython3",
      "version": "3.10.9"
    }
  },
  "nbformat": 4,
  "nbformat_minor": 0
}