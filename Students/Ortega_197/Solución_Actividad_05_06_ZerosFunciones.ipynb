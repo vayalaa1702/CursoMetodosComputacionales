{
  "cells": [
    {
      "cell_type": "markdown",
      "id": "3a6dc6a1",
      "metadata": {
        "id": "3a6dc6a1"
      },
      "source": [
        "<a href=\"https://colab.research.google.com/github/hernansalinas/autogrades/blob/main/Actividades_clase/Actividad_05_06_ZerosFunciones.ipynb\" target=\"_parent\"><img src=\"https://colab.research.google.com/assets/colab-badge.svg\" alt=\"Open In Colab\"/></a>\n",
        "\n",
        "\n",
        "\n",
        "# Actividad 5\n",
        "### Métodos computacionales para físicos  y astrónomos\n",
        "### Universidad de Antioquia\n",
        "### Prof: Hernan D. Salinas Jiménez\n",
        "Ref: https://github.com/restrepo/ComputationalMethods"
      ]
    },
    {
      "cell_type": "markdown",
      "id": "8e59c672",
      "metadata": {
        "id": "8e59c672"
      },
      "source": [
        "1. Implementar el metodo de la bisección para determinar las raices de una función.\n",
        "2. Implementar el metodo de la newton para determinar las raices de una función.\n",
        "\n",
        "Prueba tu resultado para:\n"
      ]
    },
    {
      "cell_type": "markdown",
      "id": "ee7acda4",
      "metadata": {
        "id": "ee7acda4"
      },
      "source": [
        "  \n",
        " 2. $a e^{x}-2= b\\cos(e^x-2)$"
      ]
    },
    {
      "cell_type": "code",
      "source": [
        "import numpy as np\n",
        "import matplotlib.pylab as plt"
      ],
      "metadata": {
        "id": "uAq3q1aHVzSG"
      },
      "id": "uAq3q1aHVzSG",
      "execution_count": 18,
      "outputs": []
    },
    {
      "cell_type": "code",
      "execution_count": 19,
      "id": "d0073dbf",
      "metadata": {
        "id": "d0073dbf",
        "colab": {
          "base_uri": "https://localhost:8080/"
        },
        "outputId": "616ff12a-d0eb-4bd2-e570-16af39e5ac12"
      },
      "outputs": [
        {
          "output_type": "stream",
          "name": "stdout",
          "text": [
            "a = 3\n",
            "b = 3\n",
            "La raíz encontrada por el método de bisección es: 0.45716381072998047\n"
          ]
        }
      ],
      "source": [
        "# Metodo de bisección\n",
        "def biseccion(funcion, a, b, tolerancia=1e-6, max_iter=1000):\n",
        "\n",
        "    iteraciones = 0\n",
        "\n",
        "    while (b - a) / 2 > tolerancia and iteraciones < max_iter:\n",
        "        c = (a + b) / 2\n",
        "        if funcion(c) == 0:\n",
        "            break\n",
        "        elif funcion(c) * funcion(a) < 0:\n",
        "            b = c\n",
        "        else:\n",
        "            a = c\n",
        "        iteraciones += 1\n",
        "\n",
        "    raiz = (a + b) / 2\n",
        "\n",
        "    return raiz\n",
        "\n",
        "print(f'a = {(a := np.random.randint(1,11))}')\n",
        "print(f'b = {(b := np.random.randint(1,11))}')\n",
        "\n",
        "f = lambda x : a*np.exp(x)-2 - (b*np.cos(np.exp(x)-2))\n",
        "\n",
        "print(\"La raíz encontrada por el método de bisección es:\", biseccion(f, 0, 2))"
      ]
    },
    {
      "cell_type": "code",
      "source": [
        "# Metodo de Newton\n",
        "def newton(f,df,x_0,e = 1e-100):\n",
        "  x_i = x_0\n",
        "  counter = 0\n",
        "  while abs(f(x_i)) > e and (counter != 100):\n",
        "    counter += 1\n",
        "    x_i = x_i - f(x_i)/df(x_i)\n",
        "\n",
        "  if df(x_i) == 0:\n",
        "    return (x_i)\n",
        "\n",
        "  return (x_i)\n",
        "\n",
        "print(f'a = {(a := np.random.randint(1,11))}')\n",
        "print(f'b = {(b := np.random.randint(1,11))}')\n",
        "\n",
        "f = lambda x : a*np.exp(x)-2 - (b*np.cos(np.exp(x)-2))\n",
        "df = lambda x : a*np.exp(x) + b*np.sin(np.exp(x)-2) * np.exp(x)\n",
        "x_0 = 1\n",
        "print(\"La raíz encontrada por el metodo de Newton es:\", newton(f,df,x_0))"
      ],
      "metadata": {
        "id": "YKzWtCyUVa2N",
        "colab": {
          "base_uri": "https://localhost:8080/"
        },
        "outputId": "c39fd7b9-c33e-43ea-8dad-0f314bc6172d"
      },
      "id": "YKzWtCyUVa2N",
      "execution_count": 20,
      "outputs": [
        {
          "output_type": "stream",
          "name": "stdout",
          "text": [
            "a = 3\n",
            "b = 7\n",
            "La raíz encontrada por el metodo de Newton es: 0.9542559081236888\n"
          ]
        }
      ]
    },
    {
      "cell_type": "code",
      "source": [
        "x = np.linspace(-2.5,2.5,100)\n",
        "y = f(x)\n",
        "X = newton(f,df,x_0)\n",
        "Y = f(newton(f,df,x_0))\n",
        "\n",
        "\n",
        "plt.plot(x,y,label=\"f(x)\") #grafica la función a la cual se le va a aplicar el metodo de Newton\n",
        "plt.plot(X,Y,\"ro\", label=\"Raíz f(x)\") #grafica la raíz calculada con el metodo de Newton\n",
        "plt.axhline(0, color='black', linestyle='-')\n",
        "plt.title(\"Metodo de Newton\")\n",
        "plt.legend()\n",
        "plt.grid()"
      ],
      "metadata": {
        "colab": {
          "base_uri": "https://localhost:8080/",
          "height": 452
        },
        "id": "IRLpjT9-V79f",
        "outputId": "4c1d0345-b0d4-40e7-cd5c-fdae254af9a4"
      },
      "id": "IRLpjT9-V79f",
      "execution_count": 21,
      "outputs": [
        {
          "output_type": "display_data",
          "data": {
            "text/plain": [
              "<Figure size 640x480 with 1 Axes>"
            ],
            "image/png": "[encoded data removed]"
          },
          "metadata": {}
        }
      ]
    },
    {
      "cell_type": "code",
      "source": [],
      "metadata": {
        "id": "W8Xj9Ie6V-fe"
      },
      "id": "W8Xj9Ie6V-fe",
      "execution_count": null,
      "outputs": []
    }
  ],
  "metadata": {
    "kernelspec": {
      "display_name": "Python 3 (ipykernel)",
      "language": "python",
      "name": "python3"
    },
    "language_info": {
      "codemirror_mode": {
        "name": "ipython",
        "version": 3
      },
      "file_extension": ".py",
      "mimetype": "text/x-python",
      "name": "python",
      "nbconvert_exporter": "python",
      "pygments_lexer": "ipython3",
      "version": "3.10.9"
    },
    "colab": {
      "provenance": []
    }
  },
  "nbformat": 4,
  "nbformat_minor": 5
}