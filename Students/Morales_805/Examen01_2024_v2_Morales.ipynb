{
  "cells": [
    {
      "cell_type": "markdown",
      "metadata": {
        "id": "pb-wUg6mHtL5"
      },
      "source": [
        "**Luisa María Morales Sánchez**\n",
        "\n",
        "1002633805"
      ]
    },
    {
      "cell_type": "markdown",
      "metadata": {
        "id": "yzIQLm5ASP00"
      },
      "source": [
        "# Examen 1: Métodos computacionales.\n",
        "\n",
        "## Profesor: Hernán Salinas\n",
        "### Universidad de Antioquia\n",
        "\n",
        "\n",
        "El examen consta de 7 puntos, cada uno de igual valor, el uso de herramientas de IA no esta permitido. Puede usar la documentacion de scipy, numpy, matplotlib.\n",
        "\n",
        "La entrega se realiza a través del github del curso.\n",
        "\n",
        "\n",
        "#### Examen\n",
        "\n",
        "Una esfera de masa $m$ es lanzada desde la superficie de la tierra con velocidad $\\vec{v_0}$. Las fuerzas que actúan sobre la bolita son: el peso $m\\vec{g}$, y la fuerza de rozamiento $\\vec{f}=-mb\\vec{v}_0$ que el  aire ejerce sobre la bolita. Un digrama de cuerpo libre es esquematizado en la siguiente figura.\n",
        "\n",
        "![Movimiento parabolico](http://www.sc.ehu.es/sbweb/fisica/dinamica/stokes2/stokes1.gif)\n",
        "\n",
        "Para dar solución al movimiento de la bolita, se debe plantear las ecuaciones de movimiento desde la segunda ley de Newton y después solucionarla para encontrar la ecuaciones de posición y velocidad. Su tarea será determinar el valor del alcance máximo para diferentes ángulos de lanzamiento. Para ello lea detenidamente lo siguiente:  \n",
        "\n",
        "Las **ecuaciones de movimiento** de la bolita vienen dadas por:\n",
        "\\begin{equation}\n",
        "m\\frac{\\mathrm{d}v_x}{\\mathrm{d}t} = - mbv_x\n",
        "\\end{equation}\n",
        "\n",
        "\n",
        "\\begin{equation}\n",
        "m\\frac{\\mathrm{d}v_y}{\\mathrm{d}t} = - mg-mbv_y\n",
        "\\end{equation}\n",
        "\n",
        "\n",
        "donde:\n",
        "\n",
        "$v_{0x}=v_0\\cos \\theta$,  $v_{0y}=v_0\\sin \\theta$,  $b$ el coeficiente de rozamiento con el aire, y $g$ la aceleración de la gravedad\n",
        "\n",
        "\n",
        "La solución a las ecuaciones anteriores para la **posición ($x$, $y$) y la velocidad ($v_x$, $v_y$)**  son:\n",
        "\n",
        "\n",
        "\\begin{equation}\n",
        "x =  \\frac{v_{0x}}{b}\\left( 1-e^{-bt} \\right)\n",
        "\\end{equation}\n",
        "\n",
        "\\begin{equation}\n",
        "y =  \\frac{1}{b}\\left( \\frac{g}{b}+v_{0y}\\right)(1-e^{-bt})-\\frac{g}{b}t\n",
        "\\end{equation}\n",
        "\n",
        "\n",
        "\\begin{equation}\n",
        "v_x = v_{0x}e^{-bt}\n",
        "\\end{equation}\n",
        "\n",
        "\\begin{equation}\n",
        "v_y = \\left(\\frac{g}{b}+v_{0y} \\right) e^{-bt}-\\frac{g}{b}\n",
        "\\end{equation}\n",
        "\n",
        "\n",
        "\n",
        "**Alcance máximo**\n",
        "\n",
        "El tiempo asociado al alcance máximo del proyectil se da cuando $x=R$, despejando de la ecuación para $x$ el tiempo, se tiene que:\n",
        "\n",
        "\\begin{equation}\n",
        "t_v=-\\frac{1}{b} \\ln \\left(1-\\frac{Rb}{v_{0x}} \\right)\n",
        "\\end{equation}\n",
        "\n",
        "Reemplanzando en la ecuación para $y$ obtenemos que:\n",
        "\\begin{equation}\n",
        "y =\\left(\\frac{g}{b} + v_{0y}  \\right) \\frac{R}{v_{0x}}+\\frac{g}{b^2}\\ln \\left(1-\\frac{Rb}{v_{0x}} \\right)\n",
        "\\end{equation}\n",
        "\n",
        "El alcance máximo R, estará deteminado cuando $y=0$ en la anterior ecuación. Notese que es una ecuación trascendental. Su tarea será determinar el valor de R para diferentes ángulos de lanzamiento, para ello realice lo siguiente:\n",
        "\n",
        "\n",
        "\n",
        "\n",
        "\n",
        "1. Construir una función de python paramétrica para determinar el valor de R.\n",
        "$y = f(R, \\theta, v_{ox},v_{oy},b,g)$\n",
        "\n",
        "\n",
        "\n",
        "2. Asumiento que la bolita es lanzada con una rapidez de\n",
        "$v_0=55\\mathrm{m}/\\mathrm{s}$ y un ángulo de $45^{\\circ}$ respecto a la horizontal, $b=0.005$ y $g=9.8\\mathrm{m}/\\mathrm{s^2}$, determine el alcance máximo. Emplee el método que desee.\n",
        "\n",
        "\n",
        "3. Valide el resutado anterior, con un método diferente al que empleo en el apartado anterior y además, determine el tiempo de vuelo $t_v$.  \n",
        "\n",
        "\n",
        "4. Construya una gráfica de $x$ vs $t$, $y$ vs $t$, $x$ vs $y$. Asegurese de  no superar en las trayectorias los tiempos establecidos por el  tiempo de vuelo $t_v$.\n",
        "\n",
        "Ahora,  vamos a mostrar la trayectoria para múltiples ángulos de lanzamiento.\n",
        "\n",
        "5. Suponiendo,  $b=0.009$, $v_0 = 40\\mathrm{m}/\\mathrm{s}$ y  $\\theta$ entre $0<\\theta<90^{\\circ}$ en pasos de $5^{\\circ}$:\n",
        "```python\n",
        "theta=np.arange(0, 90, 5)\n",
        "theta=np.deg2rad(theta)\n",
        "```\n",
        "\n",
        "\n",
        "generalice el resultado del punto  número 2  para determinar el conjunto de valores de R asociados a cada ángulo. Con lo anterior determine los tiempos de vuelo.\n",
        "\n",
        "6. Realice un gráfico de $R$ vs $t_v$\n",
        "\n",
        "7. Finalmente, construya todas las trayectorias ($y$ vs $x$) para cada ángulo $\\theta$.\n",
        "\n",
        "\n",
        "\n",
        "\n",
        "\n",
        "\n",
        "\n",
        "\n",
        "\n",
        "\n",
        "\n"
      ]
    },
    {
      "cell_type": "code",
      "source": [
        "#Librerias\n",
        "import numpy as np\n",
        "import scipy as sc\n",
        "import matplotlib.pylab as plt\n",
        "from scipy import optimize"
      ],
      "metadata": {
        "id": "Sz1ia5MD53vh"
      },
      "execution_count": 27,
      "outputs": []
    },
    {
      "cell_type": "markdown",
      "source": [
        "***Punto 1 y 2***"
      ],
      "metadata": {
        "id": "VZG3osNIoJAJ"
      }
    },
    {
      "cell_type": "code",
      "source": [
        "#Parametros iniciales\n",
        "theta = np.deg2rad(45)\n",
        "v0 = 55 #m/s\n",
        "v0x = v0*np.cos(theta)\n",
        "v0y = v0*np.sin(theta)\n",
        "b = 0.005\n",
        "g = 9.8 #m/s²\n",
        "t = np.linspace(0,10,100)\n",
        "\n",
        "def posX(t,v0x,b):\n",
        "  b = 0.005\n",
        "  x = (v0x/b)*(1 - np.exp(-b*t))\n",
        "  return x\n",
        "\n",
        "def posY(t,b,v0y,g):\n",
        "  b = 0.005\n",
        "  y = (1/b)*((g/b)+v0y)*(1-np.exp(-b*t))  - (g/b)*t\n",
        "  return y\n",
        "\n",
        "x=posX(t,v0x,b)\n",
        "y=posY(t,b,v0y,g)"
      ],
      "metadata": {
        "id": "R4hQBJkEKnQh"
      },
      "execution_count": 28,
      "outputs": []
    },
    {
      "cell_type": "code",
      "source": [
        "R = x\n",
        "def maxh(R,v0x,v0y,b,g):\n",
        "  b = 0.005\n",
        "  y1 = (g/b +v0y)*R/v0x\n",
        "  y2 = (g/b**2)*np.log(1-((R*b)/v0x))\n",
        "  #y = y1 + y2\n",
        "  return y1+y2\n",
        "\n",
        "Y = maxh(R,v0x,v0y,b,g)\n"
      ],
      "metadata": {
        "id": "xvAJzLYI82xK"
      },
      "execution_count": null,
      "outputs": []
    },
    {
      "cell_type": "code",
      "source": [
        "#Alcanze maximo\n",
        "f = lambda x: ((g/b +v0y)*x/v0x)+ ((g/b**2)*np.log(1-((x*b)/v0x)))\n",
        "#Raiz para la gráfica x vs y\n",
        "root = optimize.bisect(f,250,350)\n",
        "print(f'La raiz de la ecuacion parametrica del proyectil es: {root}')"
      ],
      "metadata": {
        "colab": {
          "base_uri": "https://localhost:8080/"
        },
        "id": "6MdpYANGNYQf",
        "outputId": "ee59c5cd-a798-4e41-cf07-3eea554e86ac"
      },
      "execution_count": 47,
      "outputs": [
        {
          "output_type": "stream",
          "name": "stdout",
          "text": [
            "La raiz de la ecuacion parametrica del proyectil es: 300.69207669319127\n"
          ]
        }
      ]
    },
    {
      "cell_type": "markdown",
      "source": [
        "***Punto 3***"
      ],
      "metadata": {
        "id": "t7ZRub6V4b1V"
      }
    },
    {
      "cell_type": "code",
      "source": [
        "def t_vuelo(b,root,v0x):\n",
        "  t = -(1/b)*np.log(1-((root*b)/v0x))\n",
        "  return t\n",
        "tv = t_vuelo(b,root,v0x)\n",
        "t1 = np.linspace(0,tv,100)\n",
        "tv"
      ],
      "metadata": {
        "id": "NTykEMBqHOwu",
        "colab": {
          "base_uri": "https://localhost:8080/"
        },
        "outputId": "1d0d84ad-48fc-461a-ec78-f4743f1efbb6"
      },
      "execution_count": 44,
      "outputs": [
        {
          "output_type": "execute_result",
          "data": {
            "text/plain": [
              "7.885101833164226"
            ]
          },
          "metadata": {},
          "execution_count": 44
        }
      ]
    },
    {
      "cell_type": "markdown",
      "source": [
        "***Punto 4. Gráficas***"
      ],
      "metadata": {
        "id": "jiGE0E8U4kyO"
      }
    },
    {
      "cell_type": "code",
      "source": [
        "fig,axs =plt.subplots(3)\n",
        "axs[0].plot(t, x)\n",
        "axs[0].set_title('x vs t')\n",
        "axs[0].grid()\n",
        "\n",
        "axs[1].plot(t, y)\n",
        "axs[1].set_title('y vs t')\n",
        "axs[1].grid()\n",
        "\n",
        "axs[2].plot(y, x)\n",
        "axs[2].set_title('x vs y')\n",
        "axs[2].grid()\n",
        "\n",
        "plt.tight_layout()\n",
        "plt.show()"
      ],
      "metadata": {
        "colab": {
          "base_uri": "https://localhost:8080/",
          "height": 487
        },
        "id": "7lK9DgON6Afq",
        "outputId": "1f1f737e-c227-4649-dac9-380902cb5c14"
      },
      "execution_count": 105,
      "outputs": [
        {
          "output_type": "display_data",
          "data": {
            "text/plain": [
              "<Figure size 640x480 with 3 Axes>"
            ],
            "image/png": "[encoded data removed]"
          },
          "metadata": {}
        }
      ]
    },
    {
      "cell_type": "code",
      "source": [
        "plt.plot(t, y,label='Trayectoria del lanzamiento')\n",
        "plt.xlabel('Distancia (m)')\n",
        "plt.ylabel('Altura (m)')\n",
        "plt.title('Movimiento Parabólico')\n",
        "plt.legend()\n",
        "plt.grid()"
      ],
      "metadata": {
        "id": "82HAGei54StR"
      },
      "execution_count": null,
      "outputs": []
    },
    {
      "cell_type": "markdown",
      "source": [
        "***Punto 5***"
      ],
      "metadata": {
        "id": "B97p7xBkNfU9"
      }
    },
    {
      "cell_type": "code",
      "source": [
        "v_0 = 40 #m/s\n",
        "b1 = 0.009\n",
        "g = 9.8 #m/s²"
      ],
      "metadata": {
        "id": "_vxrfTe9YOws"
      },
      "execution_count": 174,
      "outputs": []
    },
    {
      "cell_type": "code",
      "source": [
        "th = np.deg2rad(20)\n",
        "t2 = np.linspace(0,20,17)\n",
        "theta_= np.arange(0, 85, 5)\n",
        "theta_= np.deg2rad(theta_)\n",
        "\n",
        "def v0X(theta_):\n",
        "  v0_x = v0*np.cos(theta_)\n",
        "  return v0_x\n",
        "def v0Y(theta_):\n",
        "  v0_y = v0*np.sin(theta_)\n",
        "  return v0_y\n",
        "\n",
        "x1 = (v0X(theta_)/b1)*(1 - np.exp(-b1*t2))\n",
        "\n",
        "G = lambda x: ((g/b1 +v0Y(theta_))*x/v0X(theta_))+ ((g/b1**2)*np.log(1-((x*b1)/v0X(theta_))))\n",
        "G(x1)"
      ],
      "metadata": {
        "id": "jnzINLwAJ3tZ",
        "colab": {
          "base_uri": "https://localhost:8080/"
        },
        "outputId": "30dc21b1-12d2-4074-d8f3-91d29bb92760"
      },
      "execution_count": 227,
      "outputs": [
        {
          "output_type": "execute_result",
          "data": {
            "text/plain": [
              "array([   0.        ,   -1.66924104,   -6.78658299,  -15.64688584,\n",
              "        -28.71230762,  -46.60257688,  -70.08361592, -100.0546524 ,\n",
              "       -137.53397102, -183.6434684 , -239.59218491, -306.65899532,\n",
              "       -386.17464691, -479.50333842, -588.02403596, -713.111723  ,\n",
              "       -856.11878047])"
            ]
          },
          "metadata": {},
          "execution_count": 227
        }
      ]
    },
    {
      "cell_type": "code",
      "source": [
        "plt.plot(x1,G(x1))\n",
        "plt.grid()"
      ],
      "metadata": {
        "colab": {
          "base_uri": "https://localhost:8080/",
          "height": 430
        },
        "id": "DHs_FyaUxj11",
        "outputId": "e0bf6a5e-8ed7-452b-f324-2e364b08d8c9"
      },
      "execution_count": 228,
      "outputs": [
        {
          "output_type": "display_data",
          "data": {
            "text/plain": [
              "<Figure size 640x480 with 1 Axes>"
            ],
            "image/png": "[encoded data removed]"
          },
          "metadata": {}
        }
      ]
    },
    {
      "cell_type": "code",
      "source": [
        "for i in range(0,len(G(x1))):\n",
        "  print(G(x1)[i])"
      ],
      "metadata": {
        "id": "1xB_Us340mCP"
      },
      "execution_count": null,
      "outputs": []
    }
  ],
  "metadata": {
    "colab": {
      "provenance": []
    },
    "kernelspec": {
      "display_name": "Python 3 (ipykernel)",
      "language": "python",
      "name": "python3"
    },
    "language_info": {
      "codemirror_mode": {
        "name": "ipython",
        "version": 3
      },
      "file_extension": ".py",
      "mimetype": "text/x-python",
      "name": "python",
      "nbconvert_exporter": "python",
      "pygments_lexer": "ipython3",
      "version": "3.10.9"
    }
  },
  "nbformat": 4,
  "nbformat_minor": 0
}