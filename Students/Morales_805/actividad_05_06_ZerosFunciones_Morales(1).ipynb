{
  "cells": [
    {
      "cell_type": "markdown",
      "id": "3a6dc6a1",
      "metadata": {
        "id": "3a6dc6a1"
      },
      "source": [
        "<a href=\"https://colab.research.google.com/github/hernansalinas/autogrades/blob/main/Actividades_clase/Actividad_05_06_ZerosFunciones.ipynb\" target=\"_parent\"><img src=\"https://colab.research.google.com/assets/colab-badge.svg\" alt=\"Open In Colab\"/></a>\n",
        "\n",
        "\n",
        "\n",
        "# Actividad 5\n",
        "### Métodos computacionales para físicos  y astrónomos\n",
        "### Universidad de Antioquia\n",
        "### Prof: Hernan D. Salinas Jiménez\n",
        "Ref: https://github.com/restrepo/ComputationalMethods"
      ]
    },
    {
      "cell_type": "markdown",
      "id": "8e59c672",
      "metadata": {
        "id": "8e59c672"
      },
      "source": [
        "1. Implementar el metodo de la bisección para determinar las raices de una función.\n",
        "2. Implementar el metodo de la newton para determinar las raices de una función.\n",
        "\n",
        "Prueba tu resultado para:\n"
      ]
    },
    {
      "cell_type": "markdown",
      "id": "ee7acda4",
      "metadata": {
        "id": "ee7acda4"
      },
      "source": [
        "  \n",
        " 2. $a e^{x}-2= b\\cos(e^x-2)$"
      ]
    },
    {
      "cell_type": "code",
      "source": [
        "import numpy as np\n",
        "import matplotlib.pylab as plt"
      ],
      "metadata": {
        "id": "9HTZ93F6-3pE"
      },
      "id": "9HTZ93F6-3pE",
      "execution_count": 4,
      "outputs": []
    },
    {
      "cell_type": "code",
      "execution_count": 27,
      "id": "d0073dbf",
      "metadata": {
        "id": "d0073dbf"
      },
      "outputs": [],
      "source": [
        "x = np.linspace(-5,2,100)\n",
        "def fun(x,a,b):\n",
        "  return a*np.exp(x) - 2 - b*np.cos(np.exp(x)-2)\n",
        "\n",
        "def deriv(x,a,b):\n",
        "  return a*np.exp(x) + b*np.sin(np.exp(x)-2)*np.exp(x)\n",
        "\n",
        "#parametros escogidos arbitrariamente\n",
        "a = 1\n",
        "b = 2\n",
        "\n",
        "f = fun(x,a,b)\n",
        "df = deriv(x,a,b)\n",
        "\n",
        "epsilon = 10**-3 #numero para definir la precision que se desea alcanzar para encontrar una aproximacion a la raiz\n",
        "N = 100 #numero de iteraciones"
      ]
    },
    {
      "cell_type": "code",
      "source": [
        "plt.plot(x,fun(x,a,b),color='mediumpurple',label='Funcion')\n",
        "plt.xlabel('x')\n",
        "plt.ylabel('f(x)')\n",
        "plt.title('Gráfica de la Función')\n",
        "plt.legend()\n",
        "plt.grid()\n",
        "plt.show()"
      ],
      "metadata": {
        "colab": {
          "base_uri": "https://localhost:8080/",
          "height": 472
        },
        "id": "9ZYtbTiTVMGw",
        "outputId": "9b06afb7-12f6-4ca9-97e4-214c2d0e9b53"
      },
      "id": "9ZYtbTiTVMGw",
      "execution_count": 22,
      "outputs": [
        {
          "output_type": "display_data",
          "data": {
            "text/plain": [
              "<Figure size 640x480 with 1 Axes>"
            ],
            "image/png": "[encoded data removed]"
          },
          "metadata": {}
        }
      ]
    },
    {
      "cell_type": "code",
      "source": [
        "#Metodo de Biseccion\n",
        "\n",
        "#parametros para determinar el intervalo\n",
        "xa = -1\n",
        "xb = 2\n",
        "\n",
        "def bisection(f,xa,xb,epsilon,N):\n",
        "  iter = 0\n",
        "  while (fun(xa,a,b)*fun(xb,a,b) < 0 and iter < N):\n",
        "    iter += 1\n",
        "    xc = (xa+xb)/2\n",
        "    if (fun(xc,a,b) < 0):\n",
        "      xa = xc\n",
        "    elif(fun(xc,a,b) > 0):\n",
        "      xb = xc\n",
        "    elif( abs(fun(xc,a,b)) < epsilon ):\n",
        "      break\n",
        "    else :\n",
        "      print(\"Error\")\n",
        "  return xc\n",
        "\n",
        "print(f'La raiz de la funcion usando el metodo de bisección es: {bisection(f, xa, xb, epsilon, N)}')\n"
      ],
      "metadata": {
        "colab": {
          "base_uri": "https://localhost:8080/"
        },
        "id": "Ivv1VRJiUzoa",
        "outputId": "b10e6657-0319-48ed-f699-d3f15d64da03"
      },
      "id": "Ivv1VRJiUzoa",
      "execution_count": 28,
      "outputs": [
        {
          "output_type": "stream",
          "name": "stdout",
          "text": [
            "La raiz de la funcion usando el metodo de bisección es: 1.1085185688224324\n"
          ]
        }
      ]
    },
    {
      "cell_type": "code",
      "source": [
        "#Metodo de Newton-Raphson\n",
        "\n",
        "#numero inicial que se acerca a la raiz\n",
        "x0 = 1\n",
        "\n",
        "def newt_metod(f,df,x0,epsilon,N):\n",
        "  iter = 0\n",
        "  while ((abs(fun(x0,a,b)) >= epsilon) and (iter<=3)):\n",
        "    xn = x0 - (fun(x0,a,b)/deriv(x0,a,b))\n",
        "    x0 = xn\n",
        "    iter += 1\n",
        "    return x0\n",
        "\n",
        "print(f'La raiz de la funcion usando el método de Newton-Raphson es: {newt_metod(f,df,x0,epsilon,N)}')\n"
      ],
      "metadata": {
        "id": "1JusWwfF_EqR",
        "colab": {
          "base_uri": "https://localhost:8080/"
        },
        "outputId": "8eb06171-9dc1-4701-c09c-070cf87bb305"
      },
      "id": "1JusWwfF_EqR",
      "execution_count": 29,
      "outputs": [
        {
          "output_type": "stream",
          "name": "stdout",
          "text": [
            "La raiz de la funcion usando el método de Newton-Raphson es: 1.1250934226963598\n"
          ]
        }
      ]
    },
    {
      "cell_type": "code",
      "source": [],
      "metadata": {
        "id": "aIyDV8751ww9"
      },
      "id": "aIyDV8751ww9",
      "execution_count": null,
      "outputs": []
    }
  ],
  "metadata": {
    "kernelspec": {
      "display_name": "Python 3 (ipykernel)",
      "language": "python",
      "name": "python3"
    },
    "language_info": {
      "codemirror_mode": {
        "name": "ipython",
        "version": 3
      },
      "file_extension": ".py",
      "mimetype": "text/x-python",
      "name": "python",
      "nbconvert_exporter": "python",
      "pygments_lexer": "ipython3",
      "version": "3.10.9"
    },
    "colab": {
      "provenance": []
    }
  },
  "nbformat": 4,
  "nbformat_minor": 5
}