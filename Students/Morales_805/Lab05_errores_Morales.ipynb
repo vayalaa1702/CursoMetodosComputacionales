{
  "cells": [
    {
      "cell_type": "markdown",
      "metadata": {
        "id": "pe8Jt9pBcyqx"
      },
      "source": [
        "<a href=\"https://colab.research.google.com/github/hernansalinas/autogrades/blob/main/Laboratorios_Taller/Lab05_errores.ipynb\" target=\"_parent\"><img src=\"https://colab.research.google.com/assets/colab-badge.svg\" alt=\"Open In Colab\"/></a>"
      ]
    },
    {
      "cell_type": "markdown",
      "metadata": {
        "id": "z_gkZBk6K8TH"
      },
      "source": [
        "# Tipos de errores.\n",
        "\n",
        "Errores en la computación, ver libro [Computational Physics. ](https://www.dropbox.com/s/n06ul2r4l65khl6/Computational%20Physics%20-%20Problem%20Solving%20with%20Computers%2C%203527406263.pdf?dl=0)\n",
        ":\n",
        "\n",
        "\n",
        ">- ### Blunder or bad theory\n",
        "Errores tipográficos de entrada, errores en los datos, razonamientos teoricos malos, entre otros.\n",
        ">- ### Errores aleatorios.\n",
        "Impresiones causadas por eventos tales como fluctuaciones electronicas, rayos cósmicos. Se presentan rara vez, y y tiene una mayor probabilidad de ocurrir cuando los calculos se demoran del orden de semanas.\n",
        ">- ### Errores de aproximación:\n",
        "Se presentan por truncamiento de los modelos numéricos, por ejemplol si consideramos la serie asociada a la función\n",
        "$\\sin x$:\n",
        "\n",
        "\\begin{equation}\n",
        "\\sin x = \\sum_{n=1}^{\\infty} \\frac{(-1)^{n-1}x^{2n-1}}{(2n-1)!}\n",
        "\\end{equation}\n",
        "\n",
        "\n",
        "\\begin{equation}\n",
        "\\sin x = \\sum_{n=1}^{N} \\frac{(-1)^{n-1}x^{2n-1}}{(2n-1)!} + \\varepsilon(x, N)\n",
        "\\end{equation}\n",
        "\n",
        "\n",
        "> El error numérico  en el calculo computacional es del orden de  $\\varepsilon(x, N)$, dado que el computador debe truncar la serie en un N determinado.\n",
        "\n",
        "\n",
        ">- ### Errores de redondeo:\n",
        "Análogos a los errores  de  cantidad experimentales.\n"
      ]
    },
    {
      "cell_type": "markdown",
      "metadata": {
        "id": "OFqJhhVmLhdX"
      },
      "source": []
    },
    {
      "cell_type": "markdown",
      "metadata": {
        "id": "VVDQ_eH5Jjxw"
      },
      "source": [
        "# Errores de redondeo:\n",
        "## Cancelacion substractiva\n",
        "\n",
        "Sea $b_c = b (1+ \\epsilon)$ y Sea $c_c = c (1+ \\epsilon)$ La representacion de dos números en el computador.  Calculemos la diferencia entre estos dos números:\n",
        "\n",
        "\n",
        "$a_c = (b-c) + b\\epsilon_b -c\\epsilon_c = a+ b\\epsilon_b -c\\epsilon_c$\n",
        "\n",
        "$\\frac{a_c}{a} = 1 + \\frac{b}{a}\\epsilon_b -\\frac{c}{a}\\epsilon_c $\n",
        "\n",
        "$\\frac{a_c}{a} = 1 + \\frac{b}{a} \\max(\\epsilon_b,\\epsilon_c) $\n",
        "\n",
        "Si $b\\approx c$, el valor de a es un valor muy grande.\n",
        "\n",
        "\n",
        "\n"
      ]
    },
    {
      "cell_type": "code",
      "execution_count": null,
      "metadata": {
        "id": "O-SP8rPyDQ34"
      },
      "outputs": [],
      "source": [
        "import numpy as np"
      ]
    },
    {
      "cell_type": "code",
      "execution_count": null,
      "metadata": {
        "colab": {
          "base_uri": "https://localhost:8080/"
        },
        "id": "wqrGTlWw1OUR",
        "outputId": "ddab01a3-fd0f-4b48-cd77-a8a718cb8ece"
      },
      "outputs": [
        {
          "output_type": "stream",
          "name": "stdout",
          "text": [
            "1.9073486e-06\n"
          ]
        },
        {
          "output_type": "execute_result",
          "data": {
            "text/plain": [
              "4.632568359374996"
            ]
          },
          "metadata": {},
          "execution_count": 2
        }
      ],
      "source": [
        "print(np.float32(12.123452) - np.float32(12.123450))\n",
        "valor_real = 0.000002\n",
        "diff = np.float32(12.123452) - np.float32(12.123450)\n",
        "error = abs(diff-valor_real)/valor_real*100 #el error es mas gra\n",
        "\n",
        "(12.123452/valor_real)*1/(2**31)\n",
        "error"
      ]
    },
    {
      "cell_type": "code",
      "execution_count": null,
      "metadata": {
        "colab": {
          "base_uri": "https://localhost:8080/"
        },
        "id": "AeDXTAN7OTcn",
        "outputId": "38f4a333-5c76-44dc-f2cd-534bf5ffb0d3"
      },
      "outputs": [
        {
          "output_type": "stream",
          "name": "stdout",
          "text": [
            "0.0\n",
            "5.0\n",
            "¿Cual es la diferencia entre estas dos restas?\n"
          ]
        }
      ],
      "source": [
        "print(np.float32(1234567895) - np.float32(1234567890))\n",
        "print(np.float64(1234567895) - np.float64(1234567890))\n",
        "print(\"¿Cual es la diferencia entre estas dos restas?\")"
      ]
    },
    {
      "cell_type": "code",
      "execution_count": null,
      "metadata": {
        "colab": {
          "base_uri": "https://localhost:8080/"
        },
        "id": "O5uQVd-TZmPQ",
        "outputId": "8dec594d-358c-44b8-cc27-a80e6160484e"
      },
      "outputs": [
        {
          "output_type": "stream",
          "name": "stdout",
          "text": [
            "4.0\n",
            "5.0\n",
            "¿Cual es la diferencia entre estas dos restas?\n"
          ]
        }
      ],
      "source": [
        "print(np.float32(12345675) - np.float32(12345671))\n",
        "print(np.float64(1234567895) - np.float64(1234567890))\n",
        "print(\"¿Cual es la diferencia entre estas dos restas?\")"
      ]
    },
    {
      "cell_type": "code",
      "execution_count": null,
      "metadata": {
        "colab": {
          "base_uri": "https://localhost:8080/"
        },
        "id": "gSutoSLxR7A1",
        "outputId": "48ec696c-890f-4824-b9c0-80f0f030d256"
      },
      "outputs": [
        {
          "output_type": "execute_result",
          "data": {
            "text/plain": [
              "1.9073486328125e-06"
            ]
          },
          "metadata": {},
          "execution_count": 5
        }
      ],
      "source": [
        "xt = 12345678912.345678\n",
        "yt = 12345678912.345677\n",
        "xt-yt"
      ]
    },
    {
      "cell_type": "code",
      "execution_count": null,
      "metadata": {
        "colab": {
          "base_uri": "https://localhost:8080/"
        },
        "id": "7I__xYI7Sq98",
        "outputId": "67ace4fc-5d95-4a5b-fe0c-4e91705406e4"
      },
      "outputs": [
        {
          "output_type": "execute_result",
          "data": {
            "text/plain": [
              "-9.999999999999995e-17"
            ]
          },
          "metadata": {},
          "execution_count": 6
        }
      ],
      "source": [
        "xt = 0.0000000000000005\n",
        "yt = 0.0000000000000006\n",
        "xt-yt"
      ]
    },
    {
      "cell_type": "code",
      "execution_count": null,
      "metadata": {
        "colab": {
          "base_uri": "https://localhost:8080/"
        },
        "id": "vqwW1XbkYiOS",
        "outputId": "0c000469-d234-44ec-d408-b01d53a03436"
      },
      "outputs": [
        {
          "output_type": "stream",
          "name": "stdout",
          "text": [
            "1.2345678912e-09\n"
          ]
        }
      ],
      "source": [
        "a = np.float16(1.2345678912345678912)-np.float16(1.2345678900000000000)\n",
        "r = 0.0000000012345678912\n",
        "print(r)"
      ]
    },
    {
      "cell_type": "markdown",
      "metadata": {
        "id": "D7wS4CRCMdcJ"
      },
      "source": [
        "## Errores de acumulación\n",
        "$\\epsilon_{ro}=\\sqrt{N}\\epsilon_m$\n"
      ]
    },
    {
      "cell_type": "code",
      "execution_count": null,
      "metadata": {
        "colab": {
          "base_uri": "https://localhost:8080/"
        },
        "id": "KJA7qyMPOkRH",
        "outputId": "bda8d9ad-88f5-42bc-d09e-39d8496f6aed"
      },
      "outputs": [
        {
          "output_type": "stream",
          "name": "stdout",
          "text": [
            "Valor a través de la suma:  100000.00149011612\n",
            "Valor exacto:  100000.0\n",
            "Error  1.4901161193847656e-06\n"
          ]
        }
      ],
      "source": [
        "#Con numeros de 32 bit.\n",
        "eps = np. float64(0)\n",
        "N = 1000000\n",
        "for i in range(0, N):\n",
        " eps = np.float32(0.1) + eps\n",
        "\n",
        "exac = N*0.1\n",
        "error = np.abs(exac-eps) / exac\n",
        "print(\"Valor a través de la suma: \", eps)\n",
        "print(\"Valor exacto: \",  exac)\n",
        "print(\"Error \", error*100 )\n"
      ]
    },
    {
      "cell_type": "markdown",
      "metadata": {
        "id": "rjPq2MFFObTp"
      },
      "source": [
        "\n",
        "## Errores de aproximación.\n",
        " $\\epsilon_{aprox}=\\frac{\\alpha}{N^{\\beta}}$\n"
      ]
    },
    {
      "cell_type": "markdown",
      "metadata": {
        "id": "uisq8TnEOftp"
      },
      "source": [
        "## Error total:\n",
        " $\\epsilon_{aprox} = \\epsilon_{ro}+\\epsilon_{aprox}$\n",
        "\n"
      ]
    },
    {
      "cell_type": "markdown",
      "metadata": {
        "id": "4XGEWL7NN1H-"
      },
      "source": [
        "# Errores de una serie\n",
        "\n",
        "- ¿Converge la serie?\n",
        "- ¿Qué tan preciso es la convergencia?\n",
        "- Costo computacional\n",
        "\n",
        "\n",
        "## Error de una serie\n",
        "Sea $x$ el valor verdadero y $x^*$ el valor aproximado\n",
        "\n",
        "- Error absoluto : se define como\n",
        "\\begin{equation*}\n",
        "\\epsilon_{abs}= |x-x^*|\n",
        "\\end{equation*}\n",
        "- Error relativo : es dado por\n",
        "\\begin{equation*}\n",
        "\\epsilon_{rel}= \\frac{|x-x^*|}{|x|}\n",
        "\\end{equation*}\n",
        "- Error en series : El error para truncar una serie se toma como\n",
        "\\begin{equation*}\n",
        "\\epsilon_{aprox}= \\left|\\frac{nth\\hbox{-term}}{\\hbox{suma}}\\right|< \\hbox{eps}\n",
        "\\end{equation*}\n",
        "La tolerancia normalmente se toma como un número pequeño, por ejemplo `eps` $=10^{-10}$. Note que no se trunca la serie usando $|{nth}\\hbox{-term}|<$ eps,   usar esta forma puede conducir a errores debido a que no se compara con el valor de la suma (un millon compardo a uno es grande, pero comparado a diez mil millones es pequeño).\n",
        "\n",
        "Tomemos como ejemplo otra vez el cálculo de la serie del seno,\n"
      ]
    },
    {
      "cell_type": "markdown",
      "metadata": {
        "id": "reiKGKshRPay"
      },
      "source": [
        "# Laboratorio\n",
        "\n",
        "## 1. Exponencial, serie alternante (serieEn)\n",
        "Objetivo: Analizar el uso de la cancelación substractiva\n",
        "\n",
        "\n",
        "Copia textual del libro  [Computational Physics. ](https://www.dropbox.com/s/n06ul2r4l65khl6/Computational%20Physics%20-%20Problem%20Solving%20with%20Computers%2C%203527406263.pdf?dl=0)\n",
        "\n",
        "i. Write a program that calculates $e^{-x}$\n",
        "\n",
        "\\begin{equation}\n",
        "e^{-x}=\\sum_{n=0}^{N}  (-1)^n \\frac{x^{n}}{n!}\n",
        "\\end{equation}\n",
        "\n",
        "\n",
        "ii. Calculate your series for $x \\le 1$ and compare it to the built-in function\n",
        "exp(x) (you may assume that the built-in exponential function is exact).\n",
        "You should pick an N for which the next term in the series is no more\n",
        "than $10^{-7}$ of the sum up to that point\n",
        "\n",
        "\\begin{equation}\n",
        "\\left| \\frac{(-x)^{N+1}}{(N+1)!} \\right | \\le \\left| 10^{-7} \\sum_{N=0}^{N} \\frac{(-x)^{n}}{n!} \\right|\n",
        "\\end{equation}\n",
        "\n",
        "iii. Examine the terms in the series for $x\\approx 10$ and observe the significant subtractive cancellations that occur when large terms add together to give small answers. In particular, print out the near-perfect cancellation\n",
        "at $n \\approx x − 1$.\n",
        "\n",
        "iv. See if better precision is obtained by being clever and using exp(−x) = 1/ exp(x) for large x values. This eliminates subtractive cancellation, but does not eliminate all roundoff errors\n",
        "\n",
        "v. By progressively increasing x from 1 to 10, and then from 10 to 100, use your program to determine experimentally when the series starts to lose accuracy, and when the series no longer converges\n",
        "\n",
        "vi. Make a series of graphs of the error versus N for different values of x."
      ]
    },
    {
      "cell_type": "code",
      "source": [
        "#Librerias\n",
        "import numpy as np\n",
        "import matplotlib.pyplot as plt\n",
        "from math import factorial"
      ],
      "metadata": {
        "id": "UiYbbuDQfTDx"
      },
      "execution_count": null,
      "outputs": []
    },
    {
      "cell_type": "code",
      "source": [
        "#Serie alternante\n",
        "# i)\n",
        "def exponencial(x,n):\n",
        "  exp = 0\n",
        "  for i in range(n):\n",
        "    exp += ((-1)**i) * (x**i)/(factorial(i))\n",
        "  return exp\n",
        "\n",
        "x = 0.1\n",
        "n = 100\n",
        "e1 = exponencial(x,n)\n",
        "e_exacto = np.exp(-x)\n",
        "\n",
        "print(f'{e1}')\n",
        "print(f'{e_exacto}')"
      ],
      "metadata": {
        "colab": {
          "base_uri": "https://localhost:8080/"
        },
        "id": "JLCL5NTOfONC",
        "outputId": "0b907b6b-1845-42bf-db5b-423da1170258"
      },
      "execution_count": null,
      "outputs": [
        {
          "output_type": "stream",
          "name": "stdout",
          "text": [
            "0.9048374180359596\n",
            "0.9048374180359595\n"
          ]
        }
      ]
    },
    {
      "cell_type": "code",
      "source": [
        "#Serie truncada, determina el numero de iteraciones para llegar al numero de presicion de la serie\n",
        "# ii)\n",
        "def exp_truncado(x,n):\n",
        "  ep = exponencial(x,n)\n",
        "  lim = 1e-7*ep\n",
        "  ex = 0\n",
        "  for i in range(n):\n",
        "    ex = abs((-x)**(i+1) / factorial(i+1))\n",
        "    if ex <= lim:\n",
        "      break\n",
        "  exp = exponencial(x,i)\n",
        "  return exp, i\n",
        "\n",
        "exacto = np.exp(-x)\n",
        "x = 0.1\n",
        "n = 100\n",
        "print(f'Valor de la serie:{exponencial(x,n)}')\n",
        "print(f'Valor de la serie truncada:{exp_truncado(x,n)}')\n",
        "print(f'Valor exacto:{exacto}')\n"
      ],
      "metadata": {
        "colab": {
          "base_uri": "https://localhost:8080/"
        },
        "id": "BdbkYUtFg15n",
        "outputId": "7528a233-553d-4593-f545-01d5718983d4"
      },
      "execution_count": null,
      "outputs": [
        {
          "output_type": "stream",
          "name": "stdout",
          "text": [
            "Valor de la serie:0.9048374180359596\n",
            "Valor de la serie truncada:(0.9048333333333334, 4)\n",
            "Valor exacto:0.9048374180359595\n"
          ]
        }
      ]
    },
    {
      "cell_type": "code",
      "source": [
        "#iii)\n",
        "exacto = np.exp(-8)\n",
        "print(f'Valor de la serie:{exponencial(8,n)}')\n",
        "print(f'Valor de la serie truncada:{exp_truncado(8,n)}')\n",
        "print(f'Valor exacto:{exacto}')"
      ],
      "metadata": {
        "colab": {
          "base_uri": "https://localhost:8080/"
        },
        "id": "Dt1c959xoYkf",
        "outputId": "3f33c51d-9b62-4fc9-e99c-9c8ea7b81497"
      },
      "execution_count": null,
      "outputs": [
        {
          "output_type": "stream",
          "name": "stdout",
          "text": [
            "Valor de la serie:0.00033546262785295135\n",
            "Valor de la serie truncada:(0.00033546259492638574, 38)\n",
            "Valor exacto:0.00033546262790251185\n"
          ]
        }
      ]
    },
    {
      "cell_type": "code",
      "source": [
        "def invertida(x,n):\n",
        "  exp = 0\n",
        "  for i in range(n):\n",
        "    exp += x**i/factorial(i)\n",
        "  return 1/exp\n",
        "\n",
        "exacto = np.exp(-x)\n",
        "x = 10\n",
        "n = 100\n",
        "print(f'Valor de la serie:{exponencial(x,n)}')\n",
        "print(f'Valor de la serie truncada:{invertida(x,n)}')\n",
        "print(f'Valor exacto:{exacto}')"
      ],
      "metadata": {
        "colab": {
          "base_uri": "https://localhost:8080/"
        },
        "id": "McwEUDOjmppu",
        "outputId": "eda1b810-5fea-4964-bbc0-53c0dc941464"
      },
      "execution_count": null,
      "outputs": [
        {
          "output_type": "stream",
          "name": "stdout",
          "text": [
            "Valor de la serie:4.5399929433607724e-05\n",
            "Valor de la serie truncada:4.539992976248486e-05\n",
            "Valor exacto:0.9048374180359595\n"
          ]
        }
      ]
    },
    {
      "cell_type": "code",
      "source": [
        "x = 0.1\n",
        "N = np.arange(1,10)\n",
        "\n",
        "exp1 = np.zeros(len(N))\n",
        "exp2 = np.zeros(len(N))\n",
        "\n",
        "for i,n in enumerate(N):\n",
        "  exp1[i] = exponencial(x,n)\n",
        "  exp2[i] = invertida(x,n)\n",
        "\n",
        "plt.figure()\n",
        "plt.plot(N,exp1,'g-',label='serie alternante')\n",
        "plt.plot(N,exp2,'b-',label='invertida')\n",
        "plt.legend()\n",
        "plt.xlabel('Iteraciones')\n",
        "plt.ylabel('Valores')\n",
        "plt.show()"
      ],
      "metadata": {
        "colab": {
          "base_uri": "https://localhost:8080/",
          "height": 449
        },
        "id": "ew4qgEZsozai",
        "outputId": "8a5d0ae1-12b9-4df4-ee94-e35ebc4c2bb1"
      },
      "execution_count": null,
      "outputs": [
        {
          "output_type": "display_data",
          "data": {
            "text/plain": [
              "<Figure size 640x480 with 1 Axes>"
            ],
            "image/png": "[encoded data removed]"
          },
          "metadata": {}
        }
      ]
    },
    {
      "cell_type": "code",
      "source": [
        "x = 10\n",
        "N = np.arange(1,10,1)\n",
        "exact = np.exp(-x)\n",
        "error = abs(exp1-exact)/exact*100\n",
        "plt.plot(N,error)"
      ],
      "metadata": {
        "colab": {
          "base_uri": "https://localhost:8080/",
          "height": 462
        },
        "id": "NGspmtHQrf8R",
        "outputId": "a66df760-97de-4fea-f8c0-a0852704658f"
      },
      "execution_count": null,
      "outputs": [
        {
          "output_type": "execute_result",
          "data": {
            "text/plain": [
              "[<matplotlib.lines.Line2D at 0x7abf9c784550>]"
            ]
          },
          "metadata": {},
          "execution_count": 15
        },
        {
          "output_type": "display_data",
          "data": {
            "text/plain": [
              "<Figure size 640x480 with 1 Axes>"
            ],
            "image/png": "[encoded data removed]"
          },
          "metadata": {}
        }
      ]
    },
    {
      "cell_type": "markdown",
      "metadata": {
        "id": "XJ-mV9AgcyrA"
      },
      "source": [
        "## 2. Cancelación sustractiva\n",
        "\n",
        "\n",
        "\n",
        "**serieSn**. Un ejemplo de la cancelacion substractiva es en la suma de series alternantes. Considere la serie $\\mathrm{S}_N$,  escrita  matematicamente de tres formas diferentes:\n",
        "\n",
        "-\n",
        "\\begin{equation}\n",
        "\\mathrm{S}_N^{(1)} = \\sum_{n = 1}^{2N} (-1)^n \\frac{n}{n+1}\n",
        "\\end{equation}\n",
        "\n",
        "- Sumando números pares e impares.\n",
        "\n",
        "\\begin{equation}\n",
        "\\mathrm{S}_N^{(2)} = -\\sum_{n = 1}^{N}\\frac{2n-1}{2n} + \\sum_{n=1}^{N} \\frac{2n}{2n+1}\n",
        "\\end{equation}\n",
        "\n",
        "- Combinando las series de una forma analítica\n",
        "\n",
        "\\begin{equation}\n",
        "\\mathrm{S}_N^{(3)} = \\sum_{n = 1}^{N}\\frac{1}{2n(2n+1)}\n",
        "\\end{equation}\n",
        "\n",
        "\n",
        "\n",
        "Las tres sumas $\\mathrm{S}_N^{(1)}$, $\\mathrm{S}_N^{(2)}$ y $\\mathrm{S}_N^{(3)}$ son matemáticamente iguales, pero los resultados  pueden tener resultados numéricos diferentes.\n",
        "\n",
        "\n",
        "- Escribir un programa que realice el cálculo de $\\mathrm{S}_N^{(1)}$, $\\mathrm{S}_N^{(2)}$ y $\\mathrm{S}_N^{(3)}$\n",
        "- Estudiar la convergencia de la serie para los tres casos.\n",
        "- Considere  que $S_N^{(3)}$ es la solución exacta, realizar dos graficos log-log, del error relativo en función\n",
        "del número de términos ($\\mathrm{Log_{10}} E$ VS $\\mathrm{Log_{10}} N$), para $S_N^{(1)}$ y $S_N^{(2)}$. Donde,  $E = |(S_N^{(i)} - S_N^{(3)})/S_N^{(3)}|$, i = 1, 2. Considere valores de $N = 1\\times 10^{6}$.\n",
        "- Analizar y discutir los resultados. Tenga en cuenta la discusión realizada sobre teoría de errores en la página\n",
        "39 del libro del libro [Computational Physics. ](https://www.dropbox.com/s/n06ul2r4l65khl6/Computational%20Physics%20-%20Problem%20Solving%20with%20Computers%2C%203527406263.pdf?dl=0)\n",
        "\n",
        "\n"
      ]
    },
    {
      "cell_type": "code",
      "execution_count": null,
      "metadata": {
        "id": "gYpzZh6pcyrA",
        "colab": {
          "base_uri": "https://localhost:8080/"
        },
        "outputId": "6fa91dcb-6fc3-4ff4-9dda-e6d04dc005d7"
      },
      "outputs": [
        {
          "output_type": "execute_result",
          "data": {
            "text/plain": [
              "(0.2872525004571711, 0.2872525004571731, 0.28725250045717127)"
            ]
          },
          "metadata": {},
          "execution_count": 16
        }
      ],
      "source": [
        "N = 1*10^6\n",
        "#SN1\n",
        "def serie1(N):\n",
        "  sum1 = 0\n",
        "  serie1_value = []\n",
        "  for n in range(1,2*N+1):\n",
        "    sum1 += ((-1)**n)*(n/(n+1))\n",
        "    serie1_value.append(sum1)\n",
        "  return sum1\n",
        "\n",
        "#SN2\n",
        "def serie2(N):\n",
        "  sum_ = 0\n",
        "  sum2 = 0\n",
        "  serie2_value = []\n",
        "  for n in range(1,N+1):\n",
        "    sum_ += (2*n -1)/(2*n)\n",
        "    sum2 += 2*n/(2*n + 1)\n",
        "    sum_2 = -(sum_)+sum2\n",
        "    serie2_value.append(sum_2)\n",
        "  return sum_2\n",
        "\n",
        "#SN3\n",
        "def serie3(N):\n",
        "  sum3 = 0\n",
        "  serie3_value = []\n",
        "  for n in range(1,N+1):\n",
        "    sum3 += 1/(2*n*((2*n)+1))\n",
        "    serie3_value.append(sum3)\n",
        "  return sum3\n",
        "\n",
        "serie1(N), serie2(N),serie3(N)\n"
      ]
    },
    {
      "cell_type": "code",
      "source": [
        "#SN1\n",
        "def serie1v(N):\n",
        "  sum1 = 0\n",
        "  serie1_value = []\n",
        "  for n in range(1,2*N+1):\n",
        "    sum1 += ((-1)**n)*(n/(n+1))\n",
        "    serie1_value.append(sum1)\n",
        "  return serie1_value\n",
        "\n",
        "#SN2\n",
        "def serie2v(N):\n",
        "  sum_ = 0\n",
        "  sum2 = 0\n",
        "  serie2_value = []\n",
        "  for n in range(1,N+1):\n",
        "    sum_ += (2*n -1)/(2*n)\n",
        "    sum2 += 2*n/(2*n + 1)\n",
        "    sum_2 = -(sum_)+sum2\n",
        "    serie2_value.append(sum_2)\n",
        "  return serie2_value\n",
        "\n",
        "#SN3\n",
        "def serie3v(N):\n",
        "  sum3 = 0\n",
        "  serie3_value = []\n",
        "  for n in range(1,N+1):\n",
        "    sum3 += 1/(2*n*((2*n)+1))\n",
        "    serie3_value.append(sum3)\n",
        "  return serie3_value"
      ],
      "metadata": {
        "id": "ZHzw8rcdfoom"
      },
      "execution_count": null,
      "outputs": []
    },
    {
      "cell_type": "code",
      "source": [
        "serie_1 = serie1v(N)\n",
        "serie_3 = serie3v(N)\n",
        "\n",
        "N1 = np.linspace(1,1*10^6,12)\n",
        "Error = [(abs((x-y)/y)) for x, y in zip(serie_1,serie_3)]"
      ],
      "metadata": {
        "id": "c7f1MB500wOt"
      },
      "execution_count": null,
      "outputs": []
    },
    {
      "cell_type": "code",
      "source": [
        "serie_2 = serie2v(N)\n",
        "serie_3 = serie3v(N)\n",
        "\n",
        "N1 = np.linspace(1,1*10^6,12)\n",
        "Error2 = [(abs((x-y)/y)) for x, y in zip(serie_2,serie_3)]"
      ],
      "metadata": {
        "id": "oo6UHs6v28Wm"
      },
      "execution_count": null,
      "outputs": []
    },
    {
      "cell_type": "code",
      "source": [
        "plt.loglog(N1,Error)"
      ],
      "metadata": {
        "colab": {
          "base_uri": "https://localhost:8080/",
          "height": 451
        },
        "id": "QwelI4tId6RI",
        "outputId": "db2bdd35-99bf-48ed-c02b-c560befbbad3"
      },
      "execution_count": null,
      "outputs": [
        {
          "output_type": "execute_result",
          "data": {
            "text/plain": [
              "[<matplotlib.lines.Line2D at 0x7abf6ed167a0>]"
            ]
          },
          "metadata": {},
          "execution_count": 40
        },
        {
          "output_type": "display_data",
          "data": {
            "text/plain": [
              "<Figure size 640x480 with 1 Axes>"
            ],
            "image/png": "[encoded data removed]"
          },
          "metadata": {}
        }
      ]
    },
    {
      "cell_type": "code",
      "source": [
        "plt.loglog(N1,Error2)"
      ],
      "metadata": {
        "colab": {
          "base_uri": "https://localhost:8080/",
          "height": 451
        },
        "id": "gRSfHE7O3Cwj",
        "outputId": "8d1a42ea-b262-4aa9-e7bf-7ba9098c66df"
      },
      "execution_count": null,
      "outputs": [
        {
          "output_type": "execute_result",
          "data": {
            "text/plain": [
              "[<matplotlib.lines.Line2D at 0x7abf6e91d090>]"
            ]
          },
          "metadata": {},
          "execution_count": 44
        },
        {
          "output_type": "display_data",
          "data": {
            "text/plain": [
              "<Figure size 640x480 with 1 Axes>"
            ],
            "image/png": "[encoded data removed]"
          },
          "metadata": {}
        }
      ]
    },
    {
      "cell_type": "markdown",
      "source": [
        "# Graficas"
      ],
      "metadata": {
        "id": "CFti6mt1Z3gj"
      }
    },
    {
      "cell_type": "code",
      "source": [
        "def serie1(N):\n",
        "  sum1 = 0\n",
        "  serie1_value = []\n",
        "  for n in range(1,2*N+1):\n",
        "    sum1 += ((-1)**n)*(n/(n+1))\n",
        "    serie1_value.append(sum1)\n",
        "  return serie1_value\n",
        "\n",
        "N_values = list(range(1, N+1))\n",
        "series_values = [serie1(N)[-1] for N in N_values]\n",
        "\n",
        "# Plotting\n",
        "plt.plot(N_values, series_values, marker='o', linestyle='-')\n",
        "plt.title('Sum of the series vs. Number of terms')\n",
        "plt.xlabel('Number of terms (N)')\n",
        "plt.ylabel('Sum of the series')\n",
        "plt.grid(True)\n",
        "plt.show()"
      ],
      "metadata": {
        "id": "zjkuAx6e-6Lk"
      },
      "execution_count": null,
      "outputs": []
    },
    {
      "cell_type": "code",
      "source": [
        "def serie2(N):\n",
        "  sum_ = 0\n",
        "  sum2 = 0\n",
        "  serie2_value = []\n",
        "  for n in range(1,N+1):\n",
        "    sum_ += (2*n -1)/(2*n)\n",
        "    sum2 += 2*n/(2*n + 1)\n",
        "    sum_2 = -(sum_)+sum2\n",
        "    serie2_value.append(sum_2)\n",
        "  return serie2_value\n",
        "\n",
        "N_values = list(range(1, N+1))\n",
        "series2_values = [serie2(N)[-1] for N in N_values]\n",
        "\n",
        "# Plotting\n",
        "plt.plot(N_values, series2_values, marker='o', linestyle='-')\n",
        "plt.title('Sum of the series vs. Number of terms')\n",
        "plt.xlabel('Number of terms (N)')\n",
        "plt.ylabel('Sum of the series')\n",
        "plt.grid(True)\n",
        "plt.show()"
      ],
      "metadata": {
        "id": "_taSod3UXPDB"
      },
      "execution_count": null,
      "outputs": []
    },
    {
      "cell_type": "code",
      "source": [
        "def serie3(N):\n",
        "  sum3 = 0\n",
        "  serie3_value = []\n",
        "  for n in range(1,N+1):\n",
        "    sum3 += 1/(2*n*((2*n)+1))\n",
        "    serie3_value.append(sum3)\n",
        "  return serie3_value\n",
        "\n",
        "N_values = list(range(1, N+1))\n",
        "series3_values = [serie3(N)[-1] for N in N_values]\n",
        "\n",
        "# Plotting\n",
        "plt.plot(N_values, series3_values, marker='o', linestyle='-')\n",
        "plt.title('Sum of the series vs. Number of terms')\n",
        "plt.xlabel('Number of terms (N)')\n",
        "plt.ylabel('Sum of the series')\n",
        "plt.grid(True)\n",
        "plt.show()"
      ],
      "metadata": {
        "id": "uWTjmyigX7_O"
      },
      "execution_count": null,
      "outputs": []
    },
    {
      "cell_type": "code",
      "source": [],
      "metadata": {
        "id": "ne76JI3Jfc0Y"
      },
      "execution_count": null,
      "outputs": []
    }
  ],
  "metadata": {
    "colab": {
      "provenance": [],
      "collapsed_sections": [
        "CFti6mt1Z3gj"
      ]
    },
    "kernelspec": {
      "display_name": "Python 3 (ipykernel)",
      "language": "python",
      "name": "python3"
    },
    "language_info": {
      "codemirror_mode": {
        "name": "ipython",
        "version": 3
      },
      "file_extension": ".py",
      "mimetype": "text/x-python",
      "name": "python",
      "nbconvert_exporter": "python",
      "pygments_lexer": "ipython3",
      "version": "3.10.9"
    }
  },
  "nbformat": 4,
  "nbformat_minor": 0
}