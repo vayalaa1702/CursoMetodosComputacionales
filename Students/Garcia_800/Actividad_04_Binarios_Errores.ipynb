{
  "cells": [
    {
      "cell_type": "markdown",
      "id": "6d26e874",
      "metadata": {
        "id": "6d26e874"
      },
      "source": [
        "<a href=\"https://colab.research.google.com/github/hernansalinas/autogrades/blob/main/Actividades_clase/Actividad_04_Binarios_Errores.ipynb\" target=\"_parent\"><img src=\"https://colab.research.google.com/assets/colab-badge.svg\" alt=\"Open In Colab\"/></a>\n",
        "\n",
        "\n",
        "\n",
        "# Actividad 4\n",
        "### Métodos computacionales para físicos  y astrónomos\n",
        "### Universidad de Antioquia\n",
        "### Prof: Hernan D. Salinas Jiménez\n"
      ]
    },
    {
      "cell_type": "code",
      "execution_count": 39,
      "id": "eae80e3f",
      "metadata": {
        "id": "eae80e3f",
        "outputId": "1dadc3fb-f01a-44a2-eec0-1b637670e3a3",
        "colab": {
          "base_uri": "https://localhost:8080/"
        }
      },
      "outputs": [
        {
          "output_type": "stream",
          "name": "stdout",
          "text": [
            "fatal: destination path 'autogrades' already exists and is not an empty directory.\n"
          ]
        }
      ],
      "source": [
        "!git clone https://github.com/hernansalinas/autogrades.git\n",
        "#path=\"libs\"\n",
        "path=\"autogrades/Actividades_clase/libs\"\n",
        "%run -i {path}/libUnitTest.py"
      ]
    },
    {
      "cell_type": "code",
      "source": [
        "(2**0.5)**2"
      ],
      "metadata": {
        "colab": {
          "base_uri": "https://localhost:8080/"
        },
        "id": "fRjkbG7loFyJ",
        "outputId": "30d13399-63e5-4861-f552-375af5489e80"
      },
      "id": "fRjkbG7loFyJ",
      "execution_count": 40,
      "outputs": [
        {
          "output_type": "execute_result",
          "data": {
            "text/plain": [
              "2.0000000000000004"
            ]
          },
          "metadata": {},
          "execution_count": 40
        }
      ]
    },
    {
      "cell_type": "code",
      "source": [
        "f=[1,0,0,1,0,1]\n",
        "b=\"\"\n",
        "for i in f:\n",
        "  b=b+str(i)\n",
        "b"
      ],
      "metadata": {
        "colab": {
          "base_uri": "https://localhost:8080/",
          "height": 36
        },
        "id": "j1p9ODWlyXZ9",
        "outputId": "7e344a2a-e5cb-4d50-e9fe-822d3d1288dd"
      },
      "id": "j1p9ODWlyXZ9",
      "execution_count": 41,
      "outputs": [
        {
          "output_type": "execute_result",
          "data": {
            "text/plain": [
              "'100101'"
            ],
            "application/vnd.google.colaboratory.intrinsic+json": {
              "type": "string"
            }
          },
          "metadata": {},
          "execution_count": 41
        }
      ]
    },
    {
      "cell_type": "code",
      "source": [
        "s=list(map(lambda x:str(x), f))\n"
      ],
      "metadata": {
        "id": "rk0bOFf0y2Z2"
      },
      "id": "rk0bOFf0y2Z2",
      "execution_count": 42,
      "outputs": []
    },
    {
      "cell_type": "code",
      "source": [
        "import numpy as np\n",
        "import matplotlib.pyplot as plt\n",
        "\n",
        "def error_suma(n):\n",
        "  s=0.0\n",
        "  #n=10000\n",
        "  for i in range (1, n+1):\n",
        "    s=s+0.1\n",
        "\n",
        "  expect= n*0.1\n",
        "  error=abs((expect -s))/s\n",
        "  return error\n",
        "\n",
        "N=np.array([10,100,1000,10000,100000,1000000])\n",
        "e=np.zeros(len(N))\n",
        "for i, n in enumerate(N):\n",
        "  print(error_suma(n))\n",
        "  e[i]=error_suma(n)\n",
        "    #prínt(s)"
      ],
      "metadata": {
        "colab": {
          "base_uri": "https://localhost:8080/"
        },
        "id": "qZEa1ySoo3Oi",
        "outputId": "156c4a90-2cef-4811-9307-453405a4c5f0"
      },
      "id": "qZEa1ySoo3Oi",
      "execution_count": 43,
      "outputs": [
        {
          "output_type": "stream",
          "name": "stdout",
          "text": [
            "1.1102230246251568e-16\n",
            "1.9539925233402792e-15\n",
            "1.4068746168050182e-14\n",
            "1.5882051229707238e-13\n",
            "1.884836819950664e-12\n",
            "1.332882675324496e-11\n"
          ]
        }
      ]
    },
    {
      "cell_type": "markdown",
      "id": "74f1131a",
      "metadata": {
        "id": "74f1131a"
      },
      "source": [
        "### Activity 1.0:\n",
        "\n",
        "Implement a function that get the binary representation of an integer with name mybin, the algorithm should return\n",
        "a string with 8 characters, the maximun number that represent the funcition is integer of 8 bit. The name of function is\n",
        "mybin\n",
        "\n",
        "Ejexample :\n",
        "\n",
        "b=mybin(x)\n",
        "\n",
        "b='00101000'"
      ]
    },
    {
      "cell_type": "code",
      "execution_count": 44,
      "id": "4c8dabcf",
      "metadata": {
        "id": "4c8dabcf"
      },
      "outputs": [],
      "source": [
        "##!/usr/bin/env python3\n",
        "def mybin(x):\n",
        "    print('__name__ = {}'.format(__name__))\n",
        "   # Write your code here and change the next line as required\n",
        "    return \"111\""
      ]
    },
    {
      "cell_type": "code",
      "source": [
        "a=bin(35)\n",
        "a"
      ],
      "metadata": {
        "colab": {
          "base_uri": "https://localhost:8080/",
          "height": 36
        },
        "id": "hAjfokV41LSp",
        "outputId": "c38ced41-e1b8-427c-f8e0-0177bb05a05f"
      },
      "id": "hAjfokV41LSp",
      "execution_count": 45,
      "outputs": [
        {
          "output_type": "execute_result",
          "data": {
            "text/plain": [
              "'0b100011'"
            ],
            "application/vnd.google.colaboratory.intrinsic+json": {
              "type": "string"
            }
          },
          "metadata": {},
          "execution_count": 45
        }
      ]
    },
    {
      "cell_type": "code",
      "source": [
        "int('0b100011', 2)"
      ],
      "metadata": {
        "colab": {
          "base_uri": "https://localhost:8080/"
        },
        "id": "FWbkVDG-1R3h",
        "outputId": "7902d99d-6aed-4f20-8936-5d8113ce6c94"
      },
      "id": "FWbkVDG-1R3h",
      "execution_count": 46,
      "outputs": [
        {
          "output_type": "execute_result",
          "data": {
            "text/plain": [
              "35"
            ]
          },
          "metadata": {},
          "execution_count": 46
        }
      ]
    },
    {
      "cell_type": "code",
      "source": [
        "def mybin(x):\n",
        "  N=[]\n",
        "  r=x%2\n",
        "  d=x//2\n",
        "  if r==0:\n",
        "     return r+d\n",
        "  if r!=0:\n",
        "    while r<=1 and d<=1:\n",
        "      r"
      ],
      "metadata": {
        "id": "68BC19ZWoSFd"
      },
      "id": "68BC19ZWoSFd",
      "execution_count": 47,
      "outputs": []
    },
    {
      "cell_type": "code",
      "execution_count": 48,
      "id": "885be6fb",
      "metadata": {
        "id": "885be6fb",
        "outputId": "35478e14-945c-4a9e-f197-15fb5abc0ddc",
        "colab": {
          "base_uri": "https://localhost:8080/"
        }
      },
      "outputs": [
        {
          "output_type": "stream",
          "name": "stdout",
          "text": [
            "La función no ha sido definda o el numero de argumento no es el adecuado\n",
            "00100011\n"
          ]
        }
      ],
      "source": [
        "%run -i {path}/Act_02/test01.py\n",
        "def mybin(x):\n",
        "    b = ''\n",
        "    for i in range(8):\n",
        "        b = str(x % 2) + b\n",
        "        x //= 2\n",
        "    return b\n",
        "\n",
        "print(mybin(35))"
      ]
    },
    {
      "cell_type": "markdown",
      "id": "e622b7b5",
      "metadata": {
        "id": "e622b7b5"
      },
      "source": [
        "### Activity 2.0:\n",
        "\n",
        "With the binary representation please try to implement the formula to recover the number.\n",
        "\n",
        "Hint: Use as input the binary representation as a string and invert its order\n",
        "\n",
        "```\n",
        "number32(BIN):\n",
        "\n",
        "```\n",
        "\n",
        "Where BIN is a string with the binary number\n",
        "\n",
        "Example:\n",
        "\n",
        "\n",
        "Test your solution for the next number:\n",
        "\n",
        "number32(\"00111110001000000000001000010000\")"
      ]
    },
    {
      "cell_type": "code",
      "execution_count": 49,
      "id": "5f3c6506",
      "metadata": {
        "id": "5f3c6506",
        "colab": {
          "base_uri": "https://localhost:8080/"
        },
        "outputId": "c32b41b5-773c-4586-d12d-698f772835d3"
      },
      "outputs": [
        {
          "output_type": "execute_result",
          "data": {
            "text/plain": [
              "0.15625786781311035"
            ]
          },
          "metadata": {},
          "execution_count": 49
        }
      ],
      "source": [
        "\n",
        "\n",
        "def number32(a):\n",
        "  ra=a[::-1]\n",
        "  s=int(ra[31])\n",
        "  #exponente\n",
        "  e=0\n",
        "  for i in range (0,8):\n",
        "    e += int(ra[23+i])*2**i\n",
        "\n",
        "  #fraccion\n",
        "  decimal= 1\n",
        "  for j in range (0,23):\n",
        "    decimal += int(ra[j]) / (2**(23 - j))\n",
        "\n",
        "\n",
        "  #r\n",
        "  r = (((-1)**(s)) / (2**(127 - e))) * decimal\n",
        "  return r\n",
        "\n",
        "number32(\"00111110001000000000001000010000\")"
      ]
    },
    {
      "cell_type": "markdown",
      "source": [
        " Exponete\n",
        " $$e = \\sum_{i=0}^7 b_{23+i}2^i$$\n"
      ],
      "metadata": {
        "id": "bZI6hoXoYNYd"
      },
      "id": "bZI6hoXoYNYd"
    },
    {
      "cell_type": "markdown",
      "source": [
        " fraccion\n",
        " $$\\left( 1 + \\sum_{i=0}^{22}\\frac{b_{i}}{2^{23-i}} \\right)$$"
      ],
      "metadata": {
        "id": "gx-JWBGHPfa8"
      },
      "id": "gx-JWBGHPfa8"
    },
    {
      "cell_type": "markdown",
      "source": [
        " $$r = \\frac{(-1)^s}{2^{127-e}} \\left( 1 + \\sum_{i=0}^{22}\\frac{b_{i}}{2^{23-i}} \\right)$$\n"
      ],
      "metadata": {
        "id": "uYGvZ49YPfu8"
      },
      "id": "uYGvZ49YPfu8"
    },
    {
      "cell_type": "code",
      "execution_count": 50,
      "id": "155ffd7f",
      "metadata": {
        "id": "155ffd7f",
        "outputId": "c6e43a13-fd13-4072-d02b-e3d69031d020",
        "colab": {
          "base_uri": "https://localhost:8080/"
        }
      },
      "outputs": [
        {
          "output_type": "stream",
          "name": "stdout",
          "text": [
            "La función no ha sido definda o el numero de argumento no es el adecuado\n"
          ]
        },
        {
          "output_type": "execute_result",
          "data": {
            "text/plain": [
              "0.15625786781311035"
            ]
          },
          "metadata": {},
          "execution_count": 50
        }
      ],
      "source": [
        "%run -i {path}/Act_02/test02.py\n",
        "\n",
        "def number32(a):\n",
        "  ra=a[::-1]\n",
        "  s=int(ra[31])\n",
        "  #exponente\n",
        "  e=0\n",
        "  for i in range (0,8):\n",
        "    e += int(ra[23+i])*2**i\n",
        "\n",
        "  #fraccion\n",
        "  decimal= 1\n",
        "  for j in range (0,23):\n",
        "    decimal += int(ra[j]) / (2**(23 - j))\n",
        "\n",
        "\n",
        "  #r\n",
        "  r = (((-1)**(s)) / (2**(127 - e))) * decimal\n",
        "  return r\n",
        "\n",
        "number32(\"00111110001000000000001000010000\")"
      ]
    },
    {
      "cell_type": "markdown",
      "id": "d11e596d",
      "metadata": {
        "id": "d11e596d"
      },
      "source": [
        "### Activity 3.0:\n",
        "1. Write a python script that calculates the double precision number represented by a 64-bits binary.\n",
        "\n",
        "the name of function should be:\n",
        "```\n",
        "number64(BIN):\n",
        "\n",
        "```\n",
        "\n",
        "2. What is the number represented by:\n",
        "\n",
        "BIN=\"0 10000000011 1011100100001111111111111111111111111111111111111111\""
      ]
    },
    {
      "cell_type": "markdown",
      "source": [
        "\n",
        "Fracción:\n",
        "$$1 + \\sum_{i=1}^{52}b_{52-i}2^{-i}$$\n",
        "\n",
        "Exponente:\n",
        "$$e = \\sum_{i=0}^{10} b_{52+i}2^i$$\n",
        "\n",
        "\n",
        "$$r = (-1)^s\\times \\left( 1 + \\sum_{i=1}^{52}b_{52-i}2^{-i} \\right)\\times 2^{e-1023}$$"
      ],
      "metadata": {
        "id": "fDGHFBb1YXDB"
      },
      "id": "fDGHFBb1YXDB"
    },
    {
      "cell_type": "code",
      "execution_count": 51,
      "id": "b0922a1d",
      "metadata": {
        "id": "b0922a1d"
      },
      "outputs": [],
      "source": [
        "def number64(BIN):\n",
        "\n",
        "    return None\n"
      ]
    },
    {
      "cell_type": "code",
      "execution_count": 58,
      "id": "cd48a992",
      "metadata": {
        "scrolled": false,
        "id": "cd48a992",
        "outputId": "6e01f9b4-48cb-4d12-e219-bc6cc6fbfc6a",
        "colab": {
          "base_uri": "https://localhost:8080/",
          "height": 106
        }
      },
      "outputs": [
        {
          "output_type": "error",
          "ename": "SyntaxError",
          "evalue": "unmatched ')' (test03.py, line 28)",
          "traceback": [
            "\u001b[0;36m  File \u001b[0;32m\"/content/autogrades/Actividades_clase/libs/Act_02/test03.py\"\u001b[0;36m, line \u001b[0;32m28\u001b[0m\n\u001b[0;31m    True)\u001b[0m\n\u001b[0m        ^\u001b[0m\n\u001b[0;31mSyntaxError\u001b[0m\u001b[0;31m:\u001b[0m unmatched ')'\n"
          ]
        }
      ],
      "source": [
        "%run -i {path}/Act_02/test03.py\n",
        "def number64(b):\n",
        "  rb=b[::-1]\n",
        "  s=int(rb[63])\n",
        "  #exponente\n",
        "  e=0\n",
        "  for i in range (0,11):\n",
        "    e += int(rb[52+i])*2**i\n",
        "\n",
        "  #fraccion\n",
        "  decimal= 1\n",
        "  for j in range (0,53):\n",
        "    decimal += int(rb[52-j])*2**-i\n",
        "\n",
        "\n",
        "  #r\n",
        "  r = (((-1)**(s)) * decimal *  (2**(e-1023)))\n",
        "  return r"
      ]
    },
    {
      "cell_type": "code",
      "source": [
        "def number64(b):\n",
        "  rb=b[::-1]\n",
        "  s=int(rb[63])\n",
        "  #exponente\n",
        "  e=0\n",
        "  for i in range (0,11):\n",
        "    e += int(rb[52+i])*2**i\n",
        "\n",
        "  #fraccion\n",
        "  decimal= 1\n",
        "  for j in range (1,53):\n",
        "    decimal += int(rb[52-j])*2**-j\n",
        "\n",
        "\n",
        "  #r\n",
        "  r = (((-1)**(s)) * decimal *  (2**(e-1023)))\n",
        "  return r\n",
        "\n",
        "\n",
        "number64('0100000000111011100100001111111111111111111111111111111111111111')\n",
        "\n"
      ],
      "metadata": {
        "colab": {
          "base_uri": "https://localhost:8080/"
        },
        "id": "uybvQCAycj91",
        "outputId": "e3b38999-bb82-431d-b541-46cc82863eab"
      },
      "id": "uybvQCAycj91",
      "execution_count": 61,
      "outputs": [
        {
          "output_type": "execute_result",
          "data": {
            "text/plain": [
              "27.566406249999996"
            ]
          },
          "metadata": {},
          "execution_count": 61
        }
      ]
    }
  ],
  "metadata": {
    "kernelspec": {
      "display_name": "Python 3 (ipykernel)",
      "language": "python",
      "name": "python3"
    },
    "language_info": {
      "codemirror_mode": {
        "name": "ipython",
        "version": 3
      },
      "file_extension": ".py",
      "mimetype": "text/x-python",
      "name": "python",
      "nbconvert_exporter": "python",
      "pygments_lexer": "ipython3",
      "version": "3.10.9"
    },
    "colab": {
      "provenance": []
    }
  },
  "nbformat": 4,
  "nbformat_minor": 5
}