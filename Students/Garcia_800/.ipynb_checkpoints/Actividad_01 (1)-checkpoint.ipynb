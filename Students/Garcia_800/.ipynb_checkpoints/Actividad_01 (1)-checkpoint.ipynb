{
 "cells": [
  {
   "cell_type": "code",
   "execution_count": 17,
   "metadata": {
    "colab": {
     "base_uri": "https://localhost:8080/"
    },
    "id": "lgVQQXtzuD5o",
    "outputId": "95c4c40e-6ae1-4418-99b8-84244405bc9b"
   },
   "outputs": [
    {
     "name": "stdout",
     "output_type": "stream",
     "text": [
      "Writing Actividad_01_enteros.py\n"
     ]
    }
   ],
   "source": [
    "%%writefile Actividad_01_enteros.py\n",
    "#!/usr/bin/python\n",
    "def co_re(a,b):\n",
    "    if a > 0 and b>0:\n",
    "        print(a/b)\n",
    "        print(a%b)\n",
    "co_re(10, 5)\n"
   ]
  },
  {
   "cell_type": "code",
   "execution_count": 18,
   "metadata": {
    "colab": {
     "base_uri": "https://localhost:8080/"
    },
    "id": "dnZOX8IImOjt",
    "outputId": "ec8fbe76-8ef1-41e3-ba4b-76c5ecb8bfe0"
   },
   "outputs": [
    {
     "name": "stdout",
     "output_type": "stream",
     "text": [
      "Writing Actividad_01_doblefactorial.py\n"
     ]
    }
   ],
   "source": [
    "%%writefile Actividad_01_doblefactorial.py\n",
    "#!/usr/bin/python\n",
    "def doble_factorial(n):\n",
    "    s=n\n",
    "    while(n>2):\n",
    "        n=n-2\n",
    "        s=s*n\n",
    "    return(s)\n",
    "result=doble_factorial(9)\n",
    "print(f\"el doble factorial de {n} es {result}\")"
   ]
  },
  {
   "cell_type": "code",
   "execution_count": 19,
   "metadata": {
    "colab": {
     "base_uri": "https://localhost:8080/"
    },
    "id": "CgqWZFZUg8pO",
    "outputId": "dd5b7e7a-81eb-4214-97f7-fec7ca27c770"
   },
   "outputs": [
    {
     "name": "stdout",
     "output_type": "stream",
     "text": [
      "Writing Actividad_01_lucas.py\n"
     ]
    }
   ],
   "source": [
    "%%writefile Actividad_01_lucas.py\n",
    "#!/usr/bin/python\n",
    "def sucesion_lucas(n):\n",
    "    if n == 0:\n",
    "        return 2\n",
    "    if n == 1:\n",
    "        return 1\n",
    "    else:\n",
    "      return sucesion_lucas(n-1) + sucesion_lucas(n-2)\n",
    "\n",
    "for i in range(5):\n",
    "    print(sucesion_lucas(i))\n"
   ]
  },
  {
   "cell_type": "code",
   "execution_count": 20,
   "metadata": {
    "colab": {
     "base_uri": "https://localhost:8080/"
    },
    "id": "S3FSg-fAprVs",
    "outputId": "afe08f3c-8c1b-4913-8377-a4181b89d421"
   },
   "outputs": [
    {
     "name": "stdout",
     "output_type": "stream",
     "text": [
      "Writing Actividad_01_binomial.py\n"
     ]
    }
   ],
   "source": [
    "%%writefile Actividad_01_binomial.py\n",
    "#!/usr/bin/python\n",
    "from itertools import combinations\n",
    "def binomial(n,k):\n",
    "    L=[]\n",
    "    for i in range(0,n):\n",
    "        L.append(i)\n",
    "    combinaciones=list(combinations(L,k))\n",
    "    return len(combinaciones)\n",
    "\n",
    "binomial(6,4)"
   ]
  }
 ],
 "metadata": {
  "colab": {
   "provenance": []
  },
  "kernelspec": {
   "display_name": "Python 3 (ipykernel)",
   "language": "python",
   "name": "python3"
  },
  "language_info": {
   "codemirror_mode": {
    "name": "ipython",
    "version": 3
   },
   "file_extension": ".py",
   "mimetype": "text/x-python",
   "name": "python",
   "nbconvert_exporter": "python",
   "pygments_lexer": "ipython3",
   "version": "3.10.9"
  }
 },
 "nbformat": 4,
 "nbformat_minor": 1
}
