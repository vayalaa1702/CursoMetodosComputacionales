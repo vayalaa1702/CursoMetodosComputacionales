{
 "cells": [
  {
   "cell_type": "markdown",
   "metadata": {
    "id": "6_d6zi9_xof3"
   },
   "source": [
    "###1. Escribir un programa que pida al usuario dos números enteros , y muestre por pantalla el cociente y el residuo entre y ."
   ]
  },
  {
   "cell_type": "code",
   "execution_count": 1,
   "metadata": {
    "colab": {
     "base_uri": "https://localhost:8080/"
    },
    "id": "N4t_BLXjdJ6P",
    "outputId": "89b36f74-eca9-48f0-c269-482b84e45c08"
   },
   "outputs": [
    {
     "name": "stdout",
     "output_type": "stream",
     "text": [
      "Escriba el primer numero entero: 5\n",
      "Escriba el segundo numero entero: 1\n",
      "Divisiòn: 5.0\n",
      "Residuo 0\n"
     ]
    }
   ],
   "source": [
    "a=int(input(\"Escriba el primer numero entero: \"))\n",
    "b=int(input(\"Escriba el segundo numero entero: \"))\n",
    "if type(a)==(int) and type(b)==(int):\n",
    "  x=a/b\n",
    "  y=a%b\n",
    "  print(\"Divisiòn:\",x)\n",
    "  print(\"Residuo\",y)\n",
    "else:\n",
    "  print(\"Debe ser de tipo entero\")"
   ]
  },
  {
   "cell_type": "markdown",
   "metadata": {
    "id": "s9Ba4S8axPwn"
   },
   "source": [
    "### 2. Crea una función llamada doble_factorial que reciba un parámetro llamado n. La función debe devolver el doble factorial de n, que se define como el producto de todos los números naturales desde n hasta 1 que tienen el mismo paridad que n. Por ejemplo, si n es 5, la función debe devolver 15, que es el resultado de 5 x 3 x 1. Llama a la función doble_factorial con diferentes valores para el parámetro n, como 6, 7 o 8."
   ]
  },
  {
   "cell_type": "code",
   "execution_count": 2,
   "metadata": {
    "colab": {
     "base_uri": "https://localhost:8080/"
    },
    "id": "FO3J4UIRcvYF",
    "outputId": "253e54c9-9c4e-4edd-a940-70ff9d23f6b6"
   },
   "outputs": [
    {
     "name": "stdout",
     "output_type": "stream",
     "text": [
      "El doble factorial de 5 es 15\n",
      "El doble factorial de 6 es 48\n",
      "El doble factorial de 8 es 384\n"
     ]
    }
   ],
   "source": [
    "def doble_factorial(n):\n",
    "    s=n\n",
    "    while(n>2):\n",
    "        n=n-2\n",
    "        s=s*n\n",
    "    return(s)\n",
    "n=5\n",
    "r= doble_factorial(n)\n",
    "print(\"El doble factorial de\",n, \"es\", r)\n",
    "n=6\n",
    "r= doble_factorial(n)\n",
    "print(\"El doble factorial de\",n, \"es\", r)\n",
    "n=8\n",
    "r= doble_factorial(n)\n",
    "print(\"El doble factorial de\",n, \"es\", r)"
   ]
  },
  {
   "cell_type": "markdown",
   "metadata": {
    "id": "EUEUntxoyLJs"
   },
   "source": [
    "###3. Crea una función llamada lucas que reciba un parámetro llamado n. La función debe devolver el n-ésimo término de la sucesión de Lucas, que se define de forma similar a la sucesión de Fibonacci, pero con los dos primeros términos iguales a 2 y 1. Por ejemplo, si n es 3, la función debe devolver 4, que es el tercer término de la sucesión. Llama a la función lucas con diferentes valores para el parámetro n, como 9, 10 o 11."
   ]
  },
  {
   "cell_type": "code",
   "execution_count": 3,
   "metadata": {
    "colab": {
     "base_uri": "https://localhost:8080/"
    },
    "id": "A8H7gEC5cuLu",
    "outputId": "01be7c57-87b9-437f-88e5-cce01806e521"
   },
   "outputs": [
    {
     "name": "stdout",
     "output_type": "stream",
     "text": [
      "Escribe el numero de lucas que deseas: 9\n",
      "Esta es la secuencia del numero de lucas de 9 en esta lista: [1, 3, 4, 7, 11, 18, 29, 47, 76]\n",
      "El numero de lucas de L(9) = 76\n"
     ]
    }
   ],
   "source": [
    "n=int(input(\"Escribe el numero de lucas que deseas: \"))\n",
    "def numero_de_lucas(n):\n",
    "  sl=0\n",
    "  s=[1,3]\n",
    "  if n==0:\n",
    "    print(2)\n",
    "  elif n==1:\n",
    "    print(1)\n",
    "  else:\n",
    "    for i in range(1,n-1):\n",
    "      sl=s[i]+s[i-1]\n",
    "      s.append(sl)\n",
    "    print(\"Esta es la secuencia del numero de lucas de\",n,\"en esta lista:\",s)\n",
    "    print(f\"El numero de lucas de L({n}) =\",s[i+1])\n",
    "\n",
    "numero_de_lucas(n)"
   ]
  },
  {
   "cell_type": "markdown",
   "metadata": {
    "id": "JIWdgWbM0o79"
   },
   "source": [
    "###4.Crea una función llamada binomial que reciba dos parámetros llamados n y k. La función debe devolver el coeficiente binomial de n y k, que se define como el número de formas de elegir k elementos distintos de un conjunto de n elementos. Por ejemplo, si n es 5 y k es 3, la función debe devolver 10, ya que hay diez formas de elegir tres elementos distintos de un conjunto de cinco elementos. Llama a la función binomial con diferentes valores para los parámetros n y k, como 6 y 4, o 7 y 2."
   ]
  },
  {
   "cell_type": "code",
   "execution_count": 4,
   "metadata": {
    "colab": {
     "base_uri": "https://localhost:8080/"
    },
    "id": "cvxTDO58H3zK",
    "outputId": "0cd103ca-75a8-4350-ee35-bcaa7cd80308"
   },
   "outputs": [
    {
     "name": "stdout",
     "output_type": "stream",
     "text": [
      "Escribe el numero total de elementos del conjunto: 9\n",
      "Escribe el numero de elementos que deseas elegir de ese conjunto: 87\n"
     ]
    },
    {
     "ename": "OverflowError",
     "evalue": "cannot fit 'int' into an index-sized integer",
     "output_type": "error",
     "traceback": [
      "\u001b[0;31m---------------------------------------------------------------------------\u001b[0m",
      "\u001b[0;31mOverflowError\u001b[0m                             Traceback (most recent call last)",
      "Cell \u001b[0;32mIn[4], line 22\u001b[0m\n\u001b[1;32m     19\u001b[0m   l\u001b[38;5;241m=\u001b[39mx\u001b[38;5;241m/\u001b[39m((h)\u001b[38;5;241m*\u001b[39my)\n\u001b[1;32m     20\u001b[0m   \u001b[38;5;28mprint\u001b[39m(\u001b[38;5;124m\"\u001b[39m\u001b[38;5;124mEl número de formas diferentes en que se pueden seleccionar de\u001b[39m\u001b[38;5;124m\"\u001b[39m,k,\u001b[38;5;124m\"\u001b[39m\u001b[38;5;124melementos de un conjunto de\u001b[39m\u001b[38;5;124m\"\u001b[39m,n,\u001b[38;5;124m\"\u001b[39m\u001b[38;5;124melementos es:\u001b[39m\u001b[38;5;124m\"\u001b[39m,l)\n\u001b[0;32m---> 22\u001b[0m \u001b[43mbinomial\u001b[49m\u001b[43m(\u001b[49m\u001b[43mn\u001b[49m\u001b[43m,\u001b[49m\u001b[43mk\u001b[49m\u001b[43m)\u001b[49m\n",
      "Cell \u001b[0;32mIn[4], line 19\u001b[0m, in \u001b[0;36mbinomial\u001b[0;34m(n, k)\u001b[0m\n\u001b[1;32m     17\u001b[0m z\u001b[38;5;241m=\u001b[39mn\u001b[38;5;241m-\u001b[39mk\n\u001b[1;32m     18\u001b[0m h\u001b[38;5;241m=\u001b[39mfactorial1(z)\n\u001b[0;32m---> 19\u001b[0m l\u001b[38;5;241m=\u001b[39mx\u001b[38;5;241m/\u001b[39m(\u001b[43m(\u001b[49m\u001b[43mh\u001b[49m\u001b[43m)\u001b[49m\u001b[38;5;241;43m*\u001b[39;49m\u001b[43my\u001b[49m)\n\u001b[1;32m     20\u001b[0m \u001b[38;5;28mprint\u001b[39m(\u001b[38;5;124m\"\u001b[39m\u001b[38;5;124mEl número de formas diferentes en que se pueden seleccionar de\u001b[39m\u001b[38;5;124m\"\u001b[39m,k,\u001b[38;5;124m\"\u001b[39m\u001b[38;5;124melementos de un conjunto de\u001b[39m\u001b[38;5;124m\"\u001b[39m,n,\u001b[38;5;124m\"\u001b[39m\u001b[38;5;124melementos es:\u001b[39m\u001b[38;5;124m\"\u001b[39m,l)\n",
      "\u001b[0;31mOverflowError\u001b[0m: cannot fit 'int' into an index-sized integer"
     ]
    }
   ],
   "source": [
    "def factorial1(n):\n",
    "\n",
    "  if n<0:\n",
    "    return(\"el número no puede ser negativo\")\n",
    "  elif type(n)==float:\n",
    "    return(\"el número no puede ser real\")\n",
    "  else:\n",
    "    f=1\n",
    "    for i in range(n):\n",
    "      f*=i+1\n",
    "    return(f)\n",
    "n=int(input(\"Escribe el numero total de elementos del conjunto: \"))\n",
    "k=int(input(\"Escribe el numero de elementos que deseas elegir de ese conjunto: \"))\n",
    "def binomial (n,k):\n",
    "  x=factorial1(n)\n",
    "  y=factorial1(k)\n",
    "  z=n-k\n",
    "  h=factorial1(z)\n",
    "  l=x/((h)*y)\n",
    "  print(\"El número de formas diferentes en que se pueden seleccionar de\",k,\"elementos de un conjunto de\",n,\"elementos es:\",l)\n",
    "\n",
    "binomial(n,k)"
   ]
  },
  {
   "cell_type": "code",
   "execution_count": 48,
   "metadata": {
    "colab": {
     "base_uri": "https://localhost:8080/"
    },
    "id": "VLkco1aFITAJ",
    "outputId": "5aabcc95-9003-48b8-f2a7-f3b9152df8e8"
   },
   "outputs": [
    {
     "data": {
      "text/plain": [
       "3.0"
      ]
     },
     "execution_count": 48,
     "metadata": {},
     "output_type": "execute_result"
    }
   ],
   "source": [
    "\n",
    "\n"
   ]
  },
  {
   "cell_type": "code",
   "execution_count": null,
   "metadata": {
    "id": "Yy8WN0IZJC9t"
   },
   "outputs": [],
   "source": []
  }
 ],
 "metadata": {
  "colab": {
   "provenance": []
  },
  "kernelspec": {
   "display_name": "Python 3 (ipykernel)",
   "language": "python",
   "name": "python3"
  },
  "language_info": {
   "codemirror_mode": {
    "name": "ipython",
    "version": 3
   },
   "file_extension": ".py",
   "mimetype": "text/x-python",
   "name": "python",
   "nbconvert_exporter": "python",
   "pygments_lexer": "ipython3",
   "version": "3.10.9"
  }
 },
 "nbformat": 4,
 "nbformat_minor": 1
}
