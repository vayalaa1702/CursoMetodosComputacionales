{
 "cells": [
  {
   "cell_type": "code",
   "execution_count": 1,
   "id": "8e145748",
   "metadata": {
    "deletable": false,
    "editable": false
   },
   "outputs": [],
   "source": [
    "# Initialize Otter\n",
    "import otter\n",
    "grader = otter.Notebook(\"test1.ipynb\")"
   ]
  },
  {
   "cell_type": "markdown",
   "id": "8a7d1298",
   "metadata": {},
   "source": [
    "<a href=\"https://colab.research.google.com/github/hernansalinas/autogradesMetodosComputacionales/blob/main/Actividades_clase/actividad03/test1.ipynb\" target=\"_parent\"><img src=\"https://colab.research.google.com/assets/colab-badge.svg\" alt=\"Open In Colab\"/></a>"
   ]
  },
  {
   "cell_type": "code",
   "execution_count": 1,
   "id": "54e59a67",
   "metadata": {},
   "outputs": [],
   "source": [
    "#import otter\n",
    "import pandas as pd\n",
    "import numpy as np\n",
    "%matplotlib inline\n",
    "import otter\n",
    "#grader = otter.Notebook()"
   ]
  },
  {
   "cell_type": "markdown",
   "id": "02469dfd",
   "metadata": {
    "deletable": false,
    "editable": false
   },
   "source": [
    "**Question 1:** Escribir una función llamada `promedio` que retorne el promedio de una arrray de numpy "
   ]
  },
  {
   "cell_type": "code",
   "execution_count": null,
   "id": "0921bc33",
   "metadata": {
    "tags": []
   },
   "outputs": [],
   "source": [
    "def promedio(x):\n",
    "    ..."
   ]
  },
  {
   "cell_type": "code",
   "execution_count": null,
   "id": "9690ece6",
   "metadata": {
    "deletable": false,
    "editable": false
   },
   "outputs": [],
   "source": [
    "grader.check(\"q1\")"
   ]
  },
  {
   "cell_type": "markdown",
   "id": "2cac85e0",
   "metadata": {
    "deletable": false,
    "editable": false
   },
   "source": [
    "**Question 2:** Create a DataFrame mirroring the table below and assign this to `data`. Then group by the `flavor` column and find the mean price for each flavor; assign this **series** to `price_by_flavor`.\n",
    "\n",
    "| flavor | scoops | price |\n",
    "|-----|-----|-----|\n",
    "| chocolate | 1 | 2 |\n",
    "| vanilla | 1 | 1.5 |\n",
    "| chocolate | 2 | 3 |\n",
    "| strawberry | 1 | 2 |\n",
    "| strawberry | 3 | 4 |\n",
    "| vanilla | 2 | 2 |\n",
    "| mint | 1 | 4 |\n",
    "| mint | 2 | 5 |\n",
    "| chocolate | 3 | 5 |"
   ]
  },
  {
   "cell_type": "code",
   "execution_count": null,
   "id": "038ac89e",
   "metadata": {
    "tags": []
   },
   "outputs": [],
   "source": [
    "df=pd.read_excel(\"https://docs.google.com/spreadsheets/d/e/2PACX-1vSdJD5q-o-D3CriPHfkio4JJu0l4BJG4IIDTjREi2ytCUnT2CPLh5061vz1tAUZ92XQDOc8m_doks98/pub?output=xlsx\")\n",
    "df=df.set_index(df.flavor)\n",
    "df"
   ]
  },
  {
   "cell_type": "code",
   "execution_count": null,
   "id": "56845dfd-d2a4-4b83-afe0-120abccc661d",
   "metadata": {},
   "outputs": [],
   "source": [
    "data = ...\n",
    "price_by_flavor = ...\n",
    "price_by_flavor"
   ]
  },
  {
   "cell_type": "code",
   "execution_count": null,
   "id": "320d74f7",
   "metadata": {
    "deletable": false,
    "editable": false
   },
   "outputs": [],
   "source": [
    "grader.check(\"q2\")"
   ]
  },
  {
   "cell_type": "markdown",
   "id": "54ec00f8",
   "metadata": {
    "deletable": false,
    "editable": false
   },
   "source": [
    "<!-- BEGIN QUESTION -->\n",
    "\n",
    "**Question 3:** Create a barplot of `price_by_flavor`."
   ]
  },
  {
   "cell_type": "code",
   "execution_count": null,
   "id": "179e88a4",
   "metadata": {
    "tags": []
   },
   "outputs": [],
   "source": [
    "..."
   ]
  },
  {
   "cell_type": "markdown",
   "id": "8c071261",
   "metadata": {
    "deletable": false,
    "editable": false
   },
   "source": [
    "<!-- END QUESTION -->\n",
    "\n",
    "<!-- BEGIN QUESTION -->\n",
    "\n",
    "**Question 4:** What do you notice about the bar plot?"
   ]
  },
  {
   "cell_type": "markdown",
   "id": "bc4f0c42",
   "metadata": {},
   "source": [
    "_Type your answer here, replacing this text._"
   ]
  },
  {
   "cell_type": "markdown",
   "id": "ef67c658",
   "metadata": {
    "deletable": false,
    "editable": false
   },
   "source": [
    "<!-- END QUESTION -->\n",
    "\n"
   ]
  },
  {
   "cell_type": "markdown",
   "id": "71de5ae9",
   "metadata": {
    "deletable": false,
    "editable": false
   },
   "source": [
    "## Submission\n",
    "\n",
    "Make sure you have run all cells in your notebook in order before running the cell below, so that all images/graphs appear in the output. The cell below will generate a zip file for you to submit. **Please save before exporting!**\n",
    "\n",
    "These are some submission instructions."
   ]
  },
  {
   "cell_type": "code",
   "execution_count": null,
   "id": "bfc65991",
   "metadata": {
    "deletable": false,
    "editable": false
   },
   "outputs": [],
   "source": [
    "# Save your notebook first, then run this cell to export your submission.\n",
    "grader.export(run_tests=True)"
   ]
  },
  {
   "cell_type": "markdown",
   "id": "d7ade719",
   "metadata": {},
   "source": [
    " "
   ]
  }
 ],
 "metadata": {
  "kernelspec": {
   "display_name": "Python 3 (ipykernel)",
   "language": "python",
   "name": "python3"
  },
  "language_info": {
   "codemirror_mode": {
    "name": "ipython",
    "version": 3
   },
   "file_extension": ".py",
   "mimetype": "text/x-python",
   "name": "python",
   "nbconvert_exporter": "python",
   "pygments_lexer": "ipython3",
   "version": "3.10.9"
  },
  "otter": {
   "OK_FORMAT": true,
   "tests": {
    "q1": {
     "name": "q1",
     "points": null,
     "suites": [
      {
       "cases": [
        {
         "code": ">>> x_ = np.arange(1, 100)\n>>> promedio(x_) == x_.mean()\nTrue",
         "hidden": false,
         "locked": false
        }
       ],
       "scored": true,
       "setup": "",
       "teardown": "",
       "type": "doctest"
      }
     ]
    },
    "q2": {
     "name": "q2",
     "points": null,
     "suites": [
      {
       "cases": [
        {
         "code": ">>> len(data['flavor'].unique()) == 4\nTrue",
         "hidden": false,
         "locked": false
        },
        {
         "code": ">>> for l in ['chocolate', 'vanilla', 'strawberry', 'mint']:\n...     assert l in data['flavor'].unique()\n",
         "hidden": false,
         "locked": false
        },
        {
         "code": ">>> assert type(price_by_flavor) == pd.Series\n",
         "hidden": false,
         "locked": false
        },
        {
         "code": ">>> assert len(price_by_flavor) == 4\n",
         "hidden": false,
         "locked": false
        }
       ],
       "scored": true,
       "setup": "",
       "teardown": "",
       "type": "doctest"
      }
     ]
    }
   }
  }
 },
 "nbformat": 4,
 "nbformat_minor": 5
}
