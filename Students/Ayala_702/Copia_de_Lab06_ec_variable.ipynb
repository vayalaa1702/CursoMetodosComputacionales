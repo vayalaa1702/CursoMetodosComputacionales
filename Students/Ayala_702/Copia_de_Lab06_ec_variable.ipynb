{
  "cells": [
    {
      "cell_type": "markdown",
      "id": "39502ab7",
      "metadata": {
        "id": "39502ab7"
      },
      "source": [
        "<a href=\"https://colab.research.google.com/github/hernansalinas/autogrades/blob/main/Laboratorios_Taller/Lab06_ec_variable.ipynb\" target=\"_parent\"><img src=\"https://colab.research.google.com/assets/colab-badge.svg\" alt=\"Open In Colab\"/></a>"
      ]
    },
    {
      "cell_type": "markdown",
      "id": "7efe0541",
      "metadata": {
        "id": "7efe0541"
      },
      "source": [
        "## Ecuaciones de una variable:\n",
        "\n",
        "Para los siguiente problemas:\n",
        "\n",
        "\n",
        "1.0 ¿Para que ángulo el area del segmento circular es igual a un cuarto del area de la circunferencia?\n",
        "\n",
        "- Muestre que la expresión que permite resolver el problema:\n",
        "\n",
        "\n",
        "\\begin{equation}\n",
        "\\theta - \\sin \\theta = \\frac{\\pi}{2}\n",
        "\\end{equation}\n",
        "\n",
        "\n",
        "- ¿Construya una grafica para theta?,  Alrededor de que punto esta solución.(Para este punto se recomienda emplear un data frame de pandas )\n",
        "\n",
        "- Emplee el metodo de biseccion, punto fijo,  newton y secante  para comprobar la solución intuida del apartado anterior.\n",
        "\n",
        "\n",
        "2.0 An object falling vertically through the air is subjected to viscous resistance as well as to the force\n",
        "of gravity. Assume that an object with mass m is dropped from a height s0 and that the height of the\n",
        "object after t seconds is\n",
        "\n",
        "\\begin{equation}\n",
        "s(t)=s_0 - \\frac{mg}{k}t+\\frac{m^2g}{k}t(1-e^{-kt/m})\n",
        "\\end{equation}\n",
        "\n",
        "where $g = 32.17 ft/s2$ and $k$ represents the coefficient of air resistance in $lbs/ft$. Suppose $s0 = 300 ft$,\n",
        "$m = 0.25$ lb, and $k = 0.1$ lbs/ft. Find, to within $0.01$ s, the time it takes this quarter-pounder to hit the\n",
        "ground\n",
        "\n",
        "- Emplee el metodo de biseccion, punto fijo,  newton y secante  para comprobrar la solución.\n",
        "\n",
        "\n",
        "\n",
        "3.0 En la teoria de campo medio, La magnetización como función de la temperatura de un material magnético  puede ser calculada como:\n",
        "\n",
        "\\begin{equation}\n",
        "m(T) = \\tanh\\left( \\frac{m(T)}{T} \\right)\n",
        "\\end{equation}\n",
        "\n",
        "donde m y T son la magnetizacion y temperatura reducida respectivamente\n",
        "\n",
        "Para T = 0.5, determine:\n",
        "\n",
        "a. La magnetización reducida empleando el metodo de la secante(Muestre su resultado con 4 cifras)\n",
        "\n",
        "b. Valide su respuestado con el metodo de punto fijo.\n",
        "(Muestre su resultado con 4 cifras)\n",
        "\n",
        "d. Defina T = np.linspace(0.1,0.99,100), y emple el metodo de la secante para construir un gráfico de magnetización reducida como función de la temperatura para los  100 valores  de T.\n",
        "\n",
        "\n",
        "\n",
        "5. Construir un fractal empleando el metodo de Newton-Raphson,\n",
        "(Reproducir código y entender)\n",
        "\\begin{equation}\n",
        "z_{n+1} = z_n -a \\frac{f(z)}{f'(z)}\n",
        "\\end{equation}\n",
        "\n",
        "\n",
        "\n",
        "\\begin{equation}\n",
        "f'(z) = \\frac{ f(z+h)+f(z) }{h}\n",
        "\\end{equation}\n",
        "\n",
        "\n",
        "Replicar el codigo y entender.\n",
        "\n",
        "\n",
        "```\n",
        "\n",
        "import numpy as np\n",
        "import matplotlib.pylab as plt\n",
        "from PIL import Image\n",
        "\n",
        "Npx_X = 80 #Numero de pixeles en x\n",
        "Npx_Y = 80 #Numero de pixeles en y\n",
        "\n",
        "image = Image.new(\"RGB\", (Npx_X, Npx_Y)) #Creacion de la imagen inicial\n",
        "\n",
        "npx = np.arange(0, Npx_X)\n",
        "npy = np.arange(0, Npx_Y)\n",
        "\n",
        "xmin = -1\n",
        "xmax = 1\n",
        "ymin = -1\n",
        "ymax = 1\n",
        "#Transformación al plano complejo en un rectangulo (xmin, xmax), (ymin, ymax)\n",
        "zx = npx * (xmax - xmin) / (Npx_X - 1)   + xmin\n",
        "zy = npy * (ymax-ymin) / (Npx_Y - 1) + ymin\n",
        "\n",
        "#Definicion  la funcion y las derivada\n",
        "def f(z):\n",
        "  return z**3 - 1\n",
        "\n",
        "def fp(z):\n",
        "  return 3*z**2\n",
        "\n",
        "h = 1E-4\n",
        "def fpn(z, h):\n",
        "  return (f(z+h)-f(z))/h\n",
        "  \n",
        "\n",
        "a = 0.2\n",
        "Niteraciones = 120\n",
        "eps = 1E-8\n",
        "\n",
        "x = - 1\n",
        "for zx_ in zx:\n",
        "  x = x + 1\n",
        "  y = -1\n",
        "  for zy_ in zy:\n",
        "      y = y + 1\n",
        "      Z_0 = complex(zx_, zy_)\n",
        "    \n",
        "      for i in range(0, Niteraciones):\n",
        "        Z = Z_0 - a * f(Z_0)/fp(Z_0)\n",
        "\n",
        "        if( abs(Z-Z_0)<= eps):\n",
        "          break\n",
        "          \n",
        "        Z_0 = Z\n",
        "      #print(i)\n",
        "      #print(i)\n",
        "      r, g, b = i % 4 *64 , i % 8 *16, i% 16* 16\n",
        "      \n",
        "      image.putpixel((x,y), (r,g,b) )\n",
        "\n",
        "\n",
        "plt.imshow(image)\n",
        "#plt.xlim(400, 600)\n",
        "#plt.ylim(400, 523)\n",
        "```\n"
      ]
    },
    {
      "cell_type": "code",
      "source": [
        "import numpy as np\n",
        "import matplotlib.pyplot as plt\n",
        "import pandas as pd\n",
        "from scipy import optimize\n"
      ],
      "metadata": {
        "id": "7oI2dwwQeybD"
      },
      "id": "7oI2dwwQeybD",
      "execution_count": 2,
      "outputs": []
    },
    {
      "cell_type": "code",
      "source": [
        "theta=lambda x: x - np.sin(x) - np.pi/2"
      ],
      "metadata": {
        "id": "leAgzIOGfA_B"
      },
      "id": "leAgzIOGfA_B",
      "execution_count": 3,
      "outputs": []
    },
    {
      "cell_type": "code",
      "source": [
        "x = np.arange(0,2*np.pi,0.01)\n",
        "y=theta(x)\n"
      ],
      "metadata": {
        "id": "TSYuDEfvfcrd"
      },
      "id": "TSYuDEfvfcrd",
      "execution_count": 4,
      "outputs": []
    },
    {
      "cell_type": "code",
      "source": [
        "d={\"theta\":x, \"funcion\":y} #serie\n",
        "df=pd.DataFrame(d) #dataframe\n",
        "\n"
      ],
      "metadata": {
        "id": "I7oec7mTfo1q"
      },
      "id": "I7oec7mTfo1q",
      "execution_count": 5,
      "outputs": []
    },
    {
      "cell_type": "code",
      "source": [
        "df.plot.line(x = \"theta\", y= \"funcion\")\n",
        "plt.grid()\n",
        "plt.show()"
      ],
      "metadata": {
        "colab": {
          "base_uri": "https://localhost:8080/",
          "height": 453
        },
        "id": "8YTiytuQgIh0",
        "outputId": "177d79b5-f157-4bf9-b177-6fb214579829"
      },
      "id": "8YTiytuQgIh0",
      "execution_count": 6,
      "outputs": [
        {
          "output_type": "display_data",
          "data": {
            "text/plain": [
              "<Figure size 640x480 with 1 Axes>"
            ],
            "image/png": "[encoded data removed]"
          },
          "metadata": {}
        }
      ]
    },
    {
      "cell_type": "code",
      "source": [
        "dt_filtro = df[df.funcion.between(-0.1,0.1)]\n",
        "dt_filtro\n"
      ],
      "metadata": {
        "colab": {
          "base_uri": "https://localhost:8080/",
          "height": 425
        },
        "id": "BPGZD0uRguxX",
        "outputId": "9389ef85-415b-4483-d630-916a30ca9318"
      },
      "id": "BPGZD0uRguxX",
      "execution_count": 7,
      "outputs": [
        {
          "output_type": "execute_result",
          "data": {
            "text/plain": [
              "     theta   funcion\n",
              "225   2.25 -0.098870\n",
              "226   2.26 -0.082549\n",
              "227   2.27 -0.066151\n",
              "228   2.28 -0.049677\n",
              "229   2.29 -0.033127\n",
              "230   2.30 -0.016502\n",
              "231   2.31  0.000198\n",
              "232   2.32  0.016972\n",
              "233   2.33  0.033819\n",
              "234   2.34  0.050739\n",
              "235   2.35  0.067730\n",
              "236   2.36  0.084793"
            ],
            "text/html": [
              "\n",
              "  <div id=\"df-cc59fca2-571f-4b0d-acdc-38d2d9de166c\" class=\"colab-df-container\">\n",
              "    <div>\n",
              "<style scoped>\n",
              "    .dataframe tbody tr th:only-of-type {\n",
              "        vertical-align: middle;\n",
              "    }\n",
              "\n",
              "    .dataframe tbody tr th {\n",
              "        vertical-align: top;\n",
              "    }\n",
              "\n",
              "    .dataframe thead th {\n",
              "        text-align: right;\n",
              "    }\n",
              "</style>\n",
              "<table border=\"1\" class=\"dataframe\">\n",
              "  <thead>\n",
              "    <tr style=\"text-align: right;\">\n",
              "      <th></th>\n",
              "      <th>theta</th>\n",
              "      <th>funcion</th>\n",
              "    </tr>\n",
              "  </thead>\n",
              "  <tbody>\n",
              "    <tr>\n",
              "      <th>225</th>\n",
              "      <td>2.25</td>\n",
              "      <td>-0.098870</td>\n",
              "    </tr>\n",
              "    <tr>\n",
              "      <th>226</th>\n",
              "      <td>2.26</td>\n",
              "      <td>-0.082549</td>\n",
              "    </tr>\n",
              "    <tr>\n",
              "      <th>227</th>\n",
              "      <td>2.27</td>\n",
              "      <td>-0.066151</td>\n",
              "    </tr>\n",
              "    <tr>\n",
              "      <th>228</th>\n",
              "      <td>2.28</td>\n",
              "      <td>-0.049677</td>\n",
              "    </tr>\n",
              "    <tr>\n",
              "      <th>229</th>\n",
              "      <td>2.29</td>\n",
              "      <td>-0.033127</td>\n",
              "    </tr>\n",
              "    <tr>\n",
              "      <th>230</th>\n",
              "      <td>2.30</td>\n",
              "      <td>-0.016502</td>\n",
              "    </tr>\n",
              "    <tr>\n",
              "      <th>231</th>\n",
              "      <td>2.31</td>\n",
              "      <td>0.000198</td>\n",
              "    </tr>\n",
              "    <tr>\n",
              "      <th>232</th>\n",
              "      <td>2.32</td>\n",
              "      <td>0.016972</td>\n",
              "    </tr>\n",
              "    <tr>\n",
              "      <th>233</th>\n",
              "      <td>2.33</td>\n",
              "      <td>0.033819</td>\n",
              "    </tr>\n",
              "    <tr>\n",
              "      <th>234</th>\n",
              "      <td>2.34</td>\n",
              "      <td>0.050739</td>\n",
              "    </tr>\n",
              "    <tr>\n",
              "      <th>235</th>\n",
              "      <td>2.35</td>\n",
              "      <td>0.067730</td>\n",
              "    </tr>\n",
              "    <tr>\n",
              "      <th>236</th>\n",
              "      <td>2.36</td>\n",
              "      <td>0.084793</td>\n",
              "    </tr>\n",
              "  </tbody>\n",
              "</table>\n",
              "</div>\n",
              "    <div class=\"colab-df-buttons\">\n",
              "\n",
              "  <div class=\"colab-df-container\">\n",
              "    <button class=\"colab-df-convert\" onclick=\"convertToInteractive('df-cc59fca2-571f-4b0d-acdc-38d2d9de166c')\"\n",
              "            title=\"Convert this dataframe to an interactive table.\"\n",
              "            style=\"display:none;\">\n",
              "\n",
              "  <svg xmlns=\"http://www.w3.org/2000/svg\" height=\"24px\" viewBox=\"0 -960 960 960\">\n",
              "    <path d=\"M120-120v-720h720v720H120Zm60-500h600v-160H180v160Zm220 220h160v-160H400v160Zm0 220h160v-160H400v160ZM180-400h160v-160H180v160Zm440 0h160v-160H620v160ZM180-180h160v-160H180v160Zm440 0h160v-160H620v160Z\"/>\n",
              "  </svg>\n",
              "    </button>\n",
              "\n",
              "  <style>\n",
              "    .colab-df-container {\n",
              "      display:flex;\n",
              "      gap: 12px;\n",
              "    }\n",
              "\n",
              "    .colab-df-convert {\n",
              "      background-color: #E8F0FE;\n",
              "      border: none;\n",
              "      border-radius: 50%;\n",
              "      cursor: pointer;\n",
              "      display: none;\n",
              "      fill: #1967D2;\n",
              "      height: 32px;\n",
              "      padding: 0 0 0 0;\n",
              "      width: 32px;\n",
              "    }\n",
              "\n",
              "    .colab-df-convert:hover {\n",
              "      background-color: #E2EBFA;\n",
              "      box-shadow: 0px 1px 2px rgba(60, 64, 67, 0.3), 0px 1px 3px 1px rgba(60, 64, 67, 0.15);\n",
              "      fill: #174EA6;\n",
              "    }\n",
              "\n",
              "    .colab-df-buttons div {\n",
              "      margin-bottom: 4px;\n",
              "    }\n",
              "\n",
              "    [theme=dark] .colab-df-convert {\n",
              "      background-color: #3B4455;\n",
              "      fill: #D2E3FC;\n",
              "    }\n",
              "\n",
              "    [theme=dark] .colab-df-convert:hover {\n",
              "      background-color: #434B5C;\n",
              "      box-shadow: 0px 1px 3px 1px rgba(0, 0, 0, 0.15);\n",
              "      filter: drop-shadow(0px 1px 2px rgba(0, 0, 0, 0.3));\n",
              "      fill: #FFFFFF;\n",
              "    }\n",
              "  </style>\n",
              "\n",
              "    <script>\n",
              "      const buttonEl =\n",
              "        document.querySelector('#df-cc59fca2-571f-4b0d-acdc-38d2d9de166c button.colab-df-convert');\n",
              "      buttonEl.style.display =\n",
              "        google.colab.kernel.accessAllowed ? 'block' : 'none';\n",
              "\n",
              "      async function convertToInteractive(key) {\n",
              "        const element = document.querySelector('#df-cc59fca2-571f-4b0d-acdc-38d2d9de166c');\n",
              "        const dataTable =\n",
              "          await google.colab.kernel.invokeFunction('convertToInteractive',\n",
              "                                                    [key], {});\n",
              "        if (!dataTable) return;\n",
              "\n",
              "        const docLinkHtml = 'Like what you see? Visit the ' +\n",
              "          '<a target=\"_blank\" href=https://colab.research.google.com/notebooks/data_table.ipynb>data table notebook</a>'\n",
              "          + ' to learn more about interactive tables.';\n",
              "        element.innerHTML = '';\n",
              "        dataTable['output_type'] = 'display_data';\n",
              "        await google.colab.output.renderOutput(dataTable, element);\n",
              "        const docLink = document.createElement('div');\n",
              "        docLink.innerHTML = docLinkHtml;\n",
              "        element.appendChild(docLink);\n",
              "      }\n",
              "    </script>\n",
              "  </div>\n",
              "\n",
              "\n",
              "<div id=\"df-e30aae4d-a069-4a40-9f3a-4826bfcf567b\">\n",
              "  <button class=\"colab-df-quickchart\" onclick=\"quickchart('df-e30aae4d-a069-4a40-9f3a-4826bfcf567b')\"\n",
              "            title=\"Suggest charts\"\n",
              "            style=\"display:none;\">\n",
              "\n",
              "<svg xmlns=\"http://www.w3.org/2000/svg\" height=\"24px\"viewBox=\"0 0 24 24\"\n",
              "     width=\"24px\">\n",
              "    <g>\n",
              "        <path d=\"M19 3H5c-1.1 0-2 .9-2 2v14c0 1.1.9 2 2 2h14c1.1 0 2-.9 2-2V5c0-1.1-.9-2-2-2zM9 17H7v-7h2v7zm4 0h-2V7h2v10zm4 0h-2v-4h2v4z\"/>\n",
              "    </g>\n",
              "</svg>\n",
              "  </button>\n",
              "\n",
              "<style>\n",
              "  .colab-df-quickchart {\n",
              "      --bg-color: #E8F0FE;\n",
              "      --fill-color: #1967D2;\n",
              "      --hover-bg-color: #E2EBFA;\n",
              "      --hover-fill-color: #174EA6;\n",
              "      --disabled-fill-color: #AAA;\n",
              "      --disabled-bg-color: #DDD;\n",
              "  }\n",
              "\n",
              "  [theme=dark] .colab-df-quickchart {\n",
              "      --bg-color: #3B4455;\n",
              "      --fill-color: #D2E3FC;\n",
              "      --hover-bg-color: #434B5C;\n",
              "      --hover-fill-color: #FFFFFF;\n",
              "      --disabled-bg-color: #3B4455;\n",
              "      --disabled-fill-color: #666;\n",
              "  }\n",
              "\n",
              "  .colab-df-quickchart {\n",
              "    background-color: var(--bg-color);\n",
              "    border: none;\n",
              "    border-radius: 50%;\n",
              "    cursor: pointer;\n",
              "    display: none;\n",
              "    fill: var(--fill-color);\n",
              "    height: 32px;\n",
              "    padding: 0;\n",
              "    width: 32px;\n",
              "  }\n",
              "\n",
              "  .colab-df-quickchart:hover {\n",
              "    background-color: var(--hover-bg-color);\n",
              "    box-shadow: 0 1px 2px rgba(60, 64, 67, 0.3), 0 1px 3px 1px rgba(60, 64, 67, 0.15);\n",
              "    fill: var(--button-hover-fill-color);\n",
              "  }\n",
              "\n",
              "  .colab-df-quickchart-complete:disabled,\n",
              "  .colab-df-quickchart-complete:disabled:hover {\n",
              "    background-color: var(--disabled-bg-color);\n",
              "    fill: var(--disabled-fill-color);\n",
              "    box-shadow: none;\n",
              "  }\n",
              "\n",
              "  .colab-df-spinner {\n",
              "    border: 2px solid var(--fill-color);\n",
              "    border-color: transparent;\n",
              "    border-bottom-color: var(--fill-color);\n",
              "    animation:\n",
              "      spin 1s steps(1) infinite;\n",
              "  }\n",
              "\n",
              "  @keyframes spin {\n",
              "    0% {\n",
              "      border-color: transparent;\n",
              "      border-bottom-color: var(--fill-color);\n",
              "      border-left-color: var(--fill-color);\n",
              "    }\n",
              "    20% {\n",
              "      border-color: transparent;\n",
              "      border-left-color: var(--fill-color);\n",
              "      border-top-color: var(--fill-color);\n",
              "    }\n",
              "    30% {\n",
              "      border-color: transparent;\n",
              "      border-left-color: var(--fill-color);\n",
              "      border-top-color: var(--fill-color);\n",
              "      border-right-color: var(--fill-color);\n",
              "    }\n",
              "    40% {\n",
              "      border-color: transparent;\n",
              "      border-right-color: var(--fill-color);\n",
              "      border-top-color: var(--fill-color);\n",
              "    }\n",
              "    60% {\n",
              "      border-color: transparent;\n",
              "      border-right-color: var(--fill-color);\n",
              "    }\n",
              "    80% {\n",
              "      border-color: transparent;\n",
              "      border-right-color: var(--fill-color);\n",
              "      border-bottom-color: var(--fill-color);\n",
              "    }\n",
              "    90% {\n",
              "      border-color: transparent;\n",
              "      border-bottom-color: var(--fill-color);\n",
              "    }\n",
              "  }\n",
              "</style>\n",
              "\n",
              "  <script>\n",
              "    async function quickchart(key) {\n",
              "      const quickchartButtonEl =\n",
              "        document.querySelector('#' + key + ' button');\n",
              "      quickchartButtonEl.disabled = true;  // To prevent multiple clicks.\n",
              "      quickchartButtonEl.classList.add('colab-df-spinner');\n",
              "      try {\n",
              "        const charts = await google.colab.kernel.invokeFunction(\n",
              "            'suggestCharts', [key], {});\n",
              "      } catch (error) {\n",
              "        console.error('Error during call to suggestCharts:', error);\n",
              "      }\n",
              "      quickchartButtonEl.classList.remove('colab-df-spinner');\n",
              "      quickchartButtonEl.classList.add('colab-df-quickchart-complete');\n",
              "    }\n",
              "    (() => {\n",
              "      let quickchartButtonEl =\n",
              "        document.querySelector('#df-e30aae4d-a069-4a40-9f3a-4826bfcf567b button');\n",
              "      quickchartButtonEl.style.display =\n",
              "        google.colab.kernel.accessAllowed ? 'block' : 'none';\n",
              "    })();\n",
              "  </script>\n",
              "</div>\n",
              "    </div>\n",
              "  </div>\n"
            ],
            "application/vnd.google.colaboratory.intrinsic+json": {
              "type": "dataframe",
              "variable_name": "dt_filtro",
              "summary": "{\n  \"name\": \"dt_filtro\",\n  \"rows\": 12,\n  \"fields\": [\n    {\n      \"column\": \"theta\",\n      \"properties\": {\n        \"dtype\": \"number\",\n        \"std\": 0.03605551275463983,\n        \"min\": 2.25,\n        \"max\": 2.36,\n        \"num_unique_values\": 12,\n        \"samples\": [\n          2.35,\n          2.34,\n          2.25\n        ],\n        \"semantic_type\": \"\",\n        \"description\": \"\"\n      }\n    },\n    {\n      \"column\": \"funcion\",\n      \"properties\": {\n        \"dtype\": \"number\",\n        \"std\": 0.06020540260978997,\n        \"min\": -0.09886952368281765,\n        \"max\": 0.08479290743492696,\n        \"num_unique_values\": 12,\n        \"samples\": [\n          0.06773032041425919,\n          0.05073888013597694,\n          -0.09886952368281765\n        ],\n        \"semantic_type\": \"\",\n        \"description\": \"\"\n      }\n    }\n  ]\n}"
            }
          },
          "metadata": {},
          "execution_count": 7
        }
      ]
    },
    {
      "cell_type": "code",
      "source": [
        "#metodo de biseccion\n",
        "optimize.bisect\n"
      ],
      "metadata": {
        "colab": {
          "base_uri": "https://localhost:8080/",
          "height": 186
        },
        "id": "Y_NPkuyUg5J_",
        "outputId": "34a3cff9-3475-452a-e54e-72d350ceb8b0"
      },
      "id": "Y_NPkuyUg5J_",
      "execution_count": 8,
      "outputs": [
        {
          "output_type": "execute_result",
          "data": {
            "text/plain": [
              "<function scipy.optimize._zeros_py.bisect(f, a, b, args=(), xtol=2e-12, rtol=8.881784197001252e-16, maxiter=100, full_output=False, disp=True)>"
            ],
            "text/html": [
              "<div style=\"max-width:800px; border: 1px solid var(--colab-border-color);\"><style>\n",
              "      pre.function-repr-contents {\n",
              "        overflow-x: auto;\n",
              "        padding: 8px 12px;\n",
              "        max-height: 500px;\n",
              "      }\n",
              "\n",
              "      pre.function-repr-contents.function-repr-contents-collapsed {\n",
              "        cursor: pointer;\n",
              "        max-height: 100px;\n",
              "      }\n",
              "    </style>\n",
              "    <pre style=\"white-space: initial; background:\n",
              "         var(--colab-secondary-surface-color); padding: 8px 12px;\n",
              "         border-bottom: 1px solid var(--colab-border-color);\"><b>scipy.optimize._zeros_py.bisect</b><br/>def bisect(f, a, b, args=(), xtol=_xtol, rtol=_rtol, maxiter=_iter, full_output=False, disp=True)</pre><pre class=\"function-repr-contents function-repr-contents-collapsed\" style=\"\"><a class=\"filepath\" style=\"display:none\" href=\"#\">/usr/local/lib/python3.10/dist-packages/scipy/optimize/_zeros_py.py</a>Find root of a function within an interval using bisection.\n",
              "\n",
              "Basic bisection routine to find a root of the function `f` between the\n",
              "arguments `a` and `b`. `f(a)` and `f(b)` cannot have the same signs.\n",
              "Slow but sure.\n",
              "\n",
              "Parameters\n",
              "----------\n",
              "f : function\n",
              "    Python function returning a number.  `f` must be continuous, and\n",
              "    f(a) and f(b) must have opposite signs.\n",
              "a : scalar\n",
              "    One end of the bracketing interval [a,b].\n",
              "b : scalar\n",
              "    The other end of the bracketing interval [a,b].\n",
              "xtol : number, optional\n",
              "    The computed root ``x0`` will satisfy ``np.allclose(x, x0,\n",
              "    atol=xtol, rtol=rtol)``, where ``x`` is the exact root. The\n",
              "    parameter must be positive.\n",
              "rtol : number, optional\n",
              "    The computed root ``x0`` will satisfy ``np.allclose(x, x0,\n",
              "    atol=xtol, rtol=rtol)``, where ``x`` is the exact root. The\n",
              "    parameter cannot be smaller than its default value of\n",
              "    ``4*np.finfo(float).eps``.\n",
              "maxiter : int, optional\n",
              "    If convergence is not achieved in `maxiter` iterations, an error is\n",
              "    raised. Must be &gt;= 0.\n",
              "args : tuple, optional\n",
              "    Containing extra arguments for the function `f`.\n",
              "    `f` is called by ``apply(f, (x)+args)``.\n",
              "full_output : bool, optional\n",
              "    If `full_output` is False, the root is returned. If `full_output` is\n",
              "    True, the return value is ``(x, r)``, where x is the root, and r is\n",
              "    a `RootResults` object.\n",
              "disp : bool, optional\n",
              "    If True, raise RuntimeError if the algorithm didn&#x27;t converge.\n",
              "    Otherwise, the convergence status is recorded in a `RootResults`\n",
              "    return object.\n",
              "\n",
              "Returns\n",
              "-------\n",
              "root : float\n",
              "    Root of `f` between `a` and `b`.\n",
              "r : `RootResults` (present if ``full_output = True``)\n",
              "    Object containing information about the convergence. In particular,\n",
              "    ``r.converged`` is True if the routine converged.\n",
              "\n",
              "Examples\n",
              "--------\n",
              "\n",
              "&gt;&gt;&gt; def f(x):\n",
              "...     return (x**2 - 1)\n",
              "\n",
              "&gt;&gt;&gt; from scipy import optimize\n",
              "\n",
              "&gt;&gt;&gt; root = optimize.bisect(f, 0, 2)\n",
              "&gt;&gt;&gt; root\n",
              "1.0\n",
              "\n",
              "&gt;&gt;&gt; root = optimize.bisect(f, -2, 0)\n",
              "&gt;&gt;&gt; root\n",
              "-1.0\n",
              "\n",
              "See Also\n",
              "--------\n",
              "brentq, brenth, bisect, newton\n",
              "fixed_point : scalar fixed-point finder\n",
              "fsolve : n-dimensional root-finding</pre>\n",
              "      <script>\n",
              "      if (google.colab.kernel.accessAllowed && google.colab.files && google.colab.files.view) {\n",
              "        for (const element of document.querySelectorAll('.filepath')) {\n",
              "          element.style.display = 'block'\n",
              "          element.onclick = (event) => {\n",
              "            event.preventDefault();\n",
              "            event.stopPropagation();\n",
              "            google.colab.files.view(element.textContent, 491);\n",
              "          };\n",
              "        }\n",
              "      }\n",
              "      for (const element of document.querySelectorAll('.function-repr-contents')) {\n",
              "        element.onclick = (event) => {\n",
              "          event.preventDefault();\n",
              "          event.stopPropagation();\n",
              "          element.classList.toggle('function-repr-contents-collapsed');\n",
              "        };\n",
              "      }\n",
              "      </script>\n",
              "      </div>"
            ]
          },
          "metadata": {},
          "execution_count": 8
        }
      ]
    },
    {
      "cell_type": "code",
      "source": [
        "raiz = optimize.bisect(theta,2.30,2.31) #evaluar la funcion en diferentes puntos\n",
        "print(\"la raiz usando el metodo de biseccion sera: \", raiz)"
      ],
      "metadata": {
        "colab": {
          "base_uri": "https://localhost:8080/"
        },
        "id": "4fDJ026picSb",
        "outputId": "ac21cc92-1aea-419e-d31e-4d843ea4dd9f"
      },
      "id": "4fDJ026picSb",
      "execution_count": 9,
      "outputs": [
        {
          "output_type": "stream",
          "name": "stdout",
          "text": [
            "la raiz usando el metodo de biseccion sera:  2.3098814600089104\n"
          ]
        }
      ]
    },
    {
      "cell_type": "code",
      "source": [
        "#metodo de newton\n",
        "\n",
        "#optimize.newton?\n",
        "theta=lambda x: x - np.sin(x) - np.pi/2\n",
        "dtheta= lambda x:1 - np.cos(x)\n"
      ],
      "metadata": {
        "id": "vHCkThwTjGRW"
      },
      "id": "vHCkThwTjGRW",
      "execution_count": 10,
      "outputs": []
    },
    {
      "cell_type": "code",
      "source": [
        "raiz_newton=optimize.newton(theta,2.30, dtheta)\n",
        "print(\"la raiz usando el metodo de la biseccion\", raiz_newton)"
      ],
      "metadata": {
        "colab": {
          "base_uri": "https://localhost:8080/"
        },
        "id": "MU6xG7SfkByb",
        "outputId": "bbdf2aba-46dd-4e91-af52-894da5503169"
      },
      "id": "MU6xG7SfkByb",
      "execution_count": 11,
      "outputs": [
        {
          "output_type": "stream",
          "name": "stdout",
          "text": [
            "la raiz usando el metodo de la biseccion 2.309881460010057\n"
          ]
        }
      ]
    },
    {
      "cell_type": "code",
      "source": [
        "#metodo fijo\n",
        "#optimize.fixed_point(theta,)\n",
        "\n",
        "gl=lambda x:x -theta(x)\n",
        "b=optimize.fixed_point(gl, 2.30)\n",
        "print(\"por el metodo de punto fijo\", b)\n",
        "\n"
      ],
      "metadata": {
        "colab": {
          "base_uri": "https://localhost:8080/"
        },
        "id": "XF9rXYYbkd3v",
        "outputId": "9a1d591f-c99a-4df1-db42-38d2f1ae8e11"
      },
      "id": "XF9rXYYbkd3v",
      "execution_count": 12,
      "outputs": [
        {
          "output_type": "stream",
          "name": "stdout",
          "text": [
            "por el metodo de punto fijo 2.3098814600100575\n"
          ]
        }
      ]
    },
    {
      "cell_type": "code",
      "source": [
        "#metodo de la secante\n",
        "raiz_secante=optimize.newton(theta, 2.30)\n",
        "print(\"la raiz es \",raiz_secante)"
      ],
      "metadata": {
        "colab": {
          "base_uri": "https://localhost:8080/"
        },
        "id": "GhSnzzyWnWCh",
        "outputId": "df8222e0-5be1-4c04-8a92-2ddc285e39f0"
      },
      "id": "GhSnzzyWnWCh",
      "execution_count": 13,
      "outputs": [
        {
          "output_type": "stream",
          "name": "stdout",
          "text": [
            "la raiz es  2.3098814600100575\n"
          ]
        }
      ]
    },
    {
      "cell_type": "code",
      "source": [
        "#segundo punto del taller --------------------------------------------------------------------------------------------------------------------------\n",
        "#-----------------------------------------------------------------------------------------------------------------------------------------------------------\n",
        "#-----------------------------------------------------------------------------------------------------------------------------------------------------------\n",
        "#-----------------------------------------------------------------------------------------------------------------------------------------------------------\n",
        "#-----------------------------------------------------------------------------------------------------------------------------------------------------------"
      ],
      "metadata": {
        "id": "Dy6gGWgtoi6W"
      },
      "id": "Dy6gGWgtoi6W",
      "execution_count": 14,
      "outputs": []
    },
    {
      "cell_type": "code",
      "source": [
        "import numpy as np\n",
        "import matplotlib.pyplot as plt\n",
        "import pandas as pd\n",
        "from scipy import optimize\n",
        "from sympy import*\n"
      ],
      "metadata": {
        "id": "bZIC1z55oSuC"
      },
      "id": "bZIC1z55oSuC",
      "execution_count": 15,
      "outputs": []
    },
    {
      "cell_type": "code",
      "source": [
        "tiempo=lambda x: 300 -(((0.25*32.17)/(0.1)) * x ) + (((0.25**2)*32.17)/(0.1) * x) * (1-np.exp((-0.1*x)/(0.25)))"
      ],
      "metadata": {
        "id": "0vUNXuM9qqIz"
      },
      "id": "0vUNXuM9qqIz",
      "execution_count": 16,
      "outputs": []
    },
    {
      "cell_type": "code",
      "source": [
        "x = np.arange(4.6,4.8,0.01)\n",
        "y=tiempo(x)\n",
        "plt.plot(x,y)\n",
        "plt.grid()\n",
        "plt.show()"
      ],
      "metadata": {
        "colab": {
          "base_uri": "https://localhost:8080/",
          "height": 430
        },
        "id": "SKAamXrjtMxI",
        "outputId": "5cdfa0ba-29e5-4c6d-952b-c31eae2ba142"
      },
      "id": "SKAamXrjtMxI",
      "execution_count": 17,
      "outputs": [
        {
          "output_type": "display_data",
          "data": {
            "text/plain": [
              "<Figure size 640x480 with 1 Axes>"
            ],
            "image/png": "[encoded data removed]"
          },
          "metadata": {}
        }
      ]
    },
    {
      "cell_type": "code",
      "source": [
        "d = {\"tiempo\":x, \"funcion\":y}\n",
        "df=pd.DataFrame(d)\n",
        "df"
      ],
      "metadata": {
        "colab": {
          "base_uri": "https://localhost:8080/",
          "height": 708
        },
        "id": "DNNNfGzTtht1",
        "outputId": "d9635470-dc84-4882-92a4-a62f279982d7"
      },
      "id": "DNNNfGzTtht1",
      "execution_count": 18,
      "outputs": [
        {
          "output_type": "execute_result",
          "data": {
            "text/plain": [
              "    tiempo   funcion\n",
              "0     4.60  7.844925\n",
              "1     4.61  7.268570\n",
              "2     4.62  6.692236\n",
              "3     4.63  6.115921\n",
              "4     4.64  5.539624\n",
              "5     4.65  4.963346\n",
              "6     4.66  4.387085\n",
              "7     4.67  3.810841\n",
              "8     4.68  3.234614\n",
              "9     4.69  2.658402\n",
              "10    4.70  2.082205\n",
              "11    4.71  1.506024\n",
              "12    4.72  0.929856\n",
              "13    4.73  0.353702\n",
              "14    4.74 -0.222439\n",
              "15    4.75 -0.798567\n",
              "16    4.76 -1.374683\n",
              "17    4.77 -1.950788\n",
              "18    4.78 -2.526881\n",
              "19    4.79 -3.102965\n",
              "20    4.80 -3.679038"
            ],
            "text/html": [
              "\n",
              "  <div id=\"df-4f5114b6-e8ff-4d94-8602-e54ecd30e52c\" class=\"colab-df-container\">\n",
              "    <div>\n",
              "<style scoped>\n",
              "    .dataframe tbody tr th:only-of-type {\n",
              "        vertical-align: middle;\n",
              "    }\n",
              "\n",
              "    .dataframe tbody tr th {\n",
              "        vertical-align: top;\n",
              "    }\n",
              "\n",
              "    .dataframe thead th {\n",
              "        text-align: right;\n",
              "    }\n",
              "</style>\n",
              "<table border=\"1\" class=\"dataframe\">\n",
              "  <thead>\n",
              "    <tr style=\"text-align: right;\">\n",
              "      <th></th>\n",
              "      <th>tiempo</th>\n",
              "      <th>funcion</th>\n",
              "    </tr>\n",
              "  </thead>\n",
              "  <tbody>\n",
              "    <tr>\n",
              "      <th>0</th>\n",
              "      <td>4.60</td>\n",
              "      <td>7.844925</td>\n",
              "    </tr>\n",
              "    <tr>\n",
              "      <th>1</th>\n",
              "      <td>4.61</td>\n",
              "      <td>7.268570</td>\n",
              "    </tr>\n",
              "    <tr>\n",
              "      <th>2</th>\n",
              "      <td>4.62</td>\n",
              "      <td>6.692236</td>\n",
              "    </tr>\n",
              "    <tr>\n",
              "      <th>3</th>\n",
              "      <td>4.63</td>\n",
              "      <td>6.115921</td>\n",
              "    </tr>\n",
              "    <tr>\n",
              "      <th>4</th>\n",
              "      <td>4.64</td>\n",
              "      <td>5.539624</td>\n",
              "    </tr>\n",
              "    <tr>\n",
              "      <th>5</th>\n",
              "      <td>4.65</td>\n",
              "      <td>4.963346</td>\n",
              "    </tr>\n",
              "    <tr>\n",
              "      <th>6</th>\n",
              "      <td>4.66</td>\n",
              "      <td>4.387085</td>\n",
              "    </tr>\n",
              "    <tr>\n",
              "      <th>7</th>\n",
              "      <td>4.67</td>\n",
              "      <td>3.810841</td>\n",
              "    </tr>\n",
              "    <tr>\n",
              "      <th>8</th>\n",
              "      <td>4.68</td>\n",
              "      <td>3.234614</td>\n",
              "    </tr>\n",
              "    <tr>\n",
              "      <th>9</th>\n",
              "      <td>4.69</td>\n",
              "      <td>2.658402</td>\n",
              "    </tr>\n",
              "    <tr>\n",
              "      <th>10</th>\n",
              "      <td>4.70</td>\n",
              "      <td>2.082205</td>\n",
              "    </tr>\n",
              "    <tr>\n",
              "      <th>11</th>\n",
              "      <td>4.71</td>\n",
              "      <td>1.506024</td>\n",
              "    </tr>\n",
              "    <tr>\n",
              "      <th>12</th>\n",
              "      <td>4.72</td>\n",
              "      <td>0.929856</td>\n",
              "    </tr>\n",
              "    <tr>\n",
              "      <th>13</th>\n",
              "      <td>4.73</td>\n",
              "      <td>0.353702</td>\n",
              "    </tr>\n",
              "    <tr>\n",
              "      <th>14</th>\n",
              "      <td>4.74</td>\n",
              "      <td>-0.222439</td>\n",
              "    </tr>\n",
              "    <tr>\n",
              "      <th>15</th>\n",
              "      <td>4.75</td>\n",
              "      <td>-0.798567</td>\n",
              "    </tr>\n",
              "    <tr>\n",
              "      <th>16</th>\n",
              "      <td>4.76</td>\n",
              "      <td>-1.374683</td>\n",
              "    </tr>\n",
              "    <tr>\n",
              "      <th>17</th>\n",
              "      <td>4.77</td>\n",
              "      <td>-1.950788</td>\n",
              "    </tr>\n",
              "    <tr>\n",
              "      <th>18</th>\n",
              "      <td>4.78</td>\n",
              "      <td>-2.526881</td>\n",
              "    </tr>\n",
              "    <tr>\n",
              "      <th>19</th>\n",
              "      <td>4.79</td>\n",
              "      <td>-3.102965</td>\n",
              "    </tr>\n",
              "    <tr>\n",
              "      <th>20</th>\n",
              "      <td>4.80</td>\n",
              "      <td>-3.679038</td>\n",
              "    </tr>\n",
              "  </tbody>\n",
              "</table>\n",
              "</div>\n",
              "    <div class=\"colab-df-buttons\">\n",
              "\n",
              "  <div class=\"colab-df-container\">\n",
              "    <button class=\"colab-df-convert\" onclick=\"convertToInteractive('df-4f5114b6-e8ff-4d94-8602-e54ecd30e52c')\"\n",
              "            title=\"Convert this dataframe to an interactive table.\"\n",
              "            style=\"display:none;\">\n",
              "\n",
              "  <svg xmlns=\"http://www.w3.org/2000/svg\" height=\"24px\" viewBox=\"0 -960 960 960\">\n",
              "    <path d=\"M120-120v-720h720v720H120Zm60-500h600v-160H180v160Zm220 220h160v-160H400v160Zm0 220h160v-160H400v160ZM180-400h160v-160H180v160Zm440 0h160v-160H620v160ZM180-180h160v-160H180v160Zm440 0h160v-160H620v160Z\"/>\n",
              "  </svg>\n",
              "    </button>\n",
              "\n",
              "  <style>\n",
              "    .colab-df-container {\n",
              "      display:flex;\n",
              "      gap: 12px;\n",
              "    }\n",
              "\n",
              "    .colab-df-convert {\n",
              "      background-color: #E8F0FE;\n",
              "      border: none;\n",
              "      border-radius: 50%;\n",
              "      cursor: pointer;\n",
              "      display: none;\n",
              "      fill: #1967D2;\n",
              "      height: 32px;\n",
              "      padding: 0 0 0 0;\n",
              "      width: 32px;\n",
              "    }\n",
              "\n",
              "    .colab-df-convert:hover {\n",
              "      background-color: #E2EBFA;\n",
              "      box-shadow: 0px 1px 2px rgba(60, 64, 67, 0.3), 0px 1px 3px 1px rgba(60, 64, 67, 0.15);\n",
              "      fill: #174EA6;\n",
              "    }\n",
              "\n",
              "    .colab-df-buttons div {\n",
              "      margin-bottom: 4px;\n",
              "    }\n",
              "\n",
              "    [theme=dark] .colab-df-convert {\n",
              "      background-color: #3B4455;\n",
              "      fill: #D2E3FC;\n",
              "    }\n",
              "\n",
              "    [theme=dark] .colab-df-convert:hover {\n",
              "      background-color: #434B5C;\n",
              "      box-shadow: 0px 1px 3px 1px rgba(0, 0, 0, 0.15);\n",
              "      filter: drop-shadow(0px 1px 2px rgba(0, 0, 0, 0.3));\n",
              "      fill: #FFFFFF;\n",
              "    }\n",
              "  </style>\n",
              "\n",
              "    <script>\n",
              "      const buttonEl =\n",
              "        document.querySelector('#df-4f5114b6-e8ff-4d94-8602-e54ecd30e52c button.colab-df-convert');\n",
              "      buttonEl.style.display =\n",
              "        google.colab.kernel.accessAllowed ? 'block' : 'none';\n",
              "\n",
              "      async function convertToInteractive(key) {\n",
              "        const element = document.querySelector('#df-4f5114b6-e8ff-4d94-8602-e54ecd30e52c');\n",
              "        const dataTable =\n",
              "          await google.colab.kernel.invokeFunction('convertToInteractive',\n",
              "                                                    [key], {});\n",
              "        if (!dataTable) return;\n",
              "\n",
              "        const docLinkHtml = 'Like what you see? Visit the ' +\n",
              "          '<a target=\"_blank\" href=https://colab.research.google.com/notebooks/data_table.ipynb>data table notebook</a>'\n",
              "          + ' to learn more about interactive tables.';\n",
              "        element.innerHTML = '';\n",
              "        dataTable['output_type'] = 'display_data';\n",
              "        await google.colab.output.renderOutput(dataTable, element);\n",
              "        const docLink = document.createElement('div');\n",
              "        docLink.innerHTML = docLinkHtml;\n",
              "        element.appendChild(docLink);\n",
              "      }\n",
              "    </script>\n",
              "  </div>\n",
              "\n",
              "\n",
              "<div id=\"df-b25dd254-91cc-4eea-bee7-a704fd5f2e98\">\n",
              "  <button class=\"colab-df-quickchart\" onclick=\"quickchart('df-b25dd254-91cc-4eea-bee7-a704fd5f2e98')\"\n",
              "            title=\"Suggest charts\"\n",
              "            style=\"display:none;\">\n",
              "\n",
              "<svg xmlns=\"http://www.w3.org/2000/svg\" height=\"24px\"viewBox=\"0 0 24 24\"\n",
              "     width=\"24px\">\n",
              "    <g>\n",
              "        <path d=\"M19 3H5c-1.1 0-2 .9-2 2v14c0 1.1.9 2 2 2h14c1.1 0 2-.9 2-2V5c0-1.1-.9-2-2-2zM9 17H7v-7h2v7zm4 0h-2V7h2v10zm4 0h-2v-4h2v4z\"/>\n",
              "    </g>\n",
              "</svg>\n",
              "  </button>\n",
              "\n",
              "<style>\n",
              "  .colab-df-quickchart {\n",
              "      --bg-color: #E8F0FE;\n",
              "      --fill-color: #1967D2;\n",
              "      --hover-bg-color: #E2EBFA;\n",
              "      --hover-fill-color: #174EA6;\n",
              "      --disabled-fill-color: #AAA;\n",
              "      --disabled-bg-color: #DDD;\n",
              "  }\n",
              "\n",
              "  [theme=dark] .colab-df-quickchart {\n",
              "      --bg-color: #3B4455;\n",
              "      --fill-color: #D2E3FC;\n",
              "      --hover-bg-color: #434B5C;\n",
              "      --hover-fill-color: #FFFFFF;\n",
              "      --disabled-bg-color: #3B4455;\n",
              "      --disabled-fill-color: #666;\n",
              "  }\n",
              "\n",
              "  .colab-df-quickchart {\n",
              "    background-color: var(--bg-color);\n",
              "    border: none;\n",
              "    border-radius: 50%;\n",
              "    cursor: pointer;\n",
              "    display: none;\n",
              "    fill: var(--fill-color);\n",
              "    height: 32px;\n",
              "    padding: 0;\n",
              "    width: 32px;\n",
              "  }\n",
              "\n",
              "  .colab-df-quickchart:hover {\n",
              "    background-color: var(--hover-bg-color);\n",
              "    box-shadow: 0 1px 2px rgba(60, 64, 67, 0.3), 0 1px 3px 1px rgba(60, 64, 67, 0.15);\n",
              "    fill: var(--button-hover-fill-color);\n",
              "  }\n",
              "\n",
              "  .colab-df-quickchart-complete:disabled,\n",
              "  .colab-df-quickchart-complete:disabled:hover {\n",
              "    background-color: var(--disabled-bg-color);\n",
              "    fill: var(--disabled-fill-color);\n",
              "    box-shadow: none;\n",
              "  }\n",
              "\n",
              "  .colab-df-spinner {\n",
              "    border: 2px solid var(--fill-color);\n",
              "    border-color: transparent;\n",
              "    border-bottom-color: var(--fill-color);\n",
              "    animation:\n",
              "      spin 1s steps(1) infinite;\n",
              "  }\n",
              "\n",
              "  @keyframes spin {\n",
              "    0% {\n",
              "      border-color: transparent;\n",
              "      border-bottom-color: var(--fill-color);\n",
              "      border-left-color: var(--fill-color);\n",
              "    }\n",
              "    20% {\n",
              "      border-color: transparent;\n",
              "      border-left-color: var(--fill-color);\n",
              "      border-top-color: var(--fill-color);\n",
              "    }\n",
              "    30% {\n",
              "      border-color: transparent;\n",
              "      border-left-color: var(--fill-color);\n",
              "      border-top-color: var(--fill-color);\n",
              "      border-right-color: var(--fill-color);\n",
              "    }\n",
              "    40% {\n",
              "      border-color: transparent;\n",
              "      border-right-color: var(--fill-color);\n",
              "      border-top-color: var(--fill-color);\n",
              "    }\n",
              "    60% {\n",
              "      border-color: transparent;\n",
              "      border-right-color: var(--fill-color);\n",
              "    }\n",
              "    80% {\n",
              "      border-color: transparent;\n",
              "      border-right-color: var(--fill-color);\n",
              "      border-bottom-color: var(--fill-color);\n",
              "    }\n",
              "    90% {\n",
              "      border-color: transparent;\n",
              "      border-bottom-color: var(--fill-color);\n",
              "    }\n",
              "  }\n",
              "</style>\n",
              "\n",
              "  <script>\n",
              "    async function quickchart(key) {\n",
              "      const quickchartButtonEl =\n",
              "        document.querySelector('#' + key + ' button');\n",
              "      quickchartButtonEl.disabled = true;  // To prevent multiple clicks.\n",
              "      quickchartButtonEl.classList.add('colab-df-spinner');\n",
              "      try {\n",
              "        const charts = await google.colab.kernel.invokeFunction(\n",
              "            'suggestCharts', [key], {});\n",
              "      } catch (error) {\n",
              "        console.error('Error during call to suggestCharts:', error);\n",
              "      }\n",
              "      quickchartButtonEl.classList.remove('colab-df-spinner');\n",
              "      quickchartButtonEl.classList.add('colab-df-quickchart-complete');\n",
              "    }\n",
              "    (() => {\n",
              "      let quickchartButtonEl =\n",
              "        document.querySelector('#df-b25dd254-91cc-4eea-bee7-a704fd5f2e98 button');\n",
              "      quickchartButtonEl.style.display =\n",
              "        google.colab.kernel.accessAllowed ? 'block' : 'none';\n",
              "    })();\n",
              "  </script>\n",
              "</div>\n",
              "    </div>\n",
              "  </div>\n"
            ],
            "application/vnd.google.colaboratory.intrinsic+json": {
              "type": "dataframe",
              "variable_name": "df",
              "summary": "{\n  \"name\": \"df\",\n  \"rows\": 21,\n  \"fields\": [\n    {\n      \"column\": \"tiempo\",\n      \"properties\": {\n        \"dtype\": \"number\",\n        \"std\": 0.062048368229952966,\n        \"min\": 4.6,\n        \"max\": 4.799999999999995,\n        \"num_unique_values\": 21,\n        \"samples\": [\n          4.6,\n          4.769999999999996,\n          4.7499999999999964\n        ],\n        \"semantic_type\": \"\",\n        \"description\": \"\"\n      }\n    },\n    {\n      \"column\": \"funcion\",\n      \"properties\": {\n        \"dtype\": \"number\",\n        \"std\": 3.57519596200222,\n        \"min\": -3.679037915199814,\n        \"max\": 7.844924781153551,\n        \"num_unique_values\": 21,\n        \"samples\": [\n          7.844924781153551,\n          -1.950787630663669,\n          -0.7985667386640642\n        ],\n        \"semantic_type\": \"\",\n        \"description\": \"\"\n      }\n    }\n  ]\n}"
            }
          },
          "metadata": {},
          "execution_count": 18
        }
      ]
    },
    {
      "cell_type": "code",
      "source": [
        "#metodo de biseccion\n",
        "optimize.bisect\n",
        "raiz = optimize.bisect(tiempo,4.73,4.74)\n",
        "print(\"por el metodo de biseccion es\", raiz)"
      ],
      "metadata": {
        "colab": {
          "base_uri": "https://localhost:8080/"
        },
        "id": "FkDl2kAcv9Q0",
        "outputId": "ed5c6433-0b52-4b0f-8694-b100fe15c759"
      },
      "id": "FkDl2kAcv9Q0",
      "execution_count": 19,
      "outputs": [
        {
          "output_type": "stream",
          "name": "stdout",
          "text": [
            "por el metodo de biseccion es 4.736139137604041\n"
          ]
        }
      ]
    },
    {
      "cell_type": "code",
      "source": [
        "import sympy as sp\n",
        "import numpy as np\n",
        "x=sp.Symbol(\"x\")\n",
        "tiempo = 300 -(((0.25*32.17)/(0.1)) * x ) + (((0.25**2)*32.17)/(0.1) * x) * (1-sp.exp((-0.1*x)/(0.25)))\n",
        "derivada_lambda= sp.lambdify(x, sp.diff(tiempo,x))\n",
        "tiempo=lambda x: 300 -(((0.25*32.17)/(0.1)) * x ) + (((0.25**2)*32.17)/(0.1) * x) * (1-np.exp((-0.1*x)/(0.25)))"
      ],
      "metadata": {
        "id": "pyd7Uo7-gwS6"
      },
      "id": "pyd7Uo7-gwS6",
      "execution_count": 20,
      "outputs": []
    },
    {
      "cell_type": "code",
      "source": [
        "#metodo de newton\n",
        "raiz_newton=optimize.newton(tiempo,4.73,derivada_lambda)\n",
        "print(\"por el metodo de newton es\", raiz_newton)"
      ],
      "metadata": {
        "colab": {
          "base_uri": "https://localhost:8080/"
        },
        "id": "yIDkfRyZmKtH",
        "outputId": "494e967d-b589-485d-c478-498f0267e4e2"
      },
      "id": "yIDkfRyZmKtH",
      "execution_count": 21,
      "outputs": [
        {
          "output_type": "stream",
          "name": "stdout",
          "text": [
            "por el metodo de newton es 4.73613913760349\n"
          ]
        }
      ]
    },
    {
      "cell_type": "code",
      "source": [
        "#metodo del punto fijo\n",
        "tiempo=lambda x: 300 -(((0.25*32.17)/(0.1)) * x ) + (((0.25**2)*32.17)/(0.1) * x) * (1-np.exp((-0.1*x)/(0.25)))\n",
        "b=optimize.fixed_point(tiempo,4.73)\n",
        "print(\"por el punto fijo es\",b)"
      ],
      "metadata": {
        "colab": {
          "base_uri": "https://localhost:8080/"
        },
        "id": "rfsjYxF3m_Rm",
        "outputId": "d35ef903-d330-4b30-aa8d-d99e39ae3611"
      },
      "id": "rfsjYxF3m_Rm",
      "execution_count": 22,
      "outputs": [
        {
          "output_type": "stream",
          "name": "stdout",
          "text": [
            "por el punto fijo es 4.65534478295253\n"
          ]
        }
      ]
    },
    {
      "cell_type": "code",
      "source": [
        "#metodo de la secante\n",
        "raiz_secante=optimize.newton(tiempo,4.73)\n",
        "print(\"por el metodo de la secante es\",raiz_secante)"
      ],
      "metadata": {
        "colab": {
          "base_uri": "https://localhost:8080/"
        },
        "id": "sR1rcJtboJbg",
        "outputId": "836547c3-90c6-43b8-ccb9-d60c4348eaf0"
      },
      "id": "sR1rcJtboJbg",
      "execution_count": 23,
      "outputs": [
        {
          "output_type": "stream",
          "name": "stdout",
          "text": [
            "por el metodo de la secante es 4.73613913760349\n"
          ]
        }
      ]
    },
    {
      "cell_type": "code",
      "source": [
        "#tercer punto del taller\n",
        "#---------------------------------------------------------------------------------------------------------------------------------------------\n",
        "#---------------------------------------------------------------------------------------------------------------------------------------------\n",
        "#---------------------------------------------------------------------------------------------------------------------------------------------\n",
        "#---------------------------------------------------------------------------------------------------------------------------------------------\n",
        "#---------------------------------------------------------------------------------------------------------------------------------------------"
      ],
      "metadata": {
        "id": "GBDDHb13oy2n"
      },
      "id": "GBDDHb13oy2n",
      "execution_count": 24,
      "outputs": []
    },
    {
      "cell_type": "code",
      "source": [
        "import numpy as np\n",
        "import matplotlib.pyplot as plt\n",
        "import pandas as pd\n",
        "from scipy import optimize\n",
        "from sympy import*\n"
      ],
      "metadata": {
        "id": "J7YKH7iZpH1P"
      },
      "id": "J7YKH7iZpH1P",
      "execution_count": 25,
      "outputs": []
    },
    {
      "cell_type": "code",
      "source": [
        "#se refiere a si misma, por lo tanto no podemos usar lambda\n",
        "magnetizacion = lambda m: m-np.tanh((m/(0.5)))\n",
        "\n",
        "\n",
        "m=np.linspace(-2,2,10)\n",
        "y=magnetizacion(m)"
      ],
      "metadata": {
        "id": "EM_oQvP3qRha"
      },
      "id": "EM_oQvP3qRha",
      "execution_count": 45,
      "outputs": []
    },
    {
      "cell_type": "code",
      "source": [
        "\n",
        "plt.plot(m,y)\n",
        "plt.show()"
      ],
      "metadata": {
        "colab": {
          "base_uri": "https://localhost:8080/",
          "height": 430
        },
        "id": "PqHTkvzUsvg_",
        "outputId": "1248ea3e-17df-4c56-da90-988c0013d788"
      },
      "id": "PqHTkvzUsvg_",
      "execution_count": 46,
      "outputs": [
        {
          "output_type": "display_data",
          "data": {
            "text/plain": [
              "<Figure size 640x480 with 1 Axes>"
            ],
            "image/png": "[encoded data removed]"
          },
          "metadata": {}
        }
      ]
    },
    {
      "cell_type": "code",
      "source": [
        "#metodo de la secante\n",
        "k=optimize.newton(magnetizacion, -0.5)\n",
        "print(\"la raiz es \",round(k,4))\n"
      ],
      "metadata": {
        "colab": {
          "base_uri": "https://localhost:8080/"
        },
        "id": "C4C0PRWI6cMm",
        "outputId": "5f616a66-7bd6-453a-ba41-8d61001e9d24"
      },
      "id": "C4C0PRWI6cMm",
      "execution_count": 48,
      "outputs": [
        {
          "output_type": "stream",
          "name": "stdout",
          "text": [
            "la raiz es  -0.9575\n"
          ]
        }
      ]
    },
    {
      "cell_type": "code",
      "source": [
        "#metodo del punto fijo\n",
        "g = lambda m:m-magnetizacion(m)\n",
        "b=optimize.fixed_point(g, 0.40)\n",
        "print(\"por el metodo de punto fijo\", np.round(b,4))"
      ],
      "metadata": {
        "colab": {
          "base_uri": "https://localhost:8080/"
        },
        "id": "c9_UTM8Y9I0R",
        "outputId": "cd3770b5-ab4a-43b9-dd43-f203decfcc16"
      },
      "id": "c9_UTM8Y9I0R",
      "execution_count": 57,
      "outputs": [
        {
          "output_type": "stream",
          "name": "stdout",
          "text": [
            "por el metodo de punto fijo 0.9575\n"
          ]
        }
      ]
    },
    {
      "cell_type": "code",
      "source": [
        "#\n",
        "T= np.linspace(0.1,0.99,100)\n"
      ],
      "metadata": {
        "id": "SfTIWnlIA0RS"
      },
      "id": "SfTIWnlIA0RS",
      "execution_count": null,
      "outputs": []
    },
    {
      "cell_type": "code",
      "source": [
        "import numpy as np\n",
        "import matplotlib.pylab as plt\n",
        "from PIL import Image\n",
        "\n",
        "Npx_X = 80 #Numero de pixeles en x\n",
        "Npx_Y = 80 #Numero de pixeles en y\n",
        "\n",
        "image = Image.new(\"RGB\", (Npx_X, Npx_Y)) #Creacion de la imagen inicial\n",
        "\n",
        "npx = np.arange(0, Npx_X)\n",
        "npy = np.arange(0, Npx_Y)\n",
        "\n",
        "xmin = -1\n",
        "xmax = 1\n",
        "ymin = -1\n",
        "ymax = 1\n",
        "# Transformación al plano complejo en un rectangulo (xmin, xmax), (ymin, ymax)\n",
        "zx = npx * (xmax - xmin) / (Npx_X - 1)   + xmin\n",
        "zy = npy * (ymax-ymin) / (Npx_Y - 1) + ymin\n",
        "\n",
        "# Definicion  la funcion y las derivada\n",
        "def f(z):\n",
        "  return z**3 - 1\n",
        "\n",
        "def fp(z):\n",
        "  return 3*z**2\n",
        "\n",
        "h = 1E-4\n",
        "def fpn(z, h):\n",
        "  return (f(z+h)-f(z))/h\n",
        "\n",
        "\n",
        "a = 0.2\n",
        "Niteraciones = 120\n",
        "eps = 1E-8\n",
        "\n",
        "x = - 1\n",
        "for zx_ in zx:\n",
        "  x = x + 1\n",
        "  y = -1\n",
        "  for zy_ in zy:\n",
        "      y = y + 1\n",
        "      Z_0 = complex(zx_, zy_)\n",
        "\n",
        "      for i in range(0, Niteraciones):\n",
        "        Z = Z_0 - a * f(Z_0)/fp(Z_0)\n",
        "\n",
        "        if( abs(Z-Z_0)<= eps):\n",
        "          break\n",
        "\n",
        "        Z_0 = Z\n",
        "      #print(i)\n",
        "      #print(i)\n",
        "      r, g, b = i % 4 *64 , i % 8 *16, i% 16* 16\n",
        "\n",
        "      image.putpixel((x,y), (r,g,b) )\n",
        "\n",
        "\n",
        "plt.imshow(image)\n",
        "# plt.xlim(400, 600)\n",
        "# plt.ylim(400, 523)"
      ],
      "metadata": {
        "colab": {
          "base_uri": "https://localhost:8080/",
          "height": 450
        },
        "id": "I7yUjeW8-7kD",
        "outputId": "55666191-a6bd-4d17-f16e-89eaa8af3596"
      },
      "id": "I7yUjeW8-7kD",
      "execution_count": 58,
      "outputs": [
        {
          "output_type": "execute_result",
          "data": {
            "text/plain": [
              "<matplotlib.image.AxesImage at 0x78977e567cd0>"
            ]
          },
          "metadata": {},
          "execution_count": 58
        },
        {
          "output_type": "display_data",
          "data": {
            "text/plain": [
              "<Figure size 640x480 with 1 Axes>"
            ],
            "image/png": "[encoded data removed]"
          },
          "metadata": {}
        }
      ]
    },
    {
      "cell_type": "code",
      "source": [],
      "metadata": {
        "id": "oRezzPQvAVyI"
      },
      "id": "oRezzPQvAVyI",
      "execution_count": null,
      "outputs": []
    }
  ],
  "metadata": {
    "kernelspec": {
      "display_name": "Python 3 (ipykernel)",
      "language": "python",
      "name": "python3"
    },
    "language_info": {
      "codemirror_mode": {
        "name": "ipython",
        "version": 3
      },
      "file_extension": ".py",
      "mimetype": "text/x-python",
      "name": "python",
      "nbconvert_exporter": "python",
      "pygments_lexer": "ipython3",
      "version": "3.10.9"
    },
    "colab": {
      "provenance": []
    }
  },
  "nbformat": 4,
  "nbformat_minor": 5
}