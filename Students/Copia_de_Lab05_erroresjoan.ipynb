{
  "cells": [
    {
      "cell_type": "markdown",
      "metadata": {
        "id": "8cvwr1w-con2"
      },
      "source": [
        "<a href=\"https://colab.research.google.com/github/hernansalinas/autogrades/blob/main/Laboratorios_Taller/Lab05_errores.ipynb\" target=\"_parent\"><img src=\"https://colab.research.google.com/assets/colab-badge.svg\" alt=\"Open In Colab\"/></a>"
      ]
    },
    {
      "cell_type": "markdown",
      "metadata": {
        "id": "z_gkZBk6K8TH"
      },
      "source": [
        "# Tipos de errores.\n",
        "\n",
        "Errores en la computación, ver libro [Computational Physics. ](https://www.dropbox.com/s/n06ul2r4l65khl6/Computational%20Physics%20-%20Problem%20Solving%20with%20Computers%2C%203527406263.pdf?dl=0)\n",
        ":\n",
        "\n",
        "\n",
        ">- ### Blunder or bad theory\n",
        "Errores tipográficos de entrada, errores en los datos, razonamientos teoricos malos, entre otros.\n",
        ">- ### Errores aleatorios.\n",
        "Impresiones causadas por eventos tales como fluctuaciones electronicas, rayos cósmicos. Se presentan rara vez, y y tiene una mayor probabilidad de ocurrir cuando los calculos se demoran del orden de semanas.\n",
        ">- ### Errores de aproximación:\n",
        "Se presentan por truncamiento de los modelos numéricos, por ejemplol si consideramos la serie asociada a la función\n",
        "$\\sin x$:\n",
        "\n",
        "\\begin{equation}\n",
        "\\sin x = \\sum_{n=1}^{\\infty} \\frac{(-1)^{n-1}x^{2n-1}}{(2n-1)!}\n",
        "\\end{equation}\n",
        "\n",
        "\n",
        "\\begin{equation}\n",
        "\\sin x = \\sum_{n=1}^{N} \\frac{(-1)^{n-1}x^{2n-1}}{(2n-1)!} + \\varepsilon(x, N)\n",
        "\\end{equation}\n",
        "\n",
        "\n",
        "> El error numérico  en el calculo computacional es del orden de  $\\varepsilon(x, N)$, dado que el computador debe truncar la serie en un N determinado.\n",
        "\n",
        "\n",
        ">- ### Errores de redondeo:\n",
        "Análogos a los errores  de  cantidad experimentales.\n"
      ]
    },
    {
      "cell_type": "markdown",
      "metadata": {
        "id": "OFqJhhVmLhdX"
      },
      "source": []
    },
    {
      "cell_type": "markdown",
      "metadata": {
        "id": "VVDQ_eH5Jjxw"
      },
      "source": [
        "# Errores de redondeo:\n",
        "## Cancelacion substractiva\n",
        "\n",
        "Sea $b_c = b (1+ \\epsilon)$ y Sea $c_c = c (1+ \\epsilon)$ La representacion de dos números en el computador.  Calculemos la diferencia entre estos dos números:\n",
        "\n",
        "\n",
        "$a_c = (b-c) + b\\epsilon_b -c\\epsilon_c = a+ b\\epsilon_b -c\\epsilon_c$\n",
        "\n",
        "$\\frac{a_c}{a} = 1 + \\frac{b}{a}\\epsilon_b -\\frac{c}{a}\\epsilon_c $\n",
        "\n",
        "$\\frac{a_c}{a} = 1 + \\frac{b}{a} \\max(\\epsilon_b,\\epsilon_c) $\n",
        "\n",
        "Si $b\\approx c$, el valor de a es un valor muy grande.\n",
        "\n",
        "\n",
        "\n"
      ]
    },
    {
      "cell_type": "code",
      "execution_count": null,
      "metadata": {
        "id": "O-SP8rPyDQ34"
      },
      "outputs": [],
      "source": [
        "import numpy as np"
      ]
    },
    {
      "cell_type": "code",
      "execution_count": null,
      "metadata": {
        "colab": {
          "base_uri": "https://localhost:8080/"
        },
        "id": "wqrGTlWw1OUR",
        "outputId": "6879b21f-c63b-48a1-f6a4-f4f4e930d249"
      },
      "outputs": [
        {
          "output_type": "stream",
          "name": "stdout",
          "text": [
            "1.9073486e-06\n",
            "4.632568359374996\n"
          ]
        }
      ],
      "source": [
        "print(np.float32(12.123452) - np.float32(12.123450))\n",
        "d= np.float32(12.123452) - np.float32(12.123450)\n",
        "valor_real = 0.000002\n",
        "\n",
        "\n",
        "error = abs(d - valor_real)/ valor_real * 100\n",
        "\n",
        "print(error)\n",
        "#(12.123452/valor_real)*1/(2**31)\n",
        "\n"
      ]
    },
    {
      "cell_type": "code",
      "execution_count": null,
      "metadata": {
        "colab": {
          "base_uri": "https://localhost:8080/"
        },
        "id": "AeDXTAN7OTcn",
        "outputId": "b62b2559-f0f2-42c6-932e-eb224ef8994b"
      },
      "outputs": [
        {
          "output_type": "stream",
          "name": "stdout",
          "text": [
            "0.0\n",
            "5.0\n",
            "¿Cual es la diferencia entre estas dos restas?\n"
          ]
        }
      ],
      "source": [
        "print(np.float32(1234567895) - np.float32(1234567890))\n",
        "print(np.float64(1234567895) - np.float64(1234567890))\n",
        "print(\"¿Cual es la diferencia entre estas dos restas?\")"
      ]
    },
    {
      "cell_type": "code",
      "execution_count": null,
      "metadata": {
        "colab": {
          "base_uri": "https://localhost:8080/"
        },
        "id": "O5uQVd-TZmPQ",
        "outputId": "edeefb85-5df9-44c5-ec8c-c4c2c3f003ed"
      },
      "outputs": [
        {
          "output_type": "stream",
          "name": "stdout",
          "text": [
            "4.0\n",
            "5.0\n",
            "¿Cual es la diferencia entre estas dos restas?\n"
          ]
        }
      ],
      "source": [
        "print(np.float32(12345675) - np.float32(12345671))\n",
        "print(np.float64(1234567895) - np.float64(1234567890))\n",
        "print(\"¿Cual es la diferencia entre estas dos restas?\")"
      ]
    },
    {
      "cell_type": "code",
      "execution_count": null,
      "metadata": {
        "colab": {
          "base_uri": "https://localhost:8080/"
        },
        "id": "gSutoSLxR7A1",
        "outputId": "ac890be3-f0f3-4dd3-fd1f-b5f8a7285857"
      },
      "outputs": [
        {
          "output_type": "execute_result",
          "data": {
            "text/plain": [
              "1.9073486328125e-06"
            ]
          },
          "metadata": {},
          "execution_count": 6
        }
      ],
      "source": [
        "xt = 12345678912.345678\n",
        "yt = 12345678912.345677\n",
        "xt-yt"
      ]
    },
    {
      "cell_type": "code",
      "execution_count": null,
      "metadata": {
        "colab": {
          "base_uri": "https://localhost:8080/"
        },
        "id": "7I__xYI7Sq98",
        "outputId": "5e6542aa-77b8-4778-b53b-057b0ab383a8"
      },
      "outputs": [
        {
          "output_type": "execute_result",
          "data": {
            "text/plain": [
              "-9.999999999999995e-17"
            ]
          },
          "metadata": {},
          "execution_count": 7
        }
      ],
      "source": [
        "xt = 0.0000000000000005\n",
        "yt = 0.0000000000000006\n",
        "xt-yt"
      ]
    },
    {
      "cell_type": "code",
      "execution_count": null,
      "metadata": {
        "colab": {
          "base_uri": "https://localhost:8080/"
        },
        "id": "vqwW1XbkYiOS",
        "outputId": "b3c0eeef-fe52-4ae7-e1df-541e3a0348c6"
      },
      "outputs": [
        {
          "output_type": "stream",
          "name": "stdout",
          "text": [
            "1.2345678912e-09\n"
          ]
        }
      ],
      "source": [
        "a = np.float16(1.2345678912345678912)-np.float16(1.2345678900000000000)\n",
        "r = 0.0000000012345678912\n",
        "print(r)"
      ]
    },
    {
      "cell_type": "markdown",
      "metadata": {
        "id": "D7wS4CRCMdcJ"
      },
      "source": [
        "## Errores de acumulación\n",
        "$\\epsilon_{ro}=\\sqrt{N}\\epsilon_m$\n"
      ]
    },
    {
      "cell_type": "code",
      "execution_count": null,
      "metadata": {
        "colab": {
          "base_uri": "https://localhost:8080/"
        },
        "id": "KJA7qyMPOkRH",
        "outputId": "46ed58f4-6e42-4678-ea8b-b55e3c56c25d"
      },
      "outputs": [
        {
          "output_type": "stream",
          "name": "stdout",
          "text": [
            "Valor a través de la suma:  100000.00149011612\n",
            "Valor exacto:  100000.0\n",
            "Error  1.4901161193847656e-06\n"
          ]
        }
      ],
      "source": [
        "#Con numeros de 32 bit.\n",
        "eps = np. float64(0)\n",
        "N = 1000000\n",
        "for i in range(0, N):\n",
        " eps = np.float32(0.1) + eps\n",
        "\n",
        "exac = N*0.1\n",
        "error = np.abs(exac-eps) / exac\n",
        "print(\"Valor a través de la suma: \", eps)\n",
        "print(\"Valor exacto: \",  exac)\n",
        "print(\"Error \", error*100 )\n"
      ]
    },
    {
      "cell_type": "markdown",
      "metadata": {
        "id": "rjPq2MFFObTp"
      },
      "source": [
        "\n",
        "## Errores de aproximación.\n",
        " $\\epsilon_{aprox}=\\frac{\\alpha}{N^{\\beta}}$\n"
      ]
    },
    {
      "cell_type": "markdown",
      "metadata": {
        "id": "uisq8TnEOftp"
      },
      "source": [
        "## Error total:\n",
        " $\\epsilon_{aprox} = \\epsilon_{ro}+\\epsilon_{aprox}$\n",
        "\n"
      ]
    },
    {
      "cell_type": "markdown",
      "metadata": {
        "id": "4XGEWL7NN1H-"
      },
      "source": [
        "# Errores de una serie\n",
        "\n",
        "- ¿Converge la serie?\n",
        "- ¿Qué tan preciso es la convergencia?\n",
        "- Costo computacional\n",
        "\n",
        "\n",
        "## Error de una serie\n",
        "Sea $x$ el valor verdadero y $x^*$ el valor aproximado\n",
        "\n",
        "- Error absoluto : se define como\n",
        "\\begin{equation*}\n",
        "\\epsilon_{abs}= |x-x^*|\n",
        "\\end{equation*}\n",
        "- Error relativo : es dado por\n",
        "\\begin{equation*}\n",
        "\\epsilon_{rel}= \\frac{|x-x^*|}{|x|}\n",
        "\\end{equation*}\n",
        "- Error en series : El error para truncar una serie se toma como\n",
        "\\begin{equation*}\n",
        "\\epsilon_{aprox}= \\left|\\frac{nth\\hbox{-term}}{\\hbox{suma}}\\right|< \\hbox{eps}\n",
        "\\end{equation*}\n",
        "La tolerancia normalmente se toma como un número pequeño, por ejemplo `eps` $=10^{-10}$. Note que no se trunca la serie usando $|{nth}\\hbox{-term}|<$ eps,   usar esta forma puede conducir a errores debido a que no se compara con el valor de la suma (un millon compardo a uno es grande, pero comparado a diez mil millones es pequeño).\n",
        "\n",
        "Tomemos como ejemplo otra vez el cálculo de la serie del seno,\n"
      ]
    },
    {
      "cell_type": "markdown",
      "metadata": {
        "id": "reiKGKshRPay"
      },
      "source": [
        "# Laboratorio\n",
        "\n",
        "## 1. Exponencial, serie alternante (serieEn)\n",
        "Objetivo: Analizar el uso de la cancelación substractiva\n",
        "\n",
        "\n",
        "Copia textual del libro  [Computational Physics. ](https://www.dropbox.com/s/n06ul2r4l65khl6/Computational%20Physics%20-%20Problem%20Solving%20with%20Computers%2C%203527406263.pdf?dl=0)\n",
        "\n",
        "- Write a program that calculates $e^{-x}$\n",
        "\n",
        "\\begin{equation}\n",
        "e^{-x}=\\sum_{n=0}^{N}  (-1)^n \\frac{x^{n}}{n!}\n",
        "\\end{equation}\n",
        "\n",
        "\n",
        "- Calculate your series for $x \\le 1$ and compare it to the built-in function\n",
        "exp(x) (you may assume that the built-in exponential function is exact).\n",
        "You should pick an N for which the next term in the series is no more\n",
        "than $10^{-7}$ of the sum up to that point\n",
        "\n",
        "\\begin{equation}\n",
        "\\left| \\frac{(-x)^{N+1}}{(N+1)!} \\right | \\le \\left| 10^{-7} \\sum_{N=0}^{N} \\frac{(-x)^{n}}{n!} \\right|\n",
        "\\end{equation}\n",
        "\n",
        "- Examine the terms in the series for $x\\approx 10$ and observe the significant subtractive cancellations that occur when large terms add together to give small answers. In particular, print out the near-perfect cancellation\n",
        "at $n \\approx x − 1$.\n",
        "\n",
        "- See if better precision is obtained by being clever and using exp(−x) = 1/ exp(x) for large x values. This eliminates subtractive cancellation, but does not eliminate all roundoff errors\n",
        "\n",
        "- By progressively increasing x from 1 to 10, and then from 10 to 100, use your program to determine experimentally when the series starts to lose accuracy, and when the series no longer converges\n",
        "\n",
        "- Make a series of graphs of the error versus N for different values of x."
      ]
    },
    {
      "cell_type": "markdown",
      "source": [
        "Write a program that calculates  e−x"
      ],
      "metadata": {
        "id": "7jmLmdlH47Pg"
      }
    },
    {
      "cell_type": "code",
      "source": [
        "import numpy as np\n",
        "import matplotlib.pyplot as plt\n",
        "from math import factorial"
      ],
      "metadata": {
        "id": "rnXYfH0U4415"
      },
      "execution_count": null,
      "outputs": []
    },
    {
      "cell_type": "code",
      "source": [
        "def exponencial(x,N):\n",
        "  exp=0\n",
        "  for i in range(N):\n",
        "    exp += (-1) ** i * (x**i / factorial(i))\n",
        "\n",
        "  return exp"
      ],
      "metadata": {
        "id": "fjaLgkhM5CBr"
      },
      "execution_count": null,
      "outputs": []
    },
    {
      "cell_type": "markdown",
      "source": [
        "Calculate your series for  x≤1  and compare it to the built-in function exp(x) (you may assume that the built-in exponential function is exact). You should pick an N for which the next term in the series is no more than  10−7  of the sum up to that point"
      ],
      "metadata": {
        "id": "8i3YNOfV7RIf"
      }
    },
    {
      "cell_type": "code",
      "source": [
        "x=0.1\n",
        "N =100\n",
        "e1 = exponencial(x,N)\n",
        "print(f\"El valor obtenido es {e1}\")"
      ],
      "metadata": {
        "colab": {
          "base_uri": "https://localhost:8080/"
        },
        "id": "vwSsyvQa9ER1",
        "outputId": "7afcf083-a05c-43c2-ab5e-b14b78640abf"
      },
      "execution_count": null,
      "outputs": [
        {
          "output_type": "stream",
          "name": "stdout",
          "text": [
            "El valor obtenido es 0.9048374180359596\n"
          ]
        }
      ]
    },
    {
      "cell_type": "code",
      "source": [
        "e_exacto = np.exp(-x)\n",
        "print(\"El valor obtenido con la funcion incorporada es \",e_exacto)\n"
      ],
      "metadata": {
        "colab": {
          "base_uri": "https://localhost:8080/"
        },
        "id": "pBiOaU3w7S5b",
        "outputId": "fd80f382-caa3-407b-8235-363099d60c3f"
      },
      "execution_count": null,
      "outputs": [
        {
          "output_type": "stream",
          "name": "stdout",
          "text": [
            "El valor obtenido con la funcion incorporada es  0.9048374180359595\n"
          ]
        }
      ]
    },
    {
      "cell_type": "code",
      "source": [
        "print(\"La diferencia entre el valor obtenido por las dos formas es \", abs(e_exacto - e1))"
      ],
      "metadata": {
        "colab": {
          "base_uri": "https://localhost:8080/"
        },
        "id": "dO80Ws1i9M33",
        "outputId": "3ca29595-b3ae-4f8c-b82d-468d37e8f1ee"
      },
      "execution_count": null,
      "outputs": [
        {
          "output_type": "stream",
          "name": "stdout",
          "text": [
            "La diferencia entre el valor obtenido por las dos formas es  1.1102230246251565e-16\n"
          ]
        }
      ]
    },
    {
      "cell_type": "code",
      "source": [
        "def exponencial_truncado(x,N):\n",
        "  l=[]\n",
        "  ex = exponencial(x,N)\n",
        "\n",
        "  limite = abs(1e-7 * ex)\n",
        "  exp_= 0\n",
        "\n",
        "  for i in range(N):\n",
        "    exp_ = abs((-x) **(i+1) / factorial(i+1))\n",
        "    l.append(exp_)\n",
        "    if exp_<= limite:\n",
        "      break\n",
        "  exp = exponencial(x,i)\n",
        "  return exp, i,l"
      ],
      "metadata": {
        "id": "vkiNQdX5GIzY"
      },
      "execution_count": null,
      "outputs": []
    },
    {
      "cell_type": "code",
      "source": [
        "x=0.1\n",
        "N = 100\n",
        "\n",
        "print(\"el valor de la serie es \", exponencial(x,N))\n",
        "print(\"valor de serie truncada es \",exponencial_truncado(x,N)[0])\n",
        "print(\"El termino N para el cual el siguiente término de la serie no sea más que 10−7 de la suma hasta ese punto es: \" ,exponencial_truncado(x,N)[1])\n"
      ],
      "metadata": {
        "colab": {
          "base_uri": "https://localhost:8080/"
        },
        "id": "WBgstqtYHdUl",
        "outputId": "d6bd567d-db03-4950-8932-73ae4a3945eb"
      },
      "execution_count": null,
      "outputs": [
        {
          "output_type": "stream",
          "name": "stdout",
          "text": [
            "el valor de la serie es  0.9048374180359596\n",
            "valor de serie truncada es  0.9048333333333334\n",
            "El termino N para el cual el siguiente término de la serie no sea más que 10−7 de la suma hasta ese punto es:  4\n"
          ]
        }
      ]
    },
    {
      "cell_type": "markdown",
      "source": [
        "Examine the terms in the series for  x≈10  and observe the significant subtractive cancellations that occur when large terms add together to give small answers. In particular, print out the near-perfect cancellation at  n≈x−1 ."
      ],
      "metadata": {
        "id": "fNhLrgq3Ix6L"
      }
    },
    {
      "cell_type": "code",
      "source": [
        "# PARA X=10\n",
        "sub = (exponencial_truncado(10,N)[2])\n",
        "sub"
      ],
      "metadata": {
        "id": "WDBhmcxhIyvL",
        "colab": {
          "base_uri": "https://localhost:8080/"
        },
        "outputId": "f91f83e1-66de-4237-d595-83740a985c0a"
      },
      "execution_count": null,
      "outputs": [
        {
          "output_type": "execute_result",
          "data": {
            "text/plain": [
              "[10.0,\n",
              " 50.0,\n",
              " 166.66666666666666,\n",
              " 416.6666666666667,\n",
              " 833.3333333333334,\n",
              " 1388.888888888889,\n",
              " 1984.126984126984,\n",
              " 2480.15873015873,\n",
              " 2755.731922398589,\n",
              " 2755.731922398589,\n",
              " 2505.210838544172,\n",
              " 2087.67569878681,\n",
              " 1605.9043836821616,\n",
              " 1147.0745597729724,\n",
              " 764.7163731819817,\n",
              " 477.9477332387385,\n",
              " 281.14572543455205,\n",
              " 156.19206968586226,\n",
              " 82.2063524662433,\n",
              " 41.10317623312165,\n",
              " 19.572941063391262,\n",
              " 8.896791392450574,\n",
              " 3.868170170630684,\n",
              " 1.6117375710961184,\n",
              " 0.6446950284384474,\n",
              " 0.24795962632247975,\n",
              " 0.09183689863795547,\n",
              " 0.03279889237069838,\n",
              " 0.011309962886447717,\n",
              " 0.003769987628815906,\n",
              " 0.001216125041553518,\n",
              " 0.00038003907548547436,\n",
              " 0.0001151633562077195,\n",
              " 3.3871575355211616e-05,\n",
              " 9.677592958631891e-06,\n",
              " 2.6882202662866364e-06,\n",
              " 7.265460179153071e-07,\n",
              " 1.9119632050402818e-07,\n",
              " 4.9024697565135436e-08,\n",
              " 1.2256174391283859e-08,\n",
              " 2.9893108271424046e-09,\n",
              " 7.11740673129144e-10,\n",
              " 1.6552108677421953e-10,\n",
              " 3.761842881232262e-11,\n",
              " 8.359650847182803e-12,\n",
              " 1.817315401561479e-12]"
            ]
          },
          "metadata": {},
          "execution_count": 17
        }
      ]
    },
    {
      "cell_type": "code",
      "source": [
        "#OBSERVAMOS QUE EN EN LOS TERMINOS n=X-1 = 10-1=9 y en n=8, LA CANCELACION ES PERFECTA\n",
        "sub[9],sub[8]\n",
        "print(\"su diferencia es \", sub[9]-sub[8])"
      ],
      "metadata": {
        "colab": {
          "base_uri": "https://localhost:8080/"
        },
        "id": "FEI0pBYQfcGL",
        "outputId": "407ce69a-6d19-450b-ed8f-b89948b309f4"
      },
      "execution_count": null,
      "outputs": [
        {
          "output_type": "stream",
          "name": "stdout",
          "text": [
            "su diferencia es  0.0\n"
          ]
        }
      ]
    },
    {
      "cell_type": "markdown",
      "source": [
        "See if better precision is obtained by being clever and using exp(−x) = 1/ exp(x) for large x values. This eliminates subtractive cancellation, but does not eliminate all roundoff error"
      ],
      "metadata": {
        "id": "jkm6bTX1g6-9"
      }
    },
    {
      "cell_type": "code",
      "source": [
        "\n",
        "def invertida(x,N):\n",
        "\n",
        "  exp = 0\n",
        "  for i in range(N):\n",
        "    exp  += x** i / factorial(i)  # exponencial es igual a eso\n",
        "\n",
        "  return 1/exp"
      ],
      "metadata": {
        "id": "yaeJWjJ9g8BZ"
      },
      "execution_count": null,
      "outputs": []
    },
    {
      "cell_type": "code",
      "source": [
        "x=10\n",
        "N = 10\n",
        "\n",
        "exacto = np.exp(-x)\n",
        "\n",
        "\n",
        "print(\"el valor de la serie construida es \", exponencial(x,N))\n",
        "print(\"valor de serie invertida  es \",invertida(x,N))\n",
        "print(\" el valor de la serie establecida con una funcion de numpy es \",exacto)"
      ],
      "metadata": {
        "colab": {
          "base_uri": "https://localhost:8080/"
        },
        "id": "1PsgVvYAiD2c",
        "outputId": "a3b335de-8cbb-4a46-bb65-f5cf72ad3b10"
      },
      "execution_count": null,
      "outputs": [
        {
          "output_type": "stream",
          "name": "stdout",
          "text": [
            "el valor de la serie construida es  -1413.1446208112875\n",
            "valor de serie invertida  es  9.914169866623816e-05\n",
            " el valor de la serie establecida con una funcion de numpy es  4.5399929762484854e-05\n"
          ]
        }
      ]
    },
    {
      "cell_type": "markdown",
      "source": [
        "En efecto con la serie invertida se logra mas precision ya que se elimina la cancelacion sustractiva, sin embargo persiste el error de redondeo"
      ],
      "metadata": {
        "id": "iMmvZC63jgGQ"
      }
    },
    {
      "cell_type": "markdown",
      "source": [
        "By progressively increasing x from 1 to 10, and then from 10 to 100, use your program to determine experimentally when the series starts to lose accuracy, and when the series no longer converges"
      ],
      "metadata": {
        "id": "RR8g_fOij6Ea"
      }
    },
    {
      "cell_type": "code",
      "source": [
        "#DE 1 A 10\n",
        "n = 10\n",
        "N = np.arange(1,n,1)\n",
        "\n",
        "\n",
        "exp_normal  = np.zeros(len(N))\n",
        "\n",
        "exp_invertida = np.zeros(len(N))\n",
        "\n",
        "\n",
        "for i,n in enumerate(N):\n",
        "  exp_normal[i] =exponencial(x,n)\n",
        "\n",
        "  exp_invertida[i] = invertida(x,n)"
      ],
      "metadata": {
        "id": "q9XHvuC-j7CV"
      },
      "execution_count": null,
      "outputs": []
    },
    {
      "cell_type": "code",
      "source": [
        "plt.plot(N,exp_normal,\"g-\", label = \"alternante\")\n",
        "plt.plot(N,exp_invertida,\"r--\", label = \"invertida\")\n",
        "plt.legend()\n",
        "plt.xlabel(\"Iteraciones\")\n",
        "plt.ylabel(\"valor\")\n",
        "plt.grid()\n",
        "plt.show()"
      ],
      "metadata": {
        "colab": {
          "base_uri": "https://localhost:8080/",
          "height": 449
        },
        "id": "ZDtztIHirJ4G",
        "outputId": "4c5bbfd1-1f91-4a6d-b516-60a7517c7f62"
      },
      "execution_count": null,
      "outputs": [
        {
          "output_type": "display_data",
          "data": {
            "text/plain": [
              "<Figure size 640x480 with 1 Axes>"
            ],
            "image/png": "[encoded data removed]"
          },
          "metadata": {}
        }
      ]
    },
    {
      "cell_type": "markdown",
      "source": [
        "La serie  no invertida(alternante) ya no  converge a partir de la iteración numero 2 (cuando N incrementa de 1 a 10)  ,  mientras que en la funcion invertida si converge a cero desde el inicio. En la serie alternante se pierde precisión a partir de la iteración numero 2 ya que se aleja del valor cero"
      ],
      "metadata": {
        "id": "rwbI9qr-rPrO"
      }
    },
    {
      "cell_type": "code",
      "source": [
        "#DE 10 A 100\n",
        "n = 100\n",
        "N = np.arange(10,n,1)\n",
        "\n",
        "\n",
        "exp_normal  = np.zeros(len(N))\n",
        "\n",
        "exp_invertida = np.zeros(len(N))\n",
        "\n",
        "\n",
        "for i,n in enumerate(N):\n",
        "  exp_normal[i] =exponencial(x,n)\n",
        "\n",
        "  exp_invertida[i] = invertida(x,n)"
      ],
      "metadata": {
        "id": "fjlIq7MVsnnZ"
      },
      "execution_count": null,
      "outputs": []
    },
    {
      "cell_type": "code",
      "source": [
        "plt.plot(N,exp_normal,\"g-\", label = \"alternante\")\n",
        "plt.plot(N,exp_invertida,\"r--\", label = \"invertida\")\n",
        "plt.legend()\n",
        "plt.xlabel(\"Iteraciones\")\n",
        "plt.ylabel(\"valor\")\n",
        "plt.grid()\n",
        "plt.show()"
      ],
      "metadata": {
        "colab": {
          "base_uri": "https://localhost:8080/",
          "height": 449
        },
        "id": "qiCc-EUxsyJW",
        "outputId": "b88a47ad-029a-4449-a520-676e30d85620"
      },
      "execution_count": null,
      "outputs": [
        {
          "output_type": "display_data",
          "data": {
            "text/plain": [
              "<Figure size 640x480 with 1 Axes>"
            ],
            "image/png": "[encoded data removed]"
          },
          "metadata": {}
        }
      ]
    },
    {
      "cell_type": "markdown",
      "source": [
        "De N=10  a N=100 la serie alterante comienza a converger desde la iteración numero 10, y converge muy cerca al cero en la iteracion numero 20 donde la precisicion comienza a ser mas alta. La serie invertida siempre se mantiene en un valor igual a cero"
      ],
      "metadata": {
        "id": "C022w3hTs_UQ"
      }
    },
    {
      "cell_type": "markdown",
      "metadata": {
        "id": "GbYxjmS6cooG"
      },
      "source": [
        "## 2. Cancelación sustractiva\n",
        "\n",
        "\n",
        "\n",
        "**serieSn**. Un ejemplo de la cancelacion substractiva es en la suma de series alternantes. Considere la serie $\\mathrm{S}_N$,  escrita  matematicamente de tres formas diferentes:\n",
        "\n",
        "-\n",
        "\\begin{equation}\n",
        "\\mathrm{S}_N^{(1)} = \\sum_{n = 1}^{2N} (-1)^n \\frac{n}{n+1}\n",
        "\\end{equation}\n",
        "\n",
        "- Sumando números pares e impares.\n",
        "\n",
        "\\begin{equation}\n",
        "\\mathrm{S}_N^{(2)} = -\\sum_{n = 1}^{N}\\frac{2n-1}{2n} + \\sum_{n=1}^{N} \\frac{2n}{2n+1}\n",
        "\\end{equation}\n",
        "\n",
        "- Combinando las series de una forma analítica\n",
        "\n",
        "\\begin{equation}\n",
        "\\mathrm{S}_N^{(3)} = \\sum_{n = 1}^{N}\\frac{1}{2n(2n+1)}\n",
        "\\end{equation}\n",
        "\n",
        "\n",
        "\n",
        "Las tres sumas $\\mathrm{S}_N^{(1)}$, $\\mathrm{S}_N^{(2)}$ y $\\mathrm{S}_N^{(3)}$ son matemáticamente iguales, pero los resultados  pueden tener resultados numéricos diferentes.\n",
        "\n",
        "\n",
        "- Escribir un programa que realice el cálculo de $\\mathrm{S}_N^{(1)}$, $\\mathrm{S}_N^{(2)}$ y $\\mathrm{S}_N^{(3)}$\n",
        "- Estudiar la convergencia de la serie para los tres casos.\n",
        "- Considere  que $S_N^{(3)}$ es la solución exacta, realizar dos graficos log-log, del error relativo en función\n",
        "del número de términos ($\\mathrm{Log_{10}} E$ VS $\\mathrm{Log_{10}} N$), para $S_N^{(1)}$ y $S_N^{(2)}$. Donde,  $E = |(S_N^{(i)} - S_N^{(3)})/S_N^{(3)}|$, i = 1, 2. Considere valores de $N = 1\\times 10^{6}$.\n",
        "- Analizar y discutir los resultados. Tenga en cuenta la discusión realizada sobre teoría de errores en la página\n",
        "39 del libro del libro [Computational Physics. ](https://www.dropbox.com/s/n06ul2r4l65khl6/Computational%20Physics%20-%20Problem%20Solving%20with%20Computers%2C%203527406263.pdf?dl=0)\n",
        "\n",
        "\n"
      ]
    },
    {
      "cell_type": "markdown",
      "source": [
        "Escribir un programa que realice el cálculo de S(1)N, S(2)N y  y  S(3)N"
      ],
      "metadata": {
        "id": "aNBMvzsr1kNr"
      }
    },
    {
      "cell_type": "code",
      "source": [
        "def SN1(N):\n",
        "  s = 0\n",
        "  N = 2 * N\n",
        "  for i in range(1,N+1):\n",
        "    s += (i / (i+1)) * ((-1) ** i)\n",
        "  return s\n",
        "\n",
        "\n",
        "SN1(100)"
      ],
      "metadata": {
        "id": "jrJHV2zXg542",
        "colab": {
          "base_uri": "https://localhost:8080/"
        },
        "outputId": "4eb379fb-4d73-4235-8c83-f4e61b7643f7"
      },
      "execution_count": null,
      "outputs": [
        {
          "output_type": "execute_result",
          "data": {
            "text/plain": [
              "0.30437144514006564"
            ]
          },
          "metadata": {},
          "execution_count": 25
        }
      ]
    },
    {
      "cell_type": "code",
      "source": [
        "def SN2(N):\n",
        "  s_par = 0\n",
        "  s_impar = 0\n",
        "\n",
        "  for i in range(1,N+1):\n",
        "    s_par +=  ((2 * i) - 1)/ (2*i)\n",
        "\n",
        "  for i in range(1,N+1):\n",
        "    s_impar += (2*i) / (2*i + 1)\n",
        "\n",
        "  s= ((-1) * s_par ) + s_impar\n",
        "\n",
        "\n",
        "  return s\n",
        "\n",
        "SN2(100)\n"
      ],
      "metadata": {
        "colab": {
          "base_uri": "https://localhost:8080/"
        },
        "id": "5nfyzKge2ux6",
        "outputId": "6de1c8eb-73c0-4de5-eb34-b49b7d61638d"
      },
      "execution_count": null,
      "outputs": [
        {
          "output_type": "execute_result",
          "data": {
            "text/plain": [
              "0.30437144514002057"
            ]
          },
          "metadata": {},
          "execution_count": 26
        }
      ]
    },
    {
      "cell_type": "code",
      "source": [
        "def SN3(N):\n",
        "  s = 0\n",
        "  for i in range(1,N + 1):\n",
        "   s +=  1 / ((2 * i) * (2* i +1 ))\n",
        "\n",
        "  return s\n",
        "\n",
        "SN3(100)"
      ],
      "metadata": {
        "colab": {
          "base_uri": "https://localhost:8080/"
        },
        "id": "w_W2gIvP-i3p",
        "outputId": "760fdcc3-b36a-492b-9275-f88f6f589840"
      },
      "execution_count": null,
      "outputs": [
        {
          "output_type": "execute_result",
          "data": {
            "text/plain": [
              "0.3043714451400664"
            ]
          },
          "metadata": {},
          "execution_count": 27
        }
      ]
    },
    {
      "cell_type": "markdown",
      "source": [
        "Estudiar la convergencia de la serie para los tres casos."
      ],
      "metadata": {
        "id": "Kxw8ujNOAc8C"
      }
    },
    {
      "cell_type": "code",
      "source": [
        "#PARA LAS 3 SERIES SE HACE UNA GRAFICA\n",
        "n = 100\n",
        "N = np.arange(1,n+1,1)\n",
        "\n",
        "\n",
        "serie1  = np.zeros(len(N))\n",
        "\n",
        "serie2  = np.zeros(len(N))\n",
        "\n",
        "serie3  = np.zeros(len(N))\n",
        "\n",
        "\n",
        "for i,n in enumerate(N):\n",
        "  serie1[i] = SN1(n)\n",
        "  serie2[i] = SN2(n)\n",
        "  serie3[i] = SN3(n)\n",
        "\n",
        "\n",
        "plt.plot(N,serie1,\"go-\",markersize = \"10\", label =\"Serie 1 \")\n",
        "plt.plot(N,serie2,\"ro-\" , label =\"Serie 2 \")\n",
        "plt.plot(N,serie3,\"bo-\",markersize = \"2\" , label =\"Serie 3 \")\n",
        "plt.legend()\n",
        "plt.xlabel(\"Iteraciones\")\n",
        "plt.ylabel(\"valor\")\n",
        "plt.grid()\n",
        "plt.show();\n"
      ],
      "metadata": {
        "colab": {
          "base_uri": "https://localhost:8080/",
          "height": 449
        },
        "id": "Dq_bN4AFAdyr",
        "outputId": "0905e2e6-953d-4e75-f09b-e12cbaa98db8"
      },
      "execution_count": null,
      "outputs": [
        {
          "output_type": "display_data",
          "data": {
            "text/plain": [
              "<Figure size 640x480 with 1 Axes>"
            ],
            "image/png": "[encoded data removed]"
          },
          "metadata": {}
        }
      ]
    },
    {
      "cell_type": "code",
      "source": [
        "print(\"Para N=\",n, \"La serie 1 converge en \", SN1(n),\",La serie 2 converge en \", SN2(n),\", La serie 3 converge en \", SN3(n))"
      ],
      "metadata": {
        "colab": {
          "base_uri": "https://localhost:8080/"
        },
        "id": "nY4a0HjudV7Q",
        "outputId": "d3cdd505-d307-45e0-95c3-80dbd80225d8"
      },
      "execution_count": null,
      "outputs": [
        {
          "output_type": "stream",
          "name": "stdout",
          "text": [
            "Para N= 100 La serie 1 converge en  0.30437144514006564 ,La serie 2 converge en  0.30437144514002057 , La serie 3 converge en  0.3043714451400664\n"
          ]
        }
      ]
    },
    {
      "cell_type": "markdown",
      "source": [
        "Considere que  S(3)N  es la solución exacta, realizar dos graficos log-log, del error relativo en función del número de términos ( Log10E  VS"
      ],
      "metadata": {
        "id": "PZ_5IPCyb0dU"
      }
    },
    {
      "cell_type": "code",
      "source": [
        "#PARA LAS 3 SERIES SE HACE UNA GRAFICA\n",
        "# SE DEMORA UN MINUTO  EN CARGAR YA QUE ES 10**6\n",
        "n = 10**6\n",
        "N = np.arange(1,n+1,100000)\n",
        "\n",
        "\n",
        "\n",
        "E1  = np.zeros(len(N))\n",
        "\n",
        "E2  = np.zeros(len(N))\n",
        "\n",
        "\n",
        "for i,n in enumerate(N):\n",
        "  E1[i] = abs (((SN1(n)) - (SN3(n))) /(SN3(n)))\n",
        "  E2[i] = abs (((SN2(n)) - (SN3(n))) /(SN3(n)))\n",
        "\n",
        "\n",
        "E1 = np.log10(E1)\n",
        "E2 = np.log10(E2)\n",
        "\n",
        "N_l = np.log10(N)\n",
        "\n"
      ],
      "metadata": {
        "id": "ht6xOFC3b2S8"
      },
      "execution_count": null,
      "outputs": []
    },
    {
      "cell_type": "code",
      "source": [
        "plt.plot(N_l,E1,\"ro-\",markersize = \"6\", label =\"Serie 1 \")\n",
        "plt.plot(N_l,E2,\"bo-\",markersize = \"3\" , label =\"Serie 2 \")\n",
        "plt.legend()\n",
        "plt.xlabel(\"Log Iteraciones\")\n",
        "plt.ylabel(\"Log E \")\n",
        "plt.title(\"Log E vs Log N \")\n",
        "plt.grid()\n",
        "plt.show();"
      ],
      "metadata": {
        "colab": {
          "base_uri": "https://localhost:8080/",
          "height": 472
        },
        "id": "-rkrEOusU7Wv",
        "outputId": "c7abaca5-1e2d-4182-f8cf-48f291033c55"
      },
      "execution_count": null,
      "outputs": [
        {
          "output_type": "display_data",
          "data": {
            "text/plain": [
              "<Figure size 640x480 with 1 Axes>"
            ],
            "image/png": "[encoded data removed]"
          },
          "metadata": {}
        }
      ]
    },
    {
      "cell_type": "markdown",
      "source": [
        "Analizar y discutir los resultados. Tenga en cuenta la discusión realizada sobre teoría de errores en la página 39 del libro del libro"
      ],
      "metadata": {
        "id": "ToK1FYsKANPY"
      }
    },
    {
      "cell_type": "code",
      "source": [],
      "metadata": {
        "id": "hzsadJQAxAR_"
      },
      "execution_count": null,
      "outputs": []
    },
    {
      "cell_type": "markdown",
      "source": [
        "\n",
        "\n",
        "```\n",
        "# Esto tiene formato de código\n",
        "```\n",
        "\n",
        "Sabemos que algunas series convergen si se usan suficientes términos. Si se  desea más precisión en ello , se pueden usar  más iteraciones, pero el asunto no estan sencillo. Ya que a medida\n",
        "que en el algoritmo se  incluye más términos, aumentan los errores de redondeo.\n",
        "\n",
        "Hay que poner en balanza dos tipos de errores : los errores de aproximacion o algoritmicos y los errores de redondeo. Los errores de aproximacion son proporcionales al inverso del numero de iteraciones elevado a una potencia. Esto implica que a a mayor numero de iteraciones el error de aproximacion disminuye significativamente.\n",
        "Mientras que el error de redondeo es proporcional a la raiz cuadrada del numero de iteraciones, por lo que aumenta  suavemente a medida que N se eleva.\n",
        "\n",
        "Lo expuesto en este parrafo  se cumple en las series 1 y 2. Como se observa en la anterior grafica , el logaritmo del error se eleva a medida que aumenta el logaritmo de las iteraciones. Este ascenso  del error puede deberse a una prevalencia del  aumento  del error de redondeo sobre  la disminucion  del error de aproximacion.\n",
        "\n",
        "Lo anterior se explica con lo siguiente: Aunque la elevacion del error de redondeo suele ser mas suave que la del error de aproximacion, el numero de iteraciones es muy alto en este caso y puede dar mayor peso al error de redondeo.\n",
        "\n",
        "Por otra parte, se observa en la grafica que las curvas de las dos series no coinciden . En la serie 2 hay una mayor tendencia al aumento del error que en la serie 1. Esto puede deberse, tal vez, a los efectos provocados por la cancelacion sustractiva"
      ],
      "metadata": {
        "id": "JUZyJBNy8Qwv"
      }
    }
  ],
  "metadata": {
    "colab": {
      "provenance": []
    },
    "kernelspec": {
      "display_name": "Python 3 (ipykernel)",
      "language": "python",
      "name": "python3"
    },
    "language_info": {
      "codemirror_mode": {
        "name": "ipython",
        "version": 3
      },
      "file_extension": ".py",
      "mimetype": "text/x-python",
      "name": "python",
      "nbconvert_exporter": "python",
      "pygments_lexer": "ipython3",
      "version": "3.10.9"
    }
  },
  "nbformat": 4,
  "nbformat_minor": 0
}