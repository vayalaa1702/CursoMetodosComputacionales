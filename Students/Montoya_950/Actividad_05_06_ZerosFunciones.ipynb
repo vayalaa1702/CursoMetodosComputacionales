{
  "cells": [
    {
      "cell_type": "markdown",
      "id": "3a6dc6a1",
      "metadata": {
        "id": "3a6dc6a1"
      },
      "source": [
        "<a href=\"https://colab.research.google.com/github/hernansalinas/autogrades/blob/main/Actividades_clase/Actividad_05_06_ZerosFunciones.ipynb\" target=\"_parent\"><img src=\"https://colab.research.google.com/assets/colab-badge.svg\" alt=\"Open In Colab\"/></a>\n",
        "\n",
        "\n",
        "\n",
        "# Actividad 5\n",
        "### Métodos computacionales para físicos  y astrónomos\n",
        "### Universidad de Antioquia\n",
        "### Prof: Hernan D. Salinas Jiménez\n",
        "Ref: https://github.com/restrepo/ComputationalMethods"
      ]
    },
    {
      "cell_type": "markdown",
      "id": "8e59c672",
      "metadata": {
        "id": "8e59c672"
      },
      "source": [
        "1. Implementar el metodo de la bisección para determinar las raices de una función.\n",
        "2. Implementar el metodo de la newton para determinar las raices de una función.\n",
        "\n",
        "Prueba tu resultado para:\n"
      ]
    },
    {
      "cell_type": "markdown",
      "id": "ee7acda4",
      "metadata": {
        "id": "ee7acda4"
      },
      "source": [
        "  \n",
        " 2. $a e^{x}-2= b\\cos(e^x-2)$"
      ]
    },
    {
      "cell_type": "code",
      "source": [
        "import numpy as np\n",
        "import matplotlib.pyplot as plt\n",
        "from scipy import optimize"
      ],
      "metadata": {
        "id": "1adWakRTSstv"
      },
      "id": "1adWakRTSstv",
      "execution_count": 12,
      "outputs": []
    },
    {
      "cell_type": "markdown",
      "source": [
        "##Solución"
      ],
      "metadata": {
        "id": "X1d1qBSragoS"
      },
      "id": "X1d1qBSragoS"
    },
    {
      "cell_type": "markdown",
      "source": [
        "Implementar el metodo de Newton para determinar las raices de una función."
      ],
      "metadata": {
        "id": "0fkPbgyqaipX"
      },
      "id": "0fkPbgyqaipX"
    },
    {
      "cell_type": "code",
      "execution_count": 11,
      "id": "d0073dbf",
      "metadata": {
        "id": "d0073dbf",
        "colab": {
          "base_uri": "https://localhost:8080/"
        },
        "outputId": "846d5e71-0b4e-4fef-bb94-9e9de5dbcbad"
      },
      "outputs": [
        {
          "output_type": "stream",
          "name": "stdout",
          "text": [
            "una raiz de f es: x = 1.0076239716581368\n"
          ]
        }
      ],
      "source": [
        "def f(x,a,b):\n",
        "  return (a*np.e**x)-2-b*np.cos((np.e**x)-2)\n",
        "def df(x,a,b):\n",
        "  return (a*np.e**x)+b*np.sin((np.e**x)-2)*np.e**x\n",
        "\n",
        "def metodo_de_newton(f,df,xo,epsilon,a,b):\n",
        "  if f(xo,a,b)==0:\n",
        "    return print(f\"Una raiz de f es: x={xo}\")\n",
        "  else:\n",
        "    for i in range(100):\n",
        "      x1 = xo-f(xo,a,b)/df(xo,a,b)\n",
        "      xo=x1\n",
        "      if abs(f(x1,a,b))<epsilon:\n",
        "        return print(f\"una raiz de f es: x = {x1}\")\n",
        "  if abs(f(x1,a,b))>epsilon:\n",
        "    return print(f\"La función {f} no tiene raices\")\n",
        "metodo_de_newton(f,df,1,1e-11,a,b)"
      ]
    },
    {
      "cell_type": "markdown",
      "source": [
        "Verificar por medio de scipy"
      ],
      "metadata": {
        "id": "v9Z8EbIEawYe"
      },
      "id": "v9Z8EbIEawYe"
    },
    {
      "cell_type": "code",
      "source": [
        "raiz = optimize.newton(f,1,df,args=(1,1))\n",
        "print(raiz)"
      ],
      "metadata": {
        "colab": {
          "base_uri": "https://localhost:8080/"
        },
        "id": "_eaZMSF9VLBG",
        "outputId": "74e2815c-6388-4472-e276-a1fd76bd71ec"
      },
      "id": "_eaZMSF9VLBG",
      "execution_count": 18,
      "outputs": [
        {
          "output_type": "stream",
          "name": "stdout",
          "text": [
            "1.0076239716581368\n"
          ]
        }
      ]
    },
    {
      "cell_type": "markdown",
      "source": [
        "Implementar el metodo de la bisección para determinar las raices de una función."
      ],
      "metadata": {
        "id": "94vkYIJBa4km"
      },
      "id": "94vkYIJBa4km"
    },
    {
      "cell_type": "code",
      "source": [
        "def bisection_method(f,xa,xb,epsilon,Nmax,a,b):\n",
        "  if f(xa,a,b) * f(xb,a,b) >= 0:\n",
        "    return print(\"El método de bisección no garantiza convergencia porque f(xa) y f(xb) tienen el mismo signo.\")\n",
        "\n",
        "  iterations = 0\n",
        "  while (xb - xa) / 2 > epsilon and iterations < Nmax:\n",
        "    xc = (xa + xb) / 2\n",
        "    if f(xc,a,b) == 0:\n",
        "      break\n",
        "    elif f(xc,a,b) * f(xa,a,b) < 0:\n",
        "      xb = xc\n",
        "    else:\n",
        "      xa = xc\n",
        "      iterations += 1\n",
        "\n",
        "    raiz = (xa + xb) / 2\n",
        "    return raiz\n",
        "\n",
        "xa = -1\n",
        "xb = 2\n",
        "epsilon = 1e-11\n",
        "Nmax = 100\n",
        "\n",
        "raiz = bisection_method(f, xa, xb, epsilon, Nmax,a,b)\n",
        "\n",
        "if raiz is not None:\n",
        "    print(\"Raíz encontrada:\", raiz)\n",
        "else:\n",
        "    print(\"No se pudo encontrar una raíz dentro del intervalo dado.\")\n"
      ],
      "metadata": {
        "colab": {
          "base_uri": "https://localhost:8080/"
        },
        "id": "UOtQmBm7WP2K",
        "outputId": "b2fec746-010b-4ac2-8e12-2b671e023c0e"
      },
      "id": "UOtQmBm7WP2K",
      "execution_count": 52,
      "outputs": [
        {
          "output_type": "stream",
          "name": "stdout",
          "text": [
            "Raíz encontrada: 1.25\n"
          ]
        }
      ]
    },
    {
      "cell_type": "markdown",
      "source": [
        "Verificar por medio de scipy"
      ],
      "metadata": {
        "id": "JOltrqfRa74G"
      },
      "id": "JOltrqfRa74G"
    },
    {
      "cell_type": "code",
      "source": [
        "raiz1 = optimize.bisect(f,-1,2,args=(1,1))\n",
        "print(raiz)"
      ],
      "metadata": {
        "colab": {
          "base_uri": "https://localhost:8080/"
        },
        "id": "MJIVGPv_ZouM",
        "outputId": "4abe0046-1109-411f-a152-79757ae2bac1"
      },
      "id": "MJIVGPv_ZouM",
      "execution_count": 51,
      "outputs": [
        {
          "output_type": "stream",
          "name": "stdout",
          "text": [
            "1.25\n"
          ]
        }
      ]
    },
    {
      "cell_type": "markdown",
      "source": [
        "#Nota:\n",
        "Podemos observar que en este caso el metodo de la bisección no es muy efectivo, a diferencia del metodo de Newton que sí nos da un valor acertado"
      ],
      "metadata": {
        "id": "R_S5qhyDbTFf"
      },
      "id": "R_S5qhyDbTFf"
    }
  ],
  "metadata": {
    "kernelspec": {
      "display_name": "Python 3 (ipykernel)",
      "language": "python",
      "name": "python3"
    },
    "language_info": {
      "codemirror_mode": {
        "name": "ipython",
        "version": 3
      },
      "file_extension": ".py",
      "mimetype": "text/x-python",
      "name": "python",
      "nbconvert_exporter": "python",
      "pygments_lexer": "ipython3",
      "version": "3.10.9"
    },
    "colab": {
      "provenance": []
    }
  },
  "nbformat": 4,
  "nbformat_minor": 5
}