{
  "cells": [
    {
      "cell_type": "markdown",
      "metadata": {
        "id": "pb-wUg6mHtL5"
      },
      "source": [
        "<a href=\"https://colab.research.google.com/github/hernansalinas/autogradesMetodosComputacionales/blob/main/Evaluaciones/Examen01_2024_1.ipynb\" target=\"_parent\"><img src=\"https://colab.research.google.com/assets/colab-badge.svg\" alt=\"Open In Colab\"/></a>"
      ]
    },
    {
      "cell_type": "markdown",
      "metadata": {
        "id": "yzIQLm5ASP00"
      },
      "source": [
        "# Examen 1: Métodos computacionales.\n",
        "\n",
        "## Profesor: Hernán Salinas\n",
        "### Universidad de Antioquia\n",
        "\n",
        "\n",
        "El examen consta de 7 puntos, cada uno de igual valor, el uso de herramientas de IA no esta permitido. Puede usar la documentacion de scipy, numpy, matplotlib.\n",
        "\n",
        "La entrega se realiza a través del github del curso.\n",
        "\n",
        "\n",
        "#### Examen\n",
        "\n",
        "Una esfera de masa $m$ es lanzada desde la superficie de la tierra con velocidad $\\vec{v_0}$. Las fuerzas que actúan sobre la bolita son: el peso $m\\vec{g}$, y la fuerza de rozamiento $\\vec{f}=-mb\\vec{v}_0$ que el  aire ejerce sobre la bolita. Un digrama de cuerpo libre es esquematizado en la siguiente figura.\n",
        "\n",
        "![Movimiento parabolico](http://www.sc.ehu.es/sbweb/fisica/dinamica/stokes2/stokes1.gif)\n",
        "\n",
        "Para dar solución al movimiento de la bolita, se debe plantear las ecuaciones de movimiento desde la segunda ley de Newton y después solucionarla para encontrar la ecuaciones de posición y velocidad. Su tarea será determinar el valor del alcance máximo para diferentes ángulos de lanzamiento. Para ello lea detenidamente lo siguiente:  \n",
        "\n",
        "Las **ecuaciones de movimiento** de la bolita vienen dadas por:\n",
        "\\begin{equation}\n",
        "m\\frac{\\mathrm{d}v_x}{\\mathrm{d}t} = - mbv_x\n",
        "\\end{equation}\n",
        "\n",
        "\n",
        "\\begin{equation}\n",
        "m\\frac{\\mathrm{d}v_y}{\\mathrm{d}t} = - mg-mbv_y\n",
        "\\end{equation}\n",
        "\n",
        "\n",
        "donde:\n",
        "\n",
        "$v_{0x}=v_0\\cos \\theta$,  $v_{0y}=v_0\\sin \\theta$,  $b$ el coeficiente de rozamiento con el aire, y $g$ la aceleración de la gravedad\n",
        "\n",
        "\n",
        "La solución a las ecuaciones anteriores para la **posición ($x$, $y$) y la velocidad ($v_x$, $v_y$)**  son:\n",
        "\n",
        "\n",
        "\\begin{equation}\n",
        "x =  \\frac{v_{0x}}{b}\\left( 1-e^{-bt} \\right)\n",
        "\\end{equation}\n",
        "\n",
        "\\begin{equation}\n",
        "y =  \\frac{1}{b}\\left( \\frac{g}{b}+v_{0y}\\right)(1-e^{-bt})-\\frac{g}{b}t\n",
        "\\end{equation}\n",
        "\n",
        "\n",
        "\\begin{equation}\n",
        "v_x = v_{0x}e^{-bt}\n",
        "\\end{equation}\n",
        "\n",
        "\\begin{equation}\n",
        "v_y = \\left(\\frac{g}{b}+v_{0y} \\right) e^{-bt}-\\frac{g}{b}\n",
        "\\end{equation}\n",
        "\n",
        "\n",
        "\n",
        "**Alcance máximo**\n",
        "\n",
        "El tiempo asociado al alcance máximo del proyectil se da cuando $x=R$, asi podemos despejar  de la ecuación para $x$ el tiempo:\n",
        "\n",
        "\\begin{equation}\n",
        "t_v=-\\frac{1}{b} \\ln \\left(1-\\frac{Rb}{v_{0x}} \\right)\n",
        "\\end{equation}\n",
        "\n",
        "El alcance máximo R, estará deteminado cuando $y=0$ en la siguiente ecuación  ecuación trascendental.\n",
        "\n",
        "\n",
        "\\begin{equation}\n",
        "y =\\left(\\frac{g}{b} + v_{0y}  \\right) \\frac{R}{v_{0x}}+\\frac{g}{b^2}\\ln \\left(1-\\frac{Rb}{v_{0x}} \\right)\n",
        "\\end{equation}\n",
        "\n",
        " Su tarea será determinar el valor de R para diferentes ángulos de lanzamiento, para ello realice lo siguiente:\n",
        "\n",
        "\n",
        "\n",
        "\n",
        "\n",
        "1. Construir una función de python paramétrica para determinar el valor de R.\n",
        "$y = f(R, \\theta, v_{ox},v_{oy},b,g)$\n",
        "\n",
        "\n",
        "\n",
        "2. Asumiento que la bolita es lanzada con una rapidez de\n",
        "$v_0=55\\mathrm{m}/\\mathrm{s}$ y un ángulo de $45^{\\circ}$ respecto a la horizontal, $b=0.005$ y $g=9.8\\mathrm{m}/\\mathrm{s^2}$, determine el alcance máximo. Emplee el método que desee.\n",
        "\n",
        "\n",
        "3. Valide el resutado anterior, con un método diferente al que empleo en el apartado anterior y además, determine el tiempo de vuelo $t_v$.  \n",
        "\n",
        "\n",
        "4. Construya una gráfica de $x$ vs $t$, $y$ vs $t$, $x$ vs $y$. Asegurese de  no superar en las trayectorias los tiempos establecidos por el  tiempo de vuelo $t_v$.\n",
        "\n",
        "Ahora,  vamos a mostrar la trayectoria para múltiples ángulos de lanzamiento.\n",
        "\n",
        "5. Suponiendo,  $b=0.009$, $v_0 = 40\\mathrm{m}/\\mathrm{s}$ y  $\\theta$ entre $0<\\theta<90^{\\circ}$ en pasos de $5^{\\circ}$:\n",
        "```python\n",
        "theta=np.arange(0, 90, 5)\n",
        "theta=np.deg2rad(theta)\n",
        "```\n",
        "\n",
        "\n",
        "generalice el resultado del punto  número 2  para determinar el conjunto de valores de R asociados a cada ángulo. Con lo anterior determine los tiempos de vuelo.\n",
        "\n",
        "6. Realice un gráfico de $R$ vs $t_v$\n",
        "\n",
        "7. Finalmente, construya todas las trayectorias ($y$ vs $x$) para cada ángulo $\\theta$.\n",
        "\n",
        "\n",
        "\n",
        "\n",
        "\n",
        "\n",
        "\n",
        "\n",
        "\n",
        "\n",
        "\n"
      ]
    },
    {
      "cell_type": "code",
      "source": [
        "import numpy as np\n",
        "import matplotlib.pyplot as plt\n",
        "from scipy import optimize"
      ],
      "metadata": {
        "id": "drv6ABJn9LTd"
      },
      "execution_count": null,
      "outputs": []
    },
    {
      "cell_type": "code",
      "source": [
        "\n",
        "#R = np.linspace(100,300,100)"
      ],
      "metadata": {
        "id": "yh-6Eo9r-1Ty"
      },
      "execution_count": null,
      "outputs": []
    },
    {
      "cell_type": "markdown",
      "source": [
        "\n",
        "\n",
        "\\begin{equation}\n",
        "y =\\left(\\frac{g}{b} + v_{0y}  \\right) \\frac{R}{v_{0x}}+\\frac{g}{b^2}\\ln \\left(1-\\frac{Rb}{v_{0x}} \\right)\n",
        "\\end{equation}\n"
      ],
      "metadata": {
        "id": "3OA_yE2xGKcw"
      }
    },
    {
      "cell_type": "code",
      "source": [
        "#f = lambda R: (g/b+np.sin(x))*(R/np.cos(x))+(g/b**2) * np.log(1-(R*b)/np.cos(x))\n",
        "#def fun(R, x, g,b):\n",
        "  #T1 = (g/b+v0*np.sin(x))*(R/(v0*np.cos(x)))\n",
        "  #T2 = g/b**2\n",
        "  #T3 = np.log(1-(R*b)/(v0*np.cos(x)))\n",
        "  #y=T1+T2*T3\n",
        "  #return  y\n",
        "\n",
        "R=np.linspace(0,300,10000)\n",
        "g = 9.8\n",
        "v0 =55\n",
        "x = np.deg2rad(45)\n",
        "b = 0.005\n",
        "#print(x)"
      ],
      "metadata": {
        "id": "ryViH1oBOunP"
      },
      "execution_count": null,
      "outputs": []
    },
    {
      "cell_type": "code",
      "source": [
        "#def funcion(R,x, v0x, v0y,b,g):\n",
        "f = lambda R: (g/b+(v0*np.sin(x)))*(R/(v0*np.cos(x)))+(g/b**2) * np.log(1-(R*b)/(v0*np.cos(x)))\n",
        "  #return\n",
        "df = lambda R: (g/b+(v0*np.sin(x)))*(1/v0*np.cos(x))+(g/b**2) * (1/(1-(R*b)/v0*np.cos(x)))*(-b/v0*np.cos(x))\n",
        "raiz_newton = optimize.newton(f,43,df)\n",
        "print(\"la raiz es: \", raiz_newton)\n",
        "fig, ax = plt.subplots()\n",
        "ax.plot(R, f(R)  ,\"--\",color=\"#000000\")\n",
        "ax.set_title('funcion')"
      ],
      "metadata": {
        "id": "GHf9-D6I9pZ9",
        "outputId": "a1092c27-b3f4-431b-93f3-3dd2d2a044a1",
        "colab": {
          "base_uri": "https://localhost:8080/",
          "height": 367
        }
      },
      "execution_count": null,
      "outputs": [
        {
          "output_type": "error",
          "ename": "RuntimeError",
          "evalue": "Failed to converge after 50 iterations, value is 42.44702080304984.",
          "traceback": [
            "\u001b[0;31m---------------------------------------------------------------------------\u001b[0m",
            "\u001b[0;31mRuntimeError\u001b[0m                              Traceback (most recent call last)",
            "\u001b[0;32m<ipython-input-75-9bd0507d9c54>\u001b[0m in \u001b[0;36m<cell line: 5>\u001b[0;34m()\u001b[0m\n\u001b[1;32m      3\u001b[0m   \u001b[0;31m#return\u001b[0m\u001b[0;34m\u001b[0m\u001b[0;34m\u001b[0m\u001b[0m\n\u001b[1;32m      4\u001b[0m \u001b[0mdf\u001b[0m \u001b[0;34m=\u001b[0m \u001b[0;32mlambda\u001b[0m \u001b[0mR\u001b[0m\u001b[0;34m:\u001b[0m \u001b[0;34m(\u001b[0m\u001b[0mg\u001b[0m\u001b[0;34m/\u001b[0m\u001b[0mb\u001b[0m\u001b[0;34m+\u001b[0m\u001b[0;34m(\u001b[0m\u001b[0mv0\u001b[0m\u001b[0;34m*\u001b[0m\u001b[0mnp\u001b[0m\u001b[0;34m.\u001b[0m\u001b[0msin\u001b[0m\u001b[0;34m(\u001b[0m\u001b[0mx\u001b[0m\u001b[0;34m)\u001b[0m\u001b[0;34m)\u001b[0m\u001b[0;34m)\u001b[0m\u001b[0;34m*\u001b[0m\u001b[0;34m(\u001b[0m\u001b[0;36m1\u001b[0m\u001b[0;34m/\u001b[0m\u001b[0mv0\u001b[0m\u001b[0;34m*\u001b[0m\u001b[0mnp\u001b[0m\u001b[0;34m.\u001b[0m\u001b[0mcos\u001b[0m\u001b[0;34m(\u001b[0m\u001b[0mx\u001b[0m\u001b[0;34m)\u001b[0m\u001b[0;34m)\u001b[0m\u001b[0;34m+\u001b[0m\u001b[0;34m(\u001b[0m\u001b[0mg\u001b[0m\u001b[0;34m/\u001b[0m\u001b[0mb\u001b[0m\u001b[0;34m**\u001b[0m\u001b[0;36m2\u001b[0m\u001b[0;34m)\u001b[0m \u001b[0;34m*\u001b[0m \u001b[0;34m(\u001b[0m\u001b[0;36m1\u001b[0m\u001b[0;34m/\u001b[0m\u001b[0;34m(\u001b[0m\u001b[0;36m1\u001b[0m\u001b[0;34m-\u001b[0m\u001b[0;34m(\u001b[0m\u001b[0mR\u001b[0m\u001b[0;34m*\u001b[0m\u001b[0mb\u001b[0m\u001b[0;34m)\u001b[0m\u001b[0;34m/\u001b[0m\u001b[0mv0\u001b[0m\u001b[0;34m*\u001b[0m\u001b[0mnp\u001b[0m\u001b[0;34m.\u001b[0m\u001b[0mcos\u001b[0m\u001b[0;34m(\u001b[0m\u001b[0mx\u001b[0m\u001b[0;34m)\u001b[0m\u001b[0;34m)\u001b[0m\u001b[0;34m)\u001b[0m\u001b[0;34m*\u001b[0m\u001b[0;34m(\u001b[0m\u001b[0;34m-\u001b[0m\u001b[0mb\u001b[0m\u001b[0;34m/\u001b[0m\u001b[0mv0\u001b[0m\u001b[0;34m*\u001b[0m\u001b[0mnp\u001b[0m\u001b[0;34m.\u001b[0m\u001b[0mcos\u001b[0m\u001b[0;34m(\u001b[0m\u001b[0mx\u001b[0m\u001b[0;34m)\u001b[0m\u001b[0;34m)\u001b[0m\u001b[0;34m\u001b[0m\u001b[0;34m\u001b[0m\u001b[0m\n\u001b[0;32m----> 5\u001b[0;31m \u001b[0mraiz_newton\u001b[0m \u001b[0;34m=\u001b[0m \u001b[0moptimize\u001b[0m\u001b[0;34m.\u001b[0m\u001b[0mnewton\u001b[0m\u001b[0;34m(\u001b[0m\u001b[0mf\u001b[0m\u001b[0;34m,\u001b[0m\u001b[0;36m43\u001b[0m\u001b[0;34m,\u001b[0m\u001b[0mdf\u001b[0m\u001b[0;34m)\u001b[0m\u001b[0;34m\u001b[0m\u001b[0;34m\u001b[0m\u001b[0m\n\u001b[0m\u001b[1;32m      6\u001b[0m \u001b[0mprint\u001b[0m\u001b[0;34m(\u001b[0m\u001b[0;34m\"la raiz es: \"\u001b[0m\u001b[0;34m,\u001b[0m \u001b[0mraiz_newton\u001b[0m\u001b[0;34m)\u001b[0m\u001b[0;34m\u001b[0m\u001b[0;34m\u001b[0m\u001b[0m\n\u001b[1;32m      7\u001b[0m \u001b[0mfig\u001b[0m\u001b[0;34m,\u001b[0m \u001b[0max\u001b[0m \u001b[0;34m=\u001b[0m \u001b[0mplt\u001b[0m\u001b[0;34m.\u001b[0m\u001b[0msubplots\u001b[0m\u001b[0;34m(\u001b[0m\u001b[0;34m)\u001b[0m\u001b[0;34m\u001b[0m\u001b[0;34m\u001b[0m\u001b[0m\n",
            "\u001b[0;32m/usr/local/lib/python3.10/dist-packages/scipy/optimize/_zeros_py.py\u001b[0m in \u001b[0;36mnewton\u001b[0;34m(func, x0, fprime, args, tol, maxiter, fprime2, x1, rtol, full_output, disp)\u001b[0m\n\u001b[1;32m    382\u001b[0m         msg = (\"Failed to converge after %d iterations, value is %s.\"\n\u001b[1;32m    383\u001b[0m                % (itr + 1, p))\n\u001b[0;32m--> 384\u001b[0;31m         \u001b[0;32mraise\u001b[0m \u001b[0mRuntimeError\u001b[0m\u001b[0;34m(\u001b[0m\u001b[0mmsg\u001b[0m\u001b[0;34m)\u001b[0m\u001b[0;34m\u001b[0m\u001b[0;34m\u001b[0m\u001b[0m\n\u001b[0m\u001b[1;32m    385\u001b[0m \u001b[0;34m\u001b[0m\u001b[0m\n\u001b[1;32m    386\u001b[0m     \u001b[0;32mreturn\u001b[0m \u001b[0m_results_select\u001b[0m\u001b[0;34m(\u001b[0m\u001b[0mfull_output\u001b[0m\u001b[0;34m,\u001b[0m \u001b[0;34m(\u001b[0m\u001b[0mp\u001b[0m\u001b[0;34m,\u001b[0m \u001b[0mfuncalls\u001b[0m\u001b[0;34m,\u001b[0m \u001b[0mitr\u001b[0m \u001b[0;34m+\u001b[0m \u001b[0;36m1\u001b[0m\u001b[0;34m,\u001b[0m \u001b[0m_ECONVERR\u001b[0m\u001b[0;34m)\u001b[0m\u001b[0;34m)\u001b[0m\u001b[0;34m\u001b[0m\u001b[0;34m\u001b[0m\u001b[0m\n",
            "\u001b[0;31mRuntimeError\u001b[0m: Failed to converge after 50 iterations, value is 42.44702080304984."
          ]
        }
      ]
    },
    {
      "cell_type": "markdown",
      "source": [
        "Valide el resutado anterior, con un método diferente al que empleo en el apartado anterior y además, determine el tiempo de vuelo  tv ."
      ],
      "metadata": {
        "id": "1S6l_otARPvC"
      }
    },
    {
      "cell_type": "code",
      "source": [
        "f1 = lambda t : v0*np.sin(x)*t - (0.5*g*t**2)\n",
        "raiz_secante = optimize.newton(f1,5)\n",
        "\n",
        "print(\"el tiempo de vuelo es: \" raiz_secante )"
      ],
      "metadata": {
        "id": "qqZkRiHDNE0j",
        "outputId": "4ff37328-8383-450d-bc63-3d0ffbf17977",
        "colab": {
          "base_uri": "https://localhost:8080/",
          "height": 106
        }
      },
      "execution_count": null,
      "outputs": [
        {
          "output_type": "error",
          "ename": "SyntaxError",
          "evalue": "invalid syntax. Perhaps you forgot a comma? (<ipython-input-78-0c11abeacfdc>, line 3)",
          "traceback": [
            "\u001b[0;36m  File \u001b[0;32m\"<ipython-input-78-0c11abeacfdc>\"\u001b[0;36m, line \u001b[0;32m3\u001b[0m\n\u001b[0;31m    print(\"el tiempo de vuelo es:\" raiz_secante )\u001b[0m\n\u001b[0m          ^\u001b[0m\n\u001b[0;31mSyntaxError\u001b[0m\u001b[0;31m:\u001b[0m invalid syntax. Perhaps you forgot a comma?\n"
          ]
        }
      ]
    },
    {
      "cell_type": "code",
      "source": [
        "f = lambda R: (g/b**2)*np.log(1−((R*b)/(v0*np.cos(x))))"
      ],
      "metadata": {
        "id": "sZD2HKpeC4Aj",
        "outputId": "d430555c-b9c7-4285-c09b-f256201cc2bd",
        "colab": {
          "base_uri": "https://localhost:8080/",
          "height": 106
        }
      },
      "execution_count": null,
      "outputs": [
        {
          "output_type": "error",
          "ename": "SyntaxError",
          "evalue": "invalid decimal literal (<ipython-input-9-f21b44abc482>, line 1)",
          "traceback": [
            "\u001b[0;36m  File \u001b[0;32m\"<ipython-input-9-f21b44abc482>\"\u001b[0;36m, line \u001b[0;32m1\u001b[0m\n\u001b[0;31m    f = lambda R: (g/b**2)*np.log(1−((R*b)/(v0*np.cos(x))))\u001b[0m\n\u001b[0m                                  ^\u001b[0m\n\u001b[0;31mSyntaxError\u001b[0m\u001b[0;31m:\u001b[0m invalid decimal literal\n"
          ]
        }
      ]
    },
    {
      "cell_type": "markdown",
      "source": [],
      "metadata": {
        "id": "N0O_ZXbm_dZg"
      }
    },
    {
      "cell_type": "markdown",
      "source": [],
      "metadata": {
        "id": "Eni-lhrH_c7b"
      }
    }
  ],
  "metadata": {
    "colab": {
      "provenance": []
    },
    "kernelspec": {
      "display_name": "Python 3 (ipykernel)",
      "language": "python",
      "name": "python3"
    },
    "language_info": {
      "codemirror_mode": {
        "name": "ipython",
        "version": 3
      },
      "file_extension": ".py",
      "mimetype": "text/x-python",
      "name": "python",
      "nbconvert_exporter": "python",
      "pygments_lexer": "ipython3",
      "version": "3.10.9"
    }
  },
  "nbformat": 4,
  "nbformat_minor": 0
}