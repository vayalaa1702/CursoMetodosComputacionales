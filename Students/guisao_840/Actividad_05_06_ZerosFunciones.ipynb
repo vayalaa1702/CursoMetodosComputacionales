{
  "cells": [
    {
      "cell_type": "markdown",
      "id": "3a6dc6a1",
      "metadata": {
        "id": "3a6dc6a1"
      },
      "source": [
        "<a href=\"https://colab.research.google.com/github/hernansalinas/autogrades/blob/main/Actividades_clase/Actividad_05_06_ZerosFunciones.ipynb\" target=\"_parent\"><img src=\"https://colab.research.google.com/assets/colab-badge.svg\" alt=\"Open In Colab\"/></a>\n",
        "\n",
        "\n",
        "\n",
        "# Actividad 5\n",
        "### Métodos computacionales para físicos  y astrónomos\n",
        "### Universidad de Antioquia\n",
        "### Prof: Hernan D. Salinas Jiménez\n",
        "Ref: https://github.com/restrepo/ComputationalMethods"
      ]
    },
    {
      "cell_type": "markdown",
      "id": "8e59c672",
      "metadata": {
        "id": "8e59c672"
      },
      "source": [
        "1. Implementar el metodo de la bisección para determinar las raices de una función.\n",
        "2. Implementar el metodo de la newton para determinar las raices de una función.\n",
        "\n",
        "Prueba tu resultado para:\n"
      ]
    },
    {
      "cell_type": "markdown",
      "id": "ee7acda4",
      "metadata": {
        "id": "ee7acda4"
      },
      "source": [
        "  \n",
        " 2. $a e^{x}-2= b\\cos(e^x-2)$"
      ]
    },
    {
      "cell_type": "code",
      "source": [
        "import numpy as np\n",
        "import matplotlib.pyplot as plt\n",
        "from scipy import optimize"
      ],
      "metadata": {
        "id": "9ufLy1nC_4sZ"
      },
      "id": "9ufLy1nC_4sZ",
      "execution_count": null,
      "outputs": []
    },
    {
      "cell_type": "code",
      "source": [
        "a=130\n",
        "b=-26\n",
        "f= lambda x: a*np.exp(x)-2-b*np.cos(np.exp(x)-2)"
      ],
      "metadata": {
        "id": "3Zb-merv_2rA"
      },
      "id": "3Zb-merv_2rA",
      "execution_count": null,
      "outputs": []
    },
    {
      "cell_type": "code",
      "source": [
        "x = np.linspace(-5,0,100)\n",
        "y = f(x)\n",
        "m= [0]*len(x)"
      ],
      "metadata": {
        "id": "ftNcXsLR_9Ro"
      },
      "id": "ftNcXsLR_9Ro",
      "execution_count": null,
      "outputs": []
    },
    {
      "cell_type": "code",
      "source": [
        "plt.plot(x,y)\n",
        "plt.plot(x,m,label='y=0')\n",
        "plt.grid()\n",
        "plt.legend()\n"
      ],
      "metadata": {
        "id": "SLp2p8uIGD4J",
        "outputId": "1a2516fa-b919-439c-c11e-7ce956cbbc05",
        "colab": {
          "base_uri": "https://localhost:8080/",
          "height": 447
        }
      },
      "id": "SLp2p8uIGD4J",
      "execution_count": null,
      "outputs": [
        {
          "output_type": "execute_result",
          "data": {
            "text/plain": [
              "<matplotlib.legend.Legend at 0x7c072cf0a200>"
            ]
          },
          "metadata": {},
          "execution_count": 18
        },
        {
          "output_type": "display_data",
          "data": {
            "text/plain": [
              "<Figure size 640x480 with 1 Axes>"
            ],
            "image/png": "[encoded data removed]"
          },
          "metadata": {}
        }
      ]
    },
    {
      "cell_type": "code",
      "source": [
        "raiz= optimize.bisect(f,-10,-0.5)\n",
        "print(f'la raiz con el metodo de la biseccion es {raiz}')"
      ],
      "metadata": {
        "id": "6pkE2wThJAIE",
        "outputId": "c952a680-35ce-4927-d9d9-54c95714da27",
        "colab": {
          "base_uri": "https://localhost:8080/"
        }
      },
      "id": "6pkE2wThJAIE",
      "execution_count": null,
      "outputs": [
        {
          "output_type": "stream",
          "name": "stdout",
          "text": [
            "la raiz con el metodo de la secante es -2.4863782210545082\n"
          ]
        }
      ]
    },
    {
      "cell_type": "code",
      "source": [
        "import sympy as sp\n",
        "\n",
        "x=sp.Symbol(\"x\")\n",
        "s= lambda x: a*sp.exp(x)-2-b*sp.cos(sp.exp(x)-2)\n",
        "sp.diff(s(x),x,1)\n"
      ],
      "metadata": {
        "id": "-HIynP3AJHS0",
        "outputId": "009c3964-d276-413b-c13c-1c8a5374e2f0",
        "colab": {
          "base_uri": "https://localhost:8080/",
          "height": 39
        }
      },
      "id": "-HIynP3AJHS0",
      "execution_count": null,
      "outputs": [
        {
          "output_type": "execute_result",
          "data": {
            "text/plain": [
              "-26*exp(x)*sin(exp(x) - 2) + 130*exp(x)"
            ],
            "text/latex": "$\\displaystyle - 26 e^{x} \\sin{\\left(e^{x} - 2 \\right)} + 130 e^{x}$"
          },
          "metadata": {},
          "execution_count": 78
        }
      ]
    },
    {
      "cell_type": "code",
      "source": [
        "df= lambda x: b*np.exp(x)*np.sin(np.exp(x)-2)+a*np.exp(x)"
      ],
      "metadata": {
        "id": "6VN7LqIaPzU9"
      },
      "id": "6VN7LqIaPzU9",
      "execution_count": null,
      "outputs": []
    },
    {
      "cell_type": "code",
      "source": [
        "#metodo de newton\n",
        "raiz_newton= optimize.newton(f,-2,df)\n",
        "print(f'la raiz con el metodo de newton rhapson es {raiz_newton}')"
      ],
      "metadata": {
        "id": "TpQOu43_QBlZ",
        "outputId": "a8039bdf-0267-481b-db7d-971fb94cc98d",
        "colab": {
          "base_uri": "https://localhost:8080/"
        }
      },
      "id": "TpQOu43_QBlZ",
      "execution_count": null,
      "outputs": [
        {
          "output_type": "stream",
          "name": "stdout",
          "text": [
            "la raiz con el metodo de newton rhapson es -2.4863782210543244\n"
          ]
        }
      ]
    },
    {
      "cell_type": "markdown",
      "source": [
        "#parametrizando"
      ],
      "metadata": {
        "id": "8g-8X_lHQtQD"
      },
      "id": "8g-8X_lHQtQD"
    },
    {
      "cell_type": "code",
      "execution_count": null,
      "id": "d0073dbf",
      "metadata": {
        "id": "d0073dbf",
        "colab": {
          "base_uri": "https://localhost:8080/"
        },
        "outputId": "adf6d130-bce4-4820-dcec-3c5b27891f66"
      },
      "outputs": [
        {
          "output_type": "stream",
          "name": "stdout",
          "text": [
            "la raiz por el metodo de newton es -1.4354559682782595\n"
          ]
        }
      ],
      "source": [
        "x= np.linspace(-10,5,3)\n",
        "params=(10,-2)\n",
        "\n",
        "def func(x,a,b):\n",
        "  return a*np.exp(x)-2-b*np.cos(np.exp(x)-2)\n",
        "\n",
        "root= optimize.newton(func,-2,args=params)\n",
        "print(f'la raiz por el metodo de newton es {root}')"
      ]
    }
  ],
  "metadata": {
    "kernelspec": {
      "display_name": "Python 3 (ipykernel)",
      "language": "python",
      "name": "python3"
    },
    "language_info": {
      "codemirror_mode": {
        "name": "ipython",
        "version": 3
      },
      "file_extension": ".py",
      "mimetype": "text/x-python",
      "name": "python",
      "nbconvert_exporter": "python",
      "pygments_lexer": "ipython3",
      "version": "3.10.9"
    },
    "colab": {
      "provenance": []
    }
  },
  "nbformat": 4,
  "nbformat_minor": 5
}