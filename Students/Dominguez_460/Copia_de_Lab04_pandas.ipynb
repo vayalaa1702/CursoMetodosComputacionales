{
  "cells": [
    {
      "cell_type": "code",
      "execution_count": null,
      "id": "7884b4e9",
      "metadata": {
        "deletable": false,
        "editable": false,
        "id": "7884b4e9",
        "colab": {
          "base_uri": "https://localhost:8080/",
          "height": 110
        },
        "outputId": "c1503db0-1c9d-4ddc-ab83-9727f33b35ca"
      },
      "outputs": [
        {
          "output_type": "error",
          "ename": "SyntaxError",
          "evalue": "invalid syntax (<ipython-input-15-b22d1f9d9062>, line 1)",
          "traceback": [
            "\u001b[0;36m  File \u001b[0;32m\"<ipython-input-15-b22d1f9d9062>\"\u001b[0;36m, line \u001b[0;32m1\u001b[0m\n\u001b[0;31m    Initialize Otter\u001b[0m\n\u001b[0m               ^\u001b[0m\n\u001b[0;31mSyntaxError\u001b[0m\u001b[0;31m:\u001b[0m invalid syntax\n"
          ]
        }
      ],
      "source": [
        "# Initialize Otter\n",
        "#import otter\n",
        "#grader = otter.Notebook(\"Lab04_pandas.ipynb\")"
      ]
    },
    {
      "cell_type": "code",
      "execution_count": null,
      "id": "54e59a67",
      "metadata": {
        "id": "54e59a67"
      },
      "outputs": [],
      "source": [
        "#import otter\n",
        "import pandas as pd\n",
        "import numpy as np\n",
        "%matplotlib inline\n",
        "#import otter\n",
        "import matplotlib.pylab as plt\n",
        "#grader = otter.Notebook()\n"
      ]
    },
    {
      "cell_type": "markdown",
      "id": "4b277244",
      "metadata": {
        "deletable": false,
        "editable": false,
        "id": "4b277244"
      },
      "source": [
        "\n",
        "**Pregunta  1:** Para los planetas de nuestro sistema solar, construir una serie de pandas  `ds` con indice nombre del planeta y valor la distancia al sol en UA.\n",
        "\n",
        "Puedes intentanar generarlos con una IA, ejemplo de prompt:\n",
        "\n",
        "hint:\n",
        "`Generar un diccionario cuya clave es el nombre del planeta y valor la distancia al sol en UA`\n",
        "\n",
        "\n",
        "a. Acceder al valor de mercurio y almacenarlo en una variable llamada dM.\n",
        "\n",
        "b. Acceder al valor de Jupyter y almacenarlo en una variable llamada dJ.\n",
        "\n",
        "c. Generar una nueva serie con los planetas cuya distancia es menor a 10UA, almacenarla en s"
      ]
    },
    {
      "cell_type": "code",
      "execution_count": null,
      "id": "f7ad8961",
      "metadata": {
        "scrolled": true,
        "tags": [],
        "id": "f7ad8961"
      },
      "outputs": [],
      "source": [
        "\n",
        "ds_dicc= {\"Mercurio\": 0.39, \"Venus\": 0.72, \"Tierra\": 1.0, \"Marte\": 1.52,\"Jupiter\": 5.02, \"Saturno\": 9.54, \"Urano\": 19.19, \"Neptuno\": 30.06, \"Pluton\": 39.44}\n",
        "ds = pd.Series(ds_dicc)\n",
        "dM = ds[\"Mercurio\"]\n",
        "dJ = ds[\"Jupiter\"]\n",
        "s = ds[ds<10]"
      ]
    },
    {
      "cell_type": "code",
      "execution_count": null,
      "id": "e81551aa",
      "metadata": {
        "deletable": false,
        "editable": false,
        "id": "e81551aa"
      },
      "outputs": [],
      "source": [
        "grader.check(\"q1\")"
      ]
    },
    {
      "cell_type": "markdown",
      "id": "4e567884",
      "metadata": {
        "deletable": false,
        "editable": false,
        "id": "4e567884"
      },
      "source": [
        "**Pregunta 2:**\n",
        "\n",
        "a. Construir una serie de pandas  `dt`, con indice nombre del planeta y valor el periodo orbital en unidades de periodos terrestres.\n",
        "\n",
        "b. Construir un dataframe de  pandas `df` con la serie ds y la serie dt, los nombres de las columnas deberán ser:\n",
        " `DistanciaSolUA`, `PeriodoUT`, el indice debe ser el nombre del planeta\n"
      ]
    },
    {
      "cell_type": "code",
      "execution_count": null,
      "id": "e2660abf",
      "metadata": {
        "tags": [],
        "id": "e2660abf",
        "colab": {
          "base_uri": "https://localhost:8080/",
          "height": 331
        },
        "outputId": "a5dc96a1-76a5-4d14-8ac6-19ce7beda00e"
      },
      "outputs": [
        {
          "output_type": "execute_result",
          "data": {
            "text/plain": [
              "          DistanciaSolUA  PeriodoUT\n",
              "Mercurio          0.2408       0.39\n",
              "Venus             0.6152       0.72\n",
              "Tierra            1.0000       1.00\n",
              "Marte             1.8809       1.52\n",
              "Jupiter          11.8620       5.02\n",
              "Saturno          29.4580       9.54\n",
              "Urano            84.0100      19.19\n",
              "Neptuno         164.7900      30.06\n",
              "Pluton          248.5400      39.44"
            ],
            "text/html": [
              "\n",
              "  <div id=\"df-495e9b35-f441-4880-930c-3fa087f8b276\" class=\"colab-df-container\">\n",
              "    <div>\n",
              "<style scoped>\n",
              "    .dataframe tbody tr th:only-of-type {\n",
              "        vertical-align: middle;\n",
              "    }\n",
              "\n",
              "    .dataframe tbody tr th {\n",
              "        vertical-align: top;\n",
              "    }\n",
              "\n",
              "    .dataframe thead th {\n",
              "        text-align: right;\n",
              "    }\n",
              "</style>\n",
              "<table border=\"1\" class=\"dataframe\">\n",
              "  <thead>\n",
              "    <tr style=\"text-align: right;\">\n",
              "      <th></th>\n",
              "      <th>DistanciaSolUA</th>\n",
              "      <th>PeriodoUT</th>\n",
              "    </tr>\n",
              "  </thead>\n",
              "  <tbody>\n",
              "    <tr>\n",
              "      <th>Mercurio</th>\n",
              "      <td>0.2408</td>\n",
              "      <td>0.39</td>\n",
              "    </tr>\n",
              "    <tr>\n",
              "      <th>Venus</th>\n",
              "      <td>0.6152</td>\n",
              "      <td>0.72</td>\n",
              "    </tr>\n",
              "    <tr>\n",
              "      <th>Tierra</th>\n",
              "      <td>1.0000</td>\n",
              "      <td>1.00</td>\n",
              "    </tr>\n",
              "    <tr>\n",
              "      <th>Marte</th>\n",
              "      <td>1.8809</td>\n",
              "      <td>1.52</td>\n",
              "    </tr>\n",
              "    <tr>\n",
              "      <th>Jupiter</th>\n",
              "      <td>11.8620</td>\n",
              "      <td>5.02</td>\n",
              "    </tr>\n",
              "    <tr>\n",
              "      <th>Saturno</th>\n",
              "      <td>29.4580</td>\n",
              "      <td>9.54</td>\n",
              "    </tr>\n",
              "    <tr>\n",
              "      <th>Urano</th>\n",
              "      <td>84.0100</td>\n",
              "      <td>19.19</td>\n",
              "    </tr>\n",
              "    <tr>\n",
              "      <th>Neptuno</th>\n",
              "      <td>164.7900</td>\n",
              "      <td>30.06</td>\n",
              "    </tr>\n",
              "    <tr>\n",
              "      <th>Pluton</th>\n",
              "      <td>248.5400</td>\n",
              "      <td>39.44</td>\n",
              "    </tr>\n",
              "  </tbody>\n",
              "</table>\n",
              "</div>\n",
              "    <div class=\"colab-df-buttons\">\n",
              "\n",
              "  <div class=\"colab-df-container\">\n",
              "    <button class=\"colab-df-convert\" onclick=\"convertToInteractive('df-495e9b35-f441-4880-930c-3fa087f8b276')\"\n",
              "            title=\"Convert this dataframe to an interactive table.\"\n",
              "            style=\"display:none;\">\n",
              "\n",
              "  <svg xmlns=\"http://www.w3.org/2000/svg\" height=\"24px\" viewBox=\"0 -960 960 960\">\n",
              "    <path d=\"M120-120v-720h720v720H120Zm60-500h600v-160H180v160Zm220 220h160v-160H400v160Zm0 220h160v-160H400v160ZM180-400h160v-160H180v160Zm440 0h160v-160H620v160ZM180-180h160v-160H180v160Zm440 0h160v-160H620v160Z\"/>\n",
              "  </svg>\n",
              "    </button>\n",
              "\n",
              "  <style>\n",
              "    .colab-df-container {\n",
              "      display:flex;\n",
              "      gap: 12px;\n",
              "    }\n",
              "\n",
              "    .colab-df-convert {\n",
              "      background-color: #E8F0FE;\n",
              "      border: none;\n",
              "      border-radius: 50%;\n",
              "      cursor: pointer;\n",
              "      display: none;\n",
              "      fill: #1967D2;\n",
              "      height: 32px;\n",
              "      padding: 0 0 0 0;\n",
              "      width: 32px;\n",
              "    }\n",
              "\n",
              "    .colab-df-convert:hover {\n",
              "      background-color: #E2EBFA;\n",
              "      box-shadow: 0px 1px 2px rgba(60, 64, 67, 0.3), 0px 1px 3px 1px rgba(60, 64, 67, 0.15);\n",
              "      fill: #174EA6;\n",
              "    }\n",
              "\n",
              "    .colab-df-buttons div {\n",
              "      margin-bottom: 4px;\n",
              "    }\n",
              "\n",
              "    [theme=dark] .colab-df-convert {\n",
              "      background-color: #3B4455;\n",
              "      fill: #D2E3FC;\n",
              "    }\n",
              "\n",
              "    [theme=dark] .colab-df-convert:hover {\n",
              "      background-color: #434B5C;\n",
              "      box-shadow: 0px 1px 3px 1px rgba(0, 0, 0, 0.15);\n",
              "      filter: drop-shadow(0px 1px 2px rgba(0, 0, 0, 0.3));\n",
              "      fill: #FFFFFF;\n",
              "    }\n",
              "  </style>\n",
              "\n",
              "    <script>\n",
              "      const buttonEl =\n",
              "        document.querySelector('#df-495e9b35-f441-4880-930c-3fa087f8b276 button.colab-df-convert');\n",
              "      buttonEl.style.display =\n",
              "        google.colab.kernel.accessAllowed ? 'block' : 'none';\n",
              "\n",
              "      async function convertToInteractive(key) {\n",
              "        const element = document.querySelector('#df-495e9b35-f441-4880-930c-3fa087f8b276');\n",
              "        const dataTable =\n",
              "          await google.colab.kernel.invokeFunction('convertToInteractive',\n",
              "                                                    [key], {});\n",
              "        if (!dataTable) return;\n",
              "\n",
              "        const docLinkHtml = 'Like what you see? Visit the ' +\n",
              "          '<a target=\"_blank\" href=https://colab.research.google.com/notebooks/data_table.ipynb>data table notebook</a>'\n",
              "          + ' to learn more about interactive tables.';\n",
              "        element.innerHTML = '';\n",
              "        dataTable['output_type'] = 'display_data';\n",
              "        await google.colab.output.renderOutput(dataTable, element);\n",
              "        const docLink = document.createElement('div');\n",
              "        docLink.innerHTML = docLinkHtml;\n",
              "        element.appendChild(docLink);\n",
              "      }\n",
              "    </script>\n",
              "  </div>\n",
              "\n",
              "\n",
              "<div id=\"df-32b33f0f-45f7-4f39-a1da-5a8416d29017\">\n",
              "  <button class=\"colab-df-quickchart\" onclick=\"quickchart('df-32b33f0f-45f7-4f39-a1da-5a8416d29017')\"\n",
              "            title=\"Suggest charts\"\n",
              "            style=\"display:none;\">\n",
              "\n",
              "<svg xmlns=\"http://www.w3.org/2000/svg\" height=\"24px\"viewBox=\"0 0 24 24\"\n",
              "     width=\"24px\">\n",
              "    <g>\n",
              "        <path d=\"M19 3H5c-1.1 0-2 .9-2 2v14c0 1.1.9 2 2 2h14c1.1 0 2-.9 2-2V5c0-1.1-.9-2-2-2zM9 17H7v-7h2v7zm4 0h-2V7h2v10zm4 0h-2v-4h2v4z\"/>\n",
              "    </g>\n",
              "</svg>\n",
              "  </button>\n",
              "\n",
              "<style>\n",
              "  .colab-df-quickchart {\n",
              "      --bg-color: #E8F0FE;\n",
              "      --fill-color: #1967D2;\n",
              "      --hover-bg-color: #E2EBFA;\n",
              "      --hover-fill-color: #174EA6;\n",
              "      --disabled-fill-color: #AAA;\n",
              "      --disabled-bg-color: #DDD;\n",
              "  }\n",
              "\n",
              "  [theme=dark] .colab-df-quickchart {\n",
              "      --bg-color: #3B4455;\n",
              "      --fill-color: #D2E3FC;\n",
              "      --hover-bg-color: #434B5C;\n",
              "      --hover-fill-color: #FFFFFF;\n",
              "      --disabled-bg-color: #3B4455;\n",
              "      --disabled-fill-color: #666;\n",
              "  }\n",
              "\n",
              "  .colab-df-quickchart {\n",
              "    background-color: var(--bg-color);\n",
              "    border: none;\n",
              "    border-radius: 50%;\n",
              "    cursor: pointer;\n",
              "    display: none;\n",
              "    fill: var(--fill-color);\n",
              "    height: 32px;\n",
              "    padding: 0;\n",
              "    width: 32px;\n",
              "  }\n",
              "\n",
              "  .colab-df-quickchart:hover {\n",
              "    background-color: var(--hover-bg-color);\n",
              "    box-shadow: 0 1px 2px rgba(60, 64, 67, 0.3), 0 1px 3px 1px rgba(60, 64, 67, 0.15);\n",
              "    fill: var(--button-hover-fill-color);\n",
              "  }\n",
              "\n",
              "  .colab-df-quickchart-complete:disabled,\n",
              "  .colab-df-quickchart-complete:disabled:hover {\n",
              "    background-color: var(--disabled-bg-color);\n",
              "    fill: var(--disabled-fill-color);\n",
              "    box-shadow: none;\n",
              "  }\n",
              "\n",
              "  .colab-df-spinner {\n",
              "    border: 2px solid var(--fill-color);\n",
              "    border-color: transparent;\n",
              "    border-bottom-color: var(--fill-color);\n",
              "    animation:\n",
              "      spin 1s steps(1) infinite;\n",
              "  }\n",
              "\n",
              "  @keyframes spin {\n",
              "    0% {\n",
              "      border-color: transparent;\n",
              "      border-bottom-color: var(--fill-color);\n",
              "      border-left-color: var(--fill-color);\n",
              "    }\n",
              "    20% {\n",
              "      border-color: transparent;\n",
              "      border-left-color: var(--fill-color);\n",
              "      border-top-color: var(--fill-color);\n",
              "    }\n",
              "    30% {\n",
              "      border-color: transparent;\n",
              "      border-left-color: var(--fill-color);\n",
              "      border-top-color: var(--fill-color);\n",
              "      border-right-color: var(--fill-color);\n",
              "    }\n",
              "    40% {\n",
              "      border-color: transparent;\n",
              "      border-right-color: var(--fill-color);\n",
              "      border-top-color: var(--fill-color);\n",
              "    }\n",
              "    60% {\n",
              "      border-color: transparent;\n",
              "      border-right-color: var(--fill-color);\n",
              "    }\n",
              "    80% {\n",
              "      border-color: transparent;\n",
              "      border-right-color: var(--fill-color);\n",
              "      border-bottom-color: var(--fill-color);\n",
              "    }\n",
              "    90% {\n",
              "      border-color: transparent;\n",
              "      border-bottom-color: var(--fill-color);\n",
              "    }\n",
              "  }\n",
              "</style>\n",
              "\n",
              "  <script>\n",
              "    async function quickchart(key) {\n",
              "      const quickchartButtonEl =\n",
              "        document.querySelector('#' + key + ' button');\n",
              "      quickchartButtonEl.disabled = true;  // To prevent multiple clicks.\n",
              "      quickchartButtonEl.classList.add('colab-df-spinner');\n",
              "      try {\n",
              "        const charts = await google.colab.kernel.invokeFunction(\n",
              "            'suggestCharts', [key], {});\n",
              "      } catch (error) {\n",
              "        console.error('Error during call to suggestCharts:', error);\n",
              "      }\n",
              "      quickchartButtonEl.classList.remove('colab-df-spinner');\n",
              "      quickchartButtonEl.classList.add('colab-df-quickchart-complete');\n",
              "    }\n",
              "    (() => {\n",
              "      let quickchartButtonEl =\n",
              "        document.querySelector('#df-32b33f0f-45f7-4f39-a1da-5a8416d29017 button');\n",
              "      quickchartButtonEl.style.display =\n",
              "        google.colab.kernel.accessAllowed ? 'block' : 'none';\n",
              "    })();\n",
              "  </script>\n",
              "</div>\n",
              "    </div>\n",
              "  </div>\n"
            ],
            "application/vnd.google.colaboratory.intrinsic+json": {
              "type": "dataframe",
              "variable_name": "df",
              "summary": "{\n  \"name\": \"df\",\n  \"rows\": 9,\n  \"fields\": [\n    {\n      \"column\": \"DistanciaSolUA\",\n      \"properties\": {\n        \"dtype\": \"number\",\n        \"std\": 89.659595485338,\n        \"min\": 0.2408,\n        \"max\": 248.54,\n        \"num_unique_values\": 9,\n        \"samples\": [\n          164.79,\n          0.6152,\n          29.458\n        ],\n        \"semantic_type\": \"\",\n        \"description\": \"\"\n      }\n    },\n    {\n      \"column\": \"PeriodoUT\",\n      \"properties\": {\n        \"dtype\": \"number\",\n        \"std\": 14.484072382371533,\n        \"min\": 0.39,\n        \"max\": 39.44,\n        \"num_unique_values\": 9,\n        \"samples\": [\n          30.06,\n          0.72,\n          9.54\n        ],\n        \"semantic_type\": \"\",\n        \"description\": \"\"\n      }\n    }\n  ]\n}"
            }
          },
          "metadata": {},
          "execution_count": 18
        }
      ],
      "source": [
        "#Distancias en UA\n",
        "ds_dicc= {\"Mercurio\": 0.39, \"Venus\": 0.72, \"Tierra\": 1.0, \"Marte\": 1.52,\"Jupiter\": 5.02, \"Saturno\": 9.54, \"Urano\": 19.19, \"Neptuno\": 30.06, \"Pluton\": 39.44}\n",
        "\n",
        "# Medidos en años\n",
        "dt_dicc = {\"Mercurio\": 0.2408,\n",
        "           \"Venus\": 0.6152,\n",
        "           \"Tierra\": 1.0,\n",
        "           \"Marte\": 1.8809,\n",
        "           \"Jupiter\": 11.862,\n",
        "           \"Saturno\": 29.458,\n",
        "           \"Urano\": 84.01,\n",
        "           \"Neptuno\": 164.79,\n",
        "           \"Pluton\": 248.54\n",
        "          }\n",
        "dt = pd.Series(dt_dicc)\n",
        "ds = pd.Series(ds_dicc)\n",
        "\n",
        "df = pd.DataFrame({\"DistanciaSolUA\": dt, \"PeriodoUT\":ds})\n",
        "df"
      ]
    },
    {
      "cell_type": "code",
      "execution_count": null,
      "id": "a1de9633",
      "metadata": {
        "deletable": false,
        "editable": false,
        "id": "a1de9633"
      },
      "outputs": [],
      "source": [
        "grader.check(\"q2\")"
      ]
    },
    {
      "cell_type": "markdown",
      "id": "613d9ffd",
      "metadata": {
        "deletable": false,
        "editable": false,
        "id": "613d9ffd"
      },
      "source": [
        "**Pregunta 3:** El dataset [Temperature_Bogota_Barcelona](https://github.com/hernansalinas/Curso_Metodos_Computacionales/blob/main/Entregas/Parciales/Parcial1/dataset/Temperature_Bogota_Barcelona.csv)\n",
        " contiene información de la temperatura (en grados Fahrenheit) promedio de Bogotá y Barcelona desde el año 1995. Para el presente dataset realizar lo siguiente:\n",
        "\n",
        "\n",
        " a. Leer el dataset desde el link sugerido.\n",
        "\n",
        " b. Eliminar las columnas Month,  day y Unnamed\n",
        "\n",
        " c. Adicionar una nueva columna llamada `AvgTempCelcius` con la temperatura en grados celcius. $ C=(F-32)/1.8$\n",
        "\n"
      ]
    },
    {
      "cell_type": "code",
      "source": [],
      "metadata": {
        "id": "UCvwpqUOn4rH"
      },
      "id": "UCvwpqUOn4rH",
      "execution_count": null,
      "outputs": []
    },
    {
      "cell_type": "code",
      "execution_count": null,
      "id": "b7bcb919",
      "metadata": {
        "tags": [],
        "id": "b7bcb919",
        "colab": {
          "base_uri": "https://localhost:8080/",
          "height": 206
        },
        "outputId": "ef03fc41-ec64-4ef8-d942-44d61bc58be7"
      },
      "outputs": [
        {
          "output_type": "execute_result",
          "data": {
            "text/plain": [
              "   Year       City  AvgTemperature  AvgTempCelcius\n",
              "0  1995  Barcelona       62.019178       16.677321\n",
              "1  1995     Bogota       54.963014       12.757230\n",
              "2  1996  Barcelona       61.125956       16.181087\n",
              "3  1996     Bogota       55.083333       12.824074\n",
              "4  1997  Barcelona       62.612329       17.006849"
            ],
            "text/html": [
              "\n",
              "  <div id=\"df-a8d03ee7-69c8-485e-89b2-3bd86c7c8ccc\" class=\"colab-df-container\">\n",
              "    <div>\n",
              "<style scoped>\n",
              "    .dataframe tbody tr th:only-of-type {\n",
              "        vertical-align: middle;\n",
              "    }\n",
              "\n",
              "    .dataframe tbody tr th {\n",
              "        vertical-align: top;\n",
              "    }\n",
              "\n",
              "    .dataframe thead th {\n",
              "        text-align: right;\n",
              "    }\n",
              "</style>\n",
              "<table border=\"1\" class=\"dataframe\">\n",
              "  <thead>\n",
              "    <tr style=\"text-align: right;\">\n",
              "      <th></th>\n",
              "      <th>Year</th>\n",
              "      <th>City</th>\n",
              "      <th>AvgTemperature</th>\n",
              "      <th>AvgTempCelcius</th>\n",
              "    </tr>\n",
              "  </thead>\n",
              "  <tbody>\n",
              "    <tr>\n",
              "      <th>0</th>\n",
              "      <td>1995</td>\n",
              "      <td>Barcelona</td>\n",
              "      <td>62.019178</td>\n",
              "      <td>16.677321</td>\n",
              "    </tr>\n",
              "    <tr>\n",
              "      <th>1</th>\n",
              "      <td>1995</td>\n",
              "      <td>Bogota</td>\n",
              "      <td>54.963014</td>\n",
              "      <td>12.757230</td>\n",
              "    </tr>\n",
              "    <tr>\n",
              "      <th>2</th>\n",
              "      <td>1996</td>\n",
              "      <td>Barcelona</td>\n",
              "      <td>61.125956</td>\n",
              "      <td>16.181087</td>\n",
              "    </tr>\n",
              "    <tr>\n",
              "      <th>3</th>\n",
              "      <td>1996</td>\n",
              "      <td>Bogota</td>\n",
              "      <td>55.083333</td>\n",
              "      <td>12.824074</td>\n",
              "    </tr>\n",
              "    <tr>\n",
              "      <th>4</th>\n",
              "      <td>1997</td>\n",
              "      <td>Barcelona</td>\n",
              "      <td>62.612329</td>\n",
              "      <td>17.006849</td>\n",
              "    </tr>\n",
              "  </tbody>\n",
              "</table>\n",
              "</div>\n",
              "    <div class=\"colab-df-buttons\">\n",
              "\n",
              "  <div class=\"colab-df-container\">\n",
              "    <button class=\"colab-df-convert\" onclick=\"convertToInteractive('df-a8d03ee7-69c8-485e-89b2-3bd86c7c8ccc')\"\n",
              "            title=\"Convert this dataframe to an interactive table.\"\n",
              "            style=\"display:none;\">\n",
              "\n",
              "  <svg xmlns=\"http://www.w3.org/2000/svg\" height=\"24px\" viewBox=\"0 -960 960 960\">\n",
              "    <path d=\"M120-120v-720h720v720H120Zm60-500h600v-160H180v160Zm220 220h160v-160H400v160Zm0 220h160v-160H400v160ZM180-400h160v-160H180v160Zm440 0h160v-160H620v160ZM180-180h160v-160H180v160Zm440 0h160v-160H620v160Z\"/>\n",
              "  </svg>\n",
              "    </button>\n",
              "\n",
              "  <style>\n",
              "    .colab-df-container {\n",
              "      display:flex;\n",
              "      gap: 12px;\n",
              "    }\n",
              "\n",
              "    .colab-df-convert {\n",
              "      background-color: #E8F0FE;\n",
              "      border: none;\n",
              "      border-radius: 50%;\n",
              "      cursor: pointer;\n",
              "      display: none;\n",
              "      fill: #1967D2;\n",
              "      height: 32px;\n",
              "      padding: 0 0 0 0;\n",
              "      width: 32px;\n",
              "    }\n",
              "\n",
              "    .colab-df-convert:hover {\n",
              "      background-color: #E2EBFA;\n",
              "      box-shadow: 0px 1px 2px rgba(60, 64, 67, 0.3), 0px 1px 3px 1px rgba(60, 64, 67, 0.15);\n",
              "      fill: #174EA6;\n",
              "    }\n",
              "\n",
              "    .colab-df-buttons div {\n",
              "      margin-bottom: 4px;\n",
              "    }\n",
              "\n",
              "    [theme=dark] .colab-df-convert {\n",
              "      background-color: #3B4455;\n",
              "      fill: #D2E3FC;\n",
              "    }\n",
              "\n",
              "    [theme=dark] .colab-df-convert:hover {\n",
              "      background-color: #434B5C;\n",
              "      box-shadow: 0px 1px 3px 1px rgba(0, 0, 0, 0.15);\n",
              "      filter: drop-shadow(0px 1px 2px rgba(0, 0, 0, 0.3));\n",
              "      fill: #FFFFFF;\n",
              "    }\n",
              "  </style>\n",
              "\n",
              "    <script>\n",
              "      const buttonEl =\n",
              "        document.querySelector('#df-a8d03ee7-69c8-485e-89b2-3bd86c7c8ccc button.colab-df-convert');\n",
              "      buttonEl.style.display =\n",
              "        google.colab.kernel.accessAllowed ? 'block' : 'none';\n",
              "\n",
              "      async function convertToInteractive(key) {\n",
              "        const element = document.querySelector('#df-a8d03ee7-69c8-485e-89b2-3bd86c7c8ccc');\n",
              "        const dataTable =\n",
              "          await google.colab.kernel.invokeFunction('convertToInteractive',\n",
              "                                                    [key], {});\n",
              "        if (!dataTable) return;\n",
              "\n",
              "        const docLinkHtml = 'Like what you see? Visit the ' +\n",
              "          '<a target=\"_blank\" href=https://colab.research.google.com/notebooks/data_table.ipynb>data table notebook</a>'\n",
              "          + ' to learn more about interactive tables.';\n",
              "        element.innerHTML = '';\n",
              "        dataTable['output_type'] = 'display_data';\n",
              "        await google.colab.output.renderOutput(dataTable, element);\n",
              "        const docLink = document.createElement('div');\n",
              "        docLink.innerHTML = docLinkHtml;\n",
              "        element.appendChild(docLink);\n",
              "      }\n",
              "    </script>\n",
              "  </div>\n",
              "\n",
              "\n",
              "<div id=\"df-a72ad6fb-928d-48e4-b3f8-a679fb1c74f7\">\n",
              "  <button class=\"colab-df-quickchart\" onclick=\"quickchart('df-a72ad6fb-928d-48e4-b3f8-a679fb1c74f7')\"\n",
              "            title=\"Suggest charts\"\n",
              "            style=\"display:none;\">\n",
              "\n",
              "<svg xmlns=\"http://www.w3.org/2000/svg\" height=\"24px\"viewBox=\"0 0 24 24\"\n",
              "     width=\"24px\">\n",
              "    <g>\n",
              "        <path d=\"M19 3H5c-1.1 0-2 .9-2 2v14c0 1.1.9 2 2 2h14c1.1 0 2-.9 2-2V5c0-1.1-.9-2-2-2zM9 17H7v-7h2v7zm4 0h-2V7h2v10zm4 0h-2v-4h2v4z\"/>\n",
              "    </g>\n",
              "</svg>\n",
              "  </button>\n",
              "\n",
              "<style>\n",
              "  .colab-df-quickchart {\n",
              "      --bg-color: #E8F0FE;\n",
              "      --fill-color: #1967D2;\n",
              "      --hover-bg-color: #E2EBFA;\n",
              "      --hover-fill-color: #174EA6;\n",
              "      --disabled-fill-color: #AAA;\n",
              "      --disabled-bg-color: #DDD;\n",
              "  }\n",
              "\n",
              "  [theme=dark] .colab-df-quickchart {\n",
              "      --bg-color: #3B4455;\n",
              "      --fill-color: #D2E3FC;\n",
              "      --hover-bg-color: #434B5C;\n",
              "      --hover-fill-color: #FFFFFF;\n",
              "      --disabled-bg-color: #3B4455;\n",
              "      --disabled-fill-color: #666;\n",
              "  }\n",
              "\n",
              "  .colab-df-quickchart {\n",
              "    background-color: var(--bg-color);\n",
              "    border: none;\n",
              "    border-radius: 50%;\n",
              "    cursor: pointer;\n",
              "    display: none;\n",
              "    fill: var(--fill-color);\n",
              "    height: 32px;\n",
              "    padding: 0;\n",
              "    width: 32px;\n",
              "  }\n",
              "\n",
              "  .colab-df-quickchart:hover {\n",
              "    background-color: var(--hover-bg-color);\n",
              "    box-shadow: 0 1px 2px rgba(60, 64, 67, 0.3), 0 1px 3px 1px rgba(60, 64, 67, 0.15);\n",
              "    fill: var(--button-hover-fill-color);\n",
              "  }\n",
              "\n",
              "  .colab-df-quickchart-complete:disabled,\n",
              "  .colab-df-quickchart-complete:disabled:hover {\n",
              "    background-color: var(--disabled-bg-color);\n",
              "    fill: var(--disabled-fill-color);\n",
              "    box-shadow: none;\n",
              "  }\n",
              "\n",
              "  .colab-df-spinner {\n",
              "    border: 2px solid var(--fill-color);\n",
              "    border-color: transparent;\n",
              "    border-bottom-color: var(--fill-color);\n",
              "    animation:\n",
              "      spin 1s steps(1) infinite;\n",
              "  }\n",
              "\n",
              "  @keyframes spin {\n",
              "    0% {\n",
              "      border-color: transparent;\n",
              "      border-bottom-color: var(--fill-color);\n",
              "      border-left-color: var(--fill-color);\n",
              "    }\n",
              "    20% {\n",
              "      border-color: transparent;\n",
              "      border-left-color: var(--fill-color);\n",
              "      border-top-color: var(--fill-color);\n",
              "    }\n",
              "    30% {\n",
              "      border-color: transparent;\n",
              "      border-left-color: var(--fill-color);\n",
              "      border-top-color: var(--fill-color);\n",
              "      border-right-color: var(--fill-color);\n",
              "    }\n",
              "    40% {\n",
              "      border-color: transparent;\n",
              "      border-right-color: var(--fill-color);\n",
              "      border-top-color: var(--fill-color);\n",
              "    }\n",
              "    60% {\n",
              "      border-color: transparent;\n",
              "      border-right-color: var(--fill-color);\n",
              "    }\n",
              "    80% {\n",
              "      border-color: transparent;\n",
              "      border-right-color: var(--fill-color);\n",
              "      border-bottom-color: var(--fill-color);\n",
              "    }\n",
              "    90% {\n",
              "      border-color: transparent;\n",
              "      border-bottom-color: var(--fill-color);\n",
              "    }\n",
              "  }\n",
              "</style>\n",
              "\n",
              "  <script>\n",
              "    async function quickchart(key) {\n",
              "      const quickchartButtonEl =\n",
              "        document.querySelector('#' + key + ' button');\n",
              "      quickchartButtonEl.disabled = true;  // To prevent multiple clicks.\n",
              "      quickchartButtonEl.classList.add('colab-df-spinner');\n",
              "      try {\n",
              "        const charts = await google.colab.kernel.invokeFunction(\n",
              "            'suggestCharts', [key], {});\n",
              "      } catch (error) {\n",
              "        console.error('Error during call to suggestCharts:', error);\n",
              "      }\n",
              "      quickchartButtonEl.classList.remove('colab-df-spinner');\n",
              "      quickchartButtonEl.classList.add('colab-df-quickchart-complete');\n",
              "    }\n",
              "    (() => {\n",
              "      let quickchartButtonEl =\n",
              "        document.querySelector('#df-a72ad6fb-928d-48e4-b3f8-a679fb1c74f7 button');\n",
              "      quickchartButtonEl.style.display =\n",
              "        google.colab.kernel.accessAllowed ? 'block' : 'none';\n",
              "    })();\n",
              "  </script>\n",
              "</div>\n",
              "    </div>\n",
              "  </div>\n"
            ],
            "application/vnd.google.colaboratory.intrinsic+json": {
              "type": "dataframe",
              "variable_name": "df",
              "summary": "{\n  \"name\": \"df\",\n  \"rows\": 52,\n  \"fields\": [\n    {\n      \"column\": \"Year\",\n      \"properties\": {\n        \"dtype\": \"number\",\n        \"std\": 7,\n        \"min\": 1995,\n        \"max\": 2020,\n        \"num_unique_values\": 26,\n        \"samples\": [\n          2003,\n          2011,\n          1995\n        ],\n        \"semantic_type\": \"\",\n        \"description\": \"\"\n      }\n    },\n    {\n      \"column\": \"City\",\n      \"properties\": {\n        \"dtype\": \"category\",\n        \"num_unique_values\": 2,\n        \"samples\": [\n          \"Bogota\",\n          \"Barcelona\"\n        ],\n        \"semantic_type\": \"\",\n        \"description\": \"\"\n      }\n    },\n    {\n      \"column\": \"AvgTemperature\",\n      \"properties\": {\n        \"dtype\": \"number\",\n        \"std\": 3.4347189280392523,\n        \"min\": 49.64246575,\n        \"max\": 63.13945205,\n        \"num_unique_values\": 52,\n        \"samples\": [\n          55.59808743,\n          56.62103825\n        ],\n        \"semantic_type\": \"\",\n        \"description\": \"\"\n      }\n    },\n    {\n      \"column\": \"AvgTempCelcius\",\n      \"properties\": {\n        \"dtype\": \"number\",\n        \"std\": 1.9081771822440288,\n        \"min\": 9.80136986111111,\n        \"max\": 17.299695583333335,\n        \"num_unique_values\": 52,\n        \"samples\": [\n          13.110048572222222,\n          13.678354583333332\n        ],\n        \"semantic_type\": \"\",\n        \"description\": \"\"\n      }\n    }\n  ]\n}"
            }
          },
          "metadata": {},
          "execution_count": 1
        }
      ],
      "source": [
        "import matplotlib.pyplot as plt\n",
        "import pandas as pd\n",
        "\n",
        "link = \"https://raw.githubusercontent.com/hernansalinas/Curso_Metodos_Computacionales/main/Entregas/Parciales/Parcial1/dataset/Temperature_Bogota_Barcelona.csv\"\n",
        "\n",
        "#Leo el link como csv y lo convierto en pandas\n",
        "df = pd.read_csv(link)\n",
        "# Creo una lista con las columnas a eliminar\n",
        "col_elim = ['Unnamed: 0','Month', 'Day']\n",
        "#Si axis=0, se eliminarán filas. Si axis=1, se eliminarán columnas.\n",
        "df = df.drop(col_elim, axis = 1)\n",
        "\n",
        "#adicionar una nueva columna\n",
        "df['AvgTempCelcius'] = (df['AvgTemperature']-32)/1.8\n",
        "\n",
        "df.head()"
      ]
    },
    {
      "cell_type": "code",
      "execution_count": null,
      "id": "f12bfc8c",
      "metadata": {
        "deletable": false,
        "editable": false,
        "id": "f12bfc8c"
      },
      "outputs": [],
      "source": [
        "grader.check(\"q3\")"
      ]
    },
    {
      "cell_type": "markdown",
      "id": "1f332ce9",
      "metadata": {
        "deletable": false,
        "editable": false,
        "id": "1f332ce9"
      },
      "source": [
        "**Pregunta 4** Para el miso data set anterior realizar lo siguiente:\n",
        "\n",
        " a. Crear un nuevo data frame llamado df1, con los valores de temperatura de bogota que sean menores que 20 °C.\n",
        " b. Crear un nuevo data frame llamado df2, con los valores de temperatura de Barcelona que este entre 10 °C y 20 °C"
      ]
    },
    {
      "cell_type": "code",
      "execution_count": null,
      "id": "0204302a",
      "metadata": {
        "tags": [],
        "id": "0204302a",
        "colab": {
          "base_uri": "https://localhost:8080/"
        },
        "outputId": "8da89ef2-77e2-4901-8385-5ff45a346265"
      },
      "outputs": [
        {
          "output_type": "stream",
          "name": "stdout",
          "text": [
            "   Year    City     Month        Day  AvgTemperature  AvgTempCelcius\n",
            "1  1995  Bogota  6.526027  15.720548       54.963014       12.757230\n",
            "3  1996  Bogota  6.513661  15.756831       55.083333       12.824074\n",
            "5  1997  Bogota  6.526027  15.720548       56.231507       13.461948\n",
            "7  1998  Bogota  6.526027  15.720548       49.642466        9.801370\n",
            "9  1999  Bogota  6.526027  15.720548       52.231781       11.239878\n",
            "   Year       City     Month        Day  AvgTemperature  AvgTempCelcius\n",
            "0  1995  Barcelona  6.526027  15.720548       62.019178       16.677321\n",
            "2  1996  Barcelona  6.513661  15.756831       61.125956       16.181087\n",
            "4  1997  Barcelona  6.526027  15.720548       62.612329       17.006849\n",
            "6  1998  Barcelona  6.526027  15.720548       60.273973       15.707763\n",
            "8  1999  Barcelona  6.526027  15.720548       61.204658       16.224810\n"
          ]
        }
      ],
      "source": [
        "import matplotlib.pyplot as plt\n",
        "import pandas as pd\n",
        "\n",
        "link = \"https://raw.githubusercontent.com/hernansalinas/Curso_Metodos_Computacionales/main/Entregas/Parciales/Parcial1/dataset/Temperature_Bogota_Barcelona.csv\"\n",
        "\n",
        "#Leo el link como csv\n",
        "df = pd.read_csv(link)\n",
        "df = df.drop('Unnamed: 0', axis = 1)\n",
        "\n",
        "#adicionar una nueva columna\n",
        "df['AvgTempCelcius'] = (df['AvgTemperature']-32)/1.8\n",
        "\n",
        "df1 = df[(df['City']=='Bogota') & (df['AvgTempCelcius']<20)]\n",
        "print(df1.head())\n",
        "\n",
        "df2 = df[((df['City']=='Barcelona') & (df['AvgTempCelcius']>10)) & (df['AvgTempCelcius']<20) ]\n",
        "print(df2.head())"
      ]
    },
    {
      "cell_type": "code",
      "execution_count": null,
      "id": "7eb87239",
      "metadata": {
        "deletable": false,
        "editable": false,
        "id": "7eb87239"
      },
      "outputs": [],
      "source": [
        "grader.check(\"q4\")"
      ]
    },
    {
      "cell_type": "markdown",
      "id": "c46289e4",
      "metadata": {
        "deletable": false,
        "editable": false,
        "id": "c46289e4"
      },
      "source": [
        "<!-- BEGIN QUESTION -->\n",
        "\n",
        "**Pregunta  5** Para el data set df, con todos los valores de Bogota y Barcelona, realizar en misma figura lo siguiente, recuerda poner las unidades y etiquetas respectivas :\n",
        "\n",
        " d. Gráfico de AvgTempCelcius como función del año para la ciudad de Bogotá.\n",
        "\n",
        " e. Gráfico AvgTempCelcius como funcion del año para la ciudad de Barcelona."
      ]
    },
    {
      "cell_type": "code",
      "execution_count": null,
      "id": "e887d483",
      "metadata": {
        "tags": [],
        "id": "e887d483",
        "colab": {
          "base_uri": "https://localhost:8080/",
          "height": 493
        },
        "outputId": "ab236d2c-a4c7-4dda-f020-cc6704900bf8"
      },
      "outputs": [
        {
          "output_type": "display_data",
          "data": {
            "text/plain": [
              "<Figure size 640x480 with 1 Axes>"
            ],
            "image/png": "[encoded data removed]"
          },
          "metadata": {}
        }
      ],
      "source": [
        "import matplotlib.pyplot as plt\n",
        "import pandas as pd\n",
        "\n",
        "link = \"https://raw.githubusercontent.com/hernansalinas/Curso_Metodos_Computacionales/main/Entregas/Parciales/Parcial1/dataset/Temperature_Bogota_Barcelona.csv\"\n",
        "\n",
        "#Leo el link como csv\n",
        "df = pd.read_csv(link)\n",
        "df = df.drop('Unnamed: 0', axis = 1)\n",
        "df['AvgTempCelcius'] = (df['AvgTemperature']-32)/1.8\n",
        "bog = df[(df['City']=='Bogota')]\n",
        "bar = df[(df['City']=='Barcelona')]\n",
        "\n",
        "plt.plot(bog['Year'], bog['AvgTempCelcius'], label = 'Bogota')\n",
        "plt.plot(bar['Year'], bar['AvgTempCelcius'], label = 'Barcelona')\n",
        "\n",
        "plt.scatter(bog['Year'], bog['AvgTempCelcius'], color='blue')\n",
        "plt.scatter(bar['Year'], bar['AvgTempCelcius'], color='red')\n",
        "\n",
        "plt.xlabel('Año')\n",
        "plt.ylabel('Temperatura [°C]')\n",
        "plt.legend()\n",
        "plt.title('Temperatura en función de los años\\n para las ciudades de Bogota y Barcelona')\n",
        "plt.show()\n"
      ]
    },
    {
      "cell_type": "markdown",
      "id": "8c071261",
      "metadata": {
        "deletable": false,
        "editable": false,
        "id": "8c071261"
      },
      "source": [
        "<!-- END QUESTION -->\n",
        "<!-- BEGIN QUESTION -->\n",
        "\n",
        "**Pregunta 5:** ¿Qué puede inferir del gráfico?\n",
        "\n",
        "\n",
        "\n"
      ]
    },
    {
      "cell_type": "markdown",
      "id": "ed74d09d",
      "metadata": {
        "id": "ed74d09d"
      },
      "source": [
        "Del grafico podemos inferir que en los 25 años de muestras respecto a la temperatura, la temperatura promedio de bogota fue menor a la de barceona en todo momento, excepto para el año 2020. Además de que bogota ha tenido una bajones de temperatura más extremos.\n"
      ]
    },
    {
      "cell_type": "markdown",
      "id": "7251a5c2",
      "metadata": {
        "deletable": false,
        "editable": false,
        "id": "7251a5c2"
      },
      "source": [
        "<!-- END QUESTION -->\n",
        "\n"
      ]
    },
    {
      "cell_type": "markdown",
      "id": "bebaffd4",
      "metadata": {
        "deletable": false,
        "editable": false,
        "id": "bebaffd4"
      },
      "source": [
        "## Submission\n",
        "\n",
        "Make sure you have run all cells in your notebook in order before running the cell below, so that all images/graphs appear in the output. The cell below will generate a zip file for you to submit. **Please save before exporting!**\n",
        "\n",
        "These are some submission instructions."
      ]
    },
    {
      "cell_type": "code",
      "execution_count": null,
      "id": "2e413d42",
      "metadata": {
        "deletable": false,
        "editable": false,
        "id": "2e413d42"
      },
      "outputs": [],
      "source": [
        "# Save your notebook first, then run this cell to export your submission.\n",
        "#grader.export(run_tests=True)"
      ]
    },
    {
      "cell_type": "markdown",
      "id": "78fb8c36",
      "metadata": {
        "id": "78fb8c36"
      },
      "source": []
    }
  ],
  "metadata": {
    "kernelspec": {
      "display_name": "Python 3 (ipykernel)",
      "language": "python",
      "name": "python3"
    },
    "language_info": {
      "codemirror_mode": {
        "name": "ipython",
        "version": 3
      },
      "file_extension": ".py",
      "mimetype": "text/x-python",
      "name": "python",
      "nbconvert_exporter": "python",
      "pygments_lexer": "ipython3",
      "version": "3.10.9"
    },
    "otter": {
      "OK_FORMAT": true,
      "tests": {
        "q1": {
          "name": "q1",
          "points": null,
          "suites": [
            {
              "cases": [
                {
                  "code": ">>> isinstance(ds, pd.Series) == True\nTrue",
                  "hidden": false,
                  "locked": false
                },
                {
                  "code": ">>> np.isclose(dM, 0.39, rtol=0.001) == True\nTrue",
                  "hidden": false,
                  "locked": false
                },
                {
                  "code": ">>> np.isclose(dJ, 5.2, rtol=0.001) == True\nTrue",
                  "hidden": false,
                  "locked": false
                },
                {
                  "code": ">>> (len(ds) == 9) == True\nTrue",
                  "hidden": false,
                  "locked": false
                },
                {
                  "code": ">>> (len(s) == 6) == True\nTrue",
                  "hidden": false,
                  "locked": false
                }
              ],
              "scored": true,
              "setup": "",
              "teardown": "",
              "type": "doctest"
            }
          ]
        },
        "q2": {
          "name": "q2",
          "points": null,
          "suites": [
            {
              "cases": [
                {
                  "code": ">>> isinstance(dt, pd.Series) == True\nTrue",
                  "hidden": false,
                  "locked": false
                },
                {
                  "code": ">>> (df.columns == ['DistanciaSolUA', 'PerdiodoUT']).sum() == 2\nTrue",
                  "hidden": false,
                  "locked": false
                },
                {
                  "code": ">>> (df.index == ['Mercurio', 'Venus', 'Tierra', 'Marte', 'Jupiter', 'Saturno', 'Urano', 'Neptuno', 'Pluton']).sum() == 9\nTrue",
                  "hidden": false,
                  "locked": false
                }
              ],
              "scored": true,
              "setup": "",
              "teardown": "",
              "type": "doctest"
            }
          ]
        },
        "q3": {
          "name": "q3",
          "points": null,
          "suites": [
            {
              "cases": [
                {
                  "code": ">>> (df.columns.sort_values() == ['AvgTempCelcius', 'AvgTemperature', 'City', 'Year']).sum() == 4\nTrue",
                  "hidden": false,
                  "locked": false
                },
                {
                  "code": ">>> np.isclose(df['AvgTempCelcius'].mean(), 14.566, rtol=0.001) == True\nTrue",
                  "hidden": false,
                  "locked": false
                }
              ],
              "scored": true,
              "setup": "",
              "teardown": "",
              "type": "doctest"
            }
          ]
        },
        "q4": {
          "name": "q4",
          "points": null,
          "suites": [
            {
              "cases": [
                {
                  "code": ">>> np.isclose(df1.AvgTempCelcius.mean(), 12.9515, rtol=0.0001) == True\nTrue",
                  "hidden": false,
                  "locked": false
                },
                {
                  "code": ">>> np.isclose(df2.AvgTempCelcius.mean(), 16.1818, rtol=0.0001) == True\nTrue",
                  "hidden": false,
                  "locked": false
                }
              ],
              "scored": true,
              "setup": "",
              "teardown": "",
              "type": "doctest"
            }
          ]
        }
      }
    },
    "colab": {
      "provenance": []
    }
  },
  "nbformat": 4,
  "nbformat_minor": 5
}