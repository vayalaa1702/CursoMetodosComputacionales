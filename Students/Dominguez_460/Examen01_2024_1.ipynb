{
  "cells": [
    {
      "cell_type": "markdown",
      "metadata": {
        "id": "pb-wUg6mHtL5"
      },
      "source": []
    },
    {
      "cell_type": "markdown",
      "metadata": {
        "id": "yzIQLm5ASP00"
      },
      "source": [
        "# Examen 1: Métodos computacionales.\n",
        "\n",
        "## Profesor: Hernán Salinas\n",
        "### Universidad de Antioquia\n",
        "\n",
        "\n",
        "El examen consta de 7 puntos, cada uno de igual valor, el uso de herramientas de IA no esta permitido. Puede usar la documentacion de scipy, numpy, matplotlib.\n",
        "\n",
        "La entrega se realiza a través del github del curso.\n",
        "\n",
        "\n",
        "#### Examen\n",
        "\n",
        "Una esfera de masa $m$ es lanzada desde la superficie de la tierra con velocidad $\\vec{v_0}$. Las fuerzas que actúan sobre la bolita son: el peso $m\\vec{g}$, y la fuerza de rozamiento $\\vec{f}=-mb\\vec{v}_0$ que el  aire ejerce sobre la bolita. Un digrama de cuerpo libre es esquematizado en la siguiente figura.\n",
        "\n",
        "![Movimiento parabolico](http://www.sc.ehu.es/sbweb/fisica/dinamica/stokes2/stokes1.gif)\n",
        "\n",
        "Para dar solución al movimiento de la bolita, se debe plantear las ecuaciones de movimiento desde la segunda ley de Newton y después solucionarla para encontrar la ecuaciones de posición y velocidad. Su tarea será determinar el valor del alcance máximo para diferentes ángulos de lanzamiento. Para ello lea detenidamente lo siguiente:  \n",
        "\n",
        "Las **ecuaciones de movimiento** de la bolita vienen dadas por:\n",
        "\\begin{equation}\n",
        "m\\frac{\\mathrm{d}v_x}{\\mathrm{d}t} = - mbv_x\n",
        "\\end{equation}\n",
        "\n",
        "\n",
        "\\begin{equation}\n",
        "m\\frac{\\mathrm{d}v_y}{\\mathrm{d}t} = - mg-mbv_y\n",
        "\\end{equation}\n",
        "\n",
        "\n",
        "donde:\n",
        "\n",
        "$v_{0x}=v_0\\cos \\theta$,  $v_{0y}=v_0\\sin \\theta$,  $b$ el coeficiente de rozamiento con el aire, y $g$ la aceleración de la gravedad\n",
        "\n",
        "\n",
        "La solución a las ecuaciones anteriores para la **posición ($x$, $y$) y la velocidad ($v_x$, $v_y$)**  son:\n",
        "\n",
        "\n",
        "\\begin{equation}\n",
        "x =  \\frac{v_{0x}}{b}\\left( 1-e^{-bt} \\right)\n",
        "\\end{equation}\n",
        "\n",
        "\\begin{equation}\n",
        "y =  \\frac{1}{b}\\left( \\frac{g}{b}+v_{0y}\\right)(1-e^{-bt})-\\frac{g}{b}t\n",
        "\\end{equation}\n",
        "\n",
        "\n",
        "\\begin{equation}\n",
        "v_x = v_{0x}e^{-bt}\n",
        "\\end{equation}\n",
        "\n",
        "\\begin{equation}\n",
        "v_y = \\left(\\frac{g}{b}+v_{0y} \\right) e^{-bt}-\\frac{g}{b}\n",
        "\\end{equation}\n",
        "\n",
        "\n",
        "\n",
        "**Alcance máximo**\n",
        "\n",
        "El tiempo asociado al alcance máximo del proyectil se da cuando $x=R$, despejando de la ecuación para $x$ el tiempo, se tiene que:\n",
        "\n",
        "\\begin{equation}\n",
        "t_v=-\\frac{1}{b} \\ln \\left(1-\\frac{Rb}{v_{0x}} \\right)\n",
        "\\end{equation}\n",
        "\n",
        "Reemplanzando en la ecuación para $y$ obtenemos que:\n",
        "\\begin{equation}\n",
        "y =\\left(\\frac{g}{b} + v_{0y}  \\right) \\frac{R}{v_{0x}}+\\frac{g}{b^2}\\ln \\left(1-\\frac{Rb}{v_{0x}} \\right)\n",
        "\\end{equation}\n",
        "\n",
        "El alcance máximo R, estará deteminado cuando $y=0$ en la anterior ecuación. Notese que es una ecuación trascendental. Su tarea será determinar el valor de R para diferentes ángulos de lanzamiento, para ello realice lo siguiente:\n",
        "\n",
        "\n",
        "\n",
        "\n",
        "\n",
        "1. Construir una función de python paramétrica para determinar el valor de R.\n",
        "$y = f(R, \\theta, v_{ox},v_{oy},b,g)$\n",
        "\n",
        "\n",
        "\n",
        "2. Asumiento que la bolita es lanzada con una rapidez de\n",
        "$v_0=55\\mathrm{m}/\\mathrm{s}$ y un ángulo de $45^{\\circ}$ respecto a la horizontal, $b=0.005$ y $g=9.8\\mathrm{m}/\\mathrm{s^2}$, determine el alcance máximo. Emplee el método que desee.\n",
        "\n",
        "\n",
        "3. Valide el resutado anterior, con un método diferente al que empleo en el apartado anterior y además, determine el tiempo de vuelo $t_v$.  \n",
        "\n",
        "\n",
        "4. Construya una gráfica de $x$ vs $t$, $y$ vs $t$, $x$ vs $y$. Asegurese de  no superar en las trayectorias los tiempos establecidos por el  tiempo de vuelo $t_v$.\n",
        "\n",
        "Ahora,  vamos a mostrar la trayectoria para múltiples ángulos de lanzamiento.\n",
        "\n",
        "5. Suponiendo,  $b=0.009$, $v_0 = 40\\mathrm{m}/\\mathrm{s}$ y  $\\theta$ entre $0<\\theta<90^{\\circ}$ en pasos de $5^{\\circ}$:\n",
        "```python\n",
        "theta=np.arange(0, 90, 5)\n",
        "theta=np.deg2rad(theta)\n",
        "```\n",
        "\n",
        "\n",
        "generalice el resultado del punto  número 2  para determinar el conjunto de valores de R asociados a cada ángulo. Con lo anterior determine los tiempos de vuelo.\n",
        "\n",
        "6. Realice un gráfico de $R$ vs $t_v$\n",
        "\n",
        "7. Finalmente, construya todas las trayectorias ($y$ vs $x$) para cada ángulo $\\theta$.\n",
        "\n",
        "\n",
        "\n",
        "\n",
        "\n",
        "\n",
        "\n",
        "\n",
        "\n",
        "\n",
        "\n"
      ]
    },
    {
      "cell_type": "code",
      "source": [
        "import numpy as np\n",
        "import matplotlib.pyplot as plt\n",
        "import pandas as pd\n",
        "import scipy as sc\n",
        "from scipy import optimize"
      ],
      "metadata": {
        "id": "7razwz4e8XO8"
      },
      "execution_count": 1,
      "outputs": []
    },
    {
      "cell_type": "code",
      "source": [
        "\n",
        "st = lambda x,g,b,v0,a: ((g/b)  +  v0*np.sin(a)) * ( x / v0*np.cos(a) ) + (g/(b**2)) * np.log(1-( x*b/v0*np.cos(a)))\n",
        "\n",
        "x = np.arange(-10,1000,1)\n",
        "\n",
        "params = (9.8, 0.05, 55, np.radians(45))\n",
        "\n",
        "root = optimize.bisect(st,484,486, args = params)\n",
        "print(root)\n",
        "plt.plot(root, st(root, *params), 'ro')\n",
        "plt.plot(x, st(x,*params))\n",
        "plt.grid()\n",
        "plt.plot()"
      ],
      "metadata": {
        "id": "o1FdO136_4UQ",
        "outputId": "6946509d-1163-4b2e-bbbc-ae745a68cc56",
        "colab": {
          "base_uri": "https://localhost:8080/",
          "height": 465
        }
      },
      "execution_count": 98,
      "outputs": [
        {
          "output_type": "stream",
          "name": "stdout",
          "text": [
            "485.0008387008111\n"
          ]
        },
        {
          "output_type": "execute_result",
          "data": {
            "text/plain": [
              "[]"
            ]
          },
          "metadata": {},
          "execution_count": 98
        },
        {
          "output_type": "display_data",
          "data": {
            "text/plain": [
              "<Figure size 640x480 with 1 Axes>"
            ],
            "image/png": "[encoded data removed]"
          },
          "metadata": {}
        }
      ]
    },
    {
      "cell_type": "markdown",
      "source": [
        "#2."
      ],
      "metadata": {
        "id": "yyJdNCHkQmkg"
      }
    },
    {
      "cell_type": "code",
      "source": [
        "root1 = optimize.newton(st,450, args = params)\n",
        "root1"
      ],
      "metadata": {
        "id": "h0hEUWuiCY3J",
        "outputId": "33bf104c-75b2-4cd7-f9dc-56c5d80eff69",
        "colab": {
          "base_uri": "https://localhost:8080/"
        }
      },
      "execution_count": 101,
      "outputs": [
        {
          "output_type": "execute_result",
          "data": {
            "text/plain": [
              "485.00083870080937"
            ]
          },
          "metadata": {},
          "execution_count": 101
        }
      ]
    },
    {
      "cell_type": "code",
      "source": [
        "t = lambda b, root1, v0: -(1/b)*np.log(1-(root1*b)/v0*np.cos(a))\n",
        "\n",
        "print(f'el teimpo de vuelo fue {abs(t(0.005, root1, 55))}')"
      ],
      "metadata": {
        "id": "jQ3_eJpOQ-C7",
        "outputId": "393f8acd-a1f6-4e2c-e773-d47de50fce2d",
        "colab": {
          "base_uri": "https://localhost:8080/"
        }
      },
      "execution_count": 106,
      "outputs": [
        {
          "output_type": "stream",
          "name": "stdout",
          "text": [
            "el teimpo de vuelo fue 3.9126780182866647\n"
          ]
        }
      ]
    },
    {
      "cell_type": "markdown",
      "source": [],
      "metadata": {
        "id": "Oh2m39R6E-4O"
      }
    },
    {
      "cell_type": "code",
      "source": [],
      "metadata": {
        "id": "ni43qeSfRFfp"
      },
      "execution_count": null,
      "outputs": []
    }
  ],
  "metadata": {
    "colab": {
      "provenance": []
    },
    "kernelspec": {
      "display_name": "Python 3 (ipykernel)",
      "language": "python",
      "name": "python3"
    },
    "language_info": {
      "codemirror_mode": {
        "name": "ipython",
        "version": 3
      },
      "file_extension": ".py",
      "mimetype": "text/x-python",
      "name": "python",
      "nbconvert_exporter": "python",
      "pygments_lexer": "ipython3",
      "version": "3.10.9"
    }
  },
  "nbformat": 4,
  "nbformat_minor": 0
}