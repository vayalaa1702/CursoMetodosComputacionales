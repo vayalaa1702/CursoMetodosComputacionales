{
  "cells": [
    {
      "cell_type": "markdown",
      "metadata": {
        "id": "vNId_cR_cUlC"
      },
      "source": [
        "<a href=\"https://colab.research.google.com/github/hernansalinas/autogrades/blob/main/Laboratorios_Taller/Lab05_errores.ipynb\" target=\"_parent\"><img src=\"https://colab.research.google.com/assets/colab-badge.svg\" alt=\"Open In Colab\"/></a>"
      ]
    },
    {
      "cell_type": "markdown",
      "metadata": {
        "id": "z_gkZBk6K8TH"
      },
      "source": [
        "# Tipos de errores.\n",
        "\n",
        "Errores en la computación, ver libro [Computational Physics. ](https://www.dropbox.com/s/n06ul2r4l65khl6/Computational%20Physics%20-%20Problem%20Solving%20with%20Computers%2C%203527406263.pdf?dl=0)\n",
        ":\n",
        "\n",
        "\n",
        ">- ### Blunder or bad theory\n",
        "Errores tipográficos de entrada, errores en los datos, razonamientos teoricos malos, entre otros.\n",
        ">- ### Errores aleatorios.\n",
        "Impresiones causadas por eventos tales como fluctuaciones electronicas, rayos cósmicos. Se presentan rara vez, y y tiene una mayor probabilidad de ocurrir cuando los calculos se demoran del orden de semanas.\n",
        ">- ### Errores de aproximación:\n",
        "Se presentan por truncamiento de los modelos numéricos, por ejemplol si consideramos la serie asociada a la función\n",
        "$\\sin x$:\n",
        "\n",
        "\\begin{equation}\n",
        "\\sin x = \\sum_{n=1}^{\\infty} \\frac{(-1)^{n-1}x^{2n-1}}{(2n-1)!}\n",
        "\\end{equation}\n",
        "\n",
        "\n",
        "\\begin{equation}\n",
        "\\sin x = \\sum_{n=1}^{N} \\frac{(-1)^{n-1}x^{2n-1}}{(2n-1)!} + \\varepsilon(x, N)\n",
        "\\end{equation}\n",
        "\n",
        "\n",
        "> El error numérico  en el calculo computacional es del orden de  $\\varepsilon(x, N)$, dado que el computador debe truncar la serie en un N determinado.\n",
        "\n",
        "\n",
        ">- ### Errores de redondeo:\n",
        "Análogos a los errores  de  cantidad experimentales.\n"
      ]
    },
    {
      "cell_type": "markdown",
      "metadata": {
        "id": "OFqJhhVmLhdX"
      },
      "source": []
    },
    {
      "cell_type": "markdown",
      "metadata": {
        "id": "VVDQ_eH5Jjxw"
      },
      "source": [
        "# Errores de redondeo:\n",
        "## Cancelacion substractiva\n",
        "\n",
        "Sea $b_c = b (1+ \\epsilon)$ y Sea $c_c = c (1+ \\epsilon)$ La representacion de dos números en el computador.  Calculemos la diferencia entre estos dos números:\n",
        "\n",
        "\n",
        "$a_c = (b-c) + b\\epsilon_b -c\\epsilon_c = a+ b\\epsilon_b -c\\epsilon_c$\n",
        "\n",
        "$\\frac{a_c}{a} = 1 + \\frac{b}{a}\\epsilon_b -\\frac{c}{a}\\epsilon_c $\n",
        "\n",
        "$\\frac{a_c}{a} = 1 + \\frac{b}{a} \\max(\\epsilon_b,\\epsilon_c) $\n",
        "\n",
        "Si $b\\approx c$, el valor de a es un valor muy grande.\n",
        "\n",
        "\n",
        "\n"
      ]
    },
    {
      "cell_type": "code",
      "execution_count": null,
      "metadata": {
        "id": "O-SP8rPyDQ34"
      },
      "outputs": [],
      "source": [
        "import numpy as np"
      ]
    },
    {
      "cell_type": "code",
      "execution_count": null,
      "metadata": {
        "colab": {
          "base_uri": "https://localhost:8080/"
        },
        "id": "wqrGTlWw1OUR",
        "outputId": "366ec525-8557-40c7-a09f-a2acdf73a7ea"
      },
      "outputs": [
        {
          "output_type": "stream",
          "name": "stdout",
          "text": [
            "1.9073486e-06\n",
            "4.632568359374996\n"
          ]
        }
      ],
      "source": [
        "print(np.float32(12.123452) - np.float32(12.123450))\n",
        "diff = np.float32(12.123452) - np.float32(12.123450)\n",
        "valor_real = 0.000002\n",
        "\n",
        "error = abs(diff-valor_real)/valor_real*100\n",
        "\n",
        "print(error)\n",
        "\n",
        "#(12.123452/valor_real)*1/(2**31)"
      ]
    },
    {
      "cell_type": "code",
      "execution_count": null,
      "metadata": {
        "colab": {
          "base_uri": "https://localhost:8080/"
        },
        "id": "AeDXTAN7OTcn",
        "outputId": "aafe2461-e017-4150-d3dc-72d8b435f373"
      },
      "outputs": [
        {
          "output_type": "stream",
          "name": "stdout",
          "text": [
            "0.0\n",
            "5.0\n",
            "¿Cual es la diferencia entre estas dos restas?\n"
          ]
        }
      ],
      "source": [
        "print(np.float32(1234567895) - np.float32(1234567890))\n",
        "print(np.float64(1234567895) - np.float64(1234567890))\n",
        "print(\"¿Cual es la diferencia entre estas dos restas?\")"
      ]
    },
    {
      "cell_type": "code",
      "execution_count": null,
      "metadata": {
        "colab": {
          "base_uri": "https://localhost:8080/"
        },
        "id": "O5uQVd-TZmPQ",
        "outputId": "006fcd80-03c9-436f-ad5e-6809765e62c6"
      },
      "outputs": [
        {
          "name": "stdout",
          "output_type": "stream",
          "text": [
            "4.0\n",
            "5.0\n",
            "¿Cual es la diferencia entre estas dos restas?\n"
          ]
        }
      ],
      "source": [
        "print(np.float32(12345675) - np.float32(12345671))\n",
        "print(np.float64(1234567895) - np.float64(1234567890))\n",
        "print(\"¿Cual es la diferencia entre estas dos restas?\")"
      ]
    },
    {
      "cell_type": "code",
      "execution_count": null,
      "metadata": {
        "colab": {
          "base_uri": "https://localhost:8080/"
        },
        "id": "gSutoSLxR7A1",
        "outputId": "aa3a2b60-8cc1-4425-870a-675d869921d3"
      },
      "outputs": [
        {
          "data": {
            "text/plain": [
              "1.9073486328125e-06"
            ]
          },
          "execution_count": 28,
          "metadata": {},
          "output_type": "execute_result"
        }
      ],
      "source": [
        "xt = 12345678912.345678\n",
        "yt = 12345678912.345677\n",
        "xt-yt"
      ]
    },
    {
      "cell_type": "code",
      "execution_count": null,
      "metadata": {
        "colab": {
          "base_uri": "https://localhost:8080/"
        },
        "id": "7I__xYI7Sq98",
        "outputId": "67bd8bb6-fd86-4eaf-f958-1e36bf6ceaec"
      },
      "outputs": [
        {
          "data": {
            "text/plain": [
              "-9.999999999999995e-17"
            ]
          },
          "execution_count": 29,
          "metadata": {},
          "output_type": "execute_result"
        }
      ],
      "source": [
        "xt = 0.0000000000000005\n",
        "yt = 0.0000000000000006\n",
        "xt-yt"
      ]
    },
    {
      "cell_type": "code",
      "execution_count": null,
      "metadata": {
        "colab": {
          "base_uri": "https://localhost:8080/"
        },
        "id": "vqwW1XbkYiOS",
        "outputId": "55a31f4b-f49f-4a3a-d2b6-be1ef1222402"
      },
      "outputs": [
        {
          "name": "stdout",
          "output_type": "stream",
          "text": [
            "1.2345678912e-09\n"
          ]
        }
      ],
      "source": [
        "a = np.float16(1.2345678912345678912)-np.float16(1.2345678900000000000)\n",
        "r = 0.0000000012345678912\n",
        "print(r)"
      ]
    },
    {
      "cell_type": "markdown",
      "metadata": {
        "id": "D7wS4CRCMdcJ"
      },
      "source": [
        "## Errores de acumulación\n",
        "$\\epsilon_{ro}=\\sqrt{N}\\epsilon_m$\n"
      ]
    },
    {
      "cell_type": "code",
      "execution_count": null,
      "metadata": {
        "colab": {
          "base_uri": "https://localhost:8080/"
        },
        "id": "KJA7qyMPOkRH",
        "outputId": "7feca77c-2bd0-4a92-f1ce-f2131ad4a500"
      },
      "outputs": [
        {
          "output_type": "stream",
          "name": "stdout",
          "text": [
            "Valor a través de la suma:  100000.00149011612\n",
            "Valor exacto:  100000.0\n",
            "Error  1.4901161193847656e-06\n"
          ]
        }
      ],
      "source": [
        "#Con numeros de 32 bit.\n",
        "eps = np. float64(0)\n",
        "\n",
        "N = 1000000\n",
        "for i in range(0, N):\n",
        " eps = np.float32(0.1) + eps\n",
        "\n",
        "exac = N*0.1\n",
        "error = np.abs(exac-eps) / exac\n",
        "print(\"Valor a través de la suma: \", eps)\n",
        "print(\"Valor exacto: \",  exac)\n",
        "print(\"Error \", error*100 )\n"
      ]
    },
    {
      "cell_type": "markdown",
      "metadata": {
        "id": "rjPq2MFFObTp"
      },
      "source": [
        "\n",
        "## Errores de aproximación.\n",
        " $\\epsilon_{aprox}=\\frac{\\alpha}{N^{\\beta}}$\n"
      ]
    },
    {
      "cell_type": "markdown",
      "metadata": {
        "id": "uisq8TnEOftp"
      },
      "source": [
        "## Error total:\n",
        " $\\epsilon_{aprox} = \\epsilon_{ro}+\\epsilon_{aprox}$\n",
        "\n"
      ]
    },
    {
      "cell_type": "markdown",
      "metadata": {
        "id": "4XGEWL7NN1H-"
      },
      "source": [
        "# Errores de una serie\n",
        "\n",
        "- ¿Converge la serie?\n",
        "- ¿Qué tan preciso es la convergencia?\n",
        "- Costo computacional\n",
        "\n",
        "\n",
        "## Error de una serie\n",
        "Sea $x$ el valor verdadero y $x^*$ el valor aproximado\n",
        "\n",
        "- Error absoluto : se define como\n",
        "\\begin{equation*}\n",
        "\\epsilon_{abs}= |x-x^*|\n",
        "\\end{equation*}\n",
        "- Error relativo : es dado por\n",
        "\\begin{equation*}\n",
        "\\epsilon_{rel}= \\frac{|x-x^*|}{|x|}\n",
        "\\end{equation*}\n",
        "- Error en series : El error para truncar una serie se toma como\n",
        "\\begin{equation*}\n",
        "\\epsilon_{aprox}= \\left|\\frac{nth\\hbox{-term}}{\\hbox{suma}}\\right|< \\hbox{eps}\n",
        "\\end{equation*}\n",
        "La tolerancia normalmente se toma como un número pequeño, por ejemplo `eps` $=10^{-10}$. Note que no se trunca la serie usando $|{nth}\\hbox{-term}|<$ eps,   usar esta forma puede conducir a errores debido a que no se compara con el valor de la suma (un millon compardo a uno es grande, pero comparado a diez mil millones es pequeño).\n",
        "\n",
        "Tomemos como ejemplo otra vez el cálculo de la serie del seno,\n"
      ]
    },
    {
      "cell_type": "markdown",
      "metadata": {
        "id": "reiKGKshRPay"
      },
      "source": [
        "# Laboratorio\n",
        "\n",
        "## 1. Exponencial, serie alternante (serieEn)\n",
        "Objetivo: Analizar el uso de la cancelación substractiva\n",
        "\n",
        "\n",
        "Copia textual del libro  [Computational Physics. ](https://www.dropbox.com/s/n06ul2r4l65khl6/Computational%20Physics%20-%20Problem%20Solving%20with%20Computers%2C%203527406263.pdf?dl=0)\n",
        "\n",
        "- Write a program that calculates $e^{-x}$\n",
        "\n",
        "\\begin{equation}\n",
        "e^{-x}=\\sum_{n=0}^{N}  (-1)^n \\frac{x^{n}}{n!}\n",
        "\\end{equation}\n",
        "\n",
        "\n",
        "- Calculate your series for $x \\le 1$ and compare it to the built-in function\n",
        "exp(x) (you may assume that the built-in exponential function is exact).\n",
        "You should pick an N for which the next term in the series is no more\n",
        "than $10^{-7}$ of the sum up to that point\n",
        "\n",
        "\\begin{equation}\n",
        "\\left| \\frac{(-x)^{N+1}}{(N+1)!} \\right | \\le \\left| 10^{-7} \\sum_{N=0}^{N} \\frac{(-x)^{n}}{n!} \\right|\n",
        "\\end{equation}\n",
        "\n",
        "- Examine the terms in the series for $x\\approx 10$ and observe the significant subtractive cancellations that occur when large terms add together to give small answers. In particular, print out the near-perfect cancellation\n",
        "at $n \\approx x − 1$.\n",
        "\n",
        "- See if better precision is obtained by being clever and using exp(−x) = 1/ exp(x) for large x values. This eliminates subtractive cancellation, but does not eliminate all roundoff errors\n",
        "\n",
        "- By progressively increasing x from 1 to 10, and then from 10 to 100, use your program to determine experimentally when the series starts to lose accuracy, and when the series no longer converges\n",
        "\n",
        "- Make a series of graphs of the error versus N for different values of x."
      ]
    },
    {
      "cell_type": "markdown",
      "metadata": {
        "id": "xdSWpZeWcUlL"
      },
      "source": [
        "## 2. Cancelación sustractiva\n",
        "\n",
        "\n",
        "\n",
        "**serieSn**. Un ejemplo de la cancelacion substractiva es en la suma de series alternantes. Considere la serie $\\mathrm{S}_N$,  escrita  matematicamente de tres formas diferentes:\n",
        "\n",
        "-\n",
        "\\begin{equation}\n",
        "\\mathrm{S}_N^{(1)} = \\sum_{n = 1}^{2N} (-1)^n \\frac{n}{n+1}\n",
        "\\end{equation}\n",
        "\n",
        "- Sumando números pares e impares.\n",
        "\n",
        "\\begin{equation}\n",
        "\\mathrm{S}_N^{(2)} = -\\sum_{n = 1}^{N}\\frac{2n-1}{2n} + \\sum_{n=1}^{N} \\frac{2n}{2n+1}\n",
        "\\end{equation}\n",
        "\n",
        "- Combinando las series de una forma analítica\n",
        "\n",
        "\\begin{equation}\n",
        "\\mathrm{S}_N^{(3)} = \\sum_{n = 1}^{N}\\frac{1}{2n(2n+1)}\n",
        "\\end{equation}\n",
        "\n",
        "\n",
        "\n",
        "Las tres sumas $\\mathrm{S}_N^{(1)}$, $\\mathrm{S}_N^{(2)}$ y $\\mathrm{S}_N^{(3)}$ son matemáticamente iguales, pero los resultados  pueden tener resultados numéricos diferentes.\n",
        "\n",
        "\n",
        "- Escribir un programa que realice el cálculo de $\\mathrm{S}_N^{(1)}$, $\\mathrm{S}_N^{(2)}$ y $\\mathrm{S}_N^{(3)}$\n",
        "- Estudiar la convergencia de la serie para los tres casos.\n",
        "- Considere  que $S_N^{(3)}$ es la solución exacta, realizar dos graficos log-log, del error relativo en función\n",
        "del número de términos ($\\mathrm{Log_{10}} E$ VS $\\mathrm{Log_{10}} N$), para $S_N^{(1)}$ y $S_N^{(2)}$. Donde,  $E = |(S_N^{(i)} - S_N^{(3)})/S_N^{(3)}|$, i = 1, 2. Considere valores de $N = 1\\times 10^{6}$.\n",
        "- Analizar y discutir los resultados. Tenga en cuenta la discusión realizada sobre teoría de errores en la página\n",
        "39 del libro del libro [Computational Physics. ](https://www.dropbox.com/s/n06ul2r4l65khl6/Computational%20Physics%20-%20Problem%20Solving%20with%20Computers%2C%203527406263.pdf?dl=0)\n",
        "\n",
        "\n"
      ]
    },
    {
      "cell_type": "markdown",
      "source": [
        "**1. Exponencial, serie alternante (serieEn)**"
      ],
      "metadata": {
        "id": "UsZGXo-yesc5"
      }
    },
    {
      "cell_type": "code",
      "execution_count": null,
      "metadata": {
        "id": "zQdD97EYcUlL"
      },
      "outputs": [],
      "source": [
        "import numpy as np\n",
        "import matplotlib.pyplot as plt\n",
        "from math import factorial\n",
        "\n",
        "x = 10\n",
        "N = 100\n",
        "\n",
        "def exponencial(x, N):\n",
        "  exp = 0\n",
        "  for i in range(N):\n",
        "    exp += (-1)**i * x**i/factorial(i)\n",
        "  return exp\n"
      ]
    },
    {
      "cell_type": "code",
      "source": [
        "x = 10\n",
        "N = 100\n",
        "el = exponencial(x, N)\n",
        "e_exacto = np.exp(-x)\n",
        "\n",
        "print(f'{el}')\n",
        "print(f'{e_exacto}')"
      ],
      "metadata": {
        "colab": {
          "base_uri": "https://localhost:8080/"
        },
        "id": "6Luz5aq_fWAx",
        "outputId": "da5db129-ab0e-4b11-cf82-3da57faf236f"
      },
      "execution_count": null,
      "outputs": [
        {
          "output_type": "stream",
          "name": "stdout",
          "text": [
            "4.5399929433607724e-05\n",
            "4.5399929762484854e-05\n"
          ]
        }
      ]
    },
    {
      "cell_type": "code",
      "source": [
        "def exponencial_truncado(x,N):\n",
        "  ex = exponencial(x,N)\n",
        "  tresh = abs(1e-7*ex)\n",
        "  exp_ = 0\n",
        "  for i in range(N):\n",
        "    exp_= abs((-x)**(i+1)/factorial(i+1))\n",
        "    if exp_ <= tresh:\n",
        "      break\n",
        "  return exp_, i"
      ],
      "metadata": {
        "id": "NMo0mk8WfzAr"
      },
      "execution_count": null,
      "outputs": []
    },
    {
      "cell_type": "code",
      "source": [
        "\n",
        "print(f'Valor de la serie:          {exponencial(x, N)}')\n",
        "print(f'Valor de la serie truncada: {exponencial_truncado(x, N)}')\n",
        "print(f'Valor exacto:               {e_exacto}')"
      ],
      "metadata": {
        "colab": {
          "base_uri": "https://localhost:8080/"
        },
        "id": "QvF5CWvViEN5",
        "outputId": "86db4849-e066-4d88-d184-2262efcddad0"
      },
      "execution_count": null,
      "outputs": [
        {
          "output_type": "stream",
          "name": "stdout",
          "text": [
            "Valor de la serie:          4.5399929433607724e-05\n",
            "Valor de la serie truncada: (1.817315401561479e-12, 45)\n",
            "Valor exacto:               4.5399929762484854e-05\n"
          ]
        }
      ]
    },
    {
      "cell_type": "markdown",
      "source": [
        "para terminos positivos"
      ],
      "metadata": {
        "id": "7PsOpmTPm4GB"
      }
    },
    {
      "cell_type": "code",
      "source": [
        "def invertida(x, N):\n",
        "  exp  = 0\n",
        "  for i in range(N):\n",
        "    exp += x**i/factorial(i)\n",
        "  return 1/exp\n",
        "\n",
        "print(f'Valor de la serie:          {exponencial(x, N)}')\n",
        "print(f'Valor de la serie invertida: {invertida(x, N)}')\n",
        "print(f'Valor exacto:               {e_exacto}')"
      ],
      "metadata": {
        "colab": {
          "base_uri": "https://localhost:8080/"
        },
        "id": "4eLX5A66iv6z",
        "outputId": "5066a839-5d8f-4a0c-e48a-ae33aff68649"
      },
      "execution_count": null,
      "outputs": [
        {
          "output_type": "stream",
          "name": "stdout",
          "text": [
            "Valor de la serie:          4.5399929433607724e-05\n",
            "Valor de la serie invertida: 4.539992976248486e-05\n",
            "Valor exacto:               4.5399929762484854e-05\n"
          ]
        }
      ]
    },
    {
      "cell_type": "code",
      "source": [
        "import numpy as np\n",
        "import matplotlib.pyplot as plt\n",
        "from math import factorial\n",
        "\n",
        "N  = np.arange(1, 100, 1)\n",
        "\n",
        "exp1_ = np.zeros(len(N))\n",
        "exp2_ = np.zeros(len(N))\n",
        "\n",
        "#La función enumerate recibe un objeto iterable y retorna tuplas en las que cada una contiene un elemento del objeto que recibe\n",
        "\n",
        "for i,n in enumerate(N):\n",
        "  exp1_[i] =  exponencial(x,n)\n",
        "  exp2_[i] =  invertida(x,n)\n",
        "\n",
        "plt.figure()\n",
        "plt.plot(N, exp1_, label = \"Serie alternante\")\n",
        "plt.plot(N, exp2_, label = \"Serie invertida\")\n",
        "plt.xlabel(\"Iteraciones\")\n",
        "plt.ylabel(\"Valro de la funcion\")\n",
        "plt.legend()\n",
        "plt.show()"
      ],
      "metadata": {
        "colab": {
          "base_uri": "https://localhost:8080/",
          "height": 449
        },
        "id": "76SIF6hunhlS",
        "outputId": "a3fd6d47-2c8b-45b2-cbdb-0f9f03f85e3f"
      },
      "execution_count": null,
      "outputs": [
        {
          "output_type": "display_data",
          "data": {
            "text/plain": [
              "<Figure size 640x480 with 1 Axes>"
            ],
            "image/png": "[encoded data removed]"
          },
          "metadata": {}
        }
      ]
    },
    {
      "cell_type": "code",
      "source": [
        "x =100\n",
        "N = np.arange(1, 100, 1)\n",
        "\n",
        "exacto = np.exp(-x)\n",
        "error = abs(exp2_-exacto)/exacto*100\n",
        "\n",
        "plt.plot(N, error)"
      ],
      "metadata": {
        "colab": {
          "base_uri": "https://localhost:8080/",
          "height": 463
        },
        "id": "D-6NH1jXqJ9w",
        "outputId": "c9b0d365-2344-4aad-bdec-4ddd2a271373"
      },
      "execution_count": null,
      "outputs": [
        {
          "output_type": "execute_result",
          "data": {
            "text/plain": [
              "[<matplotlib.lines.Line2D at 0x7a1622322a10>]"
            ]
          },
          "metadata": {},
          "execution_count": 96
        },
        {
          "output_type": "display_data",
          "data": {
            "text/plain": [
              "<Figure size 640x480 with 1 Axes>"
            ],
            "image/png": "[encoded data removed]"
          },
          "metadata": {}
        }
      ]
    },
    {
      "cell_type": "markdown",
      "source": [
        "## Cancelación sustractiva"
      ],
      "metadata": {
        "id": "d67gUB0T8uyr"
      }
    },
    {
      "cell_type": "code",
      "source": [
        "import numpy as np\n",
        "import matplotlib.pyplot as plt"
      ],
      "metadata": {
        "id": "HioKJtXK807i"
      },
      "execution_count": null,
      "outputs": []
    },
    {
      "cell_type": "code",
      "source": [
        "import numpy as np\n",
        "import matplotlib.pyplot as plt\n",
        "\n",
        "def S1(N):\n",
        "  S1 = 0\n",
        "  for i in range(1,2*N +1):\n",
        "    S1 = S1 + (-1)**i * i/(i+1)\n",
        "  return S1\n",
        "\n",
        "print(S1(100))\n",
        "\n",
        "N = np.arange(1,2*100,1)\n",
        "\n",
        "s1_ = np.zeros(len(N))\n",
        "\n",
        "for j in range(len(N)):\n",
        "  s1_[j] = S1(N[j])\n",
        "\n",
        "\n",
        "\"\"\"plt.plot(N, s1_)\n",
        "plt.xlabel('ITERACIONES')\n",
        "plt.ylabel('VALOR SERIE 1')\n",
        "plt.grid()\n",
        "plt.show()\"\"\""
      ],
      "metadata": {
        "colab": {
          "base_uri": "https://localhost:8080/",
          "height": 53
        },
        "id": "_J_uyObC9XDb",
        "outputId": "5fb84ed6-8f76-4881-ac10-0aa1c84ca92d"
      },
      "execution_count": 5,
      "outputs": [
        {
          "output_type": "stream",
          "name": "stdout",
          "text": [
            "0.30437144514006564\n"
          ]
        },
        {
          "output_type": "execute_result",
          "data": {
            "text/plain": [
              "\"plt.plot(N, s1_)\\nplt.xlabel('ITERACIONES')\\nplt.ylabel('VALOR SERIE 1')\\nplt.grid()\\nplt.show()\""
            ],
            "application/vnd.google.colaboratory.intrinsic+json": {
              "type": "string"
            }
          },
          "metadata": {},
          "execution_count": 5
        }
      ]
    },
    {
      "cell_type": "markdown",
      "source": [
        "- Sumando números pares e impares.\n",
        "\n",
        "\\begin{equation}\n",
        "\\mathrm{S}_N^{(2)} = -\\sum_{n = 1}^{N}\\frac{2n-1}{2n} + \\sum_{n=1}^{N} \\frac{2n}{2n+1}\n",
        "\\end{equation}"
      ],
      "metadata": {
        "id": "397rQvHErhuh"
      }
    },
    {
      "cell_type": "code",
      "source": [
        "import numpy as np\n",
        "import matplotlib.pyplot as plt\n",
        "\n",
        "def S2(N):\n",
        "  S2 = 0\n",
        "  for i in range(1, N+1):\n",
        "    S2 = S2 - ((2*i-1)/(2*i)) + ((2*i)/(2*i +1))\n",
        "  return S2\n",
        "\n",
        "print(S2(100))\n",
        "\n",
        "N = np.arange(1, 100, 1) # creo un arreglo de 1 has 100 de paso de 1\n",
        "\n",
        "s2_ = np.zeros(len(N)) # otro array de diemnciones de N\n",
        "\n",
        "for j, n in enumerate(N):\n",
        "  s2_[j] = S2(n) # voy creando tuplas dado cada j asociado a el valor de S2\n",
        "\n",
        "\"\"\"plt.plot(N, s2_, color = 'green')\n",
        "plt.xlabel('Numeros de iteriaciones')\n",
        "plt.ylabel('VALOR DE LA SERIE')\n",
        "plt.grid()\n",
        "plt.show( )\"\"\""
      ],
      "metadata": {
        "colab": {
          "base_uri": "https://localhost:8080/",
          "height": 53
        },
        "id": "8iwJtRcvDLUu",
        "outputId": "88ce20ba-0d31-4c39-86d9-86d391cf28d9"
      },
      "execution_count": 4,
      "outputs": [
        {
          "output_type": "stream",
          "name": "stdout",
          "text": [
            "0.30437144514006564\n"
          ]
        },
        {
          "output_type": "execute_result",
          "data": {
            "text/plain": [
              "\"plt.plot(N, s2_, color = 'green')\\nplt.xlabel('Numeros de iteriaciones')\\nplt.ylabel('VALOR DE LA SERIE')\\nplt.grid()\\nplt.show( )\""
            ],
            "application/vnd.google.colaboratory.intrinsic+json": {
              "type": "string"
            }
          },
          "metadata": {},
          "execution_count": 4
        }
      ]
    },
    {
      "cell_type": "markdown",
      "source": [
        "- Combinando las series de una forma analítica\n",
        "\n",
        "\\begin{equation}\n",
        "\\mathrm{S}_N^{(3)} = \\sum_{n = 1}^{N}\\frac{1}{2n(2n+1)}\n",
        "\\end{equation}"
      ],
      "metadata": {
        "id": "EEAgA50fvBjJ"
      }
    },
    {
      "cell_type": "code",
      "source": [
        "import numpy as np\n",
        "import matplotlib.pyplot as plt\n",
        "\n",
        "def S3(N):\n",
        "  S3 = 0\n",
        "  for i in range(1, N+1):\n",
        "    S3 = S3 + 1 / (2*i*((2*i)+1))\n",
        "  return S3\n",
        "\n",
        "print(S3(100))\n",
        "\n",
        "N = np.arange(1,100,1)\n",
        "\n",
        "s3_ = np.zeros(len(N))\n",
        "\n",
        "for j, n in enumerate(N):\n",
        "  s3_[j] = S3(n)\n",
        "\n",
        "\n",
        "#plt.plot(N, s3_, color = 'purple')\n",
        "#plt.xlabel('VALRO DE S3')\n",
        "#plt.ylabel('NUMEROD DE ITERACONES')\n",
        "#plt.grid()\n",
        "#plt.show()"
      ],
      "metadata": {
        "colab": {
          "base_uri": "https://localhost:8080/"
        },
        "id": "0uNGrCOsKFZ7",
        "outputId": "57ad5a79-ba8f-4e44-b72d-1e29c10c46ed"
      },
      "execution_count": 3,
      "outputs": [
        {
          "output_type": "stream",
          "name": "stdout",
          "text": [
            "0.3043714451400664\n"
          ]
        }
      ]
    },
    {
      "cell_type": "markdown",
      "source": [
        "\n",
        "Las tres sumas $\\mathrm{S}_N^{(1)}$, $\\mathrm{S}_N^{(2)}$ y $\\mathrm{S}_N^{(3)}$ son matemáticamente iguales, pero los resultados  pueden tener resultados numéricos diferentes.\n",
        "\n",
        "\n",
        "- Escribir un programa que realice el cálculo de $\\mathrm{S}_N^{(1)}$, $\\mathrm{S}_N^{(2)}$ y $\\mathrm{S}_N^{(3)}$\n",
        "- Estudiar la convergencia de la serie para los tres casos.\n",
        "- Considere  que $S_N^{(3)}$ es la solución exacta, realizar dos graficos log-log, del error relativo en función\n",
        "del número de términos ($\\mathrm{Log_{10}} E$ VS $\\mathrm{Log_{10}} N$), para $S_N^{(1)}$ y $S_N^{(2)}$. Donde,  $E = |(S_N^{(i)} - S_N^{(3)})/S_N^{(3)}|$, i = 1, 2. Considere valores de $N = 1\\times 10^{6}$.\n",
        "- Analizar y discutir los resultados. Tenga en cuenta la discusión realizada sobre teoría de errores en la página\n",
        "39 del libro del libro [Computational Physics. ](https://www.dropbox.com/s/n06ul2r4l65khl6/Computational%20Physics%20-%20Problem%20Solving%20with%20Computers%2C%203527406263.pdf?dl=0)"
      ],
      "metadata": {
        "id": "4wpFeiCe1R8y"
      }
    },
    {
      "cell_type": "code",
      "source": [
        "import matplotlib.pyplot as plt\n",
        "\n",
        "def S1(N):\n",
        "    S1 = 0\n",
        "    for i in range(1, 2*N + 1):\n",
        "        S1 = S1 + (-1)**i * i/(i+1)\n",
        "    return S1\n",
        "\n",
        "def S3(N): # exacta\n",
        "    S3 = 0\n",
        "    for i in range(1, N+1):\n",
        "        S3 = S3 + 1 / (2*i*((2*i)+1))\n",
        "    return S3\n",
        "\n",
        "def E1(N):\n",
        "    err1 = abs((S1(N) - S3(N)) / S3(N))\n",
        "    return err1\n",
        "\n",
        "def E2(N):\n",
        "    err2 = abs((S2(N) - S3(N)) / S3(N))\n",
        "    return err2\n",
        "\n",
        "N_values = [10**n for n in range(0, 7)]\n",
        "\n",
        "# Calcula los errores solo para los valores de N definidos\n",
        "errors1 = [E1(N) for N in N_values]\n",
        "errors2 = [E2(N) for N in N_values]\n",
        "\n",
        "plt.loglog(N_values, errors1, label='Error relativo de S1')\n",
        "plt.loglog(N_values, errors2, label='Error relativo de S2')\n",
        "plt.xlabel('log(N) (log del número de iteraciones)')\n",
        "plt.ylabel('log(E1) (log del error relativo)')\n",
        "plt.title('Error relativo de S1 en comparación con S3 (log-log)')\n",
        "plt.legend()\n",
        "plt.grid(True)\n",
        "plt.show()\n"
      ],
      "metadata": {
        "colab": {
          "base_uri": "https://localhost:8080/",
          "height": 477
        },
        "id": "4IkSWHEbco2P",
        "outputId": "5a76ba0c-9744-42ac-8d32-f802fca1029a"
      },
      "execution_count": 50,
      "outputs": [
        {
          "output_type": "display_data",
          "data": {
            "text/plain": [
              "<Figure size 640x480 with 1 Axes>"
            ],
            "image/png": "[encoded data removed]"
          },
          "metadata": {}
        }
      ]
    },
    {
      "cell_type": "code",
      "source": [],
      "metadata": {
        "id": "191E4KSKeDBO"
      },
      "execution_count": null,
      "outputs": []
    }
  ],
  "metadata": {
    "colab": {
      "provenance": []
    },
    "kernelspec": {
      "display_name": "Python 3 (ipykernel)",
      "language": "python",
      "name": "python3"
    },
    "language_info": {
      "codemirror_mode": {
        "name": "ipython",
        "version": 3
      },
      "file_extension": ".py",
      "mimetype": "text/x-python",
      "name": "python",
      "nbconvert_exporter": "python",
      "pygments_lexer": "ipython3",
      "version": "3.10.9"
    }
  },
  "nbformat": 4,
  "nbformat_minor": 0
}