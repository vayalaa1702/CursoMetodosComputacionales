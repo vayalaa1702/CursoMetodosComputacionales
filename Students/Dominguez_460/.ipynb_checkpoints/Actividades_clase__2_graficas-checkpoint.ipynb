{
 "cells": [
  {
   "cell_type": "markdown",
   "metadata": {
    "id": "qKFH3uRXcrrX"
   },
   "source": [
    "1. Escribir un programa en python en el que ingresada la profundidad máxima, cálcule punto a punto la variación de presión con la profundidad. Para ello el usuario deberá definir un valor máximo y en metros y el programa deberá retornar la grafica de Presión como función de y. La gráfica deberá tener:\n",
    "Unidades, titulo, fontsize=xticks=14\n",
    "El label de la gráfica deberá indicar el numero de presiones atmosfericas a la que se esta sometida en produndidad máxima.\n",
    "Se deberá entregar un archivo con extensión .ipynb llamado activdad_02 y una gráfica para una profundidad de 30m llamada activdad_02_graf.png."
   ]
  },
  {
   "cell_type": "code",
   "execution_count": null,
   "metadata": {
    "colab": {
     "base_uri": "https://localhost:8080/"
    },
    "id": "DJ2-vsqJe9M4",
    "outputId": "8c69a691-12fa-480e-9885-371a3662e778"
   },
   "outputs": [
    {
     "name": "stdout",
     "output_type": "stream",
     "text": [
      "Writing actividad_presion.py\n"
     ]
    }
   ],
   "source": [
    "%writefile actividad_presion.py\n",
    "!usr/bin/env python\n",
    "\n",
    "import numpy as np\n",
    "import matplotlib.pyplot as plt\n",
    "\n",
    "def presion(profundidad):\n",
    "  presion_inicial=101325\n",
    "  return presion_inicial + 1000 * 9.81 * profundidad\n",
    "\n",
    "profundidad_maxima = 30\n",
    "presion_inicial = 101325  # Presión inicial en Pa (presión atmosférica al nivel del mar)\n",
    "\n",
    "# EJE X\n",
    "profundidades = np.linspace(0, profundidad_maxima)  # Valores de profundidad\n",
    "#EJE Y\n",
    "presiones = presion(profundidades)  # Calcular las presiones correspondientes\n",
    "\n",
    "\n",
    "plt.plot(profundidades, presiones)\n",
    "plt.xlabel('Profundidad [m]', fontsize=14)\n",
    "plt.ylabel('Presión [Pa]', fontsize=14)\n",
    "plt.title('Variación de Presión con la Profundidad', fontsize=14)\n",
    "plt.grid(True)\n",
    "plt.xticks(fontsize=14)\n",
    "plt.yticks(fontsize=14)\n",
    "\n",
    "# Calcular el número de atmósferas a la profundidad máxima\n",
    "num_atmosferas = presiones[-1] / presion_inicial # [-1] nos indica que es el ultimo valor de las presiones\n",
    "                                                # Y lo comvertimos en las unidades de atm\n",
    "plt.text(profundidad_maxima, presiones[-1], f'{num_atmosferas:.1f} atm',\n",
    "         fontsize=14, ha='right')\n",
    "\n",
    "plt.savefig('actividad_02_graf.png')\n",
    "plt.show()\n"
   ]
  },
  {
   "cell_type": "markdown",
   "metadata": {
    "id": "WgsZ9pDegP9o"
   },
   "source": [
    "2. Un jugador de baloncesto decide lanzar su balón a una distancia d del aro, con una rapidez v y ángulo theta respecto a la horizontal. Si la cesta tiene una altura de 3m, y el movimiento que realiza la pelota es un movimiento parabólico, construya un programa que determine si el jugador de baloncesto encesto o no encesto. Para ello:\n",
    "Definido theta, vo, y d como archivo json, se determine si el jugador encesto o no encesto.\n",
    "\n",
    "Construir la gráfica del movimiento parabólico, para un theta, vo, y d, de tal forma que el jugador enceste.\n",
    "\n",
    "import json"
   ]
  },
  {
   "cell_type": "code",
   "execution_count": null,
   "metadata": {
    "colab": {
     "base_uri": "https://localhost:8080/"
    },
    "id": "tLomqc8uk9VG",
    "outputId": "fa7d5038-c8b6-4d0c-a492-6e3d41265244"
   },
   "outputs": [
    {
     "name": "stdout",
     "output_type": "stream",
     "text": [
      "Writing actividad_baloncesto.py\n"
     ]
    }
   ],
   "source": [
    "%writefile actividad_baloncesto.py\n",
    "!usr/bin/env python\n",
    "\n",
    "\n",
    "import json\n",
    "import numpy as np\n",
    "import matplotlib.pyplot as plt\n",
    "\n",
    "import json\n",
    "\n",
    "datos = {\n",
    "    \"d\": 30.0,\n",
    "    \"theta\": 20.0,\n",
    "    \"vo\": 5.0\n",
    "}\n",
    "\n",
    "ruta_archivo = 'datos.json'\n",
    "\n",
    "with open(ruta_archivo, 'w') as archivo:\n",
    "    json.dump(datos, archivo)\n",
    "\n",
    "def cargar_datos_desde_json(ruta_archivo):\n",
    "    with open(ruta_archivo, 'r') as archivo:\n",
    "        datos = json.load(archivo)\n",
    "    return datos\n",
    "\n",
    "def graficar_movimiento_parabolico(datos):\n",
    "    theta = np.deg2rad(datos[\"theta\"])\n",
    "    vo = datos[\"vo\"]\n",
    "    g = 9.8 #m/s^2\n",
    "\n",
    "    t_vuelo = (vo * np.sin(theta) + np.sqrt((vo * np.sin(theta))**2 + 2 * g * 3)) / g\n",
    "\n",
    "    tiempo = np.linspace(0, t_vuelo, num=100)\n",
    "\n",
    "    x = vo * np.cos(theta) * tiempo\n",
    "    y = vo * np.sin(theta) * tiempo - 0.5 * g * tiempo**2\n",
    "\n",
    "    plt.plot(x, y)\n",
    "    plt.xlabel('Distancia (m)')\n",
    "    plt.ylabel('Altura (m)')\n",
    "    plt.title('Movimiento parabólico')\n",
    "    plt.grid(True)\n",
    "    plt.show()\n",
    "\n",
    "if __name__ == \"__main__\":\n",
    "    ruta_archivo = 'datos.json'\n",
    "    datos = cargar_datos_desde_json(ruta_archivo)\n",
    "    graficar_movimiento_parabolico(datos)\n"
   ]
  },
  {
   "cell_type": "code",
   "execution_count": null,
   "metadata": {
    "id": "77EJofD6fTJt"
   },
   "outputs": [],
   "source": []
  }
 ],
 "metadata": {
  "colab": {
   "provenance": []
  },
  "kernelspec": {
   "display_name": "Python 3 (ipykernel)",
   "language": "python",
   "name": "python3"
  },
  "language_info": {
   "codemirror_mode": {
    "name": "ipython",
    "version": 3
   },
   "file_extension": ".py",
   "mimetype": "text/x-python",
   "name": "python",
   "nbconvert_exporter": "python",
   "pygments_lexer": "ipython3",
   "version": "3.10.9"
  }
 },
 "nbformat": 4,
 "nbformat_minor": 1
}
