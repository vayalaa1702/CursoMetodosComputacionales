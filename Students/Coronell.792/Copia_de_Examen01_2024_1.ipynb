{
  "cells": [
    {
      "cell_type": "markdown",
      "metadata": {
        "id": "pb-wUg6mHtL5"
      },
      "source": [
        "Punto 1"
      ]
    },
    {
      "cell_type": "code",
      "source": [
        "def MaximumR(theta,vo,b,g):\n",
        "  R ="
      ],
      "metadata": {
        "id": "JKYDpZGv6rYR"
      },
      "execution_count": null,
      "outputs": []
    },
    {
      "cell_type": "code",
      "source": [
        "import matplotlib.pyplot as plt\n",
        "import numpy as np\n",
        "import pandas as pd\n",
        "from scipy import optimize\n",
        "from PIL import Image\n",
        "import sympy as sp\n"
      ],
      "metadata": {
        "id": "Ip5p_b00GJ7G"
      },
      "execution_count": 47,
      "outputs": []
    },
    {
      "cell_type": "code",
      "source": [
        "R,vox,voy,b,g = sp.symbols('R vox voy b g')\n",
        "f = lambda R,vox,voy,b,g: (((g/b)+voy)*(R/vox)) + ((g/b**2)*np.log(1-((R*b)/vox)))\n",
        "sp.diff(f(R,vox,voy,b,g),R)"
      ],
      "metadata": {
        "colab": {
          "base_uri": "https://localhost:8080/",
          "height": 366
        },
        "id": "SIpsWpG1Kpny",
        "outputId": "2160c2bb-53a7-430b-b531-a1c4ac0dbd17"
      },
      "execution_count": 56,
      "outputs": [
        {
          "output_type": "error",
          "ename": "TypeError",
          "evalue": "loop of ufunc does not support argument 0 of type Add which has no callable log method",
          "traceback": [
            "\u001b[0;31m---------------------------------------------------------------------------\u001b[0m",
            "\u001b[0;31mAttributeError\u001b[0m                            Traceback (most recent call last)",
            "\u001b[0;31mAttributeError\u001b[0m: 'Add' object has no attribute 'log'",
            "\nThe above exception was the direct cause of the following exception:\n",
            "\u001b[0;31mTypeError\u001b[0m                                 Traceback (most recent call last)",
            "\u001b[0;32m<ipython-input-56-df3766f5da9f>\u001b[0m in \u001b[0;36m<cell line: 3>\u001b[0;34m()\u001b[0m\n\u001b[1;32m      1\u001b[0m \u001b[0mR\u001b[0m\u001b[0;34m,\u001b[0m\u001b[0mvox\u001b[0m\u001b[0;34m,\u001b[0m\u001b[0mvoy\u001b[0m\u001b[0;34m,\u001b[0m\u001b[0mb\u001b[0m\u001b[0;34m,\u001b[0m\u001b[0mg\u001b[0m \u001b[0;34m=\u001b[0m \u001b[0msp\u001b[0m\u001b[0;34m.\u001b[0m\u001b[0msymbols\u001b[0m\u001b[0;34m(\u001b[0m\u001b[0;34m'R vox voy b g'\u001b[0m\u001b[0;34m)\u001b[0m\u001b[0;34m\u001b[0m\u001b[0;34m\u001b[0m\u001b[0m\n\u001b[1;32m      2\u001b[0m \u001b[0mf\u001b[0m \u001b[0;34m=\u001b[0m \u001b[0;32mlambda\u001b[0m \u001b[0mR\u001b[0m\u001b[0;34m,\u001b[0m\u001b[0mvox\u001b[0m\u001b[0;34m,\u001b[0m\u001b[0mvoy\u001b[0m\u001b[0;34m,\u001b[0m\u001b[0mb\u001b[0m\u001b[0;34m,\u001b[0m\u001b[0mg\u001b[0m\u001b[0;34m:\u001b[0m \u001b[0;34m(\u001b[0m\u001b[0;34m(\u001b[0m\u001b[0;34m(\u001b[0m\u001b[0mg\u001b[0m\u001b[0;34m/\u001b[0m\u001b[0mb\u001b[0m\u001b[0;34m)\u001b[0m\u001b[0;34m+\u001b[0m\u001b[0mvoy\u001b[0m\u001b[0;34m)\u001b[0m\u001b[0;34m*\u001b[0m\u001b[0;34m(\u001b[0m\u001b[0mR\u001b[0m\u001b[0;34m/\u001b[0m\u001b[0mvox\u001b[0m\u001b[0;34m)\u001b[0m\u001b[0;34m)\u001b[0m \u001b[0;34m+\u001b[0m \u001b[0;34m(\u001b[0m\u001b[0;34m(\u001b[0m\u001b[0mg\u001b[0m\u001b[0;34m/\u001b[0m\u001b[0mb\u001b[0m\u001b[0;34m**\u001b[0m\u001b[0;36m2\u001b[0m\u001b[0;34m)\u001b[0m\u001b[0;34m*\u001b[0m\u001b[0mnp\u001b[0m\u001b[0;34m.\u001b[0m\u001b[0mlog\u001b[0m\u001b[0;34m(\u001b[0m\u001b[0;36m1\u001b[0m\u001b[0;34m-\u001b[0m\u001b[0;34m(\u001b[0m\u001b[0;34m(\u001b[0m\u001b[0mR\u001b[0m\u001b[0;34m*\u001b[0m\u001b[0mb\u001b[0m\u001b[0;34m)\u001b[0m\u001b[0;34m/\u001b[0m\u001b[0mvox\u001b[0m\u001b[0;34m)\u001b[0m\u001b[0;34m)\u001b[0m\u001b[0;34m)\u001b[0m\u001b[0;34m\u001b[0m\u001b[0;34m\u001b[0m\u001b[0m\n\u001b[0;32m----> 3\u001b[0;31m \u001b[0msp\u001b[0m\u001b[0;34m.\u001b[0m\u001b[0mdiff\u001b[0m\u001b[0;34m(\u001b[0m\u001b[0mf\u001b[0m\u001b[0;34m(\u001b[0m\u001b[0mR\u001b[0m\u001b[0;34m,\u001b[0m\u001b[0mvox\u001b[0m\u001b[0;34m,\u001b[0m\u001b[0mvoy\u001b[0m\u001b[0;34m,\u001b[0m\u001b[0mb\u001b[0m\u001b[0;34m,\u001b[0m\u001b[0mg\u001b[0m\u001b[0;34m)\u001b[0m\u001b[0;34m,\u001b[0m\u001b[0mR\u001b[0m\u001b[0;34m)\u001b[0m\u001b[0;34m\u001b[0m\u001b[0;34m\u001b[0m\u001b[0m\n\u001b[0m",
            "\u001b[0;32m<ipython-input-56-df3766f5da9f>\u001b[0m in \u001b[0;36m<lambda>\u001b[0;34m(R, vox, voy, b, g)\u001b[0m\n\u001b[1;32m      1\u001b[0m \u001b[0mR\u001b[0m\u001b[0;34m,\u001b[0m\u001b[0mvox\u001b[0m\u001b[0;34m,\u001b[0m\u001b[0mvoy\u001b[0m\u001b[0;34m,\u001b[0m\u001b[0mb\u001b[0m\u001b[0;34m,\u001b[0m\u001b[0mg\u001b[0m \u001b[0;34m=\u001b[0m \u001b[0msp\u001b[0m\u001b[0;34m.\u001b[0m\u001b[0msymbols\u001b[0m\u001b[0;34m(\u001b[0m\u001b[0;34m'R vox voy b g'\u001b[0m\u001b[0;34m)\u001b[0m\u001b[0;34m\u001b[0m\u001b[0;34m\u001b[0m\u001b[0m\n\u001b[0;32m----> 2\u001b[0;31m \u001b[0mf\u001b[0m \u001b[0;34m=\u001b[0m \u001b[0;32mlambda\u001b[0m \u001b[0mR\u001b[0m\u001b[0;34m,\u001b[0m\u001b[0mvox\u001b[0m\u001b[0;34m,\u001b[0m\u001b[0mvoy\u001b[0m\u001b[0;34m,\u001b[0m\u001b[0mb\u001b[0m\u001b[0;34m,\u001b[0m\u001b[0mg\u001b[0m\u001b[0;34m:\u001b[0m \u001b[0;34m(\u001b[0m\u001b[0;34m(\u001b[0m\u001b[0;34m(\u001b[0m\u001b[0mg\u001b[0m\u001b[0;34m/\u001b[0m\u001b[0mb\u001b[0m\u001b[0;34m)\u001b[0m\u001b[0;34m+\u001b[0m\u001b[0mvoy\u001b[0m\u001b[0;34m)\u001b[0m\u001b[0;34m*\u001b[0m\u001b[0;34m(\u001b[0m\u001b[0mR\u001b[0m\u001b[0;34m/\u001b[0m\u001b[0mvox\u001b[0m\u001b[0;34m)\u001b[0m\u001b[0;34m)\u001b[0m \u001b[0;34m+\u001b[0m \u001b[0;34m(\u001b[0m\u001b[0;34m(\u001b[0m\u001b[0mg\u001b[0m\u001b[0;34m/\u001b[0m\u001b[0mb\u001b[0m\u001b[0;34m**\u001b[0m\u001b[0;36m2\u001b[0m\u001b[0;34m)\u001b[0m\u001b[0;34m*\u001b[0m\u001b[0mnp\u001b[0m\u001b[0;34m.\u001b[0m\u001b[0mlog\u001b[0m\u001b[0;34m(\u001b[0m\u001b[0;36m1\u001b[0m\u001b[0;34m-\u001b[0m\u001b[0;34m(\u001b[0m\u001b[0;34m(\u001b[0m\u001b[0mR\u001b[0m\u001b[0;34m*\u001b[0m\u001b[0mb\u001b[0m\u001b[0;34m)\u001b[0m\u001b[0;34m/\u001b[0m\u001b[0mvox\u001b[0m\u001b[0;34m)\u001b[0m\u001b[0;34m)\u001b[0m\u001b[0;34m)\u001b[0m\u001b[0;34m\u001b[0m\u001b[0;34m\u001b[0m\u001b[0m\n\u001b[0m\u001b[1;32m      3\u001b[0m \u001b[0msp\u001b[0m\u001b[0;34m.\u001b[0m\u001b[0mdiff\u001b[0m\u001b[0;34m(\u001b[0m\u001b[0mf\u001b[0m\u001b[0;34m(\u001b[0m\u001b[0mR\u001b[0m\u001b[0;34m,\u001b[0m\u001b[0mvox\u001b[0m\u001b[0;34m,\u001b[0m\u001b[0mvoy\u001b[0m\u001b[0;34m,\u001b[0m\u001b[0mb\u001b[0m\u001b[0;34m,\u001b[0m\u001b[0mg\u001b[0m\u001b[0;34m)\u001b[0m\u001b[0;34m,\u001b[0m\u001b[0mR\u001b[0m\u001b[0;34m)\u001b[0m\u001b[0;34m\u001b[0m\u001b[0;34m\u001b[0m\u001b[0m\n",
            "\u001b[0;31mTypeError\u001b[0m: loop of ufunc does not support argument 0 of type Add which has no callable log method"
          ]
        }
      ]
    },
    {
      "cell_type": "code",
      "source": [
        "import numpy as np\n",
        "\n",
        "def tan(grados):\n",
        "  return np.tan(np.deg2rad(grados))\n",
        "\n",
        "def sen(grados):\n",
        "  return np.sin(np.deg2rad(grados))\n",
        "\n",
        "def cos(grados):\n",
        "  return np.cos(np.deg2rad(grados))\n",
        "\n",
        "def intan(grados):\n",
        "  return np.rad2deg(np.arctan(grados))\n",
        "\n",
        "def insen(grados):\n",
        "  return np.rad2deg(np.arcsin(grados))\n",
        "\n",
        "def incos(grados):\n",
        "  return np.rad2deg(np.arccos(grados))\n",
        "\n",
        "def cotan(grados):\n",
        "  return 1/tan(grados)"
      ],
      "metadata": {
        "id": "kQXtR3-0QrPj"
      },
      "execution_count": null,
      "outputs": []
    },
    {
      "cell_type": "code",
      "source": [
        "import numpy as np\n",
        "vo = 55\n",
        "theta = 45\n",
        "b = 0.005\n",
        "g = 9.8\n",
        "vox = vo*cos(45)\n",
        "voy = vo*sen(45)\n",
        "f = lambda R,vox,voy,b,g: (((g/b)+voy)*(R/vox)) + ((g/b**2)*np.log(1-((R*b)/vox)))\n",
        "\n",
        "R = np.arange(-1,1,0.1)"
      ],
      "metadata": {
        "id": "15bKen3jC5G8"
      },
      "execution_count": 9,
      "outputs": []
    },
    {
      "cell_type": "code",
      "source": [
        "import numpy as np\n",
        "vo = 55\n",
        "theta = 45\n",
        "b = 0.005\n",
        "g = 9.8\n",
        "vox = vo*cos(45)\n",
        "voy = vo*sen(45)\n",
        "f = lambda R: (((g/b)+voy)*(R/vox)) + ((g/b**2)*np.log(1-((R*b)/vox)))\n",
        "\n",
        "R = np.arange(300,302,0.1)"
      ],
      "metadata": {
        "id": "bLE0vaJkF6fv"
      },
      "execution_count": 58,
      "outputs": []
    },
    {
      "cell_type": "code",
      "source": [
        "f(300.5)"
      ],
      "metadata": {
        "colab": {
          "base_uri": "https://localhost:8080/"
        },
        "id": "Fp5eq8emHZv5",
        "outputId": "442bda05-fc88-4cd5-bef2-add1a1c72a5d"
      },
      "execution_count": 59,
      "outputs": [
        {
          "output_type": "execute_result",
          "data": {
            "text/plain": [
              "0.19706280901846185"
            ]
          },
          "metadata": {},
          "execution_count": 59
        }
      ]
    },
    {
      "cell_type": "code",
      "source": [
        "plt.plot(R,f(R))\n",
        "plt.grid()\n",
        "plt.legend()"
      ],
      "metadata": {
        "id": "8vA83Go3E1Ll",
        "colab": {
          "base_uri": "https://localhost:8080/",
          "height": 467
        },
        "outputId": "68505080-ec92-4c3e-b4b3-de61e7275361"
      },
      "execution_count": 60,
      "outputs": [
        {
          "output_type": "stream",
          "name": "stderr",
          "text": [
            "WARNING:matplotlib.legend:No artists with labels found to put in legend.  Note that artists whose label start with an underscore are ignored when legend() is called with no argument.\n"
          ]
        },
        {
          "output_type": "execute_result",
          "data": {
            "text/plain": [
              "<matplotlib.legend.Legend at 0x79cd2a14df60>"
            ]
          },
          "metadata": {},
          "execution_count": 60
        },
        {
          "output_type": "display_data",
          "data": {
            "text/plain": [
              "<Figure size 640x480 with 1 Axes>"
            ],
            "image/png": "[encoded data removed]"
          },
          "metadata": {}
        }
      ]
    },
    {
      "cell_type": "code",
      "source": [
        "def biseccion(f,a,b,N,eps):\n",
        "  for i in range(N):\n",
        "    if f(a)*f(b)>0:\n",
        "      print(\"cambie los valores del intervalo\")\n",
        "      break\n",
        "\n",
        "  i = 0\n",
        "  while i !=N:\n",
        "\n",
        "      p = (a+b)/2\n",
        "      print (i, p, f(p))\n",
        "      if f(a)*f(p)>0:\n",
        "        a = p\n",
        "      elif f(a)*f(p)<0:\n",
        "        b = p\n",
        "        #for i in range(N):\n",
        "          #if abs(p-p[i-1]) < eps:\n",
        "            #print(f\"el cero es {p}\")\n",
        "            #break\n",
        "          #elif abs(p - p[i-1])/abs((p)) < eps:\n",
        "            #print(f\"el cero es {p}\")\n",
        "            #break\n",
        "      if abs(f(p)) < eps:\n",
        "        print(f\"el cero es {p}\")\n",
        "        break\n",
        "\n",
        "      i = i+1\n",
        "  return p\n"
      ],
      "metadata": {
        "id": "QD63QIBdq-gl"
      },
      "execution_count": 61,
      "outputs": []
    },
    {
      "cell_type": "code",
      "source": [
        "biseccion(f = lambda R: (((g/b)+voy)*(R/vox)) + ((g/b**2)*np.log(1-((R*b)/vox))),a=300.5,b=301.5,N=100,eps=1e-7)"
      ],
      "metadata": {
        "colab": {
          "base_uri": "https://localhost:8080/"
        },
        "id": "HuAnW2XpHUdQ",
        "outputId": "338b5987-5b8b-44e9-9d94-f94c8c0dd3a8"
      },
      "execution_count": 62,
      "outputs": [
        {
          "output_type": "stream",
          "name": "stdout",
          "text": [
            "0 301.0 -0.3164563953050674\n",
            "1 300.75 -0.059477698376213084\n",
            "2 300.625 0.06884732715661812\n",
            "3 300.6875 0.004698507562352461\n",
            "4 300.71875 -0.027386172056139912\n",
            "5 300.703125 -0.011342976396917948\n",
            "6 300.6953125 -0.0033220204586541513\n",
            "7 300.69140625 0.0006882970410515554\n",
            "8 300.693359375 -0.0013168483128538355\n",
            "9 300.6923828125 -0.0003142723162454786\n",
            "10 300.69189453125 0.00018701319822866935\n",
            "11 300.692138671875 -6.362932981573977e-05\n",
            "12 300.6920166015625 6.169200969452504e-05\n",
            "13 300.69207763671875 -9.68670065049082e-07\n",
            "14 300.6920471191406 3.036164889635984e-05\n",
            "15 300.6920623779297 1.4696492144139484e-05\n",
            "16 300.6920700073242 6.863934686407447e-06\n",
            "17 300.6920738220215 2.9476523195626214e-06\n",
            "18 300.6920757293701 9.89493855740875e-07\n",
            "19 300.69207668304443 1.0411895345896482e-08\n",
            "el cero es 300.69207668304443\n"
          ]
        },
        {
          "output_type": "execute_result",
          "data": {
            "text/plain": [
              "300.69207668304443"
            ]
          },
          "metadata": {},
          "execution_count": 62
        }
      ]
    },
    {
      "cell_type": "code",
      "source": [
        "optimize.bisect(f,300.5,301.5)"
      ],
      "metadata": {
        "colab": {
          "base_uri": "https://localhost:8080/"
        },
        "id": "m_-owPymH0Iv",
        "outputId": "5728fa33-d791-4274-8be0-79ca6e490610"
      },
      "execution_count": 63,
      "outputs": [
        {
          "output_type": "execute_result",
          "data": {
            "text/plain": [
              "300.6920766931926"
            ]
          },
          "metadata": {},
          "execution_count": 63
        }
      ]
    },
    {
      "cell_type": "code",
      "source": [
        "def biseccion_value(f,a,b,N,eps):\n",
        "  for i in range(N):\n",
        "    if f(a)*f(b)>0:\n",
        "      print(\"cambie los valores del intervalo\")\n",
        "      break\n",
        "\n",
        "  i = 0\n",
        "  while i !=N:\n",
        "\n",
        "      p = (a+b)/2\n",
        "      #print (i, p, f(p))\n",
        "      if f(a)*f(p)>0:\n",
        "        a = p\n",
        "      elif f(a)*f(p)<0:\n",
        "        b = p\n",
        "        #for i in range(N):\n",
        "          #if abs(p-p[i-1]) < eps:\n",
        "            #print(f\"el cero es {p}\")\n",
        "            #break\n",
        "          #elif abs(p - p[i-1])/abs((p)) < eps:\n",
        "            #print(f\"el cero es {p}\")\n",
        "            #break\n",
        "      if abs(f(p)) < eps:\n",
        "        #print(f\"el cero es {p}\")\n",
        "        break\n",
        "\n",
        "      i = i+1\n",
        "  return p\n"
      ],
      "metadata": {
        "id": "Db1Qoc-aNkvh"
      },
      "execution_count": 68,
      "outputs": []
    },
    {
      "cell_type": "code",
      "source": [
        "R_mau = biseccion_value(f = lambda R: (((g/b)+voy)*(R/vox)) + ((g/b**2)*np.log(1-((R*b)/vox))),a=300.5,b=301.5,N=100,eps=1e-7)\n",
        "R_t = np.arange(50.5,R_mau,0.01)\n",
        "tv = -(1/b)*np.log(1-((R_t*b)/vox))\n",
        "tv"
      ],
      "metadata": {
        "colab": {
          "base_uri": "https://localhost:8080/"
        },
        "id": "IHiCZgA2Nrl8",
        "outputId": "78c5f99c-5d88-47df-85ae-c8c2d38e1502"
      },
      "execution_count": 97,
      "outputs": [
        {
          "output_type": "execute_result",
          "data": {
            "text/plain": [
              "array([1.3027388 , 1.30299761, 1.30325642, ..., 7.88451135, 7.88477882,\n",
              "       7.88504629])"
            ]
          },
          "metadata": {},
          "execution_count": 97
        }
      ]
    },
    {
      "cell_type": "code",
      "source": [
        "x = (vox/b)*(1-np.exp(-b*tv))\n",
        "y = (1/b)*((g/b)+voy) * (1-np.exp(-b*tv)) - ((g/b)*tv)\n",
        "x,y"
      ],
      "metadata": {
        "colab": {
          "base_uri": "https://localhost:8080/"
        },
        "id": "fW2DuP65Ogoi",
        "outputId": "ef7d9b83-834b-446e-e1fd-cd471f10283c"
      },
      "execution_count": 98,
      "outputs": [
        {
          "output_type": "execute_result",
          "data": {
            "text/plain": [
              "(array([ 50.5 ,  50.51,  50.52, ..., 300.67, 300.68, 300.69]),\n",
              " array([4.22020973e+01, 4.22088035e+01, 4.22155091e+01, ...,\n",
              "        2.26629376e-02, 1.23978120e-02, 2.13198522e-03]))"
            ]
          },
          "metadata": {},
          "execution_count": 98
        }
      ]
    },
    {
      "cell_type": "code",
      "source": [
        "plt.figure()\n",
        "plt.plot(tv,x,'r.', label= 'x vs t')\n",
        "plt.legend()\n"
      ],
      "metadata": {
        "colab": {
          "base_uri": "https://localhost:8080/",
          "height": 448
        },
        "id": "FwE-mT2aPcSd",
        "outputId": "533ff451-a689-44bb-b9cf-286d1b046ffe"
      },
      "execution_count": 99,
      "outputs": [
        {
          "output_type": "execute_result",
          "data": {
            "text/plain": [
              "<matplotlib.legend.Legend at 0x79cd299d70a0>"
            ]
          },
          "metadata": {},
          "execution_count": 99
        },
        {
          "output_type": "display_data",
          "data": {
            "text/plain": [
              "<Figure size 640x480 with 1 Axes>"
            ],
            "image/png": "[encoded data removed]"
          },
          "metadata": {}
        }
      ]
    },
    {
      "cell_type": "code",
      "source": [
        "plt.figure()\n",
        "plt.plot(tv,y,'g-',label='y vs t')\n",
        "plt.legend()"
      ],
      "metadata": {
        "colab": {
          "base_uri": "https://localhost:8080/",
          "height": 448
        },
        "id": "ppzdkOMnQEk1",
        "outputId": "f49db839-d505-47ab-f1fd-d03995279818"
      },
      "execution_count": 100,
      "outputs": [
        {
          "output_type": "execute_result",
          "data": {
            "text/plain": [
              "<matplotlib.legend.Legend at 0x79cd29fa2d70>"
            ]
          },
          "metadata": {},
          "execution_count": 100
        },
        {
          "output_type": "display_data",
          "data": {
            "text/plain": [
              "<Figure size 640x480 with 1 Axes>"
            ],
            "image/png": "[encoded data removed]"
          },
          "metadata": {}
        }
      ]
    },
    {
      "cell_type": "code",
      "source": [
        "plt.figure()\n",
        "plt.plot(x,y,'b+',label='x vs y')\n",
        "plt.legend()"
      ],
      "metadata": {
        "colab": {
          "base_uri": "https://localhost:8080/",
          "height": 448
        },
        "id": "jQfz0KOhQNmW",
        "outputId": "a17e520b-9e1b-467f-f5fb-c7bb2c745d7d"
      },
      "execution_count": 101,
      "outputs": [
        {
          "output_type": "execute_result",
          "data": {
            "text/plain": [
              "<matplotlib.legend.Legend at 0x79cd29c26c80>"
            ]
          },
          "metadata": {},
          "execution_count": 101
        },
        {
          "output_type": "display_data",
          "data": {
            "text/plain": [
              "<Figure size 640x480 with 1 Axes>"
            ],
            "image/png": "[encoded data removed]"
          },
          "metadata": {}
        }
      ]
    },
    {
      "cell_type": "code",
      "source": [
        "def puntosfijos(f,x0,eps,N):\n",
        "\n",
        "  i = 0\n",
        "  while i<N:\n",
        "    i=i+1\n",
        "    p = f(x0)\n",
        "    print (i, p, np.abs(p - x0) )\n",
        "    if ( np.abs(p - x0) < eps ):\n",
        "      break\n",
        "    x0 = p\n",
        "  return p"
      ],
      "metadata": {
        "id": "UCCeA3nQRkC9"
      },
      "execution_count": 110,
      "outputs": []
    },
    {
      "cell_type": "code",
      "source": [
        "def puntosfijos_values(f,x0,eps,N):\n",
        "\n",
        "  i = 0\n",
        "  while i<N:\n",
        "    i=i+1\n",
        "    p = f(x0)\n",
        "    #print (i, p, np.abs(p - x0) )\n",
        "    if ( np.abs(p - x0) < eps ):\n",
        "      break\n",
        "    x0 = p\n",
        "  return p"
      ],
      "metadata": {
        "id": "MuJtu84ITHvO"
      },
      "execution_count": 112,
      "outputs": []
    },
    {
      "cell_type": "code",
      "source": [
        "p = puntosfijos_values(f = lambda R: (((g/b)+voy)*(R/vox)) + ((g/b**2)*np.log(1-((R*b)/vox))),x0=300.5,eps=1e-7,N=100)\n",
        "root = 300.5 + p\n",
        "root"
      ],
      "metadata": {
        "colab": {
          "base_uri": "https://localhost:8080/"
        },
        "id": "v8Lpuk98Sc_R",
        "outputId": "13537e54-2932-4c18-db0f-5dd2d6af26fe"
      },
      "execution_count": 115,
      "outputs": [
        {
          "output_type": "execute_result",
          "data": {
            "text/plain": [
              "300.6853411634223"
            ]
          },
          "metadata": {},
          "execution_count": 115
        }
      ]
    },
    {
      "cell_type": "code",
      "source": [
        "import numpy as np\n",
        "\n",
        "def newton_raphson2(f,df,x0,eps,Nmax):\n",
        "\n",
        "   i=1\n",
        "   while i<Nmax:\n",
        "\n",
        "      p = x0 -f(x0)/df(x0)\n",
        "      print (i, p, f(p))\n",
        "\n",
        "      if ( np.abs(p - p0) < eps ): break\n",
        "\n",
        "      i=i+1\n",
        "      p0 = p\n",
        "\n",
        "\n",
        "   return p"
      ],
      "metadata": {
        "id": "Y8P9-yk3IMmh"
      },
      "execution_count": null,
      "outputs": []
    },
    {
      "cell_type": "code",
      "source": [
        "newton_raphson2(f = lambda R: (((g/b)+voy)*(R/vox)) + ((g/b**2)*np.log(1-((R*b)/vox))),)"
      ],
      "metadata": {
        "id": "6YpqW2ktI2sb"
      },
      "execution_count": null,
      "outputs": []
    },
    {
      "cell_type": "markdown",
      "metadata": {
        "id": "yzIQLm5ASP00"
      },
      "source": [
        "# Examen 1: Métodos computacionales.\n",
        "\n",
        "## Profesor: Hernán Salinas\n",
        "### Universidad de Antioquia\n",
        "\n",
        "\n",
        "El examen consta de 7 puntos, cada uno de igual valor, el uso de herramientas de IA no esta permitido. Puede usar la documentacion de scipy, numpy, matplotlib.\n",
        "\n",
        "La entrega se realiza a través del github del curso.\n",
        "\n",
        "\n",
        "#### Examen\n",
        "\n",
        "Una esfera de masa $m$ es lanzada desde la superficie de la tierra con velocidad $\\vec{v_0}$. Las fuerzas que actúan sobre la bolita son: el peso $m\\vec{g}$, y la fuerza de rozamiento $\\vec{f}=-mb\\vec{v}_0$ que el  aire ejerce sobre la bolita. Un digrama de cuerpo libre es esquematizado en la siguiente figura.\n",
        "\n",
        "![Movimiento parabolico](http://www.sc.ehu.es/sbweb/fisica/dinamica/stokes2/stokes1.gif)\n",
        "\n",
        "Para dar solución al movimiento de la bolita, se debe plantear las ecuaciones de movimiento desde la segunda ley de Newton y después solucionarla para encontrar la ecuaciones de posición y velocidad. Su tarea será determinar el valor del alcance máximo para diferentes ángulos de lanzamiento. Para ello lea detenidamente lo siguiente:  \n",
        "\n",
        "Las **ecuaciones de movimiento** de la bolita vienen dadas por:\n",
        "\\begin{equation}\n",
        "m\\frac{\\mathrm{d}v_x}{\\mathrm{d}t} = - mbv_x\n",
        "\\end{equation}\n",
        "\n",
        "\n",
        "\\begin{equation}\n",
        "m\\frac{\\mathrm{d}v_y}{\\mathrm{d}t} = - mg-mbv_y\n",
        "\\end{equation}\n",
        "\n",
        "\n",
        "donde:\n",
        "\n",
        "$v_{0x}=v_0\\cos \\theta$,  $v_{0y}=v_0\\sin \\theta$,  $b$ el coeficiente de rozamiento con el aire, y $g$ la aceleración de la gravedad\n",
        "\n",
        "\n",
        "La solución a las ecuaciones anteriores para la **posición ($x$, $y$) y la velocidad ($v_x$, $v_y$)**  son:\n",
        "\n",
        "\n",
        "\\begin{equation}\n",
        "x =  \\frac{v_{0x}}{b}\\left( 1-e^{-bt} \\right)\n",
        "\\end{equation}\n",
        "\n",
        "\\begin{equation}\n",
        "y =  \\frac{1}{b}\\left( \\frac{g}{b}+v_{0y}\\right)(1-e^{-bt})-\\frac{g}{b}t\n",
        "\\end{equation}\n",
        "\n",
        "\n",
        "\\begin{equation}\n",
        "v_x = v_{0x}e^{-bt}\n",
        "\\end{equation}\n",
        "\n",
        "\\begin{equation}\n",
        "v_y = \\left(\\frac{g}{b}+v_{0y} \\right) e^{-bt}-\\frac{g}{b}\n",
        "\\end{equation}\n",
        "\n",
        "\n",
        "\n",
        "**Alcance máximo**\n",
        "\n",
        "El tiempo asociado al alcance máximo del proyectil se da cuando $x=R$, despejando de la ecuación para $x$ el tiempo, se tiene que:\n",
        "\n",
        "\\begin{equation}\n",
        "t_v=-\\frac{1}{b} \\ln \\left(1-\\frac{Rb}{v_{0x}} \\right)\n",
        "\\end{equation}\n",
        "\n",
        "Reemplanzando en la ecuación para $y$ obtenemos que:\n",
        "\\begin{equation}\n",
        "y =\\left(\\frac{g}{b} + v_{0y}  \\right) \\frac{R}{v_{0x}}+\\frac{g}{b^2}\\ln \\left(1-\\frac{Rb}{v_{0x}} \\right)\n",
        "\\end{equation}\n",
        "\n",
        "El alcance máximo R, estará deteminado cuando $y=0$ en la anterior ecuación. Notese que es una ecuación trascendental. Su tarea será determinar el valor de R para diferentes ángulos de lanzamiento, para ello realice lo siguiente:\n",
        "\n",
        "\n",
        "\n",
        "\n",
        "\n",
        "1. Construir una función de python paramétrica para determinar el valor de R.\n",
        "$y = f(R, \\theta, v_{ox},v_{oy},b,g)$\n",
        "\n",
        "\n",
        "\n",
        "2. Asumiento que la bolita es lanzada con una rapidez de\n",
        "$v_0=55\\mathrm{m}/\\mathrm{s}$ y un ángulo de $45^{\\circ}$ respecto a la horizontal, $b=0.005$ y $g=9.8\\mathrm{m}/\\mathrm{s^2}$, determine el alcance máximo. Emplee el método que desee.\n",
        "\n",
        "\n",
        "3. Valide el resutado anterior, con un método diferente al que empleo en el apartado anterior y además, determine el tiempo de vuelo $t_v$.  \n",
        "\n",
        "\n",
        "4. Construya una gráfica de $x$ vs $t$, $y$ vs $t$, $x$ vs $y$. Asegurese de  no superar en las trayectorias los tiempos establecidos por el  tiempo de vuelo $t_v$.\n",
        "\n",
        "Ahora,  vamos a mostrar la trayectoria para múltiples ángulos de lanzamiento.\n",
        "\n",
        "5. Suponiendo,  $b=0.009$, $v_0 = 40\\mathrm{m}/\\mathrm{s}$ y  $\\theta$ entre $0<\\theta<90^{\\circ}$ en pasos de $5^{\\circ}$:\n",
        "```python\n",
        "theta=np.arange(0, 90, 5)\n",
        "theta=np.deg2rad(theta)\n",
        "```\n",
        "\n",
        "\n",
        "generalice el resultado del punto  número 2  para determinar el conjunto de valores de R asociados a cada ángulo. Con lo anterior determine los tiempos de vuelo.\n",
        "\n",
        "6. Realice un gráfico de $R$ vs $t_v$\n",
        "\n",
        "7. Finalmente, construya todas las trayectorias ($y$ vs $x$) para cada ángulo $\\theta$.\n",
        "\n",
        "\n",
        "\n",
        "\n",
        "\n",
        "\n",
        "\n",
        "\n",
        "\n",
        "\n",
        "\n"
      ]
    }
  ],
  "metadata": {
    "colab": {
      "provenance": []
    },
    "kernelspec": {
      "display_name": "Python 3 (ipykernel)",
      "language": "python",
      "name": "python3"
    },
    "language_info": {
      "codemirror_mode": {
        "name": "ipython",
        "version": 3
      },
      "file_extension": ".py",
      "mimetype": "text/x-python",
      "name": "python",
      "nbconvert_exporter": "python",
      "pygments_lexer": "ipython3",
      "version": "3.10.9"
    }
  },
  "nbformat": 4,
  "nbformat_minor": 0
}