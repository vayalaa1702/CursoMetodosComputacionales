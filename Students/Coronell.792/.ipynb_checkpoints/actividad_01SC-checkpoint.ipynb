{
 "cells": [
  {
   "cell_type": "markdown",
   "metadata": {
    "id": "NtupByxrpvPd"
   },
   "source": [
    "Cociente y Residuo"
   ]
  },
  {
   "cell_type": "code",
   "execution_count": 3,
   "metadata": {
    "colab": {
     "base_uri": "https://localhost:8080/"
    },
    "id": "rLXftpVJoohZ",
    "outputId": "761b0df1-dfb9-47aa-9d66-99ed391e1cf5"
   },
   "outputs": [
    {
     "name": "stdout",
     "output_type": "stream",
     "text": [
      "dame un numero: 5\n",
      "dame un numero: 5\n",
      "el valor de la division entre a y b es 1.000000\n",
      "el valor del residuo de a y b es 0.000000\n"
     ]
    }
   ],
   "source": [
    "a = float(input(\"dame un numero: \"))\n",
    "b = float(input(\"dame un numero: \"))\n",
    "\n",
    "div = a/b\n",
    "resi = a%b\n",
    "print(\"el valor de la division entre a y b es %f\" %div)\n",
    "print(\"el valor del residuo de a y b es %f\" %resi)"
   ]
  },
  {
   "cell_type": "markdown",
   "metadata": {
    "id": "8SkM4enJqAEW"
   },
   "source": [
    "Doble Factorial"
   ]
  },
  {
   "cell_type": "code",
   "execution_count": 4,
   "metadata": {
    "id": "ba033736"
   },
   "outputs": [],
   "source": [
    "import numpy as np\n",
    "def doblefact(n):\n",
    "    if type(n)==int and n>0:\n",
    "        i = 0\n",
    "        L = np.arange(n)+1\n",
    "        doublefact = L[i]\n",
    "        if n%2!=0:\n",
    "            for i in range(0,len(L),2):\n",
    "                doublefact *= L[i]\n",
    "\n",
    "        if n%2==0:\n",
    "            for i in range(1,len(L),2):\n",
    "                doublefact *= L[i]\n",
    "\n",
    "    return doublefact\n"
   ]
  },
  {
   "cell_type": "code",
   "execution_count": 5,
   "metadata": {
    "colab": {
     "base_uri": "https://localhost:8080/"
    },
    "id": "1h8KAP3pqC1S",
    "outputId": "1f725978-27a1-4b04-b189-d92b1487bddb"
   },
   "outputs": [
    {
     "data": {
      "text/plain": [
       "384"
      ]
     },
     "execution_count": 5,
     "metadata": {},
     "output_type": "execute_result"
    }
   ],
   "source": [
    "doblefact(8)"
   ]
  },
  {
   "cell_type": "markdown",
   "metadata": {
    "id": "Wd_TmDYzqfpj"
   },
   "source": [
    "Serie Lucas"
   ]
  },
  {
   "cell_type": "code",
   "execution_count": 6,
   "metadata": {
    "id": "tQEarY8cqh73"
   },
   "outputs": [],
   "source": [
    "def serie_Lucas(n,Nmax):\n",
    "    L=[]\n",
    "    if n == 0:\n",
    "       L_n = 2\n",
    "       L.append(L_n)\n",
    "    if n==1:\n",
    "        L_n = 1\n",
    "        L.append(L_n)\n",
    "    if n>2:\n",
    "        L1 = n - 1\n",
    "        L.append(L1)\n",
    "        L2 = n - 2\n",
    "        L.append(L2)\n",
    "        i = 0\n",
    "        while(len(L)<Nmax):\n",
    "          L2 += L1\n",
    "          L.append(L2)\n",
    "          L1 = L2 - L1\n",
    "\n",
    "    return L"
   ]
  },
  {
   "cell_type": "code",
   "execution_count": 7,
   "metadata": {
    "colab": {
     "base_uri": "https://localhost:8080/"
    },
    "id": "dyEqVJXVqt1p",
    "outputId": "8ebedb16-396e-4c31-e28b-38b581ee5d46"
   },
   "outputs": [
    {
     "data": {
      "text/plain": [
       "[2, 1, 3, 4, 7, 11, 18, 29, 47, 76]"
      ]
     },
     "execution_count": 7,
     "metadata": {},
     "output_type": "execute_result"
    }
   ],
   "source": [
    "serie_Lucas(3,10)"
   ]
  },
  {
   "cell_type": "markdown",
   "metadata": {
    "id": "Rt0fCDwPqyTs"
   },
   "source": [
    "Coeficiente Binomial"
   ]
  },
  {
   "cell_type": "code",
   "execution_count": 8,
   "metadata": {
    "id": "_uoAH6hkq0hz"
   },
   "outputs": [],
   "source": [
    "#A partir de hallar todos los subconjuntos posibles con cierta cantidad de elementos\n",
    "#, y asi pedir la longitud de esa sublista de subconjuntos y que me de el coeficiente binomial\n",
    "import numpy as np\n",
    "from itertools import combinations\n",
    "def binomial(n,k):\n",
    "  cobi = []\n",
    "  L = np.arange(n)\n",
    "  for i in range(k+1):\n",
    "    coef = list(combinations(L,i))\n",
    "  return len(coef)"
   ]
  },
  {
   "cell_type": "code",
   "execution_count": 9,
   "metadata": {
    "colab": {
     "base_uri": "https://localhost:8080/"
    },
    "id": "LmthRmzktAHd",
    "outputId": "245d8afc-2bfc-4757-999b-74a1da2dbfa6"
   },
   "outputs": [
    {
     "data": {
      "text/plain": [
       "15"
      ]
     },
     "execution_count": 9,
     "metadata": {},
     "output_type": "execute_result"
    }
   ],
   "source": [
    "binomial(6,4)"
   ]
  },
  {
   "cell_type": "code",
   "execution_count": 10,
   "metadata": {
    "id": "AzVPSSZBUw7x"
   },
   "outputs": [],
   "source": [
    "import numpy as np\n",
    "def Factory(N):\n",
    "  if type(N)==int and N>0:\n",
    "    ln = np.arange(N)+1\n",
    "    i=0\n",
    "    Fact = ln[i]\n",
    "    while i !=N:\n",
    "      Fact *= ln[i]\n",
    "      i = i+1\n",
    "    return Fact\n",
    "\n",
    "  elif N<0:\n",
    "    return \"el número no puede ser negativo\"\n",
    "\n",
    "  elif type(N)==float:\n",
    "    return \"el número no puede ser real\""
   ]
  },
  {
   "cell_type": "code",
   "execution_count": 11,
   "metadata": {
    "id": "Y9-jyV2Gr5DB"
   },
   "outputs": [],
   "source": [
    "#A partir de la formula establecidad de coeficiente binomial\n",
    "def Formula_CoefBinomial(n,k):\n",
    "  coef = Factory(n)/(Factory(k)*Factory(n-k))\n",
    "  return coef"
   ]
  },
  {
   "cell_type": "code",
   "execution_count": 12,
   "metadata": {
    "colab": {
     "base_uri": "https://localhost:8080/"
    },
    "id": "F_7yNBGvtX0i",
    "outputId": "59f55cf5-02c0-4172-a97a-6226b6dd1afd"
   },
   "outputs": [
    {
     "data": {
      "text/plain": [
       "15.0"
      ]
     },
     "execution_count": 12,
     "metadata": {},
     "output_type": "execute_result"
    }
   ],
   "source": [
    "Formula_CoefBinomial(6,4)"
   ]
  },
  {
   "cell_type": "code",
   "execution_count": null,
   "metadata": {
    "id": "t2nH0CxVtafQ"
   },
   "outputs": [],
   "source": []
  }
 ],
 "metadata": {
  "colab": {
   "provenance": []
  },
  "kernelspec": {
   "display_name": "Python 3 (ipykernel)",
   "language": "python",
   "name": "python3"
  },
  "language_info": {
   "codemirror_mode": {
    "name": "ipython",
    "version": 3
   },
   "file_extension": ".py",
   "mimetype": "text/x-python",
   "name": "python",
   "nbconvert_exporter": "python",
   "pygments_lexer": "ipython3",
   "version": "3.10.9"
  }
 },
 "nbformat": 4,
 "nbformat_minor": 1
}
