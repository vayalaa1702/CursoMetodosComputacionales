{
  "cells": [
    {
      "cell_type": "markdown",
      "metadata": {
        "id": "__y8N1L_hPg_"
      },
      "source": [
        "<a href=\"https://colab.research.google.com/github/hernansalinas/autogrades/blob/main/Laboratorios_Taller/Lab05_errores.ipynb\" target=\"_parent\"><img src=\"https://colab.research.google.com/assets/colab-badge.svg\" alt=\"Open In Colab\"/></a>"
      ]
    },
    {
      "cell_type": "markdown",
      "metadata": {
        "id": "z_gkZBk6K8TH"
      },
      "source": [
        "# Tipos de errores.\n",
        "\n",
        "Errores en la computación, ver libro [Computational Physics. ](https://www.dropbox.com/s/n06ul2r4l65khl6/Computational%20Physics%20-%20Problem%20Solving%20with%20Computers%2C%203527406263.pdf?dl=0)\n",
        ":\n",
        "\n",
        "\n",
        ">- ### Blunder or bad theory\n",
        "Errores tipográficos de entrada, errores en los datos, razonamientos teoricos malos, entre otros.\n",
        ">- ### Errores aleatorios.\n",
        "Impresiones causadas por eventos tales como fluctuaciones electronicas, rayos cósmicos. Se presentan rara vez, y y tiene una mayor probabilidad de ocurrir cuando los calculos se demoran del orden de semanas.\n",
        ">- ### Errores de aproximación:\n",
        "Se presentan por truncamiento de los modelos numéricos, por ejemplol si consideramos la serie asociada a la función\n",
        "$\\sin x$:\n",
        "\n",
        "\\begin{equation}\n",
        "\\sin x = \\sum_{n=1}^{\\infty} \\frac{(-1)^{n-1}x^{2n-1}}{(2n-1)!}\n",
        "\\end{equation}\n",
        "\n",
        "\n",
        "\\begin{equation}\n",
        "\\sin x = \\sum_{n=1}^{N} \\frac{(-1)^{n-1}x^{2n-1}}{(2n-1)!} + \\varepsilon(x, N)\n",
        "\\end{equation}\n",
        "\n",
        "\n",
        "> El error numérico  en el calculo computacional es del orden de  $\\varepsilon(x, N)$, dado que el computador debe truncar la serie en un N determinado.\n",
        "\n",
        "\n",
        ">- ### Errores de redondeo:\n",
        "Análogos a los errores  de  cantidad experimentales.\n"
      ]
    },
    {
      "cell_type": "markdown",
      "metadata": {
        "id": "OFqJhhVmLhdX"
      },
      "source": []
    },
    {
      "cell_type": "markdown",
      "metadata": {
        "id": "VVDQ_eH5Jjxw"
      },
      "source": [
        "# Errores de redondeo:\n",
        "## Cancelacion substractiva\n",
        "\n",
        "Sea $b_c = b (1+ \\epsilon)$ y Sea $c_c = c (1+ \\epsilon)$ La representacion de dos números en el computador.  Calculemos la diferencia entre estos dos números:\n",
        "\n",
        "\n",
        "$a_c = (b-c) + b\\epsilon_b -c\\epsilon_c = a+ b\\epsilon_b -c\\epsilon_c$\n",
        "\n",
        "$\\frac{a_c}{a} = 1 + \\frac{b}{a}\\epsilon_b -\\frac{c}{a}\\epsilon_c $\n",
        "\n",
        "$\\frac{a_c}{a} = 1 + \\frac{b}{a} \\max(\\epsilon_b,\\epsilon_c) $\n",
        "\n",
        "Si $b\\approx c$, el valor de a es un valor muy grande.\n",
        "\n",
        "\n",
        "\n"
      ]
    },
    {
      "cell_type": "code",
      "execution_count": null,
      "metadata": {
        "id": "O-SP8rPyDQ34"
      },
      "outputs": [],
      "source": [
        "import numpy as np"
      ]
    },
    {
      "cell_type": "code",
      "execution_count": null,
      "metadata": {
        "colab": {
          "base_uri": "https://localhost:8080/"
        },
        "id": "wqrGTlWw1OUR",
        "outputId": "0a132bc0-be01-4197-be53-31bcd34a879e"
      },
      "outputs": [
        {
          "output_type": "stream",
          "name": "stdout",
          "text": [
            "1.9073486e-06\n"
          ]
        },
        {
          "output_type": "execute_result",
          "data": {
            "text/plain": [
              "4.632568359374996"
            ]
          },
          "metadata": {},
          "execution_count": 4
        }
      ],
      "source": [
        "print(np.float32(12.123452) - np.float32(12.123450))\n",
        "diff = np.float32(12.123452) - np.float32(12.123450)\n",
        "\n",
        "valor_real = 0.000002\n",
        "\n",
        "error = abs(diff - valor_real)/valor_real*100\n",
        "\n",
        "#(12.123452/valor_real)*1/(2**31)\n",
        "error"
      ]
    },
    {
      "cell_type": "code",
      "source": [],
      "metadata": {
        "colab": {
          "base_uri": "https://localhost:8080/",
          "height": 141
        },
        "id": "q_kuTM_zlQ72",
        "outputId": "e7da3d66-a674-4705-aba3-ea8aa03509b5"
      },
      "execution_count": null,
      "outputs": [
        {
          "output_type": "error",
          "ename": "ZeroDivisionError",
          "evalue": "division by zero",
          "traceback": [
            "\u001b[0;31m---------------------------------------------------------------------------\u001b[0m",
            "\u001b[0;31mZeroDivisionError\u001b[0m                         Traceback (most recent call last)",
            "\u001b[0;32m<ipython-input-6-ff4b999c47a3>\u001b[0m in \u001b[0;36m<cell line: 1>\u001b[0;34m()\u001b[0m\n\u001b[0;32m----> 1\u001b[0;31m \u001b[0;36m7\u001b[0m\u001b[0;34m/\u001b[0m\u001b[0;36m0\u001b[0m\u001b[0;34m\u001b[0m\u001b[0;34m\u001b[0m\u001b[0m\n\u001b[0m",
            "\u001b[0;31mZeroDivisionError\u001b[0m: division by zero"
          ]
        }
      ]
    },
    {
      "cell_type": "code",
      "execution_count": null,
      "metadata": {
        "colab": {
          "base_uri": "https://localhost:8080/"
        },
        "id": "AeDXTAN7OTcn",
        "outputId": "3991a0b8-e946-4f19-a28b-bb608ad0267e"
      },
      "outputs": [
        {
          "name": "stdout",
          "output_type": "stream",
          "text": [
            "0.0\n",
            "5.0\n",
            "¿Cual es la diferencia entre estas dos restas?\n"
          ]
        }
      ],
      "source": [
        "print(np.float32(1234567895) - np.float32(1234567890))\n",
        "print(np.float64(1234567895) - np.float64(1234567890))\n",
        "print(\"¿Cual es la diferencia entre estas dos restas?\")"
      ]
    },
    {
      "cell_type": "code",
      "execution_count": null,
      "metadata": {
        "colab": {
          "base_uri": "https://localhost:8080/"
        },
        "id": "O5uQVd-TZmPQ",
        "outputId": "006fcd80-03c9-436f-ad5e-6809765e62c6"
      },
      "outputs": [
        {
          "name": "stdout",
          "output_type": "stream",
          "text": [
            "4.0\n",
            "5.0\n",
            "¿Cual es la diferencia entre estas dos restas?\n"
          ]
        }
      ],
      "source": [
        "print(np.float32(12345675) - np.float32(12345671))\n",
        "print(np.float64(1234567895) - np.float64(1234567890))\n",
        "print(\"¿Cual es la diferencia entre estas dos restas?\")"
      ]
    },
    {
      "cell_type": "code",
      "execution_count": null,
      "metadata": {
        "colab": {
          "base_uri": "https://localhost:8080/"
        },
        "id": "gSutoSLxR7A1",
        "outputId": "aa3a2b60-8cc1-4425-870a-675d869921d3"
      },
      "outputs": [
        {
          "data": {
            "text/plain": [
              "1.9073486328125e-06"
            ]
          },
          "execution_count": 28,
          "metadata": {},
          "output_type": "execute_result"
        }
      ],
      "source": [
        "xt = 12345678912.345678\n",
        "yt = 12345678912.345677\n",
        "xt-yt"
      ]
    },
    {
      "cell_type": "code",
      "execution_count": null,
      "metadata": {
        "colab": {
          "base_uri": "https://localhost:8080/"
        },
        "id": "7I__xYI7Sq98",
        "outputId": "67bd8bb6-fd86-4eaf-f958-1e36bf6ceaec"
      },
      "outputs": [
        {
          "data": {
            "text/plain": [
              "-9.999999999999995e-17"
            ]
          },
          "execution_count": 29,
          "metadata": {},
          "output_type": "execute_result"
        }
      ],
      "source": [
        "xt = 0.0000000000000005\n",
        "yt = 0.0000000000000006\n",
        "xt-yt"
      ]
    },
    {
      "cell_type": "code",
      "execution_count": null,
      "metadata": {
        "colab": {
          "base_uri": "https://localhost:8080/"
        },
        "id": "vqwW1XbkYiOS",
        "outputId": "55a31f4b-f49f-4a3a-d2b6-be1ef1222402"
      },
      "outputs": [
        {
          "name": "stdout",
          "output_type": "stream",
          "text": [
            "1.2345678912e-09\n"
          ]
        }
      ],
      "source": [
        "a = np.float16(1.2345678912345678912)-np.float16(1.2345678900000000000)\n",
        "r = 0.0000000012345678912\n",
        "print(r)"
      ]
    },
    {
      "cell_type": "markdown",
      "metadata": {
        "id": "D7wS4CRCMdcJ"
      },
      "source": [
        "## Errores de acumulación\n",
        "$\\epsilon_{ro}=\\sqrt{N}\\epsilon_m$\n"
      ]
    },
    {
      "cell_type": "code",
      "execution_count": null,
      "metadata": {
        "colab": {
          "base_uri": "https://localhost:8080/"
        },
        "id": "KJA7qyMPOkRH",
        "outputId": "535a0646-ff6c-41ae-c2e3-5d4514051ba9"
      },
      "outputs": [
        {
          "name": "stdout",
          "output_type": "stream",
          "text": [
            "Valor a través de la suma:  100000.00149011612\n",
            "Valor exacto:  100000.0\n",
            "Error  1.4901161193847656e-06\n"
          ]
        }
      ],
      "source": [
        "#Con numeros de 32 bit.\n",
        "eps = np. float64(0)\n",
        "N = 1000000\n",
        "for i in range(0, N):\n",
        " eps = np.float32(0.1) + eps\n",
        "\n",
        "exac = N*0.1\n",
        "error = np.abs(exac-eps) / exac\n",
        "print(\"Valor a través de la suma: \", eps)\n",
        "print(\"Valor exacto: \",  exac)\n",
        "print(\"Error \", error*100 )\n"
      ]
    },
    {
      "cell_type": "markdown",
      "metadata": {
        "id": "rjPq2MFFObTp"
      },
      "source": [
        "\n",
        "## Errores de aproximación.\n",
        " $\\epsilon_{aprox}=\\frac{\\alpha}{N^{\\beta}}$\n"
      ]
    },
    {
      "cell_type": "markdown",
      "metadata": {
        "id": "uisq8TnEOftp"
      },
      "source": [
        "## Error total:\n",
        " $\\epsilon_{aprox} = \\epsilon_{ro}+\\epsilon_{aprox}$\n",
        "\n"
      ]
    },
    {
      "cell_type": "markdown",
      "metadata": {
        "id": "4XGEWL7NN1H-"
      },
      "source": [
        "# Errores de una serie\n",
        "\n",
        "- ¿Converge la serie?\n",
        "- ¿Qué tan preciso es la convergencia?\n",
        "- Costo computacional\n",
        "\n",
        "\n",
        "## Error de una serie\n",
        "Sea $x$ el valor verdadero y $x^*$ el valor aproximado\n",
        "\n",
        "- Error absoluto : se define como\n",
        "\\begin{equation*}\n",
        "\\epsilon_{abs}= |x-x^*|\n",
        "\\end{equation*}\n",
        "- Error relativo : es dado por\n",
        "\\begin{equation*}\n",
        "\\epsilon_{rel}= \\frac{|x-x^*|}{|x|}\n",
        "\\end{equation*}\n",
        "- Error en series : El error para truncar una serie se toma como\n",
        "\\begin{equation*}\n",
        "\\epsilon_{aprox}= \\left|\\frac{nth\\hbox{-term}}{\\hbox{suma}}\\right|< \\hbox{eps}\n",
        "\\end{equation*}\n",
        "La tolerancia normalmente se toma como un número pequeño, por ejemplo `eps` $=10^{-10}$. Note que no se trunca la serie usando $|{nth}\\hbox{-term}|<$ eps,   usar esta forma puede conducir a errores debido a que no se compara con el valor de la suma (un millon compardo a uno es grande, pero comparado a diez mil millones es pequeño).\n",
        "\n",
        "Tomemos como ejemplo otra vez el cálculo de la serie del seno,\n"
      ]
    },
    {
      "cell_type": "markdown",
      "metadata": {
        "id": "reiKGKshRPay"
      },
      "source": [
        "# Laboratorio\n",
        "\n",
        "## 1. Exponencial, serie alternante (serieEn)\n",
        "Objetivo: Analizar el uso de la cancelación substractiva\n",
        "\n",
        "\n",
        "Copia textual del libro  [Computational Physics. ](https://www.dropbox.com/s/n06ul2r4l65khl6/Computational%20Physics%20-%20Problem%20Solving%20with%20Computers%2C%203527406263.pdf?dl=0)\n",
        "\n",
        "- Write a program that calculates $e^{-x}$\n",
        "\n",
        "\\begin{equation}\n",
        "e^{-x}=\\sum_{n=0}^{N}  (-1)^n \\frac{x^{n}}{n!}\n",
        "\\end{equation}\n",
        "\n",
        "\n",
        "- Calculate your series for $x \\le 1$ and compare it to the built-in function\n",
        "exp(x) (you may assume that the built-in exponential function is exact).\n",
        "You should pick an N for which the next term in the series is no more\n",
        "than $10^{-7}$ of the sum up to that point\n",
        "\n",
        "\\begin{equation}\n",
        "\\left| \\frac{(-x)^{N+1}}{(N+1)!} \\right | \\le \\left| 10^{-7} \\sum_{N=0}^{N} \\frac{(-x)^{n}}{n!} \\right|\n",
        "\\end{equation}\n",
        "\n",
        "- Examine the terms in the series for $x\\approx 10$ and observe the significant subtractive cancellations that occur when large terms add together to give small answers. In particular, print out the near-perfect cancellation\n",
        "at $n \\approx x − 1$.\n",
        "\n",
        "- See if better precision is obtained by being clever and using exp(−x) = 1/ exp(x) for large x values. This eliminates subtractive cancellation, but does not eliminate all roundoff errors\n",
        "\n",
        "- By progressively increasing x from 1 to 10, and then from 10 to 100, use your program to determine experimentally when the series starts to lose accuracy, and when the series no longer converges\n",
        "\n",
        "- Make a series of graphs of the error versus N for different values of x."
      ]
    },
    {
      "cell_type": "code",
      "source": [
        "import numpy as np\n",
        "import matplotlib.pyplot as plt\n",
        "from math import factorial\n",
        "\n",
        "def expo(x,N):\n",
        "  exp = 0\n",
        "  for i in range(N):\n",
        "    exp += (-1)**i * x**i/factorial(i)\n",
        "\n",
        "  return exp\n",
        "\n",
        "\n",
        "x = 0.1\n",
        "N = 100\n",
        "ew = expo(x,N)\n",
        "eexaactoo = np.exp(-x)\n",
        "\n",
        "ew, eexaactoo"
      ],
      "metadata": {
        "colab": {
          "base_uri": "https://localhost:8080/"
        },
        "id": "Tiv79iSGjYHH",
        "outputId": "3d3b4cc2-8547-4997-e17d-7bd0e44e4ef6"
      },
      "execution_count": null,
      "outputs": [
        {
          "output_type": "execute_result",
          "data": {
            "text/plain": [
              "(0.9048374180359596, 0.9048374180359595)"
            ]
          },
          "metadata": {},
          "execution_count": 6
        }
      ]
    },
    {
      "cell_type": "code",
      "source": [
        "def Truncador(x,N):\n",
        "  sx = expo(x,N)\n",
        "  tresh = 1e-7*sx\n",
        "  exp_ = 0\n",
        "  for i in range(N):\n",
        "    exp_ = abs(x**(i+1)/factorial(i+1))\n",
        "    if exp_ <= tresh:\n",
        "      break\n",
        "\n",
        "  exp = expo(x,i)\n",
        "\n",
        "  return exp, i\n",
        "\n",
        "\n",
        "x = 100\n",
        "N = 10000\n",
        "exacto = np.exp(-x)\n",
        "print(f'valor de la serie: {expo(x,N)}')\n",
        "print(f'valor de la serie truncada: {Truncador(x,N)}')\n",
        "print(f'valor exacto: {exacto}')"
      ],
      "metadata": {
        "colab": {
          "base_uri": "https://localhost:8080/"
        },
        "id": "q_SmTImNlsWu",
        "outputId": "8f9fd95d-a021-4a32-dbdb-0722281c3178"
      },
      "execution_count": null,
      "outputs": [
        {
          "output_type": "stream",
          "name": "stdout",
          "text": [
            "valor de la serie: -2.8756582514726483e+26\n",
            "valor de la serie truncada: (-2.8756582514726483e+26, 9999)\n",
            "valor exacto: 3.720075976020836e-44\n"
          ]
        }
      ]
    },
    {
      "cell_type": "code",
      "source": [
        "def inv(x,N):\n",
        "  exp = 0\n",
        "  for i in range(N):\n",
        "    exp += x**i/factorial(i)\n",
        "  return 1/exp\n",
        "\n",
        "x = 10\n",
        "N = 100\n",
        "exacto = np.exp(-x)\n",
        "print(f'valor de la serie: {expo(x,N)}')\n",
        "print(f'valor de la serie inversa: {inv(x,N)}')\n",
        "print(f'valor exacto: {exacto}')"
      ],
      "metadata": {
        "colab": {
          "base_uri": "https://localhost:8080/"
        },
        "id": "p8ZnNFgYrrNz",
        "outputId": "d038c45f-b5f5-4496-fb88-a037a430c2f2"
      },
      "execution_count": null,
      "outputs": [
        {
          "output_type": "stream",
          "name": "stdout",
          "text": [
            "valor de la serie: 4.5399929433607724e-05\n",
            "valor de la serie inversa: 4.539992976248486e-05\n",
            "valor exacto: 4.5399929762484854e-05\n"
          ]
        }
      ]
    },
    {
      "cell_type": "code",
      "source": [
        "x= 10\n",
        "n = 100\n",
        "N = np.arange(1,n,1)\n",
        "exp1_ = np.zeros(len(N))\n",
        "exp_2 = np.zeros(len(N))\n",
        "\n",
        "for i,n in enumerate(N):\n",
        "  exp1_[i] = expo(x,n)\n",
        "  exp_2[i] = inv(x,n)\n",
        "\n",
        "plt.plot(N,exp1_, 'b--', label= \"Serie ALternante\")\n",
        "plt.plot(N,exp_2,'r.',label = \"Exp Inv\")\n",
        "plt.legend()\n",
        "plt.xlabel('Iteraciones')\n",
        "plt.ylabel('Valor')\n",
        "plt.show()"
      ],
      "metadata": {
        "colab": {
          "base_uri": "https://localhost:8080/",
          "height": 449
        },
        "id": "9cdvCp4Usn79",
        "outputId": "e3147e1e-034b-4b02-a350-78a088d1fc1d"
      },
      "execution_count": null,
      "outputs": [
        {
          "output_type": "display_data",
          "data": {
            "text/plain": [
              "<Figure size 640x480 with 1 Axes>"
            ],
            "image/png": "[encoded data removed]"
          },
          "metadata": {}
        }
      ]
    },
    {
      "cell_type": "code",
      "source": [
        "x = 10\n",
        "N = np.arange(1,100,1)\n",
        "\n",
        "exc = np.exp(-x)\n",
        "error = abs(exp1_ - exc)/exc*100\n",
        "\n",
        "plt.plot(N,error)\n"
      ],
      "metadata": {
        "colab": {
          "base_uri": "https://localhost:8080/",
          "height": 462
        },
        "id": "pVSgcwpQxcoO",
        "outputId": "667ad920-5b72-4a54-90db-3a81d2cbfe3d"
      },
      "execution_count": null,
      "outputs": [
        {
          "output_type": "execute_result",
          "data": {
            "text/plain": [
              "[<matplotlib.lines.Line2D at 0x792c3b17e080>]"
            ]
          },
          "metadata": {},
          "execution_count": 37
        },
        {
          "output_type": "display_data",
          "data": {
            "text/plain": [
              "<Figure size 640x480 with 1 Axes>"
            ],
            "image/png": "[encoded data removed]"
          },
          "metadata": {}
        }
      ]
    },
    {
      "cell_type": "markdown",
      "metadata": {
        "id": "ZiXcQbNBhPhW"
      },
      "source": [
        "\n",
        "\n",
        "```\n",
        "# Tiene formato de código\n",
        "```\n",
        "\n",
        "\n",
        "\n",
        "\n",
        "## 2. Cancelación sustractiva\n",
        "\n",
        "\n",
        "\n",
        "**serieSn**. Un ejemplo de la cancelacion substractiva es en la suma de series alternantes. Considere la serie $\\mathrm{S}_N$,  escrita  matematicamente de tres formas diferentes:\n",
        "\n",
        "-\n",
        "\\begin{equation}\n",
        "\\mathrm{S}_N^{(1)} = \\sum_{n = 1}^{2N} (-1)^n \\frac{n}{n+1}\n",
        "\\end{equation}\n",
        "\n",
        "- Sumando números pares e impares.\n",
        "\n",
        "\\begin{equation}\n",
        "\\mathrm{S}_N^{(2)} = -\\sum_{n = 1}^{N}\\frac{2n-1}{2n} + \\sum_{n=1}^{N} \\frac{2n}{2n+1}\n",
        "\\end{equation}\n",
        "\n",
        "- Combinando las series de una forma analítica\n",
        "\n",
        "\\begin{equation}\n",
        "\\mathrm{S}_N^{(3)} = \\sum_{n = 1}^{N}\\frac{1}{2n(2n+1)}\n",
        "\\end{equation}\n",
        "\n",
        "\n",
        "\n",
        "Las tres sumas $\\mathrm{S}_N^{(1)}$, $\\mathrm{S}_N^{(2)}$ y $\\mathrm{S}_N^{(3)}$ son matemáticamente iguales, pero los resultados  pueden tener resultados numéricos diferentes.\n",
        "\n",
        "\n",
        "- Escribir un programa que realice el cálculo de $\\mathrm{S}_N^{(1)}$, $\\mathrm{S}_N^{(2)}$ y $\\mathrm{S}_N^{(3)}$\n",
        "- Estudiar la convergencia de la serie para los tres casos.\n",
        "- Considere  que $S_N^{(3)}$ es la solución exacta, realizar dos graficos log-log, del error relativo en función\n",
        "del número de términos ($\\mathrm{Log_{10}} E$ VS $\\mathrm{Log_{10}} N$), para $S_N^{(1)}$ y $S_N^{(2)}$. Donde,  $E = |(S_N^{(i)} - S_N^{(3)})/S_N^{(3)}|$, i = 1, 2. Considere valores de $N = 1\\times 10^{6}$.\n",
        "- Analizar y discutir los resultados. Tenga en cuenta la discusión realizada sobre teoría de errores en la página\n",
        "39 del libro del libro [Computational Physics. ](https://www.dropbox.com/s/n06ul2r4l65khl6/Computational%20Physics%20-%20Problem%20Solving%20with%20Computers%2C%203527406263.pdf?dl=0)\n",
        "\n",
        "\n"
      ]
    },
    {
      "cell_type": "markdown",
      "source": [
        "Definicion de funciones SN1,SN2,SN3"
      ],
      "metadata": {
        "id": "V3zkAmJMXbPn"
      }
    },
    {
      "cell_type": "code",
      "execution_count": 1,
      "metadata": {
        "id": "qheySd9ihPhX"
      },
      "outputs": [],
      "source": [
        "def ExpSN(N):\n",
        "  SN = 0\n",
        "  for i in range(1,2*N+1):\n",
        "    SN += (-1)**i * (i/(i+1))\n",
        "\n",
        "\n",
        "  return SN"
      ]
    },
    {
      "cell_type": "code",
      "source": [
        "ExpSN(100)"
      ],
      "metadata": {
        "colab": {
          "base_uri": "https://localhost:8080/"
        },
        "id": "0bTK98JTzh84",
        "outputId": "039c65e0-be3a-4086-a0f0-f8985a8aeef4"
      },
      "execution_count": 2,
      "outputs": [
        {
          "output_type": "execute_result",
          "data": {
            "text/plain": [
              "0.30437144514006564"
            ]
          },
          "metadata": {},
          "execution_count": 2
        }
      ]
    },
    {
      "cell_type": "code",
      "source": [
        " def SN2(N):\n",
        "  SN = 0\n",
        "  SN_1 = 0\n",
        "  for i in range(1,N+1):\n",
        "    SN += (((2*i)-1)/(2*i))\n",
        "    SN_1 += 2*i/(2*i + 1)\n",
        "\n",
        "  sn_T = -(SN) + SN_1\n",
        "\n",
        "  return sn_T"
      ],
      "metadata": {
        "id": "fXqNrlQvzqJa"
      },
      "execution_count": 3,
      "outputs": []
    },
    {
      "cell_type": "code",
      "source": [
        "SN2(100)"
      ],
      "metadata": {
        "colab": {
          "base_uri": "https://localhost:8080/"
        },
        "id": "o7PSgGsnedui",
        "outputId": "c67debf1-2fea-4845-fbe8-aac4b74d9d5c"
      },
      "execution_count": 4,
      "outputs": [
        {
          "output_type": "execute_result",
          "data": {
            "text/plain": [
              "0.30437144514002057"
            ]
          },
          "metadata": {},
          "execution_count": 4
        }
      ]
    },
    {
      "cell_type": "code",
      "source": [
        "def SN3(N):\n",
        "  SN = 0\n",
        "  for i in range(1,N+1):\n",
        "    SN += 1/((2*i)*(2*i + 1))\n",
        "\n",
        "  return SN"
      ],
      "metadata": {
        "id": "I4-LrB-qegaE"
      },
      "execution_count": 5,
      "outputs": []
    },
    {
      "cell_type": "code",
      "source": [
        "SN3(100)"
      ],
      "metadata": {
        "colab": {
          "base_uri": "https://localhost:8080/"
        },
        "id": "Q1xwsc7fmzeC",
        "outputId": "4f9858da-dcea-47f2-cf9e-028d42445643"
      },
      "execution_count": 6,
      "outputs": [
        {
          "output_type": "execute_result",
          "data": {
            "text/plain": [
              "0.3043714451400664"
            ]
          },
          "metadata": {},
          "execution_count": 6
        }
      ]
    },
    {
      "cell_type": "code",
      "source": [
        "import numpy as np\n",
        "np.arange(0,100,2)"
      ],
      "metadata": {
        "colab": {
          "base_uri": "https://localhost:8080/"
        },
        "id": "mqK4yfQEm1OA",
        "outputId": "b5d90419-a5bf-4a8c-d32e-fcae9057d7ce"
      },
      "execution_count": 7,
      "outputs": [
        {
          "output_type": "execute_result",
          "data": {
            "text/plain": [
              "array([ 0,  2,  4,  6,  8, 10, 12, 14, 16, 18, 20, 22, 24, 26, 28, 30, 32,\n",
              "       34, 36, 38, 40, 42, 44, 46, 48, 50, 52, 54, 56, 58, 60, 62, 64, 66,\n",
              "       68, 70, 72, 74, 76, 78, 80, 82, 84, 86, 88, 90, 92, 94, 96, 98])"
            ]
          },
          "metadata": {},
          "execution_count": 7
        }
      ]
    },
    {
      "cell_type": "markdown",
      "source": [
        "Desarrollo Grafica Log-Log"
      ],
      "metadata": {
        "id": "Pnt6oCN-YD_k"
      }
    },
    {
      "cell_type": "code",
      "source": [
        "N = int(1000)\n",
        "i = 1\n",
        "L = []\n",
        "M = []\n",
        "log_N = []\n",
        "while i != N:\n",
        " #for i in range(1,N+1):\n",
        "\n",
        "  E_1 = abs((ExpSN(i)-SN3(i))/SN3(i))\n",
        "  L.append(E_1)\n",
        "  E_2 = abs((SN2(i)-SN3(i))/SN3(i))\n",
        "  M.append(E_2)\n",
        "  log_N.append(np.log10(i))\n",
        "  i = i+1"
      ],
      "metadata": {
        "id": "Kf0C4ciD3STi"
      },
      "execution_count": 14,
      "outputs": []
    },
    {
      "cell_type": "code",
      "source": [
        "import numpy as np\n",
        "import matplotlib.pyplot as plt\n",
        "n = 1000\n",
        "\n",
        "\n",
        "N = np.arange(1,n,1)\n",
        "sn_1 = np.zeros(len(N))\n",
        "sn_2 = np.zeros(len(N))\n",
        "sn_3 = np.zeros(len(N))\n",
        "\n",
        "for i,n in enumerate(N):\n",
        "  sn_1[i] = ExpSN(n)\n",
        "  sn_2[i] = SN2(n)\n",
        "  sn_3[i] = SN3(n)\n",
        "\n",
        "E_1 = abs((sn_1-sn_3)/sn_3)\n",
        "E_2 = abs((sn_2 - sn_3)/sn_3)\n",
        "logN = np.log10(N)\n",
        "\n",
        "plt.plot(N,np.log10(E_1), 'b--', label= \"Erro relativo sn1\")\n",
        "plt.plot(N,logN,'r.',label = \"log10N\")\n",
        "plt.legend()\n",
        "plt.xlabel('Iteraciones')\n",
        "plt.ylabel('Valor')\n",
        "plt.show()"
      ],
      "metadata": {
        "colab": {
          "base_uri": "https://localhost:8080/",
          "height": 486
        },
        "id": "-CW-jzcPALsz",
        "outputId": "5ba759fa-0600-4faa-877f-4f10b843537f"
      },
      "execution_count": 15,
      "outputs": [
        {
          "output_type": "stream",
          "name": "stderr",
          "text": [
            "<ipython-input-15-d8ed0377c4e0>:20: RuntimeWarning: divide by zero encountered in log10\n",
            "  plt.plot(N,np.log10(E_1), 'b--', label= \"Erro relativo sn1\")\n"
          ]
        },
        {
          "output_type": "display_data",
          "data": {
            "text/plain": [
              "<Figure size 640x480 with 1 Axes>"
            ],
            "image/png": "[encoded data removed]"
          },
          "metadata": {}
        }
      ]
    },
    {
      "cell_type": "code",
      "source": [
        "plt.plot(N,np.log10(E_2), 'b--', label= \"Erro relativo sn2\")\n",
        "plt.plot(N,logN,'r.',label = \"log10N\")\n",
        "plt.legend()\n",
        "plt.xlabel('Iteraciones')\n",
        "plt.ylabel('Valor')\n",
        "plt.show()"
      ],
      "metadata": {
        "colab": {
          "base_uri": "https://localhost:8080/",
          "height": 486
        },
        "id": "1H5mupHE-izS",
        "outputId": "caeb0ac6-f0f4-4a58-ffed-0a08bcbca0aa"
      },
      "execution_count": 16,
      "outputs": [
        {
          "output_type": "stream",
          "name": "stderr",
          "text": [
            "<ipython-input-16-d0c0fc64e18c>:1: RuntimeWarning: divide by zero encountered in log10\n",
            "  plt.plot(N,np.log10(E_2), 'b--', label= \"Erro relativo sn2\")\n"
          ]
        },
        {
          "output_type": "display_data",
          "data": {
            "text/plain": [
              "<Figure size 640x480 with 1 Axes>"
            ],
            "image/png": "[encoded data removed]"
          },
          "metadata": {}
        }
      ]
    },
    {
      "cell_type": "markdown",
      "source": [
        "De lo que se puede analizar de las graficas es que el error relativo en SN_1, tiende a converger a un valor, mientras que con SN_2, su error tiende a aumentar a medida de las iteraciones y diverger entre varios valores"
      ],
      "metadata": {
        "id": "LVubHEcmZLtc"
      }
    },
    {
      "cell_type": "code",
      "source": [
        "E_1"
      ],
      "metadata": {
        "id": "l99TcG0iyrRk"
      },
      "execution_count": null,
      "outputs": []
    },
    {
      "cell_type": "code",
      "source": [],
      "metadata": {
        "id": "_GYdqEW79m-T"
      },
      "execution_count": null,
      "outputs": []
    }
  ],
  "metadata": {
    "colab": {
      "provenance": []
    },
    "kernelspec": {
      "display_name": "Python 3 (ipykernel)",
      "language": "python",
      "name": "python3"
    },
    "language_info": {
      "codemirror_mode": {
        "name": "ipython",
        "version": 3
      },
      "file_extension": ".py",
      "mimetype": "text/x-python",
      "name": "python",
      "nbconvert_exporter": "python",
      "pygments_lexer": "ipython3",
      "version": "3.10.9"
    }
  },
  "nbformat": 4,
  "nbformat_minor": 0
}