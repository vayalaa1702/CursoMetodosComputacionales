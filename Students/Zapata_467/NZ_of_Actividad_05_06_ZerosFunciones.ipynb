{
  "cells": [
    {
      "cell_type": "markdown",
      "id": "3a6dc6a1",
      "metadata": {
        "id": "3a6dc6a1"
      },
      "source": [
        "<a href=\"https://colab.research.google.com/github/hernansalinas/autogrades/blob/main/Actividades_clase/Actividad_05_06_ZerosFunciones.ipynb\" target=\"_parent\"><img src=\"https://colab.research.google.com/assets/colab-badge.svg\" alt=\"Open In Colab\"/></a>\n",
        "\n",
        "\n",
        "\n",
        "# Actividad 5\n",
        "### Métodos computacionales para físicos  y astrónomos\n",
        "### Universidad de Antioquia\n",
        "### Prof: Hernan D. Salinas Jiménez\n",
        "Ref: https://github.com/restrepo/ComputationalMethods"
      ]
    },
    {
      "cell_type": "markdown",
      "id": "8e59c672",
      "metadata": {
        "id": "8e59c672"
      },
      "source": [
        "1. Implementar el metodo de la bisección para determinar las raices de una función.\n",
        "2. Implementar el metodo de la newton para determinar las raices de una función.\n",
        "\n",
        "Prueba tu resultado para:\n"
      ]
    },
    {
      "cell_type": "markdown",
      "id": "ee7acda4",
      "metadata": {
        "id": "ee7acda4"
      },
      "source": [
        "  \n",
        " 2. $a e^{x}-2= b\\cos(e^x-2)$"
      ]
    },
    {
      "cell_type": "code",
      "execution_count": 3,
      "id": "d0073dbf",
      "metadata": {
        "id": "d0073dbf"
      },
      "outputs": [],
      "source": [
        "import numpy as np\n",
        "import matplotlib.pyplot as plt\n",
        "from math import  exp as e\n",
        "import sympy as sp\n",
        "import scipy as sc\n",
        "from scipy import optimize as op"
      ]
    },
    {
      "cell_type": "code",
      "source": [
        "#Dar valor a los parametros\n",
        "a=4\n",
        "b=12\n",
        "f= lambda x: a*np.exp(x)-2 - b*np.cos(np.exp(x)-2)\n",
        "g= lambda x: 0\n",
        "x= np.linspace(-2,2,100)\n",
        "plt.plot(x,f(x))\n",
        "plt.grid()\n",
        "plt.plot(0,0,'.')\n",
        "y = [0] * len(x)\n",
        "\n",
        "# Grafica la recta y = 0\n",
        "plt.plot(x, y, label='y = 0')\n",
        "\n",
        "plt.xlabel('x')\n",
        "plt.ylabel('y')\n",
        "plt.title('Raices de la función')\n",
        "plt.legend()"
      ],
      "metadata": {
        "id": "ctALkv4chvZ7",
        "colab": {
          "base_uri": "https://localhost:8080/",
          "height": 489
        },
        "outputId": "a95ade44-c9af-4b0a-d038-108574d0a2cc"
      },
      "id": "ctALkv4chvZ7",
      "execution_count": 4,
      "outputs": [
        {
          "output_type": "execute_result",
          "data": {
            "text/plain": [
              "<matplotlib.legend.Legend at 0x7e89ddd99180>"
            ]
          },
          "metadata": {},
          "execution_count": 4
        },
        {
          "output_type": "display_data",
          "data": {
            "text/plain": [
              "<Figure size 640x480 with 1 Axes>"
            ],
            "image/png": "[encoded data removed]"
          },
          "metadata": {}
        }
      ]
    },
    {
      "cell_type": "code",
      "source": [
        "raices_Bi1= op.bisect(f,-1,0.5)\n",
        "print('la primera raiz es ',raices_Bi1)\n",
        "raices_Bi2= op.bisect(f,-0.5,1.5)\n",
        "print('la segunda raiz es ',raices_Bi2)\n",
        "\n"
      ],
      "metadata": {
        "colab": {
          "base_uri": "https://localhost:8080/"
        },
        "id": "IrC8N2Ykj7l-",
        "outputId": "d0230abb-8fe6-40ad-f857-8a2cdd628ab9"
      },
      "id": "IrC8N2Ykj7l-",
      "execution_count": 5,
      "outputs": [
        {
          "output_type": "stream",
          "name": "stdout",
          "text": [
            "la primera raiz es  -0.9319263045240405\n",
            "la segunda raiz es  1.00497516827636\n"
          ]
        }
      ]
    },
    {
      "cell_type": "code",
      "source": [
        "#x=sp.Symbol(\"x\")\n",
        "#s= lambda x: a*s-2-b*sp.cos(sp.exp(x)-2)\n",
        "#sp.diff(s(x),x,1)\n"
      ],
      "metadata": {
        "id": "bWizOHcqrhao"
      },
      "id": "bWizOHcqrhao",
      "execution_count": 20,
      "outputs": []
    },
    {
      "cell_type": "code",
      "source": [
        "df = lambda z: 12*e(z)*np.sin(e(z)-2)+4*e(z)\n",
        "raizne1= op.newton(f,1.5,df)\n",
        "print(raizne1)\n",
        "raizne2= op.newton(f,-2,df)\n",
        "print(raizne2)\n"
      ],
      "metadata": {
        "colab": {
          "base_uri": "https://localhost:8080/"
        },
        "id": "5QrIr7c2dLp2",
        "outputId": "d2e454ba-6bca-434c-aad6-cb2353a69e9f"
      },
      "id": "5QrIr7c2dLp2",
      "execution_count": 22,
      "outputs": [
        {
          "output_type": "stream",
          "name": "stdout",
          "text": [
            "1.0049751682752723\n",
            "-0.9319263045227756\n"
          ]
        }
      ]
    },
    {
      "cell_type": "code",
      "source": [],
      "metadata": {
        "id": "O1FNpeVAggUx"
      },
      "id": "O1FNpeVAggUx",
      "execution_count": 41,
      "outputs": []
    }
  ],
  "metadata": {
    "kernelspec": {
      "display_name": "Python 3 (ipykernel)",
      "language": "python",
      "name": "python3"
    },
    "language_info": {
      "codemirror_mode": {
        "name": "ipython",
        "version": 3
      },
      "file_extension": ".py",
      "mimetype": "text/x-python",
      "name": "python",
      "nbconvert_exporter": "python",
      "pygments_lexer": "ipython3",
      "version": "3.10.9"
    },
    "colab": {
      "provenance": []
    }
  },
  "nbformat": 4,
  "nbformat_minor": 5
}