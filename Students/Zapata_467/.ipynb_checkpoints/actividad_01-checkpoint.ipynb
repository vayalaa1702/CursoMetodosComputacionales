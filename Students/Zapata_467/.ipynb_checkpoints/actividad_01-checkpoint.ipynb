{
 "cells": [
  {
   "cell_type": "code",
   "execution_count": null,
   "id": "648cafa7",
   "metadata": {
    "id": "648cafa7",
    "outputId": "b4a36774-35ab-461d-ce64-035346ecb06a"
   },
   "outputs": [
    {
     "name": "stdout",
     "output_type": "stream",
     "text": [
      "Ingrese un número: 9\n",
      "ingrese otro número: 9\n",
      "el valor de la division es  1.0\n",
      "el residuo de la division es 0\n"
     ]
    }
   ],
   "source": [
    "#Reciduo y division\n",
    "a=eval((input(\"Ingrese un número: \")))\n",
    "b=eval((input(\"ingrese otro número: \")))\n",
    "\n",
    "c=a/b\n",
    "d=a%b\n",
    "\n",
    "print(\"el valor de la division es \",c)\n",
    "print(\"el residuo de la division es\",d )"
   ]
  },
  {
   "cell_type": "code",
   "execution_count": 13,
   "id": "775f87ea",
   "metadata": {
    "colab": {
     "base_uri": "https://localhost:8080/"
    },
    "id": "775f87ea",
    "outputId": "400d2de7-9458-4161-db57-2f7f9b2f977e"
   },
   "outputs": [
    {
     "name": "stdout",
     "output_type": "stream",
     "text": [
      "un numero para factorial: 5\n",
      "15\n"
     ]
    }
   ],
   "source": [
    "#Doble factorial\n",
    "\n",
    "def doble_factorial(n):\n",
    "  i=1\n",
    "  facto=1\n",
    "\n",
    "  if x<0 or type(x)==float:\n",
    "    print(\"Digite solo números entreros positivos\")\n",
    "  elif type(x)==int:\n",
    "\n",
    "    if x%2==0:\n",
    "      for i in range(2,x+1,2):\n",
    "        facto=facto*i\n",
    "    else:\n",
    "      for i in range(1,x+1, 2):\n",
    "              facto=facto*i\n",
    "  return print(facto)\n",
    "x=int(input(\"un numero para factorial: \"))\n",
    "doble_factorial(x)\n"
   ]
  },
  {
   "cell_type": "code",
   "execution_count": 27,
   "id": "8d0dfdbe",
   "metadata": {
    "colab": {
     "base_uri": "https://localhost:8080/"
    },
    "id": "8d0dfdbe",
    "outputId": "4ae85cc5-218c-42e5-cdcf-ecfeaa827948"
   },
   "outputs": [
    {
     "name": "stdout",
     "output_type": "stream",
     "text": [
      "hasta que termino quiere? 3\n",
      "2\n",
      "1\n",
      "3\n",
      "4\n"
     ]
    }
   ],
   "source": [
    "def lucas(l):\n",
    "  count=0\n",
    "  n1=2\n",
    "  n2=1\n",
    "  nth=0\n",
    "  while count < l+1:\n",
    "       print(n1)\n",
    "       nth = n1 + n2\n",
    "\n",
    "       n1 = n2\n",
    "       n2 = nth\n",
    "       count += 1\n",
    "\n",
    "nterms=int(input(\"hasta que termino quiere? \"))\n",
    "lucas(nterms)"
   ]
  },
  {
   "cell_type": "code",
   "execution_count": null,
   "id": "Yc1Hf32ruT7I",
   "metadata": {
    "id": "Yc1Hf32ruT7I"
   },
   "outputs": [],
   "source": []
  },
  {
   "cell_type": "code",
   "execution_count": 31,
   "id": "B8SggprDR7Cm",
   "metadata": {
    "colab": {
     "base_uri": "https://localhost:8080/"
    },
    "id": "B8SggprDR7Cm",
    "outputId": "31b6aa23-1ac7-41ba-dc29-91bdeafb1c01"
   },
   "outputs": [
    {
     "name": "stdout",
     "output_type": "stream",
     "text": [
      "un numero para factorial: 6\n"
     ]
    },
    {
     "data": {
      "text/plain": [
       "720"
      ]
     },
     "execution_count": 31,
     "metadata": {},
     "output_type": "execute_result"
    }
   ],
   "source": [
    "\n",
    "x=int(input(\"un numero para factorial: \"))\n",
    "def factorial(n):\n",
    "  facto=1\n",
    "  i=1\n",
    "\n",
    "  if n<0 or type(n)==float:\n",
    "    print(\"Digite solo números entreros positivos\")\n",
    "  elif type(n)==int:\n",
    "    for i in range(1,n+1):\n",
    "      facto=i*facto\n",
    "      i+=1\n",
    "  return facto\n",
    "factorial(x)\n"
   ]
  },
  {
   "cell_type": "code",
   "execution_count": 42,
   "id": "c7be75cb",
   "metadata": {
    "colab": {
     "base_uri": "https://localhost:8080/"
    },
    "id": "c7be75cb",
    "outputId": "c7c3d875-3ba8-4d7e-b45b-50b20ca239bf"
   },
   "outputs": [
    {
     "name": "stdout",
     "output_type": "stream",
     "text": [
      "un numero para factorial: 5\n",
      "un numero para factorial: 3\n"
     ]
    },
    {
     "data": {
      "text/plain": [
       "10.0"
      ]
     },
     "execution_count": 42,
     "metadata": {},
     "output_type": "execute_result"
    }
   ],
   "source": [
    "\n",
    "\n",
    "def binomial(n,k):\n",
    "  facto=1\n",
    "  i=1\n",
    "\n",
    "  if n<0 or type(n)==float:\n",
    "    print(\"Digite solo números entreros positivos\")\n",
    "  elif type(n)==int:\n",
    "    for i in range(n-k+1,n+1):\n",
    "      facto=i*facto\n",
    "      i+=1\n",
    "    return facto/factorial(k)\n",
    "n=int(input(\"un numero para factorial: \"))\n",
    "k=int(input(\"un numero para factorial: \"))\n",
    "binomial(n,k)\n",
    "\n",
    "\n"
   ]
  },
  {
   "cell_type": "code",
   "execution_count": 39,
   "id": "g9jZj-CNuTOR",
   "metadata": {
    "id": "g9jZj-CNuTOR"
   },
   "outputs": [],
   "source": []
  }
 ],
 "metadata": {
  "colab": {
   "provenance": []
  },
  "kernelspec": {
   "display_name": "Python 3 (ipykernel)",
   "language": "python",
   "name": "python3"
  },
  "language_info": {
   "codemirror_mode": {
    "name": "ipython",
    "version": 3
   },
   "file_extension": ".py",
   "mimetype": "text/x-python",
   "name": "python",
   "nbconvert_exporter": "python",
   "pygments_lexer": "ipython3",
   "version": "3.10.9"
  }
 },
 "nbformat": 4,
 "nbformat_minor": 5
}
