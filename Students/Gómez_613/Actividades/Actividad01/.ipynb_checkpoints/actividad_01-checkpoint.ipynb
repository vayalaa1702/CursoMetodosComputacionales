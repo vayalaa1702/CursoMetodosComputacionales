{
 "cells": [
  {
   "cell_type": "markdown",
   "id": "6c35cffd-7ec0-4880-b471-e2b933daa430",
   "metadata": {},
   "source": [
    "# Actividad 01"
   ]
  },
  {
   "cell_type": "markdown",
   "id": "0e05e2fb-6d25-4a51-86c0-a883d6dc440a",
   "metadata": {},
   "source": [
    "1. Escribir un programa que pida al usuario dos números enteros y muestre por pantalla el cociente y el resto donde $a, b$ son los números introducidos por el usuario."
   ]
  },
  {
   "cell_type": "code",
   "execution_count": 35,
   "id": "7d2811e8-eace-4a45-a082-07215f505a96",
   "metadata": {
    "tags": []
   },
   "outputs": [
    {
     "name": "stdout",
     "output_type": "stream",
     "text": [
      "\n",
      "El cociente entre 3 y 3 es: 1.0\n",
      "El residuo entre 3 y 3 es: 0\n",
      "\n"
     ]
    }
   ],
   "source": [
    "#%%writefile actividad_01_enteros.py\n",
    "\n",
    "a=int(input('Ingrese un entero: '))\n",
    "b=int(input('Ingrese otro entero: '))\n",
    "\n",
    "div=a/b\n",
    "res=a%b\n",
    "\n",
    "print(\n",
    "f'''\n",
    "El cociente entre {a} y {b} es: {div}\n",
    "El residuo entre {a} y {b} es: {res}\n",
    "''')"
   ]
  },
  {
   "cell_type": "markdown",
   "id": "54140a74-344e-4c7d-961c-2533a8e9f865",
   "metadata": {},
   "source": [
    "2. Crea una función llamada doble_factorial que reciba un parámetro llamado n. La función debe devolver el doble factorial de n, que se define como el producto de todos los números naturales desde n hasta 1 que tienen el mismo paridad que n. Por ejemplo, si n es 5, la función debe devolver 15, que es el resultado de 5 x 3 x 1. Llama a la función doble_factorial con diferentes valores para el parámetro n, como 6, 7 o 8."
   ]
  },
  {
   "cell_type": "code",
   "execution_count": 34,
   "id": "ab3b3e3e-e6d6-4743-b4f7-bbc42a8a7072",
   "metadata": {},
   "outputs": [
    {
     "name": "stdout",
     "output_type": "stream",
     "text": [
      "5!!=15\n"
     ]
    }
   ],
   "source": [
    "#%%writefile actividad_01_doble_factorial.py\n",
    "\n",
    "def doble_factorial(n):\n",
    "    '''\n",
    "    Esta función calcula en doble factorial de un entero n.\n",
    "    '''\n",
    "    if n<0:\n",
    "        return 'Ingrese un número no negativo.'\n",
    "    if n%2==0:\n",
    "        feven=1\n",
    "        for i in range(0,n/2+1):\n",
    "            feven*=2*i\n",
    "        return feven\n",
    "    else:\n",
    "        if n%2!=0:\n",
    "            fodd=1 \n",
    "            for j in range(1,int(((n+1)/2))+1):\n",
    "                fodd*=2*j-1\n",
    "            return fodd\n",
    "        \n",
    "n=int(input('Ingrese un entero n: '))\n",
    "print(f'{n}!!={doble_factorial(n)}')\n"
   ]
  },
  {
   "cell_type": "markdown",
   "id": "9d39479d-bf31-40b3-9e8e-09e6a76009c5",
   "metadata": {},
   "source": [
    "3. Crea una función llamada lucas que reciba un parámetro llamado n. La función debe devolver el n-ésimo término de la sucesión de Lucas, que se define de forma similar a la sucesión de Fibonacci, pero con los dos primeros términos iguales a 2 y 1. Por ejemplo, si n es 3, la función debe devolver 4, que es el tercer término de la sucesión. Llama a la función lucas con diferentes valores para el parámetro n, como 9, 10 o 11."
   ]
  },
  {
   "cell_type": "code",
   "execution_count": 32,
   "id": "c2212914-6fad-4eba-bf67-87fcf009edf6",
   "metadata": {},
   "outputs": [
    {
     "name": "stdout",
     "output_type": "stream",
     "text": [
      "El número de Lucas que ocupa la posición 5 es: 11\n"
     ]
    }
   ],
   "source": [
    "#%%writefile actividad_01_lucas.py\n",
    "\n",
    "def lucas(n):\n",
    "    '''\n",
    "    Esta función devuelve el n-ésimo término de la serie de Lucas.\n",
    "    '''\n",
    "    l=[2,1]\n",
    "    for i in range(2,n+1):\n",
    "        luc=l[i-1]+l[i-2]\n",
    "        l.append(luc)\n",
    "    return l[n]\n",
    "\n",
    "n=int(input('Ingrese la posición del número de Lucas que desea: '))\n",
    "print(f'El número de Lucas que ocupa la posición {n} es: {lucas(n)}')"
   ]
  },
  {
   "cell_type": "markdown",
   "id": "69391961-31fd-4fa7-bdaf-1ca003c86e0f",
   "metadata": {},
   "source": [
    "4. Crea una función llamada binomial que reciba dos parámetros llamados n y k. La función debe devolver el coeficiente binomial de n y k, que se define como el número de formas de elegir k elementos distintos de un conjunto de n elementos. Por ejemplo, si n es 5 y k es 3, la función debe devolver 10, ya que hay diez formas de elegir tres elementos distintos de un conjunto de cinco elementos. Llama a la función binomial con diferentes valores para los parámetros n y k, como 6 y 4, o 7 y 2."
   ]
  },
  {
   "cell_type": "code",
   "execution_count": 38,
   "id": "40128d04-4fa8-48a4-bac1-28357a03f189",
   "metadata": {},
   "outputs": [
    {
     "name": "stdout",
     "output_type": "stream",
     "text": [
      "El coeficiente binomial de 5 y 3 es: 10.0\n"
     ]
    }
   ],
   "source": [
    "#%%writefile actividad_01_binomial.py\n",
    "\n",
    "def binomial(n,k):\n",
    "    '''\n",
    "    Esta función retorna el coeficiente binomial de n y k.\n",
    "    '''\n",
    "    def fact(a):\n",
    "        if a==0:\n",
    "            return 1\n",
    "        else:\n",
    "            fa=1\n",
    "            for i in range(1,a+1):\n",
    "                fa*=i\n",
    "            return fa\n",
    "    return fact(n)/(fact(k)*fact(n-k))\n",
    "\n",
    "n=int(input('Ingrese un entero: '))\n",
    "k=int(input('Ingrese otro entero: '))\n",
    "print(f'El coeficiente binomial de {n} y {k} es: {binomial(n,k)}')"
   ]
  }
 ],
 "metadata": {
  "kernelspec": {
   "display_name": "Python 3 (ipykernel)",
   "language": "python",
   "name": "python3"
  },
  "language_info": {
   "codemirror_mode": {
    "name": "ipython",
    "version": 3
   },
   "file_extension": ".py",
   "mimetype": "text/x-python",
   "name": "python",
   "nbconvert_exporter": "python",
   "pygments_lexer": "ipython3",
   "version": "3.10.9"
  }
 },
 "nbformat": 4,
 "nbformat_minor": 5
}
