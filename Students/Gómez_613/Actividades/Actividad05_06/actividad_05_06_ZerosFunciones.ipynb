{
  "cells": [
    {
      "cell_type": "markdown",
      "id": "3a6dc6a1",
      "metadata": {
        "id": "3a6dc6a1"
      },
      "source": [
        "<a href=\"https://colab.research.google.com/github/hernansalinas/autogrades/blob/main/Actividades_clase/Actividad_05_06_ZerosFunciones.ipynb\" target=\"_parent\"><img src=\"https://colab.research.google.com/assets/colab-badge.svg\" alt=\"Open In Colab\"/></a>\n",
        "\n",
        "\n",
        "\n",
        "# Actividad 5\n",
        "### Métodos computacionales para físicos  y astrónomos\n",
        "### Universidad de Antioquia\n",
        "### Prof: Hernan D. Salinas Jiménez\n",
        "Ref: https://github.com/restrepo/ComputationalMethods"
      ]
    },
    {
      "cell_type": "markdown",
      "id": "8e59c672",
      "metadata": {
        "id": "8e59c672"
      },
      "source": [
        "1. Implementar el metodo de la bisección para determinar las raices de una función.\n",
        "2. Implementar el metodo de la newton para determinar las raices de una función.\n",
        "\n",
        "Prueba tu resultado para:\n"
      ]
    },
    {
      "cell_type": "markdown",
      "id": "ee7acda4",
      "metadata": {
        "id": "ee7acda4"
      },
      "source": [
        "  \n",
        " 2. $a e^{x}-2= b\\cos(e^x-2)$"
      ]
    },
    {
      "cell_type": "code",
      "execution_count": 1,
      "id": "d0073dbf",
      "metadata": {
        "id": "d0073dbf"
      },
      "outputs": [],
      "source": [
        "import numpy as np\n",
        "import matplotlib.pyplot as plt"
      ]
    },
    {
      "cell_type": "code",
      "source": [
        "f=lambda x,a,b: a*np.exp(x)-2-b*np.cos(np.exp(x)-2)\n",
        "x=np.linspace(1,2,1000)\n",
        "\n",
        "plt.plot(x,f(x,1,2),label='$f(x)$')\n",
        "plt.grid()\n",
        "plt.legend()\n",
        "plt.hlines(0,1,2,'r')"
      ],
      "metadata": {
        "colab": {
          "base_uri": "https://localhost:8080/",
          "height": 447
        },
        "id": "7DVTte0isdUO",
        "outputId": "66a14b42-0e67-40eb-8cc1-a2f645334c22"
      },
      "id": "7DVTte0isdUO",
      "execution_count": 10,
      "outputs": [
        {
          "output_type": "execute_result",
          "data": {
            "text/plain": [
              "<matplotlib.collections.LineCollection at 0x7a4148e10df0>"
            ]
          },
          "metadata": {},
          "execution_count": 10
        },
        {
          "output_type": "display_data",
          "data": {
            "text/plain": [
              "<Figure size 640x480 with 1 Axes>"
            ],
            "image/png": "[encoded data removed]"
          },
          "metadata": {}
        }
      ]
    },
    {
      "cell_type": "markdown",
      "source": [
        "# Método de bisección"
      ],
      "metadata": {
        "id": "wyw8eUtFyvKO"
      },
      "id": "wyw8eUtFyvKO"
    },
    {
      "cell_type": "code",
      "source": [
        "#rudimentario\n",
        "f=lambda x,a,b: a*np.exp(x)-2-b*np.cos(np.exp(x)-2)\n",
        "\n",
        "def bis(f,a,b,eps,n):       #los (1,2) de f son por como definí la función\n",
        "\n",
        "    if f(a,1,2)*f(b,1,2)>0:\n",
        "        return 'Seleccione otro intervalo.'\n",
        "\n",
        "    elif f(a,1,2)*f(b,1,2)<0:\n",
        "        for i in range(n):\n",
        "            pm=(a+b)/2\n",
        "\n",
        "            if abs(f(pm,1,2))<eps:\n",
        "                return pm\n",
        "            elif f(a,1,2)*f(pm,1,2)<0:\n",
        "                b=pm\n",
        "            else:\n",
        "                a=pm\n",
        "    return (a+b)/2\n",
        "\n",
        "bis(f,1,2,1e-15,100)"
      ],
      "metadata": {
        "colab": {
          "base_uri": "https://localhost:8080/"
        },
        "id": "E5ezg9LFsFZt",
        "outputId": "ab95a45b-7cc0-47a6-8063-9e2d31da7707"
      },
      "id": "E5ezg9LFsFZt",
      "execution_count": 18,
      "outputs": [
        {
          "output_type": "execute_result",
          "data": {
            "text/plain": [
              "1.1085185688224326"
            ]
          },
          "metadata": {},
          "execution_count": 18
        }
      ]
    },
    {
      "cell_type": "code",
      "source": [
        "#solo depende de eps\n",
        "f=lambda x,a,b: a*np.exp(x)-2-b*np.cos(np.exp(x)-2)\n",
        "\n",
        "def bisec(f,a,b,eps):           #los (1,2) de f son por como definí la función\n",
        "\n",
        "    if f(a,1,2)*f(b,1,2)>0:\n",
        "        return 'Seleccione otro intervalo.'\n",
        "    n=0\n",
        "    while abs(b-a)>eps:\n",
        "        n+=1\n",
        "        pm=(a+b)/2\n",
        "        c=f(pm,1,2)\n",
        "        if f(a,1,2)*f(pm,1,2)<0:\n",
        "            b=pm\n",
        "        else:\n",
        "            a=pm\n",
        "    return f'raíz x={pm} encontrada en {n} iteraciones.'\n",
        "\n",
        "bisec(f,1,2,1e-15)"
      ],
      "metadata": {
        "colab": {
          "base_uri": "https://localhost:8080/",
          "height": 35
        },
        "id": "HIsVA9eJuNUd",
        "outputId": "14373bfd-9d51-48ab-f2cb-cfeefd159119"
      },
      "id": "HIsVA9eJuNUd",
      "execution_count": 19,
      "outputs": [
        {
          "output_type": "execute_result",
          "data": {
            "text/plain": [
              "'raíz x=1.108518568822432 encontrada en 50 iteraciones.'"
            ],
            "application/vnd.google.colaboratory.intrinsic+json": {
              "type": "string"
            }
          },
          "metadata": {},
          "execution_count": 19
        }
      ]
    },
    {
      "cell_type": "markdown",
      "source": [
        "# Método de Newton-Raphson"
      ],
      "metadata": {
        "id": "OsnDBN3I0Or0"
      },
      "id": "OsnDBN3I0Or0"
    },
    {
      "cell_type": "code",
      "source": [
        "#rudimentario\n",
        "f=lambda x,a,b: a*np.exp(x)-2-b*np.cos(np.exp(x)-2)\n",
        "df=lambda x,a,b: np.exp(x)*(a+b*np.sin(np.exp(x)-2)*np.exp(x))\n",
        "\n",
        "eps=1e-4\n",
        "n=100\n",
        "xi=2\n",
        "def newton(f,df,eps,n,xi):      #los (1,2) de f son por como definí la función\n",
        "    for i in range(n):\n",
        "        if abs(f(xi,1,2))<=eps:\n",
        "            return f'x={xi} es un cero de la función'\n",
        "            break\n",
        "        else:\n",
        "            xn=xi-(f(xi,1,2))/(df(xi,1,2))\n",
        "            xi=xn\n",
        "\n",
        "newton(f,df,eps,n,xi)"
      ],
      "metadata": {
        "colab": {
          "base_uri": "https://localhost:8080/",
          "height": 35
        },
        "id": "9zMF4CQd0TCU",
        "outputId": "6f726a6e-6c18-44e4-e5e6-d2cbfb562958"
      },
      "id": "9zMF4CQd0TCU",
      "execution_count": 20,
      "outputs": [
        {
          "output_type": "execute_result",
          "data": {
            "text/plain": [
              "'x=1.1085290389561575 es un cero de la función'"
            ],
            "application/vnd.google.colaboratory.intrinsic+json": {
              "type": "string"
            }
          },
          "metadata": {},
          "execution_count": 20
        }
      ]
    },
    {
      "cell_type": "code",
      "source": [
        "#solo depende de eps\n",
        "f=lambda x,a,b: a*np.exp(x)-2-b*np.cos(np.exp(x)-2)\n",
        "df=lambda x,a,b: np.exp(x)*(a+b*np.sin(np.exp(x)-2)*np.exp(x))\n",
        "\n",
        "eps=1e-4\n",
        "xi=2\n",
        "def newt(f,df,eps,xi):      #los (1,2) de f son por como definí la función\n",
        "    n=0\n",
        "    while abs(f(xi,1,2))>eps:\n",
        "        n+=1\n",
        "        xn=xi-(f(xi,1,2))/(df(xi,1,2))\n",
        "        xi=xn\n",
        "    return f'raíz encontrada x={xi} en {n} iteraciones.'\n",
        "newt(f,df,eps,xi)"
      ],
      "metadata": {
        "colab": {
          "base_uri": "https://localhost:8080/",
          "height": 35
        },
        "id": "LLPNcysJ2dZF",
        "outputId": "641a1747-9a80-42b0-e917-b44a99227cd2"
      },
      "id": "LLPNcysJ2dZF",
      "execution_count": 21,
      "outputs": [
        {
          "output_type": "execute_result",
          "data": {
            "text/plain": [
              "'raíz encontrada x=1.1085290389561575 en 82 iteraciones.'"
            ],
            "application/vnd.google.colaboratory.intrinsic+json": {
              "type": "string"
            }
          },
          "metadata": {},
          "execution_count": 21
        }
      ]
    }
  ],
  "metadata": {
    "kernelspec": {
      "display_name": "Python 3 (ipykernel)",
      "language": "python",
      "name": "python3"
    },
    "language_info": {
      "codemirror_mode": {
        "name": "ipython",
        "version": 3
      },
      "file_extension": ".py",
      "mimetype": "text/x-python",
      "name": "python",
      "nbconvert_exporter": "python",
      "pygments_lexer": "ipython3",
      "version": "3.10.9"
    },
    "colab": {
      "provenance": []
    }
  },
  "nbformat": 4,
  "nbformat_minor": 5
}