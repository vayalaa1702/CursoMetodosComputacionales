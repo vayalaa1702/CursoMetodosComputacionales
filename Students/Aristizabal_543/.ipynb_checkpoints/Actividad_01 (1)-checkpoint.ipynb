{
 "cells": [
  {
   "cell_type": "code",
   "execution_count": 1,
   "id": "4f364ff7",
   "metadata": {},
   "outputs": [
    {
     "name": "stdout",
     "output_type": "stream",
     "text": [
      "Ingrese el primer entero: 3\n",
      "Ingrese el segundo entero: 3\n",
      "El cociente entre 3 y 3 es:  1.0\n",
      "El residuo es:  0\n"
     ]
    }
   ],
   "source": [
    "#punto 1\n",
    "\n",
    "x= int(input(\"Ingrese el primer entero: \"))\n",
    "y=int(input(\"Ingrese el segundo entero: \"))\n",
    "\n",
    "w = x/y\n",
    "z =x%y\n",
    "\n",
    "print(\"El cociente entre\",x, \"y\",y, \"es: \",w)\n",
    "print(\"El residuo es: \",z)"
   ]
  },
  {
   "cell_type": "code",
   "execution_count": 2,
   "id": "ec7055b7",
   "metadata": {},
   "outputs": [
    {
     "name": "stdout",
     "output_type": "stream",
     "text": [
      "ingrese el número del cual se desea conocer su doble factorial: 5\n",
      "El doble factorial de  5 es:  15\n"
     ]
    }
   ],
   "source": [
    "#punto 2\n",
    "\n",
    "def doble_factorial(n):\n",
    "    if n<=0:\n",
    "        return 1\n",
    "    else:\n",
    "        return n* doble_factorial(n-2)\n",
    "    \n",
    "n = int(input(\"ingrese el número del cual se desea conocer su doble factorial: \"))\n",
    "print(\"El doble factorial de \",n, \"es: \", doble_factorial(n))\n"
   ]
  },
  {
   "cell_type": "code",
   "execution_count": 3,
   "id": "4c343617",
   "metadata": {},
   "outputs": [
    {
     "name": "stdout",
     "output_type": "stream",
     "text": [
      "Ingrese el numero de elementos que desea conocer de la sucesión de lucas: 4\n",
      "1\n",
      "3\n",
      "4\n",
      "7\n"
     ]
    }
   ],
   "source": [
    "#punto 3\n",
    "\n",
    "def lucas(n):\n",
    "    a = 2\n",
    "    b = 1\n",
    "    c=0\n",
    "    for i in range(n):\n",
    "        \n",
    "        c = b + a\n",
    "        a = b\n",
    "        b = c\n",
    "        \n",
    "    return b\n",
    "\n",
    "n = int(input((\"Ingrese el numero de elementos que desea conocer de la sucesión de lucas: \")))\n",
    "\n",
    "for i in range(n):\n",
    "    print(lucas(i))\n",
    "        "
   ]
  },
  {
   "cell_type": "code",
   "execution_count": 4,
   "id": "69f38386",
   "metadata": {},
   "outputs": [
    {
     "name": "stdout",
     "output_type": "stream",
     "text": [
      "Intruduzca la cantidad total de elementos: 4\n",
      "Introduzca la cantidad de elementos a combinar: 34\n",
      "Error: La cantidad total de elementos debe ser mayor que la cantidad de elementos a combinar.\n",
      "El coeficiente binomial es:  None\n"
     ]
    }
   ],
   "source": [
    "#punto 4\n",
    "\n",
    "#Recuerde que el coeficiente binomial se calcula como: n! / k!(n-k)!\n",
    "\n",
    "def factorial(a):\n",
    "    if a<2:return 1\n",
    "    a*=factorial(a-1)\n",
    "    return a\n",
    " \n",
    "def binomial(n,m): \n",
    "    if m>n: \n",
    "        print (\"Error: La cantidad total de elementos debe ser mayor que la cantidad de elementos a combinar.\")\n",
    "    else:\n",
    "        num = factorial(n)\n",
    "        den = factorial(m) * factorial((n-m))\n",
    "        res = num/den\n",
    "        return res\n",
    "        \n",
    "n=int(input(\"Intruduzca la cantidad total de elementos: \"))\n",
    "m=int(input(\"Introduzca la cantidad de elementos a combinar: \"))\n",
    "\n",
    "print(\"El coeficiente binomial es: \",binomial(n,m))"
   ]
  },
  {
   "cell_type": "code",
   "execution_count": null,
   "id": "b8f44377",
   "metadata": {},
   "outputs": [],
   "source": []
  }
 ],
 "metadata": {
  "kernelspec": {
   "display_name": "Python 3 (ipykernel)",
   "language": "python",
   "name": "python3"
  },
  "language_info": {
   "codemirror_mode": {
    "name": "ipython",
    "version": 3
   },
   "file_extension": ".py",
   "mimetype": "text/x-python",
   "name": "python",
   "nbconvert_exporter": "python",
   "pygments_lexer": "ipython3",
   "version": "3.10.9"
  }
 },
 "nbformat": 4,
 "nbformat_minor": 5
}
