{
 "cells": [
  {
   "cell_type": "markdown",
   "metadata": {
    "id": "GUTNoRgHTjfg"
   },
   "source": [
    "<a href=\"https://colab.research.google.com/github/hernansalinas/autogradesMetodosComputacionales/blob/main/Laboratorios_Taller/Lab01_python_basico01.ipynb\" target=\"_parent\"><img src=\"https://colab.research.google.com/assets/colab-badge.svg\" alt=\"Open In Colab\"/></a>\n",
    "\n",
    "\n",
    "\n",
    "\n",
    "# Laboratorio 01\n",
    "### Métodos computacionales para físicos  y astrónomos\n",
    "### Universidad de Antioquia\n",
    "### Profesores:\n",
    "### Hernan D. Salinas Jiménez\n",
    "### Juan Marcos Marin\n"
   ]
  },
  {
   "cell_type": "code",
   "execution_count": 1,
   "metadata": {
    "colab": {
     "base_uri": "https://localhost:8080/"
    },
    "id": "NmGdQYCBL7cs",
    "outputId": "fd47c9fe-954c-4bb6-caf0-d31809ee6a6f"
   },
   "outputs": [
    {
     "name": "stdout",
     "output_type": "stream",
     "text": [
      "Cloning into 'autogradesMetodosComputacionales'...\n",
      "remote: Enumerating objects: 922, done.\u001b[K\n",
      "remote: Counting objects: 100% (222/222), done.\u001b[K\n",
      "remote: Compressing objects: 100% (145/145), done.\u001b[K\n",
      "remote: Total 922 (delta 147), reused 143 (delta 74), pack-reused 700\u001b[K\n",
      "Receiving objects: 100% (922/922), 38.83 MiB | 28.16 MiB/s, done.\n",
      "Resolving deltas: 100% (547/547), done.\n"
     ]
    }
   ],
   "source": [
    "# Ejecutar esta celda antes de cada laboratorio\n",
    "!git clone https://github.com/hernansalinas/autogradesMetodosComputacionales.git\n",
    "path1=f\"autogradesMetodosComputacionales/Laboratorios_Taller/libs/\"\n",
    "path2=f\"autogradesMetodosComputacionales/Laboratorios_Taller/libs/Lab_autotesting01/\"\n",
    "%run -i {path1}libUnitTest.py"
   ]
  },
  {
   "cell_type": "markdown",
   "metadata": {
    "id": "OkdTI9KQ8MLN"
   },
   "source": [
    "# Operaciones básicas en python.\n",
    "\n",
    "\n",
    "### Definicion de variables\n",
    "1. Definir una variable x tipo entero.\n",
    "2. Definir una variable y tipo float\n",
    "3. Definir una variable z tipo string."
   ]
  },
  {
   "cell_type": "code",
   "execution_count": null,
   "metadata": {
    "id": "UgKxTGNmRMUo"
   },
   "outputs": [],
   "source": []
  },
  {
   "cell_type": "code",
   "execution_count": null,
   "metadata": {
    "id": "nOYa9UQquq4d"
   },
   "outputs": [],
   "source": [
    "# Defina la variables en esta celda\n",
    "\n",
    "x = int(input(\"ingrese un entero: \"))\n",
    "y = float(input(\"ingrese un real: \"))\n",
    "z = str(input(\"ingrese algo tipo string: \"))"
   ]
  },
  {
   "cell_type": "code",
   "execution_count": null,
   "metadata": {
    "id": "aod54z2z-ZeY"
   },
   "outputs": [],
   "source": [
    "# Ejecute la presente celda para probar su solucion\n",
    "%run -i {path2}/test01.py"
   ]
  },
  {
   "cell_type": "markdown",
   "metadata": {
    "id": "9JTEaQro_I8E"
   },
   "source": [
    "\n",
    "\n",
    "###  Creación de Funciones\n",
    "4. Crear una función con el nombre mul_lambda tipo lambda que multiple dos enteros, el resultado deberá ser un número entero.  \n",
    "\n",
    "Ejemplo de ejecución:\n",
    "\n",
    "```python\n",
    "\n",
    "mul_lambda(a,b)\n",
    "#donde a, y b son numeros enteros\n",
    "\n",
    "```\n",
    "\n",
    "\n",
    "5. Crear una función explicita con el nombre de sum_int, que realice la suma de dos números enteros\n",
    "\n",
    "Ejemplo de ejecución:\n",
    "\n",
    "```python\n",
    "\n",
    "sum_int(a,b)\n",
    "#donde a, y b son numeros enteros\n",
    "\n",
    "```\n",
    "\n"
   ]
  },
  {
   "cell_type": "code",
   "execution_count": null,
   "metadata": {
    "id": "ARLW1SvNR21Q"
   },
   "outputs": [],
   "source": [
    "#solución de 4:\n",
    "\n",
    "a = int(input(\"ingrese un entero: \"))\n",
    "b = int(input(\"ingrese un entero: \"))\n",
    "\n",
    "mul_lambda = lambda a,b: a*b\n",
    "mul_lambda(a,b)"
   ]
  },
  {
   "cell_type": "code",
   "execution_count": null,
   "metadata": {
    "id": "VASJcKBqTE35"
   },
   "outputs": [],
   "source": [
    "#Solución de 5:\n",
    "\n",
    "a = int(input(\"ingrese un entero: \"))\n",
    "b = int(input(\"ingrese un entero: \"))\n",
    "\n",
    "def: sum_int(a,b):\n",
    "  return (a +b)\n",
    "sum_int(a,b)"
   ]
  },
  {
   "cell_type": "code",
   "execution_count": null,
   "metadata": {
    "id": "lSsnEjAx_Gay"
   },
   "outputs": [],
   "source": [
    "%run -i {path2}/test02.py"
   ]
  },
  {
   "cell_type": "markdown",
   "metadata": {
    "id": "uu42QkJsCQMb"
   },
   "source": [
    "\n",
    "###  Números complejos\n",
    "\n",
    "6. Defina un número complejo w.\n",
    "7. Retorne la parte imaginaria de w, almacenela en una variable w_img\n",
    "8. Retorne la parte real de w, almacenela en una variable w_real.\n",
    "9. Retorne el complejo conjugado de w, almacenla en una varible w_con.\n"
   ]
  },
  {
   "cell_type": "code",
   "execution_count": null,
   "metadata": {
    "id": "1InwYykmwngw"
   },
   "outputs": [],
   "source": [
    "# Escriba acá su solución\n",
    "\n",
    "w = 1 + 1j\n",
    "w_img = w.imag\n",
    "w_real = w.real\n",
    "w_conj = w_real - (w_img)j"
   ]
  },
  {
   "cell_type": "code",
   "execution_count": null,
   "metadata": {
    "id": "jx3J6yE1Kwki"
   },
   "outputs": [],
   "source": [
    "%run -i {path2}/test03.py"
   ]
  },
  {
   "cell_type": "markdown",
   "metadata": {
    "id": "P-2vd2FFV-R-"
   },
   "source": [
    "###  Listas\n",
    "\n",
    "10.0  Construir una lista L con las variables usadas hasta acá y los resultados de las funciones.\n",
    "\n",
    "L=[x,y,z,mul_lambda, sum_int,w, w_img, w_real, w_con ]\n",
    "\n",
    "11.0 Invierta la lista y almacene en una variable L_reverse\n",
    "\n",
    "12.0 Almacene los indices impares de la lista, L_imp\n",
    "\n",
    "13.0 Almacene los indicies pares de la lista, L_par\n",
    "\n",
    "14.0 Almacena en una nueva variable llamada Lnew con la lista L, modifique el indice 5 de la lista L con la palabra \"hello world\"\n"
   ]
  },
  {
   "cell_type": "code",
   "execution_count": null,
   "metadata": {
    "id": "5wcA7Bf8x6v4"
   },
   "outputs": [],
   "source": [
    "# Escriba en esta celda su solucion\n",
    "\n",
    "L= list(x,y,x,w,w_img, w_real, w_conj, a,b, sum_int(a,b), ml_lambda(a,b))\n",
    "L_reverse = L[::-1]\n",
    "L_imp=L[1::2]\n",
    "L_par=L[::2]\n",
    "Lnew = L[5] = \"hello world\""
   ]
  },
  {
   "cell_type": "code",
   "execution_count": null,
   "metadata": {
    "id": "hdzFstmxJ-tB"
   },
   "outputs": [],
   "source": []
  },
  {
   "cell_type": "code",
   "execution_count": null,
   "metadata": {
    "id": "rUAEpJDDdM2q"
   },
   "outputs": [],
   "source": [
    "\n",
    "%run -i {path2}/test04.py"
   ]
  },
  {
   "cell_type": "markdown",
   "metadata": {
    "id": "9vVIrQeytD30"
   },
   "source": [
    "###  Tuplas\n",
    "\n",
    "15.0 Definir una tupla con 5 elementos almacenda en la variable Tup, los primeros 3 tipo string y los ultimos dos, tipo float."
   ]
  },
  {
   "cell_type": "code",
   "execution_count": null,
   "metadata": {
    "id": "vgTjXWt9J-tC"
   },
   "outputs": [],
   "source": [
    "# Escriba en esta celda su solucion\n",
    "Tup = (\"a\",\"b\",\"c\", 3.1,1.2)"
   ]
  },
  {
   "cell_type": "code",
   "execution_count": null,
   "metadata": {
    "id": "UswyGx3xuou2"
   },
   "outputs": [],
   "source": [
    " %run -i {path2}/test05.py"
   ]
  },
  {
   "cell_type": "markdown",
   "metadata": {
    "id": "E1VlbpbEysKy"
   },
   "source": [
    "###  Set\n",
    "16.0 Defina una variable tipo set llamada  D con los primeros 11 numeros primos, consultalos en la red. Notese que pasa en este variables cuando alguno de los elementos se repite\n",
    "\n",
    "17.0 Defina una variable tipo set llamada E con los números naturales del 1 al 20.\n",
    "\n",
    "18.0 Calcule la unión  y almacenela en una variable U.\n",
    "\n",
    "19.0 Calcule la intersección y almacenela en una variable I\n"
   ]
  },
  {
   "cell_type": "code",
   "execution_count": null,
   "metadata": {
    "id": "ua1aHdjPzfGp"
   },
   "outputs": [],
   "source": [
    "# Escriba acá su solución\n",
    "D = {2,3,5,7,11,13,17,19,23,29,31}\n",
    "E ={i for i in range(1,20,1)}\n",
    "U= D+E\n",
    "I = D-E"
   ]
  },
  {
   "cell_type": "code",
   "execution_count": null,
   "metadata": {
    "id": "YJiDfeEr2cSc"
   },
   "outputs": [],
   "source": [
    " %run -i {path2}/test06.py"
   ]
  },
  {
   "cell_type": "markdown",
   "metadata": {
    "id": "HWfazmVWTq1T"
   },
   "source": [
    "\n",
    "\n",
    "\n",
    "\n",
    "\n",
    "\n",
    "\n",
    "\n",
    "\n",
    "\n",
    "\n",
    "\n",
    "\n",
    "\n",
    "###  Diccionarios\n",
    "20.0 Construir un diccionario con 5 elementos cuya clave es el nombre del autor y valor el nombre del libro. Almacenarlo en una variable dicc.\n",
    "\n",
    "\n",
    "\n"
   ]
  },
  {
   "cell_type": "code",
   "execution_count": null,
   "metadata": {
    "id": "07sFgZvj0MP7"
   },
   "outputs": [],
   "source": [
    "# Escriba acá su solución\n",
    "\n",
    "Dicc = {\"Hesse\":\"Demian\", \"Eco\":\"Péndulo de Foucault\",\"Saramago\":\"Ensayo sobre la ceguera\",\"Shakespeare\":\"Hamlet\", \"Goethe\":\"Fausto\"}"
   ]
  },
  {
   "cell_type": "code",
   "execution_count": null,
   "metadata": {
    "id": "yfHkEyXV6DjL"
   },
   "outputs": [],
   "source": [
    " %run -i {path2}/test07.py"
   ]
  },
  {
   "cell_type": "markdown",
   "metadata": {
    "id": "7g0xWN387wOo"
   },
   "source": [
    "\n",
    "####  Ciclos y condicionales\n",
    "\n",
    "21.0  Cálculo de $\\pi$. Empleando la siguiente seria :\n",
    "\n",
    "\\begin{equation}\n",
    "\\frac{\\pi}{4} = 1 -\\frac{1}{3}+\\frac{1}{5}-\\frac{1}{7}+\\frac{1}{9}-...\n",
    "\\end{equation}\n",
    "\n",
    "Construya una función llamada pi_number en el que entrado el valor de k,(número de términos de la serie ) calcule el valor de pi. Si k es negativo deberá retornar un error como una variable tipo string.\n",
    "\n",
    "Ejemplo de ejecución:\n",
    "```python\n",
    "pi_number(10)\n",
    "```"
   ]
  },
  {
   "cell_type": "code",
   "execution_count": null,
   "metadata": {
    "id": "OEACMhp6BS2k"
   },
   "outputs": [],
   "source": [
    " %run -i {path2}/test08.py"
   ]
  },
  {
   "cell_type": "code",
   "execution_count": null,
   "metadata": {
    "id": "h9cuWKkT0pqQ"
   },
   "outputs": [],
   "source": [
    "# Escriba acá su solución\n",
    "import numpy as np\n",
    "def pi_number(k):\n",
    "  if k<=0:\n",
    "    return \"Error\"\n",
    "  else:\n",
    "    pi= 0\n",
    "    D= list(y= 2*i +1 for i in range (k))\n",
    "    i=np.zeros(len(D))\n",
    "    for i in len(D):\n",
    "      i[i]= 1/D[i]\n",
    "    for j in range(k):\n",
    "      pi = pi + (((-1)**k) * i[j])\n",
    "\n",
    "    return pi\n",
    "\n",
    "\n",
    "\n",
    "\n",
    "\n"
   ]
  },
  {
   "cell_type": "code",
   "execution_count": null,
   "metadata": {
    "id": "Gah83_D6J-tF"
   },
   "outputs": [],
   "source": []
  }
 ],
 "metadata": {
  "colab": {
   "provenance": []
  },
  "kernelspec": {
   "display_name": "Python 3 (ipykernel)",
   "language": "python",
   "name": "python3"
  },
  "language_info": {
   "codemirror_mode": {
    "name": "ipython",
    "version": 3
   },
   "file_extension": ".py",
   "mimetype": "text/x-python",
   "name": "python",
   "nbconvert_exporter": "python",
   "pygments_lexer": "ipython3",
   "version": "3.10.9"
  }
 },
 "nbformat": 4,
 "nbformat_minor": 1
}
