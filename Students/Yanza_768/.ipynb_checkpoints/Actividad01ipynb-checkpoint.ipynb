{
 "cells": [
  {
   "cell_type": "markdown",
   "metadata": {
    "id": "axuCPJ_bk9PA"
   },
   "source": [
    "ACTIVIDAD 01\n",
    "Presentado por Joan Mauricio Yanza Ruiz"
   ]
  },
  {
   "cell_type": "markdown",
   "metadata": {
    "id": "_LkpJIns8XEM"
   },
   "source": [
    "Escribir un programa que pida al usuario dos números enteros , y muestre por pantalla el cociente y el residuo entre y ."
   ]
  },
  {
   "cell_type": "code",
   "execution_count": null,
   "metadata": {
    "id": "cBTIOOHNjlME"
   },
   "outputs": [],
   "source": [
    "#SE CREA UNA FUNCION CON DOS ARGUMENTOS , SON ENTEROS\n",
    "def enteros(a,b):\n",
    "  \"\"\"\n",
    "  esta funcion arroja el cociente y el residuo de dos enteros\n",
    "  input: dos enteros a y b\n",
    "  output: cociente y residuo\n",
    "\n",
    "  \"\"\"\n",
    "  cociente = a/b\n",
    "  residuo = a%b\n",
    "  return cociente, residuo\n",
    "\n"
   ]
  },
  {
   "cell_type": "code",
   "execution_count": null,
   "metadata": {
    "colab": {
     "base_uri": "https://localhost:8080/"
    },
    "id": "25nRQZm6-lMg",
    "outputId": "856c3d95-f35d-48b1-ec57-9c5d9c649e23"
   },
   "outputs": [
    {
     "name": "stdout",
     "output_type": "stream",
     "text": [
      "Escriba un numero entero 4\n",
      "Escriba otro numero entero 2\n"
     ]
    }
   ],
   "source": [
    "# SE SOLICITA UN INPUT AL USUARIO\n",
    "a = int(input(\"Escriba un numero entero \"))\n",
    "b = int(input(\"Escriba otro numero entero \"))\n",
    "\n",
    "cociente, residuo=enteros(a,b)\n",
    "\n"
   ]
  },
  {
   "cell_type": "code",
   "execution_count": null,
   "metadata": {
    "colab": {
     "base_uri": "https://localhost:8080/"
    },
    "id": "YeQ0E642jwla",
    "outputId": "c4a893b6-2781-4847-e2a6-76bab2a43f69"
   },
   "outputs": [
    {
     "name": "stdout",
     "output_type": "stream",
     "text": [
      "El cociente de la división  es  2.0 , el residuo de la división es  0\n"
     ]
    }
   ],
   "source": [
    "print(\"El cociente de la división  es \", cociente ,\", el residuo de la división es \", residuo)"
   ]
  },
  {
   "cell_type": "markdown",
   "metadata": {
    "id": "-bxbpOIICNu3"
   },
   "source": [
    "Crea una función llamada doble_factorial que reciba un parámetro llamado n. La función debe devolver el doble factorial de n, que se define como el producto de todos los números naturales desde n hasta 1 que tienen el mismo paridad que n. Por ejemplo, si n es 5, la función debe devolver 15, que es el resultado de 5 x 3 x 1. Llama a la función doble_factorial con diferentes valores para el parámetro n, como 6, 7 o 8.\n",
    "\n"
   ]
  },
  {
   "cell_type": "code",
   "execution_count": 2,
   "metadata": {
    "colab": {
     "base_uri": "https://localhost:8080/"
    },
    "id": "XwvDgX2fCP3w",
    "outputId": "320dd7c8-988d-4696-eb25-b67e278b0125"
   },
   "outputs": [
    {
     "name": "stdout",
     "output_type": "stream",
     "text": [
      "Escriba un numero entero para obtener el  doble factorial 10\n",
      "El doble factorial es 3840 \n"
     ]
    }
   ],
   "source": [
    "m = 1\n",
    "\n",
    "def doble_factorial(n):\n",
    "  global m\n",
    "  while n > 1:\n",
    "      m = m * n\n",
    "      n = n - 2\n",
    "  return m\n",
    "\n",
    "\n",
    "\n",
    "entero = int(input(\"Escriba un numero entero para obtener el  doble factorial \"))\n",
    "k = doble_factorial(entero)\n",
    "print(f\"El doble factorial es {k} \")\n",
    "\n",
    "\n",
    "\n"
   ]
  },
  {
   "cell_type": "markdown",
   "metadata": {
    "id": "vFWVE7H2S_Ts"
   },
   "source": [
    "Crea una función llamada lucas que reciba un parámetro llamado n. La función debe devolver el n-ésimo término de la sucesión de Lucas, que se define de forma similar a la sucesión de Fibonacci, pero con los dos primeros términos iguales a 2 y 1. Por ejemplo, si n es 3, la función debe devolver 4, que es el tercer término de la sucesión. Llama a la función lucas con diferentes valores para el parámetro n, como 9, 10 o 11."
   ]
  },
  {
   "cell_type": "code",
   "execution_count": null,
   "metadata": {
    "colab": {
     "base_uri": "https://localhost:8080/"
    },
    "id": "0ysyN-dbTBQm",
    "outputId": "4e61a5d6-6f56-4d6d-c0a2-8c384bfff372"
   },
   "outputs": [
    {
     "name": "stdout",
     "output_type": "stream",
     "text": [
      "para 9 el valor es 76\n",
      "para 10 el valor es 123\n",
      "para 11 el valor es 199\n"
     ]
    }
   ],
   "source": [
    "def lucas(n):\n",
    "  if n == 0:\n",
    "    return 2\n",
    "  elif n == 1:\n",
    "    return 1\n",
    "  else:\n",
    "      return(lucas(n - 1) +  lucas(n - 2))\n",
    "\n",
    "k1 = lucas(9)\n",
    "print(f\"para 9 el valor es {k1}\")\n",
    "\n",
    "k2 = lucas(10)\n",
    "print(f\"para 10 el valor es {k2}\")\n",
    "\n",
    "k3 = lucas(11)\n",
    "print(f\"para 11 el valor es {k3}\")\n"
   ]
  },
  {
   "cell_type": "markdown",
   "metadata": {
    "id": "WE7wz9XDcE3p"
   },
   "source": [
    "Crea una función llamada binomial que reciba dos parámetros llamados n y k. La función debe devolver el coeficiente binomial de n y k, que se define como el número de formas de elegir k elementos distintos de un conjunto de n elementos. Por ejemplo, si n es 5 y k es 3, la función debe devolver 10, ya que hay diez formas de elegir tres elementos distintos de un conjunto de cinco elementos. Llama a la función binomial con diferentes valores para los parámetros n y k, como 6 y 4, o 7 y 2."
   ]
  },
  {
   "cell_type": "code",
   "execution_count": null,
   "metadata": {
    "id": "8NsFwXJmcF92"
   },
   "outputs": [],
   "source": [
    "# Primero defino una funcion factorial que voy a necesitar para hallar el coeficiente binomial\n",
    "m = 1\n",
    "def factorial(n):\n",
    "  if n == 1:\n",
    "    return 1\n",
    "  else:\n",
    "      return n * factorial(n-1)\n",
    "\n",
    "\n"
   ]
  },
  {
   "cell_type": "code",
   "execution_count": null,
   "metadata": {
    "id": "fDRGw6khgkBc"
   },
   "outputs": [],
   "source": [
    "# ESTABLEZCO LA FUNCION QUE ME CALCULA EL COEFICIENTE BINOMIAL CON COEF= n!/(k!*(n-k)!)\n",
    "\n",
    "def binomial(n,k):\n",
    "  coeficiente = factorial(n) / ((factorial (k)) * factorial (n-k))\n",
    "  return coeficiente\n"
   ]
  },
  {
   "cell_type": "code",
   "execution_count": null,
   "metadata": {
    "colab": {
     "base_uri": "https://localhost:8080/"
    },
    "id": "oJzcL3pVi28G",
    "outputId": "a28bfa5f-aa89-4e10-dfaa-1115199825b4"
   },
   "outputs": [
    {
     "name": "stdout",
     "output_type": "stream",
     "text": [
      "para 6 y 4  el valor es 15.0\n",
      "para 7 y 2  el valor es 21.0\n"
     ]
    }
   ],
   "source": [
    "j1 = binomial(6,4)\n",
    "print(f\"para 6 y 4  el valor es {j1}\")\n",
    "\n",
    "j2 = binomial(7,2)\n",
    "print(f\"para 7 y 2  el valor es {j2}\")"
   ]
  }
 ],
 "metadata": {
  "colab": {
   "provenance": []
  },
  "kernelspec": {
   "display_name": "Python 3 (ipykernel)",
   "language": "python",
   "name": "python3"
  },
  "language_info": {
   "codemirror_mode": {
    "name": "ipython",
    "version": 3
   },
   "file_extension": ".py",
   "mimetype": "text/x-python",
   "name": "python",
   "nbconvert_exporter": "python",
   "pygments_lexer": "ipython3",
   "version": "3.10.9"
  }
 },
 "nbformat": 4,
 "nbformat_minor": 1
}
