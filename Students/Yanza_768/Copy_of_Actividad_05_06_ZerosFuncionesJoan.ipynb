{
  "cells": [
    {
      "cell_type": "markdown",
      "id": "3a6dc6a1",
      "metadata": {
        "id": "3a6dc6a1"
      },
      "source": [
        "<a href=\"https://colab.research.google.com/github/hernansalinas/autogrades/blob/main/Actividades_clase/Actividad_05_06_ZerosFunciones.ipynb\" target=\"_parent\"><img src=\"https://colab.research.google.com/assets/colab-badge.svg\" alt=\"Open In Colab\"/></a>\n",
        "\n",
        "\n",
        "\n",
        "# Actividad 5\n",
        "### Métodos computacionales para físicos  y astrónomos\n",
        "### Universidad de Antioquia\n",
        "### Prof: Hernan D. Salinas Jiménez\n",
        "Ref: https://github.com/restrepo/ComputationalMethods"
      ]
    },
    {
      "cell_type": "markdown",
      "id": "8e59c672",
      "metadata": {
        "id": "8e59c672"
      },
      "source": [
        "1. Implementar el metodo de la bisección para determinar las raices de una función.\n",
        "2. Implementar el metodo de la newton para determinar las raices de una función.\n",
        "\n",
        "Prueba tu resultado para:\n"
      ]
    },
    {
      "cell_type": "markdown",
      "id": "ee7acda4",
      "metadata": {
        "id": "ee7acda4"
      },
      "source": [
        "  \n",
        " 2. $a e^{x}-2= b\\cos(e^x-2)$"
      ]
    },
    {
      "cell_type": "markdown",
      "source": [
        "Implementar el metodo de la bisección para determinar las raices de una función."
      ],
      "metadata": {
        "id": "6mXmpYjgOwmj"
      },
      "id": "6mXmpYjgOwmj"
    },
    {
      "cell_type": "code",
      "source": [
        "import numpy as np\n",
        "import matplotlib.pyplot as plt\n",
        "from scipy import optimize\n"
      ],
      "metadata": {
        "id": "B3PFfQ9vPhpL"
      },
      "id": "B3PFfQ9vPhpL",
      "execution_count": 2,
      "outputs": []
    },
    {
      "cell_type": "code",
      "execution_count": 3,
      "id": "d0073dbf",
      "metadata": {
        "id": "d0073dbf"
      },
      "outputs": [],
      "source": [
        "a = 1\n",
        "\n",
        "b = 1\n",
        "\n",
        "f = lambda x : (a * np.exp(x)) - b * np.cos(((np.exp(x))  - 2 )) -2\n",
        "\n",
        "x = np.arange(-2,2,0.1)"
      ]
    },
    {
      "cell_type": "code",
      "source": [
        "y = f(x)\n",
        "plt.plot(x,y, \"ro-\", label=f\"a={a},b={b}\")\n",
        "plt.grid()\n",
        "plt.legend()\n",
        "plt.show;\n"
      ],
      "metadata": {
        "colab": {
          "base_uri": "https://localhost:8080/",
          "height": 434
        },
        "id": "MVI-zUAWQJDB",
        "outputId": "a342970e-0f43-49da-fede-31ecc3da836b"
      },
      "id": "MVI-zUAWQJDB",
      "execution_count": 4,
      "outputs": [
        {
          "output_type": "display_data",
          "data": {
            "text/plain": [
              "<Figure size 640x480 with 1 Axes>"
            ],
            "image/png": "[encoded data removed]"
          },
          "metadata": {}
        }
      ]
    },
    {
      "cell_type": "code",
      "source": [
        "def biseccion(f,xa,xb,epsilon,Nmax):\n",
        "  niter=0\n",
        "  while f(xa) *f(xb) < 0 and niter< Nmax :\n",
        "\n",
        "    niter += 1\n",
        "    xc= (xa+xb) *0.5\n",
        "    if f(xc)<0:\n",
        "      xa=xc\n",
        "    elif f(xc) > 0:\n",
        "      xb = xc\n",
        "\n",
        "    elif (abs(f(xc)< epsilon)):\n",
        "      print(\"el cero es \", xc)\n",
        "      break\n",
        "\n",
        "    else:\n",
        "      print(\"error\")\n",
        "\n",
        "  return xc\n",
        "\n",
        "\"\"\"Escoger los dos valores de xa y xb de acuerdo a lo que vea en la grafica anterior de tal forma que f(xa) y f(xb) tengan signos diferentes\"\"\"\n",
        "m=biseccion(f,0.5,1.5,1e-5,100)\n"
      ],
      "metadata": {
        "id": "dopk_TGdO6Qt"
      },
      "id": "dopk_TGdO6Qt",
      "execution_count": 5,
      "outputs": []
    },
    {
      "cell_type": "code",
      "source": [
        "cero = optimize.bisect(f,-2,2)\n",
        "\n",
        "print(f\"El cero obtenido por una funciòn construida llamada biseccion  para los coeficientes a={a} y b={b} es \", m)\n",
        "\n",
        "# SE COMPARA EL VALOR OBTENIDO CON UNA FUNCION CONSTRUIDA CON EL RESULTADO DADO  POR METODO OPTIMIZE\n",
        "\n",
        "print(f\"El cero obtenido por el metodo optimize.bisect  para los coeficientes a={a} y b={b} es \", cero)"
      ],
      "metadata": {
        "colab": {
          "base_uri": "https://localhost:8080/"
        },
        "id": "3-BnQrESSHrT",
        "outputId": "4169198b-a77e-4fa6-c3c1-f6caeba1f993"
      },
      "id": "3-BnQrESSHrT",
      "execution_count": 6,
      "outputs": [
        {
          "output_type": "stream",
          "name": "stdout",
          "text": [
            "El cero obtenido por una funciòn construida llamada biseccion  para los coeficientes a=1 y b=1 es  1.0076239716581368\n",
            "El cero obtenido por el metodo optimize.bisect  para los coeficientes a=1 y b=1 es  1.0076239716563578\n"
          ]
        }
      ]
    },
    {
      "cell_type": "markdown",
      "source": [
        "Implementar el metodo de la newton para determinar las raices de una función."
      ],
      "metadata": {
        "id": "KZrpOp2apf4r"
      },
      "id": "KZrpOp2apf4r"
    },
    {
      "cell_type": "code",
      "source": [
        "der_f = lambda x: (a * np.exp(x)) + (b * np.exp(x) * np.sin(np.exp(x) - 2))\n",
        "def newton(x0):\n",
        "  while abs(f(x0)) > 1e-5:\n",
        "    x = x0 - (f(x0) / der_f(x0))\n",
        "    x0=x\n",
        "  return x0\n",
        "\n",
        "\"\"\" De acuerdo a a grafica escoger un valor de x0 para aplicar metodo de newton\"\"\"\n",
        "x0 = 1\n",
        "n = newton(x0)\n"
      ],
      "metadata": {
        "id": "M29qbc5eSVMO"
      },
      "id": "M29qbc5eSVMO",
      "execution_count": 7,
      "outputs": []
    },
    {
      "cell_type": "code",
      "source": [
        "cero_n = optimize.newton(f,x0, der_f)\n",
        "cero_n\n",
        "\n",
        "print(f\"El cero obtenido por una funciòn construida llamada newton  para los coeficientes a={a} y b={b} es \", n)\n",
        "\n",
        "# SE COMPARA EL VALOR OBTENIDO CON UNA FUNCION CONSTRUIDA CON EL RESULTADO DADO  POR METODO OPTIMIZE\n",
        "\n",
        "print(f\"El cero obtenido por el metodo optimize.newton  para los coeficientes a={a} y b={b} es \", cero_n)"
      ],
      "metadata": {
        "colab": {
          "base_uri": "https://localhost:8080/"
        },
        "id": "eHPJBdxcu74s",
        "outputId": "ef956cad-862e-4c9c-c7c5-1742a4af3a69"
      },
      "id": "eHPJBdxcu74s",
      "execution_count": 8,
      "outputs": [
        {
          "output_type": "stream",
          "name": "stdout",
          "text": [
            "El cero obtenido por una funciòn construida llamada newton  para los coeficientes a=1 y b=1 es  1.0076239763346946\n",
            "El cero obtenido por el metodo optimize.newton  para los coeficientes a=1 y b=1 es  1.0076239716581368\n"
          ]
        }
      ]
    }
  ],
  "metadata": {
    "kernelspec": {
      "display_name": "Python 3 (ipykernel)",
      "language": "python",
      "name": "python3"
    },
    "language_info": {
      "codemirror_mode": {
        "name": "ipython",
        "version": 3
      },
      "file_extension": ".py",
      "mimetype": "text/x-python",
      "name": "python",
      "nbconvert_exporter": "python",
      "pygments_lexer": "ipython3",
      "version": "3.10.9"
    },
    "colab": {
      "provenance": []
    }
  },
  "nbformat": 4,
  "nbformat_minor": 5
}