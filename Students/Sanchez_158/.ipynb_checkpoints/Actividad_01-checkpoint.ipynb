{
 "cells": [
  {
   "cell_type": "markdown",
   "metadata": {
    "id": "uztZO4VUvpDK"
   },
   "source": [
    "**COCIENTE**"
   ]
  },
  {
   "cell_type": "code",
   "execution_count": null,
   "metadata": {
    "colab": {
     "base_uri": "https://localhost:8080/"
    },
    "id": "ko8mAN_dkktP",
    "outputId": "8d3dcdd3-97c7-462a-c940-2200dfcef629"
   },
   "outputs": [
    {
     "name": "stdout",
     "output_type": "stream",
     "text": [
      "Entra un primer nùmero entero: 4\n",
      "Entra un segundo nùmero entero: 8\n",
      "La división entre 4 y 8 es:  0.5\n",
      "El residuo entre 4 y 8 es:  4\n"
     ]
    }
   ],
   "source": [
    "#se le piden dos numeros y nso retorne la divisiòn y el modulo\n",
    "n=int(input(\"Entra un primer nùmero entero: \"))\n",
    "b=int(input(\"Entra un segundo nùmero entero: \"))\n",
    "x=n/b\n",
    "z=n%b\n",
    "print(\"La división entre\",n,\"y\",b,\"es: \",x)\n",
    "print(\"El residuo entre\",n,\"y\",b,\"es: \",z)"
   ]
  },
  {
   "cell_type": "markdown",
   "metadata": {
    "id": "ulQoaWa9vzGF"
   },
   "source": [
    "**DOBLE FACTORIAL**"
   ]
  },
  {
   "cell_type": "code",
   "execution_count": 27,
   "metadata": {
    "colab": {
     "base_uri": "https://localhost:8080/"
    },
    "id": "wcVfetMLkrOk",
    "outputId": "2d53afa8-9ba1-461a-b9c5-36659b701dc6"
   },
   "outputs": [
    {
     "name": "stdout",
     "output_type": "stream",
     "text": [
      "EL doble factorial de 7 es:  105\n",
      "EL doble factorial de 6 es:  48\n",
      "EL doble factorial de 8 es:  384\n"
     ]
    }
   ],
   "source": [
    "def doble_factorial(n):\n",
    "    s=n\n",
    "    while(n>2):\n",
    "        n=n-2\n",
    "        s=s*n\n",
    "    return(s)\n",
    "\n",
    "n=7\n",
    "r=doble_factorial(n)\n",
    "print(\"EL doble factorial de\",n,\"es: \",r)\n",
    "n=6\n",
    "r1=doble_factorial(n)\n",
    "print(\"EL doble factorial de\",n,\"es: \",r1)\n",
    "n=8\n",
    "r2=doble_factorial(n)\n",
    "print(\"EL doble factorial de\",n,\"es: \",r2)\n",
    "\n"
   ]
  },
  {
   "cell_type": "markdown",
   "metadata": {
    "id": "64k_eCn_v17B"
   },
   "source": [
    "**SUCECION DE LUCAS**"
   ]
  },
  {
   "cell_type": "code",
   "execution_count": null,
   "metadata": {
    "colab": {
     "base_uri": "https://localhost:8080/"
    },
    "id": "jW08LBSOkrGI",
    "outputId": "7e5d90ee-2a1f-4956-b488-5002c99c43db"
   },
   "outputs": [
    {
     "name": "stdout",
     "output_type": "stream",
     "text": [
      "La suceción de Lucas hasta la posición 2 es: [1, 3] \n",
      "\n",
      "El numero en la posición 2 es:  3 \n",
      "\n",
      "La suceción de Lucas hasta la posición 10 es: [1, 3, 4, 7, 11, 18, 29, 47, 76, 123] \n",
      "\n",
      "El número ubicado en la posición 10 es:  123 \n",
      "\n",
      "ERROR: La n posición debe ser mayor a uno [n>0] \n",
      "\n",
      "La suceción de Lucas hasta la posición 1 y el unico elemento es: [1] \n",
      "\n"
     ]
    }
   ],
   "source": [
    "def Lucas(n):\n",
    "#n=int(input(\"Escribe: \"))\n",
    "  sl=0\n",
    "  s=[1,3]\n",
    "  s1=[1]\n",
    "  s2=[1,3]\n",
    "  if n==0:\n",
    "    print(\"ERROR: La n posición debe ser mayor a uno [n>0]\",\"\\n\")\n",
    "  elif n==1:\n",
    "    print(\"La suceción de Lucas hasta la posición 1 y el unico elemento es:\", s1,\"\\n\")\n",
    "  elif n==2:\n",
    "    print(\"La suceción de Lucas hasta la posición 2 es:\",s2,\"\\n\")\n",
    "    print(\"El numero en la posición 2 es: \",s[1],\"\\n\")\n",
    "  else:\n",
    "    for i in range(1,n-1):\n",
    "      sl=s[i]+s[i-1]\n",
    "      s.append(sl)\n",
    "    print(\"La suceción de Lucas hasta la posición\",n,\"es:\", s,\"\\n\")\n",
    "    print(\"El número ubicado en la posición\",n,\"es: \",s[i+1],\"\\n\")\n",
    "\n",
    "\n",
    "Lucas(2)\n",
    "Lucas(10)\n",
    "Lucas(0)\n",
    "Lucas(1)\n"
   ]
  },
  {
   "cell_type": "markdown",
   "metadata": {
    "id": "6Khuxkv5v4-F"
   },
   "source": [
    "**COEFICIENTE BINOMIAL**"
   ]
  },
  {
   "cell_type": "code",
   "execution_count": null,
   "metadata": {
    "colab": {
     "base_uri": "https://localhost:8080/"
    },
    "id": "fsJ9X_hAkqtt",
    "outputId": "a335c941-2d1f-4c81-9ae8-cb2eb897936f"
   },
   "outputs": [
    {
     "name": "stdout",
     "output_type": "stream",
     "text": [
      "El coeficiente binomial de ( 6 , 2 ) es:  15.0\n",
      "El coeficiente binomial de ( 6 , 4 ) es:  15.0\n",
      "El coeficiente binomial de ( 3 , 2 ) es:  3.0\n"
     ]
    }
   ],
   "source": [
    "#Coeficiente binomial\n",
    "def factorial(n):\n",
    "  fact=1\n",
    "  for i in range(1,n+1):\n",
    "    fact*=i\n",
    "  return fact\n",
    "\n",
    "def binomial(n,k):\n",
    "  n_factorial=factorial(n)\n",
    "  k_factorial=factorial(k)\n",
    "  l=n-k\n",
    "  l_factorial=factorial(l)\n",
    "  coef_bi=(n_factorial)/((k_factorial)*(l_factorial))\n",
    "  #print(n_factorial, k_factorial, l_factorial, coef_bi)\n",
    "  print(\"El coeficiente binomial de (\",n,\",\",k,\") es: \",coef_bi)\n",
    "\n",
    "binomial(6,2)\n",
    "binomial(6,4)\n",
    "binomial(3,2)"
   ]
  },
  {
   "cell_type": "code",
   "execution_count": null,
   "metadata": {
    "id": "g5l9o9balCOG"
   },
   "outputs": [],
   "source": []
  }
 ],
 "metadata": {
  "colab": {
   "provenance": []
  },
  "kernelspec": {
   "display_name": "Python 3 (ipykernel)",
   "language": "python",
   "name": "python3"
  },
  "language_info": {
   "codemirror_mode": {
    "name": "ipython",
    "version": 3
   },
   "file_extension": ".py",
   "mimetype": "text/x-python",
   "name": "python",
   "nbconvert_exporter": "python",
   "pygments_lexer": "ipython3",
   "version": "3.10.9"
  }
 },
 "nbformat": 4,
 "nbformat_minor": 1
}
