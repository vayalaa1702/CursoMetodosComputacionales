{
 "cells": [
  {
   "cell_type": "code",
   "execution_count": 1,
   "id": "6a67690a-962f-442c-8395-69a194070b4a",
   "metadata": {
    "tags": []
   },
   "outputs": [
    {
     "name": "stdout",
     "output_type": "stream",
     "text": [
      "Overwriting actividad_01_enteros.py\n"
     ]
    }
   ],
   "source": [
    "%%writefile actividad_01_enteros.py\n",
    "x = float(input('Ingrese el primer valor:'))\n",
    "y = float(input('Ingrese el segundo valor:'))\n",
    "\n",
    "div = x / y\n",
    "res = x % y\n",
    "\n",
    "print('el cociente es', div)\n",
    "print('el residuo es', res)"
   ]
  },
  {
   "cell_type": "code",
   "execution_count": 5,
   "id": "488f6914-9aa3-4ae1-9ec6-eb0b5bb6a8b4",
   "metadata": {
    "tags": []
   },
   "outputs": [
    {
     "name": "stdout",
     "output_type": "stream",
     "text": [
      "Ingrese un número por favor5\n",
      "el resultado del doble factorial es: 15\n"
     ]
    }
   ],
   "source": [
    "#%%writefile actividad_01_doble_factorial.py\n",
    "n = eval(input('Ingrese un número por favor'))\n",
    "\n",
    "def doblefactorial(n):\n",
    "    if type(n) == float:\n",
    "        return \"El número debe ser entero\"\n",
    "    if n < 0:\n",
    "        return \"el número no puede ser negativo\"\n",
    "    elif n == 0 or n == 1:\n",
    "        return 1\n",
    "    else:\n",
    "        num = 1\n",
    "        while n > 1:\n",
    "            num *= n\n",
    "            n -= 2\n",
    "        return num\n",
    "\n",
    "print('el resultado del doble factorial es:', doblefactorial(n))"
   ]
  },
  {
   "cell_type": "code",
   "execution_count": 7,
   "id": "9d012ba5-ab79-4ae9-a976-c4d2fead61af",
   "metadata": {
    "tags": []
   },
   "outputs": [
    {
     "name": "stdout",
     "output_type": "stream",
     "text": [
      "Ingrese un número por favor3\n",
      "El número en la posición 3 de la sucesión de Lucas es: 4\n"
     ]
    }
   ],
   "source": [
    "#%%writefile actividad_01_lucas.py\n",
    "n = eval(input('Ingrese un número por favor'))\n",
    "\n",
    "def lucas(n):\n",
    "    if n == 0:\n",
    "        return 2\n",
    "    if n ==1 :\n",
    "        return 1\n",
    "    else: \n",
    "        return lucas(n-1) + lucas(n-2)\n",
    "\n",
    "print('El número en la posición', n, 'de la sucesión de Lucas es:', lucas(n))\n",
    "    "
   ]
  },
  {
   "cell_type": "code",
   "execution_count": 8,
   "id": "6ba3f7a6-99ee-4057-9070-d2c4bf744fc2",
   "metadata": {
    "tags": []
   },
   "outputs": [
    {
     "name": "stdout",
     "output_type": "stream",
     "text": [
      "Ingrese el tamaño del conjunto por favor:3\n",
      "Ingrese el tamaño del subconjunto por favor:3\n",
      "Para un conjuto con 3 elementos, dado un subconjunto de tamaño 3 , el coeficiente binomial es: 1\n"
     ]
    }
   ],
   "source": [
    "#%%writefile actividad_01_binomial.py\n",
    "n = eval(input('Ingrese el tamaño del conjunto por favor:'))\n",
    "k = eval(input('Ingrese el tamaño del subconjunto por favor:'))\n",
    "\n",
    "def factorial(n):\n",
    "    if type(n) == float:\n",
    "        return \"El número debe ser entero\"\n",
    "    if n < 0:\n",
    "        return \"el número no puede ser negativo\"\n",
    "    elif n == 0 or n == 1:\n",
    "        return 1\n",
    "    else:\n",
    "        num = 1\n",
    "        while n > 1:\n",
    "            num *= n\n",
    "            n -= 1\n",
    "        return num\n",
    "\n",
    "def binomial(n,k):\n",
    "    bin = int(factorial(n)/(factorial(k)*factorial(n-k)))\n",
    "    return bin\n",
    "\n",
    "print('Para un conjuto con', n, 'elementos, dado un subconjunto de tamaño', k, ', el coeficiente binomial es:', binomial(n,k))\n"
   ]
  },
  {
   "cell_type": "code",
   "execution_count": null,
   "id": "4fb020db-d372-49b4-a0b5-a50881a3bc10",
   "metadata": {},
   "outputs": [],
   "source": []
  }
 ],
 "metadata": {
  "kernelspec": {
   "display_name": "Python 3 (ipykernel)",
   "language": "python",
   "name": "python3"
  },
  "language_info": {
   "codemirror_mode": {
    "name": "ipython",
    "version": 3
   },
   "file_extension": ".py",
   "mimetype": "text/x-python",
   "name": "python",
   "nbconvert_exporter": "python",
   "pygments_lexer": "ipython3",
   "version": "3.10.9"
  }
 },
 "nbformat": 4,
 "nbformat_minor": 5
}
