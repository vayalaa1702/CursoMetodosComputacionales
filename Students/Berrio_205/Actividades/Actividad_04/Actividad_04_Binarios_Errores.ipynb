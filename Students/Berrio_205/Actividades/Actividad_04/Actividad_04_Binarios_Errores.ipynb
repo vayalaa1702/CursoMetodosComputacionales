{
 "cells": [
  {
   "cell_type": "markdown",
   "id": "6d26e874",
   "metadata": {
    "id": "6d26e874"
   },
   "source": [
    "<a href=\"https://colab.research.google.com/github/hernansalinas/autogrades/blob/main/Actividades_clase/Actividad_04_Binarios_Errores.ipynb\" target=\"_parent\"><img src=\"https://colab.research.google.com/assets/colab-badge.svg\" alt=\"Open In Colab\"/></a>\n",
    "\n",
    "\n",
    "\n",
    "# Actividad 4\n",
    "### Métodos computacionales para físicos  y astrónomos\n",
    "### Universidad de Antioquia\n",
    "### Prof: Hernan D. Salinas Jiménez\n"
   ]
  },
  {
   "cell_type": "code",
   "execution_count": 99,
   "id": "eae80e3f",
   "metadata": {
    "id": "eae80e3f",
    "outputId": "ad22ce44-256c-486d-81ca-dcf9c842eb56",
    "tags": []
   },
   "outputs": [
    {
     "name": "stderr",
     "output_type": "stream",
     "text": [
      "fatal: destination path 'autogrades' already exists and is not an empty directory.\n",
      "C:\\Users\\Daniel Berrio\\OneDrive - Universidad de Antioquia\\Semestre 5\\metodos_computacionales\\Actividades\\autogrades\\Actividades_clase\\libs\\libUnitTest.py:3: DeprecationWarning: Importing display from IPython.core.display is deprecated since IPython 7.14, please import from IPython display\n",
      "  from IPython.core.display import display, HTML\n"
     ]
    }
   ],
   "source": [
    "!git clone https://github.com/hernansalinas/autogrades.git\n",
    "#path=\"libs\"\n",
    "path=\"autogrades/Actividades_clase/libs\"\n",
    "%run -i {path}/libUnitTest.py"
   ]
  },
  {
   "cell_type": "code",
   "execution_count": 9,
   "id": "4c8dabcf",
   "metadata": {
    "id": "4c8dabcf",
    "tags": []
   },
   "outputs": [
    {
     "name": "stdout",
     "output_type": "stream",
     "text": [
      "Writing Actividad_04_decimal_a_binario_8bit.py\n"
     ]
    }
   ],
   "source": [
    "%%writefile Actividad_04_decimal_a_binario_8bit.py\n",
    "##!/usr/bin/env python3\n",
    "\n",
    "num = eval(input('Ingrese un número entrero que se pueda representar con 8 bits: '))\n",
    "\n",
    "def mybin(x):   # Función que determina la representación binaria con 8 bit para un número entero positivo. \n",
    "    dig_i = ''\n",
    "    \n",
    "    if(x < 0 or x > 255):\n",
    "        return '¡ El número debe estar comprendido entre 0 y 255 !'\n",
    "    \n",
    "    while(len(dig_i) < 8 and (0 <= x <= 255)):  # Condiciones de operación del código.\n",
    "        r = x % 2\n",
    "        dig_i += str(r)\n",
    "        c = x // 2\n",
    "        x = c\n",
    "                 \n",
    "    return dig_i[::-1]\n",
    "            \n",
    "print('La correspondiente representación binaria con 8 bit es: ', mybin(num))  "
   ]
  },
  {
   "cell_type": "markdown",
   "id": "74f1131a",
   "metadata": {
    "id": "74f1131a"
   },
   "source": [
    "### Activity 1.0:\n",
    "\n",
    "Implement a function that get the binary representation of an integer with name mybin, the algorithm should return\n",
    "a string with 8 characters, the maximun number that represent the funcition is integer of 8 bit. The name of function is\n",
    "mybin\n",
    "\n",
    "Ejexample :\n",
    "\n",
    "b=mybin(x)\n",
    "\n",
    "b='00101000'"
   ]
  },
  {
   "cell_type": "code",
   "execution_count": 101,
   "id": "885be6fb",
   "metadata": {
    "id": "885be6fb",
    "outputId": "753bfdcb-bd7f-484d-80c9-b11aae4f0ffd",
    "tags": []
   },
   "outputs": [
    {
     "name": "stdout",
     "output_type": "stream",
     "text": [
      "La función no ha sido definda o el numero de argumento no es el adecuado\n"
     ]
    }
   ],
   "source": [
    "%run -i {path}/Act_02/test01.py"
   ]
  },
  {
   "cell_type": "markdown",
   "id": "e622b7b5",
   "metadata": {
    "id": "e622b7b5",
    "tags": []
   },
   "source": [
    "### Activity 2.0:\n",
    "\n",
    "With the binary representation please try to implement the formula to recover the number.\n",
    "\n",
    "Hint: Use as input the binary representation as a string and invert its order\n",
    "\n",
    "```\n",
    "number32(BIN):\n",
    "\n",
    "```\n",
    "\n",
    "Where BIN is a string with the binary number\n",
    "\n",
    "Example:\n",
    "\n",
    "\n",
    "Test your solution for the next number:\n",
    "\n",
    "number32(\"00111110001000000000001000010000\")"
   ]
  },
  {
   "cell_type": "code",
   "execution_count": 10,
   "id": "5f3c6506",
   "metadata": {
    "id": "5f3c6506",
    "tags": []
   },
   "outputs": [
    {
     "name": "stdout",
     "output_type": "stream",
     "text": [
      "Writing Actividad_04_binario_a_decimal_32bit.py\n"
     ]
    }
   ],
   "source": [
    "%%writefile Actividad_04_binario_a_decimal_32bit.py\n",
    "\n",
    "def number32(BIN):    # Función que determina la representación decimal para un número binario \n",
    "                      # escrito en 32 bit (estándar IEEE 754 de precisión simple)\n",
    "    s = int(BIN[0])\n",
    "    E_2 = str(BIN[1:9])   # Clasificación de componentes (signo, exponenete y mantisa).\n",
    "    M_2 = str(BIN[9:32])\n",
    "\n",
    "    E = 0\n",
    "    M1 = 0\n",
    "    M2 = 0\n",
    "\n",
    "    for i in range(len(E_2)):    # Ciclo para encontrar representación decimal del exponente. \n",
    "        E += int(E_2[i]) * 2**(len(E_2)-1-i)\n",
    "        exp = E - 127\n",
    "    \n",
    "    M_2_d = 1 + (int(M_2)/10**len(M_2))\n",
    "    M_2_m = str(M_2_d * 10**exp)          # Representación binaria del producto matisa, exponente.\n",
    "    m = M_2_m.split('.')\n",
    "\n",
    "    for j in range(len(m[0])):\n",
    "        M1 += int(m[0][j]) * 2**(len(m[0])-1-j)   #Representación decimal de la parte entera de la mantisa.\n",
    "    \n",
    "    for l in range(len(m[1])):\n",
    "        M2 += int(m[1][l]) * 2**(-l-1)   #Representación decimal de la parte fraccionaria de la mantisa.\n",
    "    \n",
    "    M = (-1)**s * (M1 + M2)\n",
    "\n",
    "    return M\n",
    "\n",
    "bin = input('Ingrese un número binario codificado en 32 bit')\n",
    "number32(bin)\n",
    "\n",
    "#proof = 01000011110100101101100000000000 = 421.6875"
   ]
  },
  {
   "cell_type": "code",
   "execution_count": 105,
   "id": "155ffd7f",
   "metadata": {
    "id": "155ffd7f",
    "outputId": "12bb4574-d218-4f59-a4a0-ba2093841f3f",
    "tags": []
   },
   "outputs": [
    {
     "name": "stdout",
     "output_type": "stream",
     "text": [
      "La función no ha sido definda o el numero de argumento no es el adecuado\n"
     ]
    }
   ],
   "source": [
    "%run -i {path}/Act_02/test02.py"
   ]
  },
  {
   "cell_type": "markdown",
   "id": "d11e596d",
   "metadata": {
    "id": "d11e596d"
   },
   "source": [
    "### Activity 3.0:\n",
    "1. Write a python script that calculates the double precision number represented by a 64-bits binary.\n",
    "\n",
    "the name of function should be:\n",
    "```\n",
    "number64(BIN):\n",
    "\n",
    "```\n",
    "\n",
    "2. What is the number represented by:\n",
    "\n",
    "BIN=\"0 10000000011 1011100100001111111111111111111111111111111111111111\""
   ]
  },
  {
   "cell_type": "code",
   "execution_count": 11,
   "id": "b0922a1d",
   "metadata": {
    "id": "b0922a1d",
    "tags": []
   },
   "outputs": [
    {
     "name": "stdout",
     "output_type": "stream",
     "text": [
      "Writing Actividad_04_binario_a_decimal_64bit.py\n"
     ]
    }
   ],
   "source": [
    "%%writefile Actividad_04_binario_a_decimal_64bit.py\n",
    "\n",
    "def number64(BIN):     # Función que determina la representación decimal para un número binario \n",
    "                       # escrito en 64 bit (estándar IEEE 754 de precisión doble)\n",
    "    s = int(BIN[0])\n",
    "    E_2 = str(BIN[1:12])   # Clasificación de componentes (signo, exponenete y mantisa).\n",
    "    M_2 = str(BIN[12:64])\n",
    "\n",
    "    E = 0\n",
    "    M1 = 0\n",
    "    M2 = 0\n",
    "\n",
    "    for i in range(len(E_2)):   # Ciclo para encontrar representación decimal del exponente. \n",
    "        E += int(E_2[i]) * 2**(len(E_2)-1-i)\n",
    "        exp = E - 1023\n",
    "    \n",
    "    M_2_d = 1 + (int(M_2)/10**len(M_2))\n",
    "    M_2_m = str(M_2_d * 10**exp)          # Representación binaria del producto matisa, exponente.\n",
    "    m = M_2_m.split('.')\n",
    "\n",
    "    for j in range(len(m[0])):\n",
    "        M1 += int(m[0][j]) * 2**(len(m[0])-1-j)  #Representación decimal de la parte entera de la mantisa.\n",
    "    \n",
    "    for l in range(len(m[1])):\n",
    "        M2 += int(m[1][l]) * 2**(-l-1)  #Representación decimal de la parte fraccionaria de la mantisa.\n",
    "    \n",
    "    M = (-1)**s * (M1 + M2)\n",
    "\n",
    "    return M\n",
    "\n",
    "bin = input('Ingrese un número binario codificado en 64 bit')\n",
    "number64(bin)\n",
    "\n",
    "#proof = 11000000001110111000000000000000000000000000000000000000000000000 = -27.5"
   ]
  },
  {
   "cell_type": "code",
   "execution_count": null,
   "id": "cd48a992",
   "metadata": {
    "id": "cd48a992",
    "outputId": "cd32e4db-3680-40d2-be7b-cca90d044b72",
    "tags": []
   },
   "outputs": [],
   "source": [
    "%run -i {path}/Act_02/test03.py"
   ]
  }
 ],
 "metadata": {
  "colab": {
   "provenance": []
  },
  "kernelspec": {
   "display_name": "Python 3 (ipykernel)",
   "language": "python",
   "name": "python3"
  },
  "language_info": {
   "codemirror_mode": {
    "name": "ipython",
    "version": 3
   },
   "file_extension": ".py",
   "mimetype": "text/x-python",
   "name": "python",
   "nbconvert_exporter": "python",
   "pygments_lexer": "ipython3",
   "version": "3.10.9"
  }
 },
 "nbformat": 4,
 "nbformat_minor": 5
}
