{
  "cells": [
    {
      "cell_type": "markdown",
      "id": "3a6dc6a1",
      "metadata": {
        "id": "3a6dc6a1"
      },
      "source": [
        "<a href=\"https://colab.research.google.com/github/hernansalinas/autogrades/blob/main/Actividades_clase/Actividad_05_06_ZerosFunciones.ipynb\" target=\"_parent\"><img src=\"https://colab.research.google.com/assets/colab-badge.svg\" alt=\"Open In Colab\"/></a>\n",
        "\n",
        "\n",
        "\n",
        "# Actividad 5\n",
        "### Métodos computacionales para físicos  y astrónomos\n",
        "### Universidad de Antioquia\n",
        "### Prof: Hernan D. Salinas Jiménez\n",
        "Ref: https://github.com/restrepo/ComputationalMethods"
      ]
    },
    {
      "cell_type": "markdown",
      "id": "8e59c672",
      "metadata": {
        "id": "8e59c672"
      },
      "source": [
        "1. Implementar el metodo de la bisección para determinar las raices de una función.\n",
        "2. Implementar el metodo de la newton para determinar las raices de una función.\n",
        "\n",
        "Prueba tu resultado para:\n"
      ]
    },
    {
      "cell_type": "markdown",
      "id": "ee7acda4",
      "metadata": {
        "id": "ee7acda4"
      },
      "source": [
        "  \n",
        " 2. $a e^{x}-2= b\\cos(e^x-2)$"
      ]
    },
    {
      "cell_type": "code",
      "source": [
        "from sympy.abc import x\n",
        "from sympy import Symbol\n",
        "from sympy.utilities.lambdify import implemented_function\n",
        "from sympy import lambdify\n",
        "from sympy import Derivative, Function, symbols, Subs\n",
        "\n",
        "import matplotlib.pyplot as plt\n",
        "\n",
        "import numpy as np"
      ],
      "metadata": {
        "id": "xbbk-adKotbB"
      },
      "id": "xbbk-adKotbB",
      "execution_count": 39,
      "outputs": []
    },
    {
      "cell_type": "code",
      "execution_count": 104,
      "id": "d0073dbf",
      "metadata": {
        "id": "d0073dbf"
      },
      "outputs": [],
      "source": [
        "def sign(num):\n",
        "    return True if num > 0 else False\n",
        "\n",
        "# function to crate a list of initial guesses for the other functions to use.\n",
        "def ZerosGuesses(f, inferior_range = -10, superior_range = 10, accuracy = 0.1):\n",
        "    range_ab = np.arange(inferior_range, superior_range, accuracy)\n",
        "    ZeroGuess = []\n",
        "    x_im1 = range_ab[0]\n",
        "    for x_i in range_ab:\n",
        "        if sign(f(x_i)) != sign(f(x_im1)):\n",
        "            ZeroGuess.append(x_im1)\n",
        "        x_im1 = x_i\n",
        "    return ZeroGuess\n",
        "\n",
        "def Biseccion(f, p1 = None, p2 = None, e = 1e-108, inferior_range = -10, superior_range = 10, accuracy = 0.1):\n",
        "\n",
        "    # block of code to return a list of zeros on the inerval (inferior_range, superior_range)\n",
        "    if p1==None or p2==None:\n",
        "        zeros = ZerosGuesses(f, inferior_range, superior_range, accuracy)\n",
        "\n",
        "        try:\n",
        "            zeros[0]\n",
        "        except:\n",
        "            raise ValueError(f'f may have no zeros on the interval ({inferior_range}, {superior_range}), try changing the interval, using an smaler value for accuracy or verify if f has any zeros.')\n",
        "\n",
        "        for i, zero_i in enumerate(zeros):\n",
        "            zeros[i] = Biseccion(f, zero_i, zero_i + accuracy, e)\n",
        "        if len(zeros) == 1:\n",
        "            return zeros[0]\n",
        "        else:\n",
        "            return zeros\n",
        "\n",
        "    # errors of the function\n",
        "    if sign(f(p1)) == sign (f(p2)):\n",
        "        raise ValueError(f'f({p1}) and f({p2}) cannot have the same sign')\n",
        "\n",
        "    # Bisection method implementation\n",
        "    xi = (p1+p2)/2\n",
        "    counter = 0\n",
        "    while (abs(f(xi)) > e) and (counter != 100):\n",
        "        counter += 1\n",
        "        xi = (p1+p2)/2\n",
        "        if sign(f(p1)) == sign(f(xi)):\n",
        "            p1 = xi\n",
        "        else:\n",
        "            p2 = xi\n",
        "    return xi\n",
        "\n",
        "def Dx(f):\n",
        "    from sympy.abc import x\n",
        "    fp = lambdify(x, Derivative(f(x), x, evaluate = True))\n",
        "    return fp\n",
        "\n",
        "def Newton(f, fp = None, x0 = None, e = 1e-108, inferior_range = -10, superior_range = 10, accuracy = 0.1):\n",
        "\n",
        "    # block of code to return a list of zeros on the inerval (inferior_range, superior_range)\n",
        "    if x0 == None:\n",
        "        zeros = ZerosGuesses(f, inferior_range, superior_range, accuracy)\n",
        "\n",
        "        if len(zeros) == 0:\n",
        "            raise ValueError(f'f may have no zeros on the interval ({inferior_range}, {superior_range}), try changing the interval, using an smaler value for accuracy or verify if f has any zeros.')\n",
        "\n",
        "        for i, zero_i in enumerate(zeros):\n",
        "            zeros[i] = Newton(f, fp, zero_i, e)\n",
        "        if len(zeros) == 1:\n",
        "            return zeros[0]\n",
        "        else:\n",
        "            return zeros\n",
        "\n",
        "    # finding the derivative of f if not given (works only for lambda functions defined in terms of basic algebraic operations in python)\n",
        "    if fp == None:\n",
        "        fp = Dx(f)\n",
        "\n",
        "    # Newton's method implementation\n",
        "    xi = x0\n",
        "    counter = 0\n",
        "    while (abs(f(xi)) > e) and (counter != 100):\n",
        "        counter += 1\n",
        "        try:\n",
        "            xi = xi - f(xi)/fp(xi)\n",
        "        except:\n",
        "            xi = xi - f(xi)/(0.1)\n",
        "    return xi"
      ]
    },
    {
      "cell_type": "code",
      "source": [
        "print(f'a = {(a := np.random.randint(1,11))}')\n",
        "print(f'b = {(b := np.random.randint(1,11))}')\n",
        "\n",
        "f = lambda x : a*np.exp(x)-2 - (b*np.cos(np.exp(x)-2))\n",
        "fp = lambda x : a*np.exp(x) + b*np.sin(np.exp(x)-2) * np.exp(x)\n",
        "\n",
        "r=10\n",
        "\n",
        "x = np.arange(-r,r,0.1)\n",
        "y = f(x)\n",
        "\n",
        "plt.plot(x,y)\n",
        "plt.ylim(-r,r)\n",
        "plt.grid(True)\n",
        "\n",
        "print(Newton(f, fp))\n",
        "print(zeros := Biseccion(f))\n",
        "\n",
        "\n",
        "plt.plot(zeros, f(zeros), 'r.')\n",
        "plt.show()"
      ],
      "metadata": {
        "colab": {
          "base_uri": "https://localhost:8080/",
          "height": 504
        },
        "id": "lUdE2TFbK88Z",
        "outputId": "7b3f835e-0fb5-4e12-eada-0afa6051b1e5"
      },
      "id": "lUdE2TFbK88Z",
      "execution_count": 122,
      "outputs": [
        {
          "output_type": "stream",
          "name": "stdout",
          "text": [
            "a = 3\n",
            "b = 2\n",
            "0.057980029952558555\n",
            "0.05798002995255852\n"
          ]
        },
        {
          "output_type": "display_data",
          "data": {
            "text/plain": [
              "<Figure size 640x480 with 1 Axes>"
            ],
            "image/png": "[encoded data removed]"
          },
          "metadata": {}
        }
      ]
    }
  ],
  "metadata": {
    "kernelspec": {
      "display_name": "Python 3 (ipykernel)",
      "language": "python",
      "name": "python3"
    },
    "language_info": {
      "codemirror_mode": {
        "name": "ipython",
        "version": 3
      },
      "file_extension": ".py",
      "mimetype": "text/x-python",
      "name": "python",
      "nbconvert_exporter": "python",
      "pygments_lexer": "ipython3",
      "version": "3.10.9"
    },
    "colab": {
      "provenance": []
    }
  },
  "nbformat": 4,
  "nbformat_minor": 5
}