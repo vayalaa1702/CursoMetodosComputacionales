{
 "cells": [
  {
   "cell_type": "code",
   "execution_count": null,
   "id": "26de9a5c",
   "metadata": {
    "id": "26de9a5c",
    "outputId": "9ba4996e-7b8e-4689-872c-e2f0b6c99ce7"
   },
   "outputs": [
    {
     "name": "stdout",
     "output_type": "stream",
     "text": [
      "Collecting otter-grader\n",
      "  Downloading otter_grader-5.4.1-py3-none-any.whl (159 kB)\n",
      "\u001b[2K     \u001b[38;2;114;156;31m━━━━━━━━━━━━━━━━━━━━━━━━━━━━━━━━━━━━━━━\u001b[0m \u001b[32m159.6/159.6 kB\u001b[0m \u001b[31m2.8 MB/s\u001b[0m eta \u001b[36m0:00:00\u001b[0m31m10.8 MB/s\u001b[0m eta \u001b[36m0:00:01\u001b[0m\n",
      "\u001b[?25hCollecting python-on-whales\n",
      "  Downloading python_on_whales-0.69.0-py3-none-any.whl (162 kB)\n",
      "\u001b[2K     \u001b[38;2;114;156;31m━━━━━━━━━━━━━━━━━━━━━━━━━━━━━━━━━━━━━━━\u001b[0m \u001b[32m162.7/162.7 kB\u001b[0m \u001b[31m3.8 MB/s\u001b[0m eta \u001b[36m0:00:00\u001b[0m1m110.9 MB/s\u001b[0m eta \u001b[36m0:00:01\u001b[0m\n",
      "\u001b[?25hCollecting dill\n",
      "  Downloading dill-0.3.8-py3-none-any.whl (116 kB)\n",
      "\u001b[2K     \u001b[38;2;114;156;31m━━━━━━━━━━━━━━━━━━━━━━━━━━━━━━━━━━━━━━━\u001b[0m \u001b[32m116.3/116.3 kB\u001b[0m \u001b[31m3.3 MB/s\u001b[0m eta \u001b[36m0:00:00\u001b[0m\n",
      "\u001b[?25hRequirement already satisfied: wrapt in /home/usuario/anaconda3/lib/python3.9/site-packages (from otter-grader) (1.12.1)\n",
      "Collecting fica>=0.3.1\n",
      "  Downloading fica-0.3.1-py3-none-any.whl (12 kB)\n",
      "Requirement already satisfied: astunparse in /home/usuario/anaconda3/lib/python3.9/site-packages (from otter-grader) (1.6.3)\n",
      "Requirement already satisfied: nbformat in /home/usuario/anaconda3/lib/python3.9/site-packages (from otter-grader) (5.3.0)\n",
      "Requirement already satisfied: pandas in /home/usuario/anaconda3/lib/python3.9/site-packages (from otter-grader) (1.4.2)\n",
      "Collecting jupytext\n",
      "  Downloading jupytext-1.16.1-py3-none-any.whl (152 kB)\n",
      "\u001b[2K     \u001b[38;2;114;156;31m━━━━━━━━━━━━━━━━━━━━━━━━━━━━━━━━━━━━━━━\u001b[0m \u001b[32m152.7/152.7 kB\u001b[0m \u001b[31m4.0 MB/s\u001b[0m eta \u001b[36m0:00:00\u001b[0m31m74.6 MB/s\u001b[0m eta \u001b[36m0:00:01\u001b[0m\n",
      "\u001b[?25hRequirement already satisfied: click in /home/usuario/anaconda3/lib/python3.9/site-packages (from otter-grader) (8.0.4)\n",
      "Requirement already satisfied: requests in /home/usuario/anaconda3/lib/python3.9/site-packages (from otter-grader) (2.27.1)\n",
      "Collecting ipylab\n",
      "  Downloading ipylab-1.0.0-py3-none-any.whl (100 kB)\n",
      "\u001b[2K     \u001b[38;2;114;156;31m━━━━━━━━━━━━━━━━━━━━━━━━━━━━━━━━━━━━━━━\u001b[0m \u001b[32m100.2/100.2 kB\u001b[0m \u001b[31m2.4 MB/s\u001b[0m eta \u001b[36m0:00:00\u001b[0m1m104.1 MB/s\u001b[0m eta \u001b[36m0:00:01\u001b[0m\n",
      "\u001b[?25hRequirement already satisfied: ipython in /home/usuario/anaconda3/lib/python3.9/site-packages (from otter-grader) (8.2.0)\n",
      "Requirement already satisfied: jinja2 in /home/usuario/anaconda3/lib/python3.9/site-packages (from otter-grader) (2.11.3)\n",
      "Requirement already satisfied: ipywidgets in /home/usuario/anaconda3/lib/python3.9/site-packages (from otter-grader) (7.6.5)\n",
      "Requirement already satisfied: PyYAML in /home/usuario/anaconda3/lib/python3.9/site-packages (from otter-grader) (6.0)\n",
      "Requirement already satisfied: nbconvert in /home/usuario/anaconda3/lib/python3.9/site-packages (from otter-grader) (6.4.4)\n",
      "Requirement already satisfied: sphinx in /home/usuario/anaconda3/lib/python3.9/site-packages (from fica>=0.3.1->otter-grader) (4.4.0)\n",
      "Requirement already satisfied: docutils in /home/usuario/anaconda3/lib/python3.9/site-packages (from fica>=0.3.1->otter-grader) (0.17.1)\n",
      "Requirement already satisfied: wheel<1.0,>=0.23.0 in /home/usuario/anaconda3/lib/python3.9/site-packages (from astunparse->otter-grader) (0.37.1)\n",
      "Requirement already satisfied: six<2.0,>=1.6.1 in /home/usuario/anaconda3/lib/python3.9/site-packages (from astunparse->otter-grader) (1.16.0)\n",
      "Requirement already satisfied: ipython-genutils~=0.2.0 in /home/usuario/anaconda3/lib/python3.9/site-packages (from ipywidgets->otter-grader) (0.2.0)\n",
      "Requirement already satisfied: traitlets>=4.3.1 in /home/usuario/anaconda3/lib/python3.9/site-packages (from ipywidgets->otter-grader) (5.1.1)\n",
      "Requirement already satisfied: widgetsnbextension~=3.5.0 in /home/usuario/anaconda3/lib/python3.9/site-packages (from ipywidgets->otter-grader) (3.5.2)\n",
      "Requirement already satisfied: jupyterlab-widgets>=1.0.0 in /home/usuario/anaconda3/lib/python3.9/site-packages (from ipywidgets->otter-grader) (1.0.0)\n",
      "Requirement already satisfied: ipykernel>=4.5.1 in /home/usuario/anaconda3/lib/python3.9/site-packages (from ipywidgets->otter-grader) (6.9.1)\n",
      "Requirement already satisfied: stack-data in /home/usuario/anaconda3/lib/python3.9/site-packages (from ipython->otter-grader) (0.2.0)\n",
      "Requirement already satisfied: pygments>=2.4.0 in /home/usuario/anaconda3/lib/python3.9/site-packages (from ipython->otter-grader) (2.11.2)\n",
      "Requirement already satisfied: pickleshare in /home/usuario/anaconda3/lib/python3.9/site-packages (from ipython->otter-grader) (0.7.5)\n",
      "Requirement already satisfied: jedi>=0.16 in /home/usuario/anaconda3/lib/python3.9/site-packages (from ipython->otter-grader) (0.18.1)\n",
      "Requirement already satisfied: decorator in /home/usuario/anaconda3/lib/python3.9/site-packages (from ipython->otter-grader) (5.1.1)\n",
      "Requirement already satisfied: setuptools>=18.5 in /home/usuario/anaconda3/lib/python3.9/site-packages (from ipython->otter-grader) (61.2.0)\n",
      "Requirement already satisfied: matplotlib-inline in /home/usuario/anaconda3/lib/python3.9/site-packages (from ipython->otter-grader) (0.1.2)\n",
      "Requirement already satisfied: backcall in /home/usuario/anaconda3/lib/python3.9/site-packages (from ipython->otter-grader) (0.2.0)\n",
      "Requirement already satisfied: pexpect>4.3 in /home/usuario/anaconda3/lib/python3.9/site-packages (from ipython->otter-grader) (4.8.0)\n",
      "Requirement already satisfied: prompt-toolkit!=3.0.0,!=3.0.1,<3.1.0,>=2.0.0 in /home/usuario/anaconda3/lib/python3.9/site-packages (from ipython->otter-grader) (3.0.20)\n",
      "Requirement already satisfied: jupyter-core in /home/usuario/anaconda3/lib/python3.9/site-packages (from nbformat->otter-grader) (4.9.2)\n",
      "Requirement already satisfied: jsonschema>=2.6 in /home/usuario/anaconda3/lib/python3.9/site-packages (from nbformat->otter-grader) (4.4.0)\n",
      "Requirement already satisfied: fastjsonschema in /home/usuario/anaconda3/lib/python3.9/site-packages (from nbformat->otter-grader) (2.15.1)\n",
      "Requirement already satisfied: MarkupSafe>=0.23 in /home/usuario/anaconda3/lib/python3.9/site-packages (from jinja2->otter-grader) (2.0.1)\n",
      "Requirement already satisfied: toml in /home/usuario/anaconda3/lib/python3.9/site-packages (from jupytext->otter-grader) (0.10.2)\n",
      "Collecting markdown-it-py>=1.0\n",
      "  Downloading markdown_it_py-3.0.0-py3-none-any.whl (87 kB)\n",
      "\u001b[2K     \u001b[38;2;114;156;31m━━━━━━━━━━━━━━━━━━━━━━━━━━━━━━━━━━━━━━━━\u001b[0m \u001b[32m87.5/87.5 kB\u001b[0m \u001b[31m2.4 MB/s\u001b[0m eta \u001b[36m0:00:00\u001b[0m\n",
      "\u001b[?25hCollecting mdit-py-plugins\n",
      "  Downloading mdit_py_plugins-0.4.0-py3-none-any.whl (54 kB)\n",
      "\u001b[2K     \u001b[38;2;114;156;31m━━━━━━━━━━━━━━━━━━━━━━━━━━━━━━━━━━━━━━━━\u001b[0m \u001b[32m54.1/54.1 kB\u001b[0m \u001b[31m1.7 MB/s\u001b[0m eta \u001b[36m0:00:00\u001b[0m\n",
      "\u001b[?25hRequirement already satisfied: packaging in /home/usuario/anaconda3/lib/python3.9/site-packages (from jupytext->otter-grader) (21.3)\n",
      "Requirement already satisfied: defusedxml in /home/usuario/anaconda3/lib/python3.9/site-packages (from nbconvert->otter-grader) (0.7.1)\n",
      "Requirement already satisfied: mistune<2,>=0.8.1 in /home/usuario/anaconda3/lib/python3.9/site-packages (from nbconvert->otter-grader) (0.8.4)\n",
      "Requirement already satisfied: beautifulsoup4 in /home/usuario/anaconda3/lib/python3.9/site-packages (from nbconvert->otter-grader) (4.11.1)\n",
      "Requirement already satisfied: entrypoints>=0.2.2 in /home/usuario/anaconda3/lib/python3.9/site-packages (from nbconvert->otter-grader) (0.4)\n",
      "Requirement already satisfied: nbclient<0.6.0,>=0.5.0 in /home/usuario/anaconda3/lib/python3.9/site-packages (from nbconvert->otter-grader) (0.5.13)\n",
      "Requirement already satisfied: pandocfilters>=1.4.1 in /home/usuario/anaconda3/lib/python3.9/site-packages (from nbconvert->otter-grader) (1.5.0)\n",
      "Requirement already satisfied: jupyterlab-pygments in /home/usuario/anaconda3/lib/python3.9/site-packages (from nbconvert->otter-grader) (0.1.2)\n",
      "Requirement already satisfied: testpath in /home/usuario/anaconda3/lib/python3.9/site-packages (from nbconvert->otter-grader) (0.5.0)\n",
      "Requirement already satisfied: bleach in /home/usuario/anaconda3/lib/python3.9/site-packages (from nbconvert->otter-grader) (4.1.0)\n",
      "Requirement already satisfied: python-dateutil>=2.8.1 in /home/usuario/anaconda3/lib/python3.9/site-packages (from pandas->otter-grader) (2.8.2)\n",
      "Requirement already satisfied: pytz>=2020.1 in /home/usuario/anaconda3/lib/python3.9/site-packages (from pandas->otter-grader) (2021.3)\n",
      "Requirement already satisfied: numpy>=1.18.5 in /home/usuario/anaconda3/lib/python3.9/site-packages (from pandas->otter-grader) (1.22.3)\n",
      "Requirement already satisfied: typing-extensions in /home/usuario/anaconda3/lib/python3.9/site-packages (from python-on-whales->otter-grader) (4.1.1)\n"
     ]
    },
    {
     "name": "stdout",
     "output_type": "stream",
     "text": [
      "Collecting typer>=0.4.1\n",
      "  Downloading typer-0.9.0-py3-none-any.whl (45 kB)\n",
      "\u001b[2K     \u001b[38;2;114;156;31m━━━━━━━━━━━━━━━━━━━━━━━━━━━━━━━━━━━━━━━\u001b[0m \u001b[32m45.9/45.9 kB\u001b[0m \u001b[31m587.5 kB/s\u001b[0m eta \u001b[36m0:00:00\u001b[0m31m93.1 MB/s\u001b[0m eta \u001b[36m0:00:01\u001b[0m\n",
      "\u001b[?25hCollecting pydantic!=2.0.*,<3,>=1.9\n",
      "  Downloading pydantic-2.6.3-py3-none-any.whl (395 kB)\n",
      "\u001b[2K     \u001b[38;2;114;156;31m━━━━━━━━━━━━━━━━━━━━━━━━━━━━━━━━━━━━━━━\u001b[0m \u001b[32m395.2/395.2 kB\u001b[0m \u001b[31m8.4 MB/s\u001b[0m eta \u001b[36m0:00:00\u001b[0m[36m0:00:01\u001b[0m\n",
      "\u001b[?25hRequirement already satisfied: tqdm in /home/usuario/anaconda3/lib/python3.9/site-packages (from python-on-whales->otter-grader) (4.64.0)\n",
      "Requirement already satisfied: certifi>=2017.4.17 in /home/usuario/anaconda3/lib/python3.9/site-packages (from requests->otter-grader) (2021.10.8)\n",
      "Requirement already satisfied: urllib3<1.27,>=1.21.1 in /home/usuario/anaconda3/lib/python3.9/site-packages (from requests->otter-grader) (1.26.9)\n",
      "Requirement already satisfied: charset-normalizer~=2.0.0 in /home/usuario/anaconda3/lib/python3.9/site-packages (from requests->otter-grader) (2.0.4)\n",
      "Requirement already satisfied: idna<4,>=2.5 in /home/usuario/anaconda3/lib/python3.9/site-packages (from requests->otter-grader) (3.3)\n",
      "Requirement already satisfied: nest-asyncio in /home/usuario/anaconda3/lib/python3.9/site-packages (from ipykernel>=4.5.1->ipywidgets->otter-grader) (1.5.5)\n",
      "Requirement already satisfied: tornado<7.0,>=4.2 in /home/usuario/anaconda3/lib/python3.9/site-packages (from ipykernel>=4.5.1->ipywidgets->otter-grader) (6.1)\n",
      "Requirement already satisfied: jupyter-client<8.0 in /home/usuario/anaconda3/lib/python3.9/site-packages (from ipykernel>=4.5.1->ipywidgets->otter-grader) (6.1.12)\n",
      "Requirement already satisfied: debugpy<2.0,>=1.0.0 in /home/usuario/anaconda3/lib/python3.9/site-packages (from ipykernel>=4.5.1->ipywidgets->otter-grader) (1.5.1)\n",
      "Requirement already satisfied: parso<0.9.0,>=0.8.0 in /home/usuario/anaconda3/lib/python3.9/site-packages (from jedi>=0.16->ipython->otter-grader) (0.8.3)\n",
      "Requirement already satisfied: attrs>=17.4.0 in /home/usuario/anaconda3/lib/python3.9/site-packages (from jsonschema>=2.6->nbformat->otter-grader) (21.4.0)\n",
      "Requirement already satisfied: pyrsistent!=0.17.0,!=0.17.1,!=0.17.2,>=0.14.0 in /home/usuario/anaconda3/lib/python3.9/site-packages (from jsonschema>=2.6->nbformat->otter-grader) (0.18.0)\n",
      "Collecting mdurl~=0.1\n",
      "  Downloading mdurl-0.1.2-py3-none-any.whl (10.0 kB)\n",
      "Requirement already satisfied: ptyprocess>=0.5 in /home/usuario/anaconda3/lib/python3.9/site-packages (from pexpect>4.3->ipython->otter-grader) (0.7.0)\n",
      "Requirement already satisfied: wcwidth in /home/usuario/anaconda3/lib/python3.9/site-packages (from prompt-toolkit!=3.0.0,!=3.0.1,<3.1.0,>=2.0.0->ipython->otter-grader) (0.2.5)\n",
      "Collecting pydantic-core==2.16.3\n",
      "  Downloading pydantic_core-2.16.3-cp39-cp39-manylinux_2_17_x86_64.manylinux2014_x86_64.whl (2.2 MB)\n",
      "\u001b[2K     \u001b[38;2;114;156;31m━━━━━━━━━━━━━━━━━━━━━━━━━━━━━━━━━━━━━━━━\u001b[0m \u001b[32m2.2/2.2 MB\u001b[0m \u001b[31m25.5 MB/s\u001b[0m eta \u001b[36m0:00:00\u001b[0m0m eta \u001b[36m0:00:01\u001b[0m\n",
      "\u001b[?25hCollecting typing-extensions\n",
      "  Downloading typing_extensions-4.10.0-py3-none-any.whl (33 kB)\n",
      "Collecting annotated-types>=0.4.0\n",
      "  Downloading annotated_types-0.6.0-py3-none-any.whl (12 kB)\n",
      "Requirement already satisfied: notebook>=4.4.1 in /home/usuario/anaconda3/lib/python3.9/site-packages (from widgetsnbextension~=3.5.0->ipywidgets->otter-grader) (6.4.8)\n",
      "Requirement already satisfied: soupsieve>1.2 in /home/usuario/anaconda3/lib/python3.9/site-packages (from beautifulsoup4->nbconvert->otter-grader) (2.3.1)\n",
      "Requirement already satisfied: webencodings in /home/usuario/anaconda3/lib/python3.9/site-packages (from bleach->nbconvert->otter-grader) (0.5.1)\n",
      "Requirement already satisfied: pyparsing!=3.0.5,>=2.0.2 in /home/usuario/anaconda3/lib/python3.9/site-packages (from packaging->jupytext->otter-grader) (3.0.4)\n",
      "Requirement already satisfied: sphinxcontrib-qthelp in /home/usuario/anaconda3/lib/python3.9/site-packages (from sphinx->fica>=0.3.1->otter-grader) (1.0.3)\n",
      "Requirement already satisfied: sphinxcontrib-jsmath in /home/usuario/anaconda3/lib/python3.9/site-packages (from sphinx->fica>=0.3.1->otter-grader) (1.0.1)\n",
      "Requirement already satisfied: snowballstemmer>=1.1 in /home/usuario/anaconda3/lib/python3.9/site-packages (from sphinx->fica>=0.3.1->otter-grader) (2.2.0)\n",
      "Requirement already satisfied: sphinxcontrib-devhelp in /home/usuario/anaconda3/lib/python3.9/site-packages (from sphinx->fica>=0.3.1->otter-grader) (1.0.2)\n",
      "Requirement already satisfied: alabaster<0.8,>=0.7 in /home/usuario/anaconda3/lib/python3.9/site-packages (from sphinx->fica>=0.3.1->otter-grader) (0.7.12)\n",
      "Requirement already satisfied: sphinxcontrib-serializinghtml>=1.1.5 in /home/usuario/anaconda3/lib/python3.9/site-packages (from sphinx->fica>=0.3.1->otter-grader) (1.1.5)\n",
      "Requirement already satisfied: importlib-metadata>=4.4 in /home/usuario/anaconda3/lib/python3.9/site-packages (from sphinx->fica>=0.3.1->otter-grader) (4.11.3)\n",
      "Requirement already satisfied: imagesize in /home/usuario/anaconda3/lib/python3.9/site-packages (from sphinx->fica>=0.3.1->otter-grader) (1.3.0)\n",
      "Requirement already satisfied: sphinxcontrib-htmlhelp>=2.0.0 in /home/usuario/anaconda3/lib/python3.9/site-packages (from sphinx->fica>=0.3.1->otter-grader) (2.0.0)\n",
      "Requirement already satisfied: babel>=1.3 in /home/usuario/anaconda3/lib/python3.9/site-packages (from sphinx->fica>=0.3.1->otter-grader) (2.9.1)\n",
      "Requirement already satisfied: sphinxcontrib-applehelp in /home/usuario/anaconda3/lib/python3.9/site-packages (from sphinx->fica>=0.3.1->otter-grader) (1.0.2)\n",
      "Requirement already satisfied: asttokens in /home/usuario/anaconda3/lib/python3.9/site-packages (from stack-data->ipython->otter-grader) (2.0.5)\n",
      "Requirement already satisfied: pure-eval in /home/usuario/anaconda3/lib/python3.9/site-packages (from stack-data->ipython->otter-grader) (0.2.2)\n",
      "Requirement already satisfied: executing in /home/usuario/anaconda3/lib/python3.9/site-packages (from stack-data->ipython->otter-grader) (0.8.3)\n",
      "Requirement already satisfied: zipp>=0.5 in /home/usuario/anaconda3/lib/python3.9/site-packages (from importlib-metadata>=4.4->sphinx->fica>=0.3.1->otter-grader) (3.7.0)\n",
      "Requirement already satisfied: pyzmq>=13 in /home/usuario/anaconda3/lib/python3.9/site-packages (from jupyter-client<8.0->ipykernel>=4.5.1->ipywidgets->otter-grader) (22.3.0)\n",
      "Requirement already satisfied: argon2-cffi in /home/usuario/anaconda3/lib/python3.9/site-packages (from notebook>=4.4.1->widgetsnbextension~=3.5.0->ipywidgets->otter-grader) (21.3.0)\n",
      "Requirement already satisfied: prometheus-client in /home/usuario/anaconda3/lib/python3.9/site-packages (from notebook>=4.4.1->widgetsnbextension~=3.5.0->ipywidgets->otter-grader) (0.13.1)\n",
      "Requirement already satisfied: Send2Trash>=1.8.0 in /home/usuario/anaconda3/lib/python3.9/site-packages (from notebook>=4.4.1->widgetsnbextension~=3.5.0->ipywidgets->otter-grader) (1.8.0)\n",
      "Requirement already satisfied: terminado>=0.8.3 in /home/usuario/anaconda3/lib/python3.9/site-packages (from notebook>=4.4.1->widgetsnbextension~=3.5.0->ipywidgets->otter-grader) (0.13.1)\n",
      "Requirement already satisfied: argon2-cffi-bindings in /home/usuario/anaconda3/lib/python3.9/site-packages (from argon2-cffi->notebook>=4.4.1->widgetsnbextension~=3.5.0->ipywidgets->otter-grader) (21.2.0)\n",
      "Requirement already satisfied: cffi>=1.0.1 in /home/usuario/anaconda3/lib/python3.9/site-packages (from argon2-cffi-bindings->argon2-cffi->notebook>=4.4.1->widgetsnbextension~=3.5.0->ipywidgets->otter-grader) (1.15.0)\n",
      "Requirement already satisfied: pycparser in /home/usuario/anaconda3/lib/python3.9/site-packages (from cffi>=1.0.1->argon2-cffi-bindings->argon2-cffi->notebook>=4.4.1->widgetsnbextension~=3.5.0->ipywidgets->otter-grader) (2.21)\n",
      "Installing collected packages: typing-extensions, mdurl, dill, annotated-types, typer, pydantic-core, markdown-it-py, pydantic, mdit-py-plugins, fica, python-on-whales, jupytext, ipylab, otter-grader\n",
      "  Attempting uninstall: typing-extensions\n",
      "    Found existing installation: typing_extensions 4.1.1\n",
      "    Uninstalling typing_extensions-4.1.1:\n",
      "      Successfully uninstalled typing_extensions-4.1.1\n",
      "Successfully installed annotated-types-0.6.0 dill-0.3.8 fica-0.3.1 ipylab-1.0.0 jupytext-1.16.1 markdown-it-py-3.0.0 mdit-py-plugins-0.4.0 mdurl-0.1.2 otter-grader-5.4.1 pydantic-2.6.3 pydantic-core-2.16.3 python-on-whales-0.69.0 typer-0.9.0 typing-extensions-4.10.0\n"
     ]
    },
    {
     "name": "stdout",
     "output_type": "stream",
     "text": [
      "\u001b[33mWARNING: There was an error checking the latest version of pip.\u001b[0m\u001b[33m\r\n",
      "\u001b[0m"
     ]
    }
   ],
   "source": [
    "#!pip install otter-grader"
   ]
  },
  {
   "cell_type": "code",
   "execution_count": null,
   "id": "6d83d19d",
   "metadata": {
    "deletable": false,
    "editable": false,
    "id": "6d83d19d"
   },
   "outputs": [],
   "source": [
    "# Initialize Otter\n",
    "import otter\n",
    "grader = otter.Notebook(\"test1.ipynb\")"
   ]
  },
  {
   "cell_type": "markdown",
   "id": "8a7d1298",
   "metadata": {
    "id": "8a7d1298"
   },
   "source": [
    "<a href=\"https://colab.research.google.com/github/hernansalinas/autogradesMetodosComputacionales/blob/main/Actividades_clase/actividad03/test1.ipynb\" target=\"_parent\"><img src=\"https://colab.research.google.com/assets/colab-badge.svg\" alt=\"Open In Colab\"/></a>\n",
    "\n"
   ]
  },
  {
   "cell_type": "code",
   "execution_count": 1,
   "id": "54e59a67",
   "metadata": {
    "id": "54e59a67"
   },
   "outputs": [],
   "source": [
    "# import otter\n",
    "import pandas as pd\n",
    "import numpy as np\n",
    "%matplotlib inline\n",
    "# import otter\n",
    "# grader = otter.Notebook()"
   ]
  },
  {
   "cell_type": "markdown",
   "id": "02469dfd",
   "metadata": {
    "deletable": false,
    "editable": false,
    "id": "02469dfd"
   },
   "source": [
    "**Question 1:** Escribir una función llamada `promedio` que retorne el promedio de una arrray de numpy"
   ]
  },
  {
   "cell_type": "code",
   "execution_count": 2,
   "id": "0921bc33",
   "metadata": {
    "id": "0921bc33",
    "tags": []
   },
   "outputs": [],
   "source": [
    "def promedio(x):\n",
    "    suma = 0\n",
    "    div = 0\n",
    "    for i in x:\n",
    "        suma += i\n",
    "        div += 1\n",
    "\n",
    "    return suma/div"
   ]
  },
  {
   "cell_type": "code",
   "execution_count": null,
   "id": "6b2bd0b1",
   "metadata": {
    "deletable": false,
    "editable": false,
    "id": "6b2bd0b1",
    "outputId": "22c2a261-b788-4533-ec93-d9a7d1a09d5e"
   },
   "outputs": [
    {
     "data": {
      "text/html": [
       "<p><strong><pre style='display: inline;'>q1</pre></strong> passed! 🌟</p>"
      ],
      "text/plain": [
       "q1 results: All test cases passed!"
      ]
     },
     "execution_count": 9,
     "metadata": {},
     "output_type": "execute_result"
    }
   ],
   "source": [
    "grader.check(\"q1\")"
   ]
  },
  {
   "cell_type": "markdown",
   "id": "2cac85e0",
   "metadata": {
    "deletable": false,
    "editable": false,
    "id": "2cac85e0"
   },
   "source": [
    "**Question 2:** Create a DataFrame mirroring the table below and assign this to `data`. Then group by the `flavor` column and find the mean price for each flavor; assign this **series** to `price_by_flavor`.\n",
    "\n",
    "| flavor | scoops | price |\n",
    "|-----|-----|-----|\n",
    "| chocolate | 1 | 2 |\n",
    "| vanilla | 1 | 1.5 |\n",
    "| chocolate | 2 | 3 |\n",
    "| strawberry | 1 | 2 |\n",
    "| strawberry | 3 | 4 |\n",
    "| vanilla | 2 | 2 |\n",
    "| mint | 1 | 4 |\n",
    "| mint | 2 | 5 |\n",
    "| chocolate | 3 | 5 |"
   ]
  },
  {
   "cell_type": "code",
   "execution_count": 16,
   "id": "038ac89e",
   "metadata": {
    "colab": {
     "base_uri": "https://localhost:8080/",
     "height": 331
    },
    "id": "038ac89e",
    "outputId": "8cb625c0-bd54-4e91-aaa7-e3cdc101738f",
    "tags": []
   },
   "outputs": [
    {
     "data": {
      "application/vnd.google.colaboratory.intrinsic+json": {
       "summary": "{\n  \"name\": \"data\",\n  \"rows\": 9,\n  \"fields\": [\n    {\n      \"column\": \"flavor\",\n      \"properties\": {\n        \"dtype\": \"category\",\n        \"num_unique_values\": 4,\n        \"samples\": [\n          \"vanilla\",\n          \"mint\",\n          \"chocolate\"\n        ],\n        \"semantic_type\": \"\",\n        \"description\": \"\"\n      }\n    },\n    {\n      \"column\": \"scoops\",\n      \"properties\": {\n        \"dtype\": \"number\",\n        \"std\": 0,\n        \"min\": 1,\n        \"max\": 3,\n        \"num_unique_values\": 3,\n        \"samples\": [\n          1,\n          2,\n          3\n        ],\n        \"semantic_type\": \"\",\n        \"description\": \"\"\n      }\n    },\n    {\n      \"column\": \"price\",\n      \"properties\": {\n        \"dtype\": \"number\",\n        \"std\": 1.3693063937629153,\n        \"min\": 1.5,\n        \"max\": 5.0,\n        \"num_unique_values\": 5,\n        \"samples\": [\n          1.5,\n          5.0,\n          3.0\n        ],\n        \"semantic_type\": \"\",\n        \"description\": \"\"\n      }\n    }\n  ]\n}",
       "type": "dataframe",
       "variable_name": "data"
      },
      "text/html": [
       "\n",
       "  <div id=\"df-ed69c083-2568-40a9-bac5-7aeb61eeb369\" class=\"colab-df-container\">\n",
       "    <div>\n",
       "<style scoped>\n",
       "    .dataframe tbody tr th:only-of-type {\n",
       "        vertical-align: middle;\n",
       "    }\n",
       "\n",
       "    .dataframe tbody tr th {\n",
       "        vertical-align: top;\n",
       "    }\n",
       "\n",
       "    .dataframe thead th {\n",
       "        text-align: right;\n",
       "    }\n",
       "</style>\n",
       "<table border=\"1\" class=\"dataframe\">\n",
       "  <thead>\n",
       "    <tr style=\"text-align: right;\">\n",
       "      <th></th>\n",
       "      <th>flavor</th>\n",
       "      <th>scoops</th>\n",
       "      <th>price</th>\n",
       "    </tr>\n",
       "  </thead>\n",
       "  <tbody>\n",
       "    <tr>\n",
       "      <th>0</th>\n",
       "      <td>chocolate</td>\n",
       "      <td>1</td>\n",
       "      <td>2.0</td>\n",
       "    </tr>\n",
       "    <tr>\n",
       "      <th>1</th>\n",
       "      <td>vanilla</td>\n",
       "      <td>1</td>\n",
       "      <td>1.5</td>\n",
       "    </tr>\n",
       "    <tr>\n",
       "      <th>2</th>\n",
       "      <td>chocolate</td>\n",
       "      <td>2</td>\n",
       "      <td>3.0</td>\n",
       "    </tr>\n",
       "    <tr>\n",
       "      <th>3</th>\n",
       "      <td>strawberry</td>\n",
       "      <td>1</td>\n",
       "      <td>2.0</td>\n",
       "    </tr>\n",
       "    <tr>\n",
       "      <th>4</th>\n",
       "      <td>strawberry</td>\n",
       "      <td>3</td>\n",
       "      <td>4.0</td>\n",
       "    </tr>\n",
       "    <tr>\n",
       "      <th>5</th>\n",
       "      <td>vanilla</td>\n",
       "      <td>2</td>\n",
       "      <td>2.0</td>\n",
       "    </tr>\n",
       "    <tr>\n",
       "      <th>6</th>\n",
       "      <td>mint</td>\n",
       "      <td>1</td>\n",
       "      <td>4.0</td>\n",
       "    </tr>\n",
       "    <tr>\n",
       "      <th>7</th>\n",
       "      <td>mint</td>\n",
       "      <td>2</td>\n",
       "      <td>5.0</td>\n",
       "    </tr>\n",
       "    <tr>\n",
       "      <th>8</th>\n",
       "      <td>chocolate</td>\n",
       "      <td>3</td>\n",
       "      <td>5.0</td>\n",
       "    </tr>\n",
       "  </tbody>\n",
       "</table>\n",
       "</div>\n",
       "    <div class=\"colab-df-buttons\">\n",
       "\n",
       "  <div class=\"colab-df-container\">\n",
       "    <button class=\"colab-df-convert\" onclick=\"convertToInteractive('df-ed69c083-2568-40a9-bac5-7aeb61eeb369')\"\n",
       "            title=\"Convert this dataframe to an interactive table.\"\n",
       "            style=\"display:none;\">\n",
       "\n",
       "  <svg xmlns=\"http://www.w3.org/2000/svg\" height=\"24px\" viewBox=\"0 -960 960 960\">\n",
       "    <path d=\"M120-120v-720h720v720H120Zm60-500h600v-160H180v160Zm220 220h160v-160H400v160Zm0 220h160v-160H400v160ZM180-400h160v-160H180v160Zm440 0h160v-160H620v160ZM180-180h160v-160H180v160Zm440 0h160v-160H620v160Z\"/>\n",
       "  </svg>\n",
       "    </button>\n",
       "\n",
       "  <style>\n",
       "    .colab-df-container {\n",
       "      display:flex;\n",
       "      gap: 12px;\n",
       "    }\n",
       "\n",
       "    .colab-df-convert {\n",
       "      background-color: #E8F0FE;\n",
       "      border: none;\n",
       "      border-radius: 50%;\n",
       "      cursor: pointer;\n",
       "      display: none;\n",
       "      fill: #1967D2;\n",
       "      height: 32px;\n",
       "      padding: 0 0 0 0;\n",
       "      width: 32px;\n",
       "    }\n",
       "\n",
       "    .colab-df-convert:hover {\n",
       "      background-color: #E2EBFA;\n",
       "      box-shadow: 0px 1px 2px rgba(60, 64, 67, 0.3), 0px 1px 3px 1px rgba(60, 64, 67, 0.15);\n",
       "      fill: #174EA6;\n",
       "    }\n",
       "\n",
       "    .colab-df-buttons div {\n",
       "      margin-bottom: 4px;\n",
       "    }\n",
       "\n",
       "    [theme=dark] .colab-df-convert {\n",
       "      background-color: #3B4455;\n",
       "      fill: #D2E3FC;\n",
       "    }\n",
       "\n",
       "    [theme=dark] .colab-df-convert:hover {\n",
       "      background-color: #434B5C;\n",
       "      box-shadow: 0px 1px 3px 1px rgba(0, 0, 0, 0.15);\n",
       "      filter: drop-shadow(0px 1px 2px rgba(0, 0, 0, 0.3));\n",
       "      fill: #FFFFFF;\n",
       "    }\n",
       "  </style>\n",
       "\n",
       "    <script>\n",
       "      const buttonEl =\n",
       "        document.querySelector('#df-ed69c083-2568-40a9-bac5-7aeb61eeb369 button.colab-df-convert');\n",
       "      buttonEl.style.display =\n",
       "        google.colab.kernel.accessAllowed ? 'block' : 'none';\n",
       "\n",
       "      async function convertToInteractive(key) {\n",
       "        const element = document.querySelector('#df-ed69c083-2568-40a9-bac5-7aeb61eeb369');\n",
       "        const dataTable =\n",
       "          await google.colab.kernel.invokeFunction('convertToInteractive',\n",
       "                                                    [key], {});\n",
       "        if (!dataTable) return;\n",
       "\n",
       "        const docLinkHtml = 'Like what you see? Visit the ' +\n",
       "          '<a target=\"_blank\" href=https://colab.research.google.com/notebooks/data_table.ipynb>data table notebook</a>'\n",
       "          + ' to learn more about interactive tables.';\n",
       "        element.innerHTML = '';\n",
       "        dataTable['output_type'] = 'display_data';\n",
       "        await google.colab.output.renderOutput(dataTable, element);\n",
       "        const docLink = document.createElement('div');\n",
       "        docLink.innerHTML = docLinkHtml;\n",
       "        element.appendChild(docLink);\n",
       "      }\n",
       "    </script>\n",
       "  </div>\n",
       "\n",
       "\n",
       "<div id=\"df-1bb711db-2930-4636-b4ac-266ad5228aef\">\n",
       "  <button class=\"colab-df-quickchart\" onclick=\"quickchart('df-1bb711db-2930-4636-b4ac-266ad5228aef')\"\n",
       "            title=\"Suggest charts\"\n",
       "            style=\"display:none;\">\n",
       "\n",
       "<svg xmlns=\"http://www.w3.org/2000/svg\" height=\"24px\"viewBox=\"0 0 24 24\"\n",
       "     width=\"24px\">\n",
       "    <g>\n",
       "        <path d=\"M19 3H5c-1.1 0-2 .9-2 2v14c0 1.1.9 2 2 2h14c1.1 0 2-.9 2-2V5c0-1.1-.9-2-2-2zM9 17H7v-7h2v7zm4 0h-2V7h2v10zm4 0h-2v-4h2v4z\"/>\n",
       "    </g>\n",
       "</svg>\n",
       "  </button>\n",
       "\n",
       "<style>\n",
       "  .colab-df-quickchart {\n",
       "      --bg-color: #E8F0FE;\n",
       "      --fill-color: #1967D2;\n",
       "      --hover-bg-color: #E2EBFA;\n",
       "      --hover-fill-color: #174EA6;\n",
       "      --disabled-fill-color: #AAA;\n",
       "      --disabled-bg-color: #DDD;\n",
       "  }\n",
       "\n",
       "  [theme=dark] .colab-df-quickchart {\n",
       "      --bg-color: #3B4455;\n",
       "      --fill-color: #D2E3FC;\n",
       "      --hover-bg-color: #434B5C;\n",
       "      --hover-fill-color: #FFFFFF;\n",
       "      --disabled-bg-color: #3B4455;\n",
       "      --disabled-fill-color: #666;\n",
       "  }\n",
       "\n",
       "  .colab-df-quickchart {\n",
       "    background-color: var(--bg-color);\n",
       "    border: none;\n",
       "    border-radius: 50%;\n",
       "    cursor: pointer;\n",
       "    display: none;\n",
       "    fill: var(--fill-color);\n",
       "    height: 32px;\n",
       "    padding: 0;\n",
       "    width: 32px;\n",
       "  }\n",
       "\n",
       "  .colab-df-quickchart:hover {\n",
       "    background-color: var(--hover-bg-color);\n",
       "    box-shadow: 0 1px 2px rgba(60, 64, 67, 0.3), 0 1px 3px 1px rgba(60, 64, 67, 0.15);\n",
       "    fill: var(--button-hover-fill-color);\n",
       "  }\n",
       "\n",
       "  .colab-df-quickchart-complete:disabled,\n",
       "  .colab-df-quickchart-complete:disabled:hover {\n",
       "    background-color: var(--disabled-bg-color);\n",
       "    fill: var(--disabled-fill-color);\n",
       "    box-shadow: none;\n",
       "  }\n",
       "\n",
       "  .colab-df-spinner {\n",
       "    border: 2px solid var(--fill-color);\n",
       "    border-color: transparent;\n",
       "    border-bottom-color: var(--fill-color);\n",
       "    animation:\n",
       "      spin 1s steps(1) infinite;\n",
       "  }\n",
       "\n",
       "  @keyframes spin {\n",
       "    0% {\n",
       "      border-color: transparent;\n",
       "      border-bottom-color: var(--fill-color);\n",
       "      border-left-color: var(--fill-color);\n",
       "    }\n",
       "    20% {\n",
       "      border-color: transparent;\n",
       "      border-left-color: var(--fill-color);\n",
       "      border-top-color: var(--fill-color);\n",
       "    }\n",
       "    30% {\n",
       "      border-color: transparent;\n",
       "      border-left-color: var(--fill-color);\n",
       "      border-top-color: var(--fill-color);\n",
       "      border-right-color: var(--fill-color);\n",
       "    }\n",
       "    40% {\n",
       "      border-color: transparent;\n",
       "      border-right-color: var(--fill-color);\n",
       "      border-top-color: var(--fill-color);\n",
       "    }\n",
       "    60% {\n",
       "      border-color: transparent;\n",
       "      border-right-color: var(--fill-color);\n",
       "    }\n",
       "    80% {\n",
       "      border-color: transparent;\n",
       "      border-right-color: var(--fill-color);\n",
       "      border-bottom-color: var(--fill-color);\n",
       "    }\n",
       "    90% {\n",
       "      border-color: transparent;\n",
       "      border-bottom-color: var(--fill-color);\n",
       "    }\n",
       "  }\n",
       "</style>\n",
       "\n",
       "  <script>\n",
       "    async function quickchart(key) {\n",
       "      const quickchartButtonEl =\n",
       "        document.querySelector('#' + key + ' button');\n",
       "      quickchartButtonEl.disabled = true;  // To prevent multiple clicks.\n",
       "      quickchartButtonEl.classList.add('colab-df-spinner');\n",
       "      try {\n",
       "        const charts = await google.colab.kernel.invokeFunction(\n",
       "            'suggestCharts', [key], {});\n",
       "      } catch (error) {\n",
       "        console.error('Error during call to suggestCharts:', error);\n",
       "      }\n",
       "      quickchartButtonEl.classList.remove('colab-df-spinner');\n",
       "      quickchartButtonEl.classList.add('colab-df-quickchart-complete');\n",
       "    }\n",
       "    (() => {\n",
       "      let quickchartButtonEl =\n",
       "        document.querySelector('#df-1bb711db-2930-4636-b4ac-266ad5228aef button');\n",
       "      quickchartButtonEl.style.display =\n",
       "        google.colab.kernel.accessAllowed ? 'block' : 'none';\n",
       "    })();\n",
       "  </script>\n",
       "</div>\n",
       "    </div>\n",
       "  </div>\n"
      ],
      "text/plain": [
       "       flavor  scoops  price\n",
       "0   chocolate       1    2.0\n",
       "1     vanilla       1    1.5\n",
       "2   chocolate       2    3.0\n",
       "3  strawberry       1    2.0\n",
       "4  strawberry       3    4.0\n",
       "5     vanilla       2    2.0\n",
       "6        mint       1    4.0\n",
       "7        mint       2    5.0\n",
       "8   chocolate       3    5.0"
      ]
     },
     "execution_count": 16,
     "metadata": {},
     "output_type": "execute_result"
    }
   ],
   "source": [
    "data = pd.DataFrame({\"flavor\": [\"chocolate\",\"vanilla\",\"chocolate\",\"strawberry\",\"strawberry\", \"vanilla\",\"mint\",\"mint\",\"chocolate\"] ,\n",
    "                     \"scoops\": [1,1,2,1,3,2,1,2,3] ,\n",
    "                     \"price\" : [2,1.5,3,2,4,2,4,5,5]\n",
    "                    })\n",
    "data"
   ]
  },
  {
   "cell_type": "code",
   "execution_count": 33,
   "id": "rf1ZqF1wHu-T",
   "metadata": {
    "colab": {
     "base_uri": "https://localhost:8080/"
    },
    "id": "rf1ZqF1wHu-T",
    "outputId": "61940fca-2e4f-4a28-df81-daa727b18559"
   },
   "outputs": [
    {
     "data": {
      "text/plain": [
       "flavor\n",
       "chocolate     1.666667\n",
       "mint          3.000000\n",
       "strawberry    1.500000\n",
       "vanilla       1.166667\n",
       "dtype: float64"
      ]
     },
     "execution_count": 33,
     "metadata": {},
     "output_type": "execute_result"
    }
   ],
   "source": [
    "grupos = data.groupby('flavor')\n",
    "grupos = grupos.sum()\n",
    "price_by_flavor = grupos.price / grupos.scoops\n",
    "price_by_flavor"
   ]
  },
  {
   "cell_type": "code",
   "execution_count": null,
   "id": "f4c44e72",
   "metadata": {
    "deletable": false,
    "editable": false,
    "id": "f4c44e72",
    "outputId": "34b48eff-d521-44ce-a885-5b83314c4fe8"
   },
   "outputs": [
    {
     "data": {
      "text/html": [
       "<p><strong style='color: red;'><pre style='display: inline;'>q2</pre> results:</strong></p><p><strong><pre style='display: inline;'>q2 - 1</pre> result:</strong></p><pre>    ✅ Test case passed</pre><p><strong><pre style='display: inline;'>q2 - 2</pre> result:</strong></p><pre>    ✅ Test case passed</pre><p><strong><pre style='display: inline;'>q2 - 3</pre> result:</strong></p><pre>    ✅ Test case passed</pre><p><strong><pre style='display: inline;'>q2 - 4</pre> result:</strong></p><pre>    ❌ Test case failed\n",
       "    Trying:\n",
       "        assert len(price_by_flavor) == 4\n",
       "    Expecting nothing\n",
       "    **********************************************************************\n",
       "    Line 1, in q2 3\n",
       "    Failed example:\n",
       "        assert len(price_by_flavor) == 4\n",
       "    Exception raised:\n",
       "        Traceback (most recent call last):\n",
       "          File \"/home/usuario/anaconda3/lib/python3.9/doctest.py\", line 1334, in __run\n",
       "            exec(compile(example.source, filename, \"single\",\n",
       "          File \"<doctest q2 3[0]>\", line 1, in <module>\n",
       "            assert len(price_by_flavor) == 4\n",
       "        AssertionError\n",
       "</pre>"
      ],
      "text/plain": [
       "q2 results:\n",
       "    q2 - 1 result:\n",
       "        ✅ Test case passed\n",
       "\n",
       "    q2 - 2 result:\n",
       "        ✅ Test case passed\n",
       "\n",
       "    q2 - 3 result:\n",
       "        ✅ Test case passed\n",
       "\n",
       "    q2 - 4 result:\n",
       "        ❌ Test case failed\n",
       "        Trying:\n",
       "            assert len(price_by_flavor) == 4\n",
       "        Expecting nothing\n",
       "        **********************************************************************\n",
       "        Line 1, in q2 3\n",
       "        Failed example:\n",
       "            assert len(price_by_flavor) == 4\n",
       "        Exception raised:\n",
       "            Traceback (most recent call last):\n",
       "              File \"/home/usuario/anaconda3/lib/python3.9/doctest.py\", line 1334, in __run\n",
       "                exec(compile(example.source, filename, \"single\",\n",
       "              File \"<doctest q2 3[0]>\", line 1, in <module>\n",
       "                assert len(price_by_flavor) == 4\n",
       "            AssertionError"
      ]
     },
     "execution_count": 11,
     "metadata": {},
     "output_type": "execute_result"
    }
   ],
   "source": [
    "grader.check(\"q2\")"
   ]
  },
  {
   "cell_type": "markdown",
   "id": "54ec00f8",
   "metadata": {
    "deletable": false,
    "editable": false,
    "id": "54ec00f8"
   },
   "source": [
    "<!-- BEGIN QUESTION -->\n",
    "\n",
    "**Question 3:** Create a barplot of `price_by_flavor`."
   ]
  },
  {
   "cell_type": "code",
   "execution_count": 35,
   "id": "179e88a4",
   "metadata": {
    "id": "179e88a4",
    "tags": []
   },
   "outputs": [],
   "source": [
    "import matplotlib.pyplot as plt"
   ]
  },
  {
   "cell_type": "code",
   "execution_count": 45,
   "id": "ZUQ6CrX7TBiu",
   "metadata": {
    "colab": {
     "base_uri": "https://localhost:8080/",
     "height": 472
    },
    "id": "ZUQ6CrX7TBiu",
    "outputId": "72c15ef2-e13d-4aac-991a-de35f5df7255"
   },
   "outputs": [
    {
     "data": {
      "image/png": "[encoded data removed]",
      "text/plain": [
       "<Figure size 640x480 with 1 Axes>"
      ]
     },
     "metadata": {},
     "output_type": "display_data"
    }
   ],
   "source": [
    "plt.bar(price_by_flavor.index, price_by_flavor.values)\n",
    "plt.title('mean price by flavor')\n",
    "plt.xlabel('flavors')\n",
    "plt.ylabel('price')\n",
    "plt.show()"
   ]
  },
  {
   "cell_type": "markdown",
   "id": "8c071261",
   "metadata": {
    "deletable": false,
    "editable": false,
    "id": "8c071261"
   },
   "source": [
    "<!-- END QUESTION -->\n",
    "\n",
    "<!-- BEGIN QUESTION -->\n",
    "\n",
    "**Question 4:** What do you notice about the bar plot?"
   ]
  },
  {
   "cell_type": "markdown",
   "id": "86718a38",
   "metadata": {
    "id": "86718a38"
   },
   "source": [
    "I don't actualy notice anithing special about the bar plot besides that it looks like someone is flippin' me off... jokes aside, is clear that on average the most expensive icecream is the mint one,"
   ]
  },
  {
   "cell_type": "markdown",
   "id": "cc53b976",
   "metadata": {
    "deletable": false,
    "editable": false,
    "id": "cc53b976"
   },
   "source": [
    "<!-- END QUESTION -->\n",
    "\n"
   ]
  },
  {
   "cell_type": "markdown",
   "id": "fb4ac6d9",
   "metadata": {
    "deletable": false,
    "editable": false,
    "id": "fb4ac6d9"
   },
   "source": [
    "## Submission\n",
    "\n",
    "Make sure you have run all cells in your notebook in order before running the cell below, so that all images/graphs appear in the output. The cell below will generate a zip file for you to submit. **Please save before exporting!**\n",
    "\n",
    "These are some submission instructions."
   ]
  },
  {
   "cell_type": "code",
   "execution_count": null,
   "id": "94dcc117",
   "metadata": {
    "deletable": false,
    "editable": false,
    "id": "94dcc117"
   },
   "outputs": [],
   "source": [
    "# Save your notebook first, then run this cell to export your submission.\n",
    "grader.export(run_tests=True)"
   ]
  },
  {
   "cell_type": "markdown",
   "id": "28fbdd01",
   "metadata": {
    "id": "28fbdd01"
   },
   "source": []
  }
 ],
 "metadata": {
  "colab": {
   "provenance": []
  },
  "kernelspec": {
   "display_name": "Python 3 (ipykernel)",
   "language": "python",
   "name": "python3"
  },
  "language_info": {
   "codemirror_mode": {
    "name": "ipython",
    "version": 3
   },
   "file_extension": ".py",
   "mimetype": "text/x-python",
   "name": "python",
   "nbconvert_exporter": "python",
   "pygments_lexer": "ipython3",
   "version": "3.10.9"
  },
  "otter": {
   "OK_FORMAT": true,
   "tests": {
    "q1": {
     "name": "q1",
     "points": null,
     "suites": [
      {
       "cases": [
        {
         "code": ">>> x_ = np.arange(1, 100)\n>>> promedio(x_) == x_.mean()\nTrue",
         "hidden": false,
         "locked": false
        }
       ],
       "scored": true,
       "setup": "",
       "teardown": "",
       "type": "doctest"
      }
     ]
    },
    "q2": {
     "name": "q2",
     "points": null,
     "suites": [
      {
       "cases": [
        {
         "code": ">>> len(data['flavor'].unique()) == 4\nTrue",
         "hidden": false,
         "locked": false
        },
        {
         "code": ">>> for l in ['chocolate', 'vanilla', 'strawberry', 'mint']:\n...     assert l in data['flavor'].unique()\n",
         "hidden": false,
         "locked": false
        },
        {
         "code": ">>> assert type(price_by_flavor) == pd.Series\n",
         "hidden": false,
         "locked": false
        },
        {
         "code": ">>> assert len(price_by_flavor) == 4\n",
         "hidden": false,
         "locked": false
        }
       ],
       "scored": true,
       "setup": "",
       "teardown": "",
       "type": "doctest"
      }
     ]
    }
   }
  }
 },
 "nbformat": 4,
 "nbformat_minor": 5
}
