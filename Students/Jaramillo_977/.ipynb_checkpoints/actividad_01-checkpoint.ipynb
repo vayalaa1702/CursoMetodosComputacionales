{
 "cells": [
  {
   "cell_type": "markdown",
   "metadata": {
    "id": "IWaXz404cvSn"
   },
   "source": [
    "# Actividad 01\n",
    "\n",
    "\n",
    "\n",
    "1. Escribir un programa que pida al usuario dos números enteros y muestre por pantalla la <n> entre <m> da un cociente <c> y un resto <r> donde <n> y <m> son los números introducidos por el usuario, y <c> y <r> son el cociente y el resto de la división entera respectivamente."
   ]
  },
  {
   "cell_type": "code",
   "execution_count": null,
   "metadata": {
    "id": "CyfhlMDkcvCf"
   },
   "outputs": [],
   "source": [
    "a = int(input('ingrese el numerador: '))\n",
    "b = int(input('ingrese el denominador: '))\n",
    "\n",
    "print(f'\\n-----------\\nnumerador escogido: {a}\\ndenomidador escogido: {b}\\nel resultado de division: {a//b}\\nresiduo: {a%b}')"
   ]
  },
  {
   "cell_type": "markdown",
   "metadata": {
    "id": "W-nZEjF0eB_I"
   },
   "source": [
    "2. Crea una función llamada `doble_factorial` que reciba un parámetro llamado `n`. La función debe devolver el doble factorial de `n`, que se define como el producto de todos los números naturales desde n hasta 1 que tienen el mismo paridad que n. Por ejemplo, si `n` es 5, la función debe devolver 15, que es el resultado de 5 x 3 x 1. Llama a la función `doble_factorial` con diferentes valores para el parámetro `n`, como 6, 7 o 8.\n"
   ]
  },
  {
   "cell_type": "code",
   "execution_count": null,
   "metadata": {
    "id": "uMn2DbfegnNY"
   },
   "outputs": [],
   "source": [
    "def test(fun, dicc):\n",
    "  for i in range(20):\n",
    "    print(dicc[str(fun)],'de '+str(i),'=', fun(i))\n",
    "\n",
    "dicc = {}"
   ]
  },
  {
   "cell_type": "code",
   "execution_count": null,
   "metadata": {
    "colab": {
     "base_uri": "https://localhost:8080/"
    },
    "id": "HYuD8QSbeMDL",
    "outputId": "f8445fcc-4866-4b79-895f-cd9b0f6e9be5"
   },
   "outputs": [
    {
     "name": "stdout",
     "output_type": "stream",
     "text": [
      "doble factorial de 0 = 1\n",
      "doble factorial de 1 = 1\n",
      "doble factorial de 2 = 2\n",
      "doble factorial de 3 = 3\n",
      "doble factorial de 4 = 8\n",
      "doble factorial de 5 = 15\n",
      "doble factorial de 6 = 48\n",
      "doble factorial de 7 = 105\n",
      "doble factorial de 8 = 384\n",
      "doble factorial de 9 = 945\n",
      "doble factorial de 10 = 3840\n",
      "doble factorial de 11 = 10395\n",
      "doble factorial de 12 = 46080\n",
      "doble factorial de 13 = 135135\n",
      "doble factorial de 14 = 645120\n",
      "doble factorial de 15 = 2027025\n",
      "doble factorial de 16 = 10321920\n",
      "doble factorial de 17 = 34459425\n",
      "doble factorial de 18 = 185794560\n",
      "doble factorial de 19 = 654729075\n"
     ]
    }
   ],
   "source": [
    "def doble_factorial(n):\n",
    "  if n <= 1:\n",
    "    return 1\n",
    "  return n*doble_factorial(n-2)\n",
    "\n",
    "dicc.setdefault(str(doble_factorial),'doble factorial')\n",
    "test(doble_factorial,dicc)"
   ]
  },
  {
   "cell_type": "markdown",
   "metadata": {
    "id": "WtqpmrHueEZ_"
   },
   "source": [
    "\n",
    "3. Crea una función llamada `lucas` que reciba un parámetro llamado `n`. La función debe devolver el n-ésimo término de la sucesión de Lucas, que se define de forma similar a la sucesión de Fibonacci, pero con los dos primeros términos iguales a 2 y 1. Por ejemplo, si `n` es 3, la función debe devolver 4, que es el tercer término de la sucesión. Llama a la función `lucas` con diferentes valores para el parámetro `n`, como 9, 10 o 11.\n"
   ]
  },
  {
   "cell_type": "code",
   "execution_count": null,
   "metadata": {
    "colab": {
     "base_uri": "https://localhost:8080/"
    },
    "id": "S2Wjf1_5mAzE",
    "outputId": "7dccd0c0-f96f-48f2-eee0-b490dc0e5e6c"
   },
   "outputs": [
    {
     "name": "stdout",
     "output_type": "stream",
     "text": [
      "lucas de 0 = 2\n",
      "lucas de 1 = 1\n",
      "lucas de 2 = 3\n",
      "lucas de 3 = 4\n",
      "lucas de 4 = 7\n",
      "lucas de 5 = 11\n",
      "lucas de 6 = 18\n",
      "lucas de 7 = 29\n",
      "lucas de 8 = 47\n",
      "lucas de 9 = 76\n",
      "lucas de 10 = 123\n",
      "lucas de 11 = 199\n",
      "lucas de 12 = 322\n",
      "lucas de 13 = 521\n",
      "lucas de 14 = 843\n",
      "lucas de 15 = 1364\n",
      "lucas de 16 = 2207\n",
      "lucas de 17 = 3571\n",
      "lucas de 18 = 5778\n",
      "lucas de 19 = 9349\n"
     ]
    }
   ],
   "source": [
    "def lucas(n):\n",
    "  if n == 0:\n",
    "    return 2\n",
    "  if n == 1:\n",
    "    return 1\n",
    "  return lucas(n-1)+lucas(n-2)\n",
    "\n",
    "\n",
    "dicc.setdefault(str(lucas),'lucas')\n",
    "test(lucas,dicc)"
   ]
  },
  {
   "cell_type": "markdown",
   "metadata": {
    "id": "pLQTeMgveGqm"
   },
   "source": [
    "\n",
    "4. Crea una función llamada `binomial` que reciba dos parámetros llamados `n` y `k`. La función debe devolver el coeficiente binomial de `n` y `k`, que se define como el número de formas de elegir k elementos distintos de un conjunto de n elementos. Por ejemplo, si `n` es 5 y `k` es 3, la función debe devolver 10, ya que hay diez formas de elegir tres elementos distintos de un conjunto de cinco elementos. Llama a la función `binomial` con diferentes valores para los parámetros `n` y `k`, como 6 y 4, o 7 y 2.\n",
    "\n"
   ]
  },
  {
   "cell_type": "code",
   "execution_count": null,
   "metadata": {
    "colab": {
     "base_uri": "https://localhost:8080/"
    },
    "id": "ATW67HtVnE70",
    "outputId": "15a3d6df-22f8-4868-a6f1-b9ea812f53c0"
   },
   "outputs": [
    {
     "name": "stdout",
     "output_type": "stream",
     "text": [
      "coeficiente binomial de 0 y 0 = 1\n",
      "coeficiente binomial de 1 y 0 = 1\n",
      "coeficiente binomial de 1 y 1 = 1\n",
      "coeficiente binomial de 2 y 0 = 1\n",
      "coeficiente binomial de 2 y 1 = 2\n",
      "coeficiente binomial de 2 y 2 = 1\n",
      "coeficiente binomial de 3 y 0 = 1\n",
      "coeficiente binomial de 3 y 1 = 3\n",
      "coeficiente binomial de 3 y 2 = 3\n",
      "coeficiente binomial de 3 y 3 = 1\n",
      "coeficiente binomial de 4 y 0 = 1\n",
      "coeficiente binomial de 4 y 1 = 4\n",
      "coeficiente binomial de 4 y 2 = 6\n",
      "coeficiente binomial de 4 y 3 = 4\n",
      "coeficiente binomial de 4 y 4 = 1\n",
      "coeficiente binomial de 5 y 0 = 1\n",
      "coeficiente binomial de 5 y 1 = 5\n",
      "coeficiente binomial de 5 y 2 = 10\n",
      "coeficiente binomial de 5 y 3 = 10\n",
      "coeficiente binomial de 5 y 4 = 5\n",
      "coeficiente binomial de 5 y 5 = 1\n"
     ]
    }
   ],
   "source": [
    "def factorial(n):\n",
    "  return doble_factorial(n)*doble_factorial(n-1)\n",
    "\n",
    "def binomial(n, k):\n",
    "  return (\n",
    "      factorial(n)//\n",
    "      (factorial(k)*factorial(n-k))\n",
    "  )\n",
    "\n",
    "\n",
    "for n in range(6):\n",
    "  for k in range(n+1):\n",
    "    print('coeficiente binomial de',n,'y',k,'=',binomial(n,k) )"
   ]
  },
  {
   "cell_type": "markdown",
   "metadata": {
    "id": "r5GHgucqeJqJ"
   },
   "source": [
    "La entrega se realizará de dos formas:\n",
    "\n",
    "1. Creando un archivo de jupyter con extension actividad_01.ipynb.\n",
    "2. Creando archivos llamados:\n",
    "   \n",
    "    - actividad_01_enteros.py,\n",
    "    - actividad_01_doble_factorial.py,\n",
    "    - actividad_01_lucas.py\n",
    "    - actividad_01_binomial.py"
   ]
  }
 ],
 "metadata": {
  "colab": {
   "provenance": []
  },
  "kernelspec": {
   "display_name": "Python 3 (ipykernel)",
   "language": "python",
   "name": "python3"
  },
  "language_info": {
   "codemirror_mode": {
    "name": "ipython",
    "version": 3
   },
   "file_extension": ".py",
   "mimetype": "text/x-python",
   "name": "python",
   "nbconvert_exporter": "python",
   "pygments_lexer": "ipython3",
   "version": "3.10.9"
  }
 },
 "nbformat": 4,
 "nbformat_minor": 1
}
