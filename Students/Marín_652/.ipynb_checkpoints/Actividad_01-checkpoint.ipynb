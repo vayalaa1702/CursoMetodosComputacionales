{
 "cells": [
  {
   "cell_type": "markdown",
   "metadata": {
    "id": "bQgJ_oMUnTAF"
   },
   "source": [
    "*1.  Escribir un programa que pida al usuario dos números enteros , y muestre por pantalla el cociente y el residuo entre ellos.*"
   ]
  },
  {
   "cell_type": "code",
   "execution_count": null,
   "metadata": {
    "colab": {
     "base_uri": "https://localhost:8080/"
    },
    "id": "viSpXaSYnlbD",
    "outputId": "2c4e4dd0-f561-4ac5-a407-162430946ebf"
   },
   "outputs": [
    {
     "name": "stdout",
     "output_type": "stream",
     "text": [
      "Por favor ingrese un número 15\n",
      "Ingrese otro número 5\n",
      "El resultado de la división es  3.0\n",
      "El resultado del residuo es  0\n"
     ]
    }
   ],
   "source": [
    "a=int(input(\"Por favor ingrese un número \"))\n",
    "b=int(input(\"Ingrese otro número \"))\n",
    "if b==0:\n",
    "    print(\"Error, división sobre cero no es válida\")\n",
    "else:\n",
    "    c=a/b\n",
    "    d=a%b\n",
    "    print (\"El resultado de la división es \",c)\n",
    "    print(\"El resultado del residuo es \",d)"
   ]
  },
  {
   "cell_type": "markdown",
   "metadata": {
    "id": "L4Wm4D1xoQeh"
   },
   "source": [
    "*2. Crea una función llamada doble_factorial que reciba un parámetro llamado n. La función debe devolver el doble factorial de n, que se define como el producto de todos los números naturales desde n hasta 1 que tienen el mismo paridad que n. Por ejemplo, si n es 5, la función debe devolver 15, que es el resultado de 5 x 3 x 1. Llama a la función doble_factorial con diferentes valores para el parámetro n, como 6, 7 o 8.*"
   ]
  },
  {
   "cell_type": "code",
   "execution_count": null,
   "metadata": {
    "colab": {
     "base_uri": "https://localhost:8080/"
    },
    "id": "iRcyrxD-oFH8",
    "outputId": "cc49c69d-b125-48fd-989a-9448c6ad7f6a"
   },
   "outputs": [
    {
     "data": {
      "text/plain": [
       "945"
      ]
     },
     "execution_count": 19,
     "metadata": {},
     "output_type": "execute_result"
    }
   ],
   "source": [
    "def doble_factorial(n):\n",
    "  suma=1\n",
    "  for i in range(n,0,-2):\n",
    "    suma*=i\n",
    "\n",
    "  return suma\n",
    "doble_factorial(9)"
   ]
  },
  {
   "cell_type": "markdown",
   "metadata": {
    "id": "FLbKdvFcXL4z"
   },
   "source": [
    "*3. Crea una función llamada lucas que reciba un parámetro llamado n. La función debe devolver el n-ésimo término de la sucesión de Lucas, que se define de forma similar a la sucesión de Fibonacci, pero con los dos primeros términos iguales a 2 y 1. Por ejemplo, si n es 3, la función debe devolver 4, que es el tercer término de la sucesión. Llama a la función lucas con diferentes valores para el parámetro n, como 9, 10 o 11.*"
   ]
  },
  {
   "cell_type": "code",
   "execution_count": null,
   "metadata": {
    "id": "h5JlhhFGpO3n"
   },
   "outputs": [],
   "source": [
    "def lucas(n):\n",
    "  if n==0:\n",
    "    return 2\n",
    "  if n==1:\n",
    "    return 1\n",
    "  else:\n",
    "    l=[2,1]\n",
    "    for i in range(2,n+1):\n",
    "      lucas=l[i-1]+l[i-2]\n",
    "      l.append(lucas)\n",
    "    return print(\"El n-ésimo término de la sucesión es\",l[n], \"\\nLa sucesión hasta el n-ésimotérmino es \",l)"
   ]
  },
  {
   "cell_type": "code",
   "execution_count": null,
   "metadata": {
    "colab": {
     "base_uri": "https://localhost:8080/"
    },
    "id": "-7iN2isfYE7g",
    "outputId": "462b4d76-d9cc-48af-ea4a-c8850d4d31d3"
   },
   "outputs": [
    {
     "name": "stdout",
     "output_type": "stream",
     "text": [
      "El n-ésimo término de la sucesión es 123 \n",
      "La sucesión hasta el n-ésimotérmino es  [2, 1, 3, 4, 7, 11, 18, 29, 47, 76, 123]\n"
     ]
    }
   ],
   "source": [
    "lucas(10)"
   ]
  },
  {
   "cell_type": "markdown",
   "metadata": {
    "id": "jht1x2qQZmAP"
   },
   "source": [
    "*4.Crea una función llamada binomial que reciba dos parámetros llamados n y k. La función debe devolver el coeficiente binomial de n y k, que se define como el número de formas de elegir k elementos distintos de un conjunto de n elementos. Por ejemplo, si n es 5 y k es 3, la función debe devolver 10, ya que hay diez formas de elegir tres elementos distintos de un conjunto de cinco elementos. Llama a la función binomial con diferentes valores para los parámetros n y k, como 6 y 4, o 7 y 2.*"
   ]
  },
  {
   "cell_type": "code",
   "execution_count": null,
   "metadata": {
    "id": "7DwULz6TYIVA"
   },
   "outputs": [],
   "source": [
    "def factorial(n):\n",
    "  count=1\n",
    "  for i in range(n):\n",
    "    suma=(n-i)\n",
    "    count*=suma\n",
    "    fact=count\n",
    "  return fact"
   ]
  },
  {
   "cell_type": "code",
   "execution_count": null,
   "metadata": {
    "id": "9UoEGwdNahEO"
   },
   "outputs": [],
   "source": [
    "def binomial(n,k):\n",
    "  cb=factorial(n)/(factorial(k)*(factorial(n-k)))\n",
    "  return cb"
   ]
  },
  {
   "cell_type": "code",
   "execution_count": null,
   "metadata": {
    "colab": {
     "base_uri": "https://localhost:8080/"
    },
    "id": "-hI4Dq8ia1db",
    "outputId": "54319b76-9094-4e60-ee98-47c58a9ff926"
   },
   "outputs": [
    {
     "name": "stdout",
     "output_type": "stream",
     "text": [
      "10.0\n",
      "15.0\n",
      "21.0\n"
     ]
    }
   ],
   "source": [
    "print(binomial(5,3))\n",
    "print(binomial(6,4))\n",
    "print(binomial(7,2))"
   ]
  }
 ],
 "metadata": {
  "colab": {
   "provenance": []
  },
  "kernelspec": {
   "display_name": "Python 3 (ipykernel)",
   "language": "python",
   "name": "python3"
  },
  "language_info": {
   "codemirror_mode": {
    "name": "ipython",
    "version": 3
   },
   "file_extension": ".py",
   "mimetype": "text/x-python",
   "name": "python",
   "nbconvert_exporter": "python",
   "pygments_lexer": "ipython3",
   "version": "3.10.9"
  }
 },
 "nbformat": 4,
 "nbformat_minor": 1
}
